{
 "cells": [
  {
   "cell_type": "code",
   "execution_count": 1,
   "metadata": {},
   "outputs": [],
   "source": [
    "import date_removal as date\n",
    "import puntuation_removal as pun"
   ]
  },
  {
   "cell_type": "code",
   "execution_count": 2,
   "metadata": {},
   "outputs": [],
   "source": [
    "with open('/home/jay/Thesis/Data_key_points/agriculture/Archivedsummaries/Production of EU statistics for permanent crops.txt', \"r\") as files:\n",
    "    contents = files.readlines()"
   ]
  },
  {
   "cell_type": "code",
   "execution_count": 3,
   "metadata": {},
   "outputs": [
    {
     "data": {
      "text/plain": [
       "list"
      ]
     },
     "execution_count": 3,
     "metadata": {},
     "output_type": "execute_result"
    }
   ],
   "source": [
    "type(contents)"
   ]
  },
  {
   "cell_type": "code",
   "execution_count": 4,
   "metadata": {},
   "outputs": [],
   "source": [
    "# Join it\n",
    "contents = ''.join(contents)"
   ]
  },
  {
   "cell_type": "code",
   "execution_count": 5,
   "metadata": {},
   "outputs": [
    {
     "data": {
      "text/plain": [
       "str"
      ]
     },
     "execution_count": 5,
     "metadata": {},
     "output_type": "execute_result"
    }
   ],
   "source": [
    "type(contents)"
   ]
  },
  {
   "cell_type": "code",
   "execution_count": 7,
   "metadata": {},
   "outputs": [
    {
     "name": "stdout",
     "output_type": "stream",
     "text": [
      "true\n"
     ]
    }
   ],
   "source": [
    "date.date_remove()"
   ]
  },
  {
   "cell_type": "code",
   "execution_count": 8,
   "metadata": {},
   "outputs": [],
   "source": [
    "# Break list into words\n",
    "contents = contents.split()"
   ]
  },
  {
   "cell_type": "code",
   "execution_count": 9,
   "metadata": {},
   "outputs": [
    {
     "data": {
      "text/plain": [
       "list"
      ]
     },
     "execution_count": 9,
     "metadata": {},
     "output_type": "execute_result"
    }
   ],
   "source": [
    "type(contents)"
   ]
  },
  {
   "cell_type": "code",
   "execution_count": 10,
   "metadata": {},
   "outputs": [],
   "source": [
    "num_word_dict = {1: 'One', 2: 'Two', 3: 'Three', 4: 'Four', 5: 'Five', 6: 'Six', 7: 'Seven', 8: 'Eight', 9: 'Nine'}"
   ]
  },
  {
   "cell_type": "code",
   "execution_count": 17,
   "metadata": {},
   "outputs": [
    {
     "name": "stdout",
     "output_type": "stream",
     "text": [
      "76 95%\n",
      "109 0.2\n",
      "137 5%\n",
      "169 5%\n",
      "187 1000\n",
      "196 2012\n",
      "199 5\n",
      "218 500\n",
      "228 2015\n",
      "231 5\n",
      "270 3%\n",
      "316 1\n",
      "342 2\n",
      "356 30\n",
      "381 2018\n",
      "384 5\n",
      "397 1\n",
      "399 2012.\n",
      "422 31\n",
      "424 2012\n",
      "431 2001/109/EC.\n",
      "466 1\n",
      "481 2\n",
      "504 1337/2011\n",
      "514 13\n",
      "516 2011\n",
      "529 357/79\n",
      "532 2001/109/EC\n",
      "543 347,\n",
      "544 30.12.2011,\n",
      "546 7-20)\n",
      "76 95%\n",
      "109 0.2\n",
      "137 5%\n",
      "169 5%\n",
      "187 1000\n",
      "196 2012\n",
      "199 5\n",
      "218 500\n",
      "228 2015\n",
      "231 5\n",
      "270 3%\n",
      "316 1\n",
      "342 2\n",
      "356 30\n",
      "381 2018\n",
      "384 5\n",
      "397 1\n",
      "399 2012.\n",
      "422 31\n",
      "424 2012\n",
      "431 2001/109/EC.\n",
      "466 1\n",
      "481 2\n",
      "504 1337/2011\n",
      "514 13\n",
      "516 2011\n",
      "529 357/79\n",
      "532 2001/109/EC\n",
      "543 347,\n",
      "544 30.12.2011,\n",
      "546 7-20)\n",
      "76 95%\n",
      "109 0.2\n",
      "137 5%\n",
      "169 5%\n",
      "187 1000\n",
      "196 2012\n",
      "199 5\n",
      "218 500\n",
      "228 2015\n",
      "231 5\n",
      "270 3%\n",
      "316 1\n",
      "342 2\n",
      "356 30\n",
      "381 2018\n",
      "384 5\n",
      "397 1\n",
      "399 2012.\n",
      "422 31\n",
      "424 2012\n",
      "431 2001/109/EC.\n",
      "466 1\n",
      "481 2\n",
      "504 1337/2011\n",
      "514 13\n",
      "516 2011\n",
      "529 357/79\n",
      "532 2001/109/EC\n",
      "543 347,\n",
      "544 30.12.2011,\n",
      "546 7-20)\n",
      "76 95%\n",
      "109 0.2\n",
      "137 5%\n",
      "169 5%\n",
      "187 1000\n",
      "196 2012\n",
      "199 5\n",
      "218 500\n",
      "228 2015\n",
      "231 5\n",
      "270 3%\n",
      "316 1\n",
      "342 2\n",
      "356 30\n",
      "381 2018\n",
      "384 5\n",
      "397 1\n",
      "399 2012.\n",
      "422 31\n",
      "424 2012\n",
      "431 2001/109/EC.\n",
      "466 1\n",
      "481 2\n",
      "504 1337/2011\n",
      "514 13\n",
      "516 2011\n",
      "529 357/79\n",
      "532 2001/109/EC\n",
      "543 347,\n",
      "544 30.12.2011,\n",
      "546 7-20)\n",
      "76 95%\n",
      "109 0.2\n",
      "137 5%\n",
      "169 5%\n",
      "187 1000\n",
      "196 2012\n",
      "199 5\n",
      "218 500\n",
      "228 2015\n",
      "231 5\n",
      "270 3%\n",
      "316 1\n",
      "342 2\n",
      "356 30\n",
      "381 2018\n",
      "384 5\n",
      "397 1\n",
      "399 2012.\n",
      "422 31\n",
      "424 2012\n",
      "431 2001/109/EC.\n",
      "466 1\n",
      "481 2\n",
      "504 1337/2011\n",
      "514 13\n",
      "516 2011\n",
      "529 357/79\n",
      "532 2001/109/EC\n",
      "543 347,\n",
      "544 30.12.2011,\n",
      "546 7-20)\n",
      "76 95%\n",
      "109 0.2\n",
      "137 5%\n",
      "169 5%\n",
      "187 1000\n",
      "196 2012\n",
      "199 5\n",
      "218 500\n",
      "228 2015\n",
      "231 5\n",
      "270 3%\n",
      "316 1\n",
      "342 2\n",
      "356 30\n",
      "381 2018\n",
      "384 5\n",
      "397 1\n",
      "399 2012.\n",
      "422 31\n",
      "424 2012\n",
      "431 2001/109/EC.\n",
      "466 1\n",
      "481 2\n",
      "504 1337/2011\n",
      "514 13\n",
      "516 2011\n",
      "529 357/79\n",
      "532 2001/109/EC\n",
      "543 347,\n",
      "544 30.12.2011,\n",
      "546 7-20)\n",
      "76 95%\n",
      "109 0.2\n",
      "137 5%\n",
      "169 5%\n",
      "187 1000\n",
      "196 2012\n",
      "199 5\n",
      "218 500\n",
      "228 2015\n",
      "231 5\n",
      "270 3%\n",
      "316 1\n",
      "342 2\n",
      "356 30\n",
      "381 2018\n",
      "384 5\n",
      "397 1\n",
      "399 2012.\n",
      "422 31\n",
      "424 2012\n",
      "431 2001/109/EC.\n",
      "466 1\n",
      "481 2\n",
      "504 1337/2011\n",
      "514 13\n",
      "516 2011\n",
      "529 357/79\n",
      "532 2001/109/EC\n",
      "543 347,\n",
      "544 30.12.2011,\n",
      "546 7-20)\n",
      "76 95%\n",
      "109 0.2\n",
      "137 5%\n",
      "169 5%\n",
      "187 1000\n",
      "196 2012\n",
      "199 5\n",
      "218 500\n",
      "228 2015\n",
      "231 5\n",
      "270 3%\n",
      "316 1\n",
      "342 2\n",
      "356 30\n",
      "381 2018\n",
      "384 5\n",
      "397 1\n",
      "399 2012.\n",
      "422 31\n",
      "424 2012\n",
      "431 2001/109/EC.\n",
      "466 1\n",
      "481 2\n",
      "504 1337/2011\n",
      "514 13\n",
      "516 2011\n",
      "529 357/79\n",
      "532 2001/109/EC\n",
      "543 347,\n",
      "544 30.12.2011,\n",
      "546 7-20)\n",
      "76 95%\n",
      "109 0.2\n",
      "137 5%\n",
      "169 5%\n",
      "187 1000\n",
      "196 2012\n",
      "199 5\n",
      "218 500\n",
      "228 2015\n",
      "231 5\n",
      "270 3%\n",
      "316 1\n",
      "342 2\n",
      "356 30\n",
      "381 2018\n",
      "384 5\n",
      "397 1\n",
      "399 2012.\n",
      "422 31\n",
      "424 2012\n",
      "431 2001/109/EC.\n",
      "466 1\n",
      "481 2\n",
      "504 1337/2011\n",
      "514 13\n",
      "516 2011\n",
      "529 357/79\n",
      "532 2001/109/EC\n",
      "543 347,\n",
      "544 30.12.2011,\n",
      "546 7-20)\n"
     ]
    }
   ],
   "source": [
    "import re\n",
    "for key, data in num_word_dict.items():\n",
    "    #print(key, type(key), data, type(data))\n",
    "    for i, j in enumerate(contents):\n",
    "        if re.match(r\"[0-9]+\", j) is not None:\n",
    "            print(i, j)\n",
    "                        \n",
    "    "
   ]
  },
  {
   "cell_type": "code",
   "execution_count": null,
   "metadata": {},
   "outputs": [],
   "source": []
  },
  {
   "cell_type": "code",
   "execution_count": null,
   "metadata": {},
   "outputs": [],
   "source": []
  }
 ],
 "metadata": {
  "kernelspec": {
   "display_name": "Python 3",
   "language": "python",
   "name": "python3"
  },
  "language_info": {
   "codemirror_mode": {
    "name": "ipython",
    "version": 3
   },
   "file_extension": ".py",
   "mimetype": "text/x-python",
   "name": "python",
   "nbconvert_exporter": "python",
   "pygments_lexer": "ipython3",
   "version": "3.6.5"
  }
 },
 "nbformat": 4,
 "nbformat_minor": 2
}
