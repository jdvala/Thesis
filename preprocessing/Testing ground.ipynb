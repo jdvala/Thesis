{
 "cells": [
  {
   "cell_type": "code",
   "execution_count": 24,
   "metadata": {},
   "outputs": [],
   "source": [
    "import date_removal as date\n",
    "import puntuation_removal as pun\n",
    "import re"
   ]
  },
  {
   "cell_type": "code",
   "execution_count": 25,
   "metadata": {},
   "outputs": [],
   "source": [
    "with open('/home/jay/Thesis/Data_key_points/agriculture/Archivedsummaries/Production of EU statistics for permanent crops.txt', \"r\") as files:\n",
    "    contents = files.readlines()"
   ]
  },
  {
   "cell_type": "code",
   "execution_count": 26,
   "metadata": {},
   "outputs": [
    {
     "data": {
      "text/plain": [
       "list"
      ]
     },
     "execution_count": 26,
     "metadata": {},
     "output_type": "execute_result"
    }
   ],
   "source": [
    "type(contents)"
   ]
  },
  {
   "cell_type": "code",
   "execution_count": 27,
   "metadata": {},
   "outputs": [],
   "source": [
    "# Join it\n",
    "contents = ''.join(contents)"
   ]
  },
  {
   "cell_type": "code",
   "execution_count": 28,
   "metadata": {},
   "outputs": [
    {
     "data": {
      "text/plain": [
       "str"
      ]
     },
     "execution_count": 28,
     "metadata": {},
     "output_type": "execute_result"
    }
   ],
   "source": [
    "type(contents)"
   ]
  },
  {
   "cell_type": "code",
   "execution_count": 29,
   "metadata": {},
   "outputs": [
    {
     "data": {
      "text/plain": [
       "'The regulation sets out the rules for the production of statistics regarding the following permanent crops:\\ndessert apple trees;\\ndessert pear trees;\\napricot trees;\\ndessert peach trees;\\norange trees;\\nlemon trees;\\nolive trees;\\nvines intended for the production of table grapes;\\nvines intended for other purposes.\\nEU countries may opt to collect statistics on apple trees, pear trees, peach trees and table grape vines for industrial processing.\\nThe statistics on permanent crops must represent at least 95% of the total planted area producing entirely or mainly for the market of each permanent crop referred to in each EU country.\\nEU countries may exclude holdings of below a threshold of 0.2 hectares (ha) of each permanent crop producing entirely or mainly for the market in each EU country. Where the area covered by such holdings is less than 5% of the total planted area of the individual crop, the countries may increase that threshold — so long as this does not lead to the exclusion of more than an additional 5% of the total planted area of that particular crop.\\nEU countries with a minimum planted area of 1000 ha of each individual crop must produce, during 2012 and every 5 years thereafter, the data referred to in the regulation’s Annex I.\\nCountries with a minimum planted area of 500 ha of vines for other purposes must produce, in 2015 and every 5 years thereafter, the data cited in the regulation’s Annex II.\\nWhere EU countries conduct sample surveys to obtain data on permanent crops should ensure that the coefficient of variation of the data does not exceed, at national level, 3% for the planted area for each crop.\\nThe statistics on vines intended for other purposes (than table grapes) shall be provided using the data available in the vineyard register.\\nData concerning permanent crops other than vines for other purposes must be broken down by NUTS* 1 territorial units, except where a less detailed breakdown is specified in the regulation. Data concerning vines for other purposes must be broken down by NUTS 2 territorial units.\\nAll data should be sent to the European Commission (Eurostat) by 30 September of the year following the reference period.\\nThe Commission (European Commission) will review the implementation of the legislation by the end of December 2018 and every 5 years thereafter.\\nFROM WHEN DOES THE REGULATION APPLY?\\nIt has applied since 1 January 2012. Certain EU countries — whose national statistics systems required major adaptations — could be granted an exemption from the regulation’s application until 31 December 2012 and would continue to apply Directive 2001/109/EC.\\nKEY TERMS\\nPermanent crop: a crop not grown in rotation, other than permanent grassland, which occupies the soil for a long period and yields crops over several years.\\nNUTS: nomenclature of territorial units. NUTS 1 = major socioeconomic regions, e.g. German Länder, Belgian regions, Polish regions, Romanian macroregions; NUTS 2 = basic regions for the application of regional policies, e.g. Belgian provinces, Danish regions, Czech regions (kraje).\\nMAIN DOCUMENT\\nRegulation (EU) No 1337/2011 of the European Parliament and of the Council of 13 December 2011 concerning European statistics on permanent crops and repealing Council Regulation (EEC) No 357/79 and Directive 2001/109/EC of the European Parliament and of the Council (OJ L 347, 30.12.2011, pp. 7-20)\\n'"
      ]
     },
     "execution_count": 29,
     "metadata": {},
     "output_type": "execute_result"
    }
   ],
   "source": [
    "contents"
   ]
  },
  {
   "cell_type": "code",
   "execution_count": 30,
   "metadata": {},
   "outputs": [],
   "source": [
    "contents = date.date_remove(contents)"
   ]
  },
  {
   "cell_type": "code",
   "execution_count": 8,
   "metadata": {},
   "outputs": [
    {
     "data": {
      "text/plain": [
       "'The regulation sets out the rules for the production of statistics regarding the following permanent crops: dessert apple trees; dessert pear trees; apricot trees; dessert peach trees; orange trees; lemon trees; olive trees; vines intended for the production of table grapes; vines intended for other purposes. EU countries may opt to collect statistics on apple trees, pear trees, peach trees and table grape vines for industrial processing. The statistics on permanent crops must represent at least 95% of the total planted area producing entirely or mainly for the market of each permanent crop referred to in each EU country. EU countries may exclude holdings of below a threshold of 0.2 hectares (ha) of each permanent crop producing entirely or mainly for the market in each EU country. Where the area covered by such holdings is less than 5% of the total planted area of the individual crop, the countries may increase that threshold — so long as this does not lead to the exclusion of more than an additional 5% of the total planted area of that particular crop. EU countries with a minimum planted area of 1000 ha of each individual crop must produce, during 2012 and every 5 years thereafter, the data referred to in the regulation’s Annex I. Countries with a minimum planted area of 500 ha of vines for other purposes must produce, in 2015 and every 5 years thereafter, the data cited in the regulation’s Annex II. Where EU countries conduct sample surveys to obtain data on permanent crops should ensure that the coefficient of variation of the data does not exceed, at national level, 3% for the planted area for each crop. The statistics on vines intended for other purposes (than table grapes) shall be provided using the data available in the vineyard register. Data concerning permanent crops other than vines for other purposes must be broken down by NUTS* 1 territorial units, except where a less detailed breakdown is specified in the regulation. Data concerning vines for other purposes must be broken down by NUTS 2 territorial units. All data should be sent to the European Commission (Eurostat) by 30 September of the year following the reference period. The Commission (European Commission) will review the implementation of the legislation by the end of December 2018 and every 5 years thereafter. FROM WHEN DOES THE REGULATION APPLY? It has applied since 1 January 2012. Certain EU countries — whose national statistics systems required major adaptations — could be granted an exemption from the regulation’s application until 31 December 2012 and would continue to apply Directive 2001/109/EC. KEY TERMS Permanent crop: a crop not grown in rotation, other than permanent grassland, which occupies the soil for a long period and yields crops over several years. NUTS: nomenclature of territorial units. NUTS 1 = major socioeconomic regions, e.g. German Länder, Belgian regions, Polish regions, Romanian macroregions; NUTS 2 = basic regions for the application of regional policies, e.g. Belgian provinces, Danish regions, Czech regions (kraje). MAIN DOCUMENT Regulation (EU) No 1337/2011 of the European Parliament and of the Council of 13 December 2011 concerning European statistics on permanent crops and repealing Council Regulation (EEC) No 357/79 and Directive 2001/109/EC of the European Parliament and of the Council (OJ L 347, pp. 7-20)'"
      ]
     },
     "execution_count": 8,
     "metadata": {},
     "output_type": "execute_result"
    }
   ],
   "source": [
    "contents"
   ]
  },
  {
   "cell_type": "code",
   "execution_count": 191,
   "metadata": {},
   "outputs": [],
   "source": [
    "# percents\n",
    "\n",
    "def precent_conversion(text):\n",
    "    \"\"\"Returns string by converting numerical percentage(5%) to words(five percentage)\n",
    "    Args: text - type - string \n",
    "    Returns: text - type - string\n",
    "    \"\"\"\n",
    "    num_dict = {0:'Zero', 1: 'One', 2: 'Two', 3: 'Three', 4: 'Four', 5: 'Five', 6: 'Six', 7: 'Seven', 8: 'Eight', 9: 'Nine'}\n",
    "   \n",
    "    if isinstance(text, str):\n",
    "        # break the string into words\n",
    "        text = text.split()\n",
    "        for index, word in enumerate(text):\n",
    "            if re.match(r\"\\d+\\%\", word) is not None:\n",
    "                per_to_word = []\n",
    "                # split the word\n",
    "                print(word)\n",
    "                for character in word:\n",
    "                    for key, value in num_dict.items():\n",
    "                        try:\n",
    "                            if key == int(character):\n",
    "                                per_to_word.append(value)\n",
    "                        except ValueError:\n",
    "                            pass   \n",
    "                #replace precent words to the index word was found on\n",
    "                precent = ' '.join(per_to_word)\n",
    "                precent = precent+' precent'\n",
    "                text[index] = precent\n",
    "       \n",
    "            else:\n",
    "                continue\n",
    "                \n",
    "    else:\n",
    "        print(\"The provided input is of {} type insted of type string\". format(type(text)))\n",
    "        \n",
    "    text = ' '.join(text)\n",
    "    return text\n",
    "    "
   ]
  },
  {
   "cell_type": "code",
   "execution_count": 192,
   "metadata": {},
   "outputs": [
    {
     "name": "stdout",
     "output_type": "stream",
     "text": [
      "95%\n",
      "5%\n",
      "5%\n",
      "3%\n"
     ]
    }
   ],
   "source": [
    "contents_ = precent_conversion(contents)"
   ]
  },
  {
   "cell_type": "code",
   "execution_count": 193,
   "metadata": {},
   "outputs": [
    {
     "data": {
      "text/plain": [
       "'The regulation sets out the rules for the production of statistics regarding the following permanent crops: dessert apple trees; dessert pear trees; apricot trees; dessert peach trees; orange trees; lemon trees; olive trees; vines intended for the production of table grapes; vines intended for other purposes. EU countries may opt to collect statistics on apple trees, pear trees, peach trees and table grape vines for industrial processing. The statistics on permanent crops must represent at least Nine Five precent of the total planted area producing entirely or mainly for the market of each permanent crop referred to in each EU country. EU countries may exclude holdings of below a threshold of 0.2 hectares (ha) of each permanent crop producing entirely or mainly for the market in each EU country. Where the area covered by such holdings is less than Five precent of the total planted area of the individual crop, the countries may increase that threshold — so long as this does not lead to the exclusion of more than an additional Five precent of the total planted area of that particular crop. EU countries with a minimum planted area of 1000 ha of each individual crop must produce, during 2012 and every 5 years thereafter, the data referred to in the regulation’s Annex I. Countries with a minimum planted area of 500 ha of vines for other purposes must produce, in 2015 and every 5 years thereafter, the data cited in the regulation’s Annex II. Where EU countries conduct sample surveys to obtain data on permanent crops should ensure that the coefficient of variation of the data does not exceed, at national level, Three precent for the planted area for each crop. The statistics on vines intended for other purposes (than table grapes) shall be provided using the data available in the vineyard register. Data concerning permanent crops other than vines for other purposes must be broken down by NUTS* 1 territorial units, except where a less detailed breakdown is specified in the regulation. Data concerning vines for other purposes must be broken down by NUTS 2 territorial units. All data should be sent to the European Commission (Eurostat) by 30 September of the year following the reference period. The Commission (European Commission) will review the implementation of the legislation by the end of December 2018 and every 5 years thereafter. FROM WHEN DOES THE REGULATION APPLY? It has applied since 1 January 2012. Certain EU countries — whose national statistics systems required major adaptations — could be granted an exemption from the regulation’s application until 31 December 2012 and would continue to apply Directive 2001/109/EC. KEY TERMS Permanent crop: a crop not grown in rotation, other than permanent grassland, which occupies the soil for a long period and yields crops over several years. NUTS: nomenclature of territorial units. NUTS 1 = major socioeconomic regions, e.g. German Länder, Belgian regions, Polish regions, Romanian macroregions; NUTS 2 = basic regions for the application of regional policies, e.g. Belgian provinces, Danish regions, Czech regions (kraje). MAIN DOCUMENT Regulation (EU) No 1337/2011 of the European Parliament and of the Council of 13 December 2011 concerning European statistics on permanent crops and repealing Council Regulation (EEC) No 357/79 and Directive 2001/109/EC of the European Parliament and of the Council (OJ L 347, pp. 7-20)'"
      ]
     },
     "execution_count": 193,
     "metadata": {},
     "output_type": "execute_result"
    }
   ],
   "source": [
    "contents_"
   ]
  },
  {
   "cell_type": "code",
   "execution_count": 320,
   "metadata": {},
   "outputs": [],
   "source": [
    "# percents\n",
    "\n",
    "def number_to_words(text):\n",
    "    \"\"\"Returns string by converting numerical values to its words equivalent\n",
    "    Args: text - type - string \n",
    "    Returns: text - type - string\n",
    "    \"\"\"\n",
    "    num_dict = {0:'Zero', 1: 'One', 2: 'Two', 3: 'Three', 4: 'Four', 5: 'Five', 6: 'Six', 7: 'Seven', 8: 'Eight', 9: 'Nine'}\n",
    "   \n",
    "    if isinstance(text, str):\n",
    "        # break the string into words\n",
    "        text = text.split()\n",
    "        for index, word in enumerate(text):\n",
    "            if re.match(r\"\\d+\", word) is not None:\n",
    "                per_to_word = []\n",
    "                # split the word\n",
    "                #print(word)\n",
    "                word = word.lstrip('.')\n",
    "                word = word.rstrip('.')\n",
    "                #print(word)\n",
    "                for character in word:\n",
    "                    try:\n",
    "                        if character == '.':\n",
    "                            per_to_word.append(\"point\")\n",
    "                        else:\n",
    "                            word = words(int(character))\n",
    "                            per_to_word.append(word)\n",
    "                    except ValueError:\n",
    "                        continue\n",
    "                    \n",
    "        \n",
    " \n",
    "                #replace precent words to the index word was found on\n",
    "                precent = ' '.join(per_to_word)\n",
    "                text[index] = precent\n",
    "       \n",
    "            else:\n",
    "                continue\n",
    "                \n",
    "    else:\n",
    "        print(\"The provided input is of {} type insted of type string\". format(type(text)))\n",
    "        \n",
    "    text = ' '.join(text)\n",
    "    return text"
   ]
  },
  {
   "cell_type": "code",
   "execution_count": 321,
   "metadata": {
    "scrolled": true
   },
   "outputs": [],
   "source": [
    "_contents_ = number_to_words(contents_)"
   ]
  },
  {
   "cell_type": "code",
   "execution_count": 322,
   "metadata": {},
   "outputs": [
    {
     "data": {
      "text/plain": [
       "'The regulation sets out the rules for the production of statistics regarding the following permanent crops: dessert apple trees; dessert pear trees; apricot trees; dessert peach trees; orange trees; lemon trees; olive trees; vines intended for the production of table grapes; vines intended for other purposes. EU countries may opt to collect statistics on apple trees, pear trees, peach trees and table grape vines for industrial processing. The statistics on permanent crops must represent at least Nine Five precent of the total planted area producing entirely or mainly for the market of each permanent crop referred to in each EU country. EU countries may exclude holdings of below a threshold of Zero point Two hectares (ha) of each permanent crop producing entirely or mainly for the market in each EU country. Where the area covered by such holdings is less than Five precent of the total planted area of the individual crop, the countries may increase that threshold — so long as this does not lead to the exclusion of more than an additional Five precent of the total planted area of that particular crop. EU countries with a minimum planted area of One Zero Zero Zero ha of each individual crop must produce, during Two Zero One Two and every Five years thereafter, the data referred to in the regulation’s Annex I. Countries with a minimum planted area of Five Zero Zero ha of vines for other purposes must produce, in Two Zero One Five and every Five years thereafter, the data cited in the regulation’s Annex II. Where EU countries conduct sample surveys to obtain data on permanent crops should ensure that the coefficient of variation of the data does not exceed, at national level, Three precent for the planted area for each crop. The statistics on vines intended for other purposes (than table grapes) shall be provided using the data available in the vineyard register. Data concerning permanent crops other than vines for other purposes must be broken down by NUTS* One territorial units, except where a less detailed breakdown is specified in the regulation. Data concerning vines for other purposes must be broken down by NUTS Two territorial units. All data should be sent to the European Commission (Eurostat) by Three Zero September of the year following the reference period. The Commission (European Commission) will review the implementation of the legislation by the end of December Two Zero One Eight and every Five years thereafter. FROM WHEN DOES THE REGULATION APPLY? It has applied since One January Two Zero One Two Certain EU countries — whose national statistics systems required major adaptations — could be granted an exemption from the regulation’s application until Three One December Two Zero One Two and would continue to apply Directive Two Zero Zero One One Zero Nine KEY TERMS Permanent crop: a crop not grown in rotation, other than permanent grassland, which occupies the soil for a long period and yields crops over several years. NUTS: nomenclature of territorial units. NUTS One = major socioeconomic regions, e.g. German Länder, Belgian regions, Polish regions, Romanian macroregions; NUTS Two = basic regions for the application of regional policies, e.g. Belgian provinces, Danish regions, Czech regions (kraje). MAIN DOCUMENT Regulation (EU) No One Three Three Seven Two Zero One One of the European Parliament and of the Council of One Three December Two Zero One One concerning European statistics on permanent crops and repealing Council Regulation (EEC) No Three Five Seven Seven Nine and Directive Two Zero Zero One One Zero Nine of the European Parliament and of the Council (OJ L Three Four Seven pp. Seven Two Zero'"
      ]
     },
     "execution_count": 322,
     "metadata": {},
     "output_type": "execute_result"
    }
   ],
   "source": [
    "_contents_"
   ]
  },
  {
   "cell_type": "code",
   "execution_count": 317,
   "metadata": {},
   "outputs": [],
   "source": [
    "a = '0.2'\n",
    "num_dict = {0:'Zero', 1: 'One', 2: 'Two', 3: 'Three', 4: 'Four', 5: 'Five', 6: 'Six', 7: 'Seven', 8: 'Eight', 9: 'Nine'}\n"
   ]
  },
  {
   "cell_type": "code",
   "execution_count": 318,
   "metadata": {},
   "outputs": [],
   "source": [
    "per_to_word = []\n",
    "\n",
    "for character in a:\n",
    "    try:\n",
    "        if character == '.':\n",
    "            per_to_word.append(\"point\")\n",
    "        else:\n",
    "            word = words(int(character))\n",
    "            per_to_word.append(word)\n",
    "    except ValueError:\n",
    "        continue"
   ]
  },
  {
   "cell_type": "code",
   "execution_count": 319,
   "metadata": {},
   "outputs": [
    {
     "data": {
      "text/plain": [
       "['Zero', 'point', 'Two']"
      ]
     },
     "execution_count": 319,
     "metadata": {},
     "output_type": "execute_result"
    }
   ],
   "source": [
    "per_to_word"
   ]
  },
  {
   "cell_type": "code",
   "execution_count": 307,
   "metadata": {},
   "outputs": [],
   "source": [
    "def words(digit):\n",
    "    \"\"\" Returns string after removing all the puntuations\n",
    "        Args: digit - type: int\n",
    "\n",
    "        Return: word - type: String\n",
    "\n",
    "    \"\"\"\n",
    "    word = \"\"\n",
    "    # Check whether the provide argument is string or not\n",
    "\n",
    "    if isinstance(digit, int):\n",
    "        if digit == 0:\n",
    "            word = 'Zero'\n",
    "        elif digit == 1:\n",
    "            word = 'One'\n",
    "        elif digit == 2:\n",
    "            word = 'Two'\n",
    "        elif digit == 3:\n",
    "            word = 'Three'\n",
    "        elif digit == 4:\n",
    "            word = 'Four'\n",
    "        elif digit == 5:\n",
    "            word = 'Five'\n",
    "        elif digit == 6:\n",
    "            word = 'Six'\n",
    "        elif digit == 7:\n",
    "            word = 'Seven'\n",
    "        elif digit == 8:\n",
    "            word = 'Eight'\n",
    "        elif digit == 9:\n",
    "            word = 'Nine'\n",
    "        else:\n",
    "            pass      \n",
    "    else:\n",
    "        print(\"The provided input is of {} type insted of type int\".format(type(digit)))\n",
    "\n",
    "    return word"
   ]
  },
  {
   "cell_type": "code",
   "execution_count": null,
   "metadata": {},
   "outputs": [],
   "source": []
  }
 ],
 "metadata": {
  "kernelspec": {
   "display_name": "Python 3",
   "language": "python",
   "name": "python3"
  },
  "language_info": {
   "codemirror_mode": {
    "name": "ipython",
    "version": 3
   },
   "file_extension": ".py",
   "mimetype": "text/x-python",
   "name": "python",
   "nbconvert_exporter": "python",
   "pygments_lexer": "ipython3",
   "version": "3.6.5"
  }
 },
 "nbformat": 4,
 "nbformat_minor": 2
}
