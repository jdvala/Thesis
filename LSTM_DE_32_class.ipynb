{
  "nbformat": 4,
  "nbformat_minor": 0,
  "metadata": {
    "colab": {
      "name": "LSTM DE 32 class.ipynb",
      "version": "0.3.2",
      "provenance": [],
      "collapsed_sections": [],
      "toc_visible": true,
      "include_colab_link": true
    },
    "kernelspec": {
      "name": "python3",
      "display_name": "Python 3"
    },
    "accelerator": "TPU"
  },
  "cells": [
    {
      "cell_type": "markdown",
      "metadata": {
        "id": "view-in-github",
        "colab_type": "text"
      },
      "source": [
        "<a href=\"https://colab.research.google.com/github/jdvala/Thesis/blob/master/LSTM_DE_32_class.ipynb\" target=\"_parent\"><img src=\"https://colab.research.google.com/assets/colab-badge.svg\" alt=\"Open In Colab\"/></a>"
      ]
    },
    {
      "metadata": {
        "id": "m0TxQ65zixbh",
        "colab_type": "text"
      },
      "cell_type": "markdown",
      "source": [
        "# Bidirectional LSTM for Geman with 32 classes\n",
        "\n",
        "The bidirectional LSTM is trained on sentence level and there are two evaluations, one on sentence level and one on document level"
      ]
    },
    {
      "metadata": {
        "id": "cIiz-Z6uivei",
        "colab_type": "code",
        "colab": {}
      },
      "cell_type": "code",
      "source": [
        "# Imports\n",
        "import os\n",
        "import keras\n",
        "import sys\n",
        "from keras.models import Sequential\n",
        "from keras.layers import Dense\n",
        "from keras.layers import LSTM, Bidirectional\n",
        "from keras.layers import Embedding as emb\n",
        "import tensorflow as tf\n",
        "import numpy as np\n",
        "from sklearn.model_selection import train_test_split\n",
        "from sklearn.preprocessing import OneHotEncoder\n",
        "from keras.preprocessing.text import Tokenizer\n",
        "from keras.preprocessing.sequence import pad_sequences\n",
        "from keras.models import load_model\n",
        "from sklearn.metrics import classification_report, confusion_matrix\n",
        "import seaborn\n",
        "from keras.utils import generic_utils \n",
        "from sklearn.preprocessing import LabelEncoder\n",
        "\n",
        "\n",
        "# Setting seed to get reproducable results\n",
        "from numpy.random import seed\n",
        "from tensorflow import set_random_seed\n",
        "SEED = 13\n",
        "seed(SEED)\n",
        "set_random_seed(SEED)\n",
        "\n",
        "# For displaying the whole conf matrix\n",
        "np.set_printoptions(threshold=np.nan)\n"
      ],
      "execution_count": 0,
      "outputs": []
    },
    {
      "metadata": {
        "id": "H2lyy5hCjMqa",
        "colab_type": "text"
      },
      "cell_type": "markdown",
      "source": [
        "\n",
        "\n",
        "## Setting Up Google Drive\n",
        "The data used in this notebook is available in my drive."
      ]
    },
    {
      "metadata": {
        "id": "pVsPIWVTK3Gf",
        "colab_type": "code",
        "outputId": "a868c7c8-4856-4c1c-c960-bf96fe593085",
        "colab": {
          "base_uri": "https://localhost:8080/",
          "height": 125
        }
      },
      "cell_type": "code",
      "source": [
        "from google.colab import drive\n",
        "drive.mount('/content/gdrive')\n",
        "#embding_path = '/content/gdrive/My Drive/en.de.context.emb'"
      ],
      "execution_count": 1,
      "outputs": [
        {
          "output_type": "stream",
          "text": [
            "Go to this URL in a browser: https://accounts.google.com/o/oauth2/auth?client_id=947318989803-6bn6qk8qdgf4n4g3pfee6491hc0brc4i.apps.googleusercontent.com&redirect_uri=urn%3Aietf%3Awg%3Aoauth%3A2.0%3Aoob&scope=email%20https%3A%2F%2Fwww.googleapis.com%2Fauth%2Fdocs.test%20https%3A%2F%2Fwww.googleapis.com%2Fauth%2Fdrive%20https%3A%2F%2Fwww.googleapis.com%2Fauth%2Fdrive.photos.readonly%20https%3A%2F%2Fwww.googleapis.com%2Fauth%2Fpeopleapi.readonly&response_type=code\n",
            "\n",
            "Enter your authorization code:\n",
            "··········\n",
            "Mounted at /content/gdrive\n"
          ],
          "name": "stdout"
        }
      ]
    },
    {
      "metadata": {
        "id": "aScNdU9Ujc_w",
        "colab_type": "text"
      },
      "cell_type": "markdown",
      "source": [
        "## Getting the data\n",
        "\n",
        "The data is pickled and hence unpickling it here.\n"
      ]
    },
    {
      "metadata": {
        "id": "lqHTjrhlkMy8",
        "colab_type": "code",
        "colab": {}
      },
      "cell_type": "code",
      "source": [
        "# unpickle data\n",
        "import pickle\n",
        "def unpickle(obj):\n",
        "    with open(obj, 'rb') as picklehandle:\n",
        "        toReturn = pickle.load(picklehandle)\n",
        "    return toReturn\n",
        "\n",
        "en_de_combined = unpickle('/content/gdrive/My Drive/combined_data.pkl')\n",
        "label = unpickle('/content/gdrive/My Drive/en-de-label.pkl')"
      ],
      "execution_count": 0,
      "outputs": []
    },
    {
      "metadata": {
        "id": "mDq-U-yXjpE9",
        "colab_type": "text"
      },
      "cell_type": "markdown",
      "source": [
        "## Test Train Split\n",
        "\n",
        "Before doing anything, Split the data into test and train sets, so there is no information leak from train data to test data.\n",
        "This is not a problem in case of one language as every instance is either in train or test set, but in case of multilingual data it might so happen that a document from one language is in  train set and the same document from another language might end up in test set, this might be a problem, and to avoid it we split the data as soon as we have it."
      ]
    },
    {
      "metadata": {
        "id": "z_i2lhgDk83J",
        "colab_type": "code",
        "colab": {}
      },
      "cell_type": "code",
      "source": [
        "# Initial Test Train Split\n",
        "train_data, test_data, train_la, test_la = train_test_split(en_de_combined, label,test_size=0.3, random_state=SEED)"
      ],
      "execution_count": 0,
      "outputs": []
    },
    {
      "metadata": {
        "id": "QIMp2zuQkleM",
        "colab_type": "text"
      },
      "cell_type": "markdown",
      "source": [
        "## Seperate the data\n",
        "\n",
        "As mentioned above there is a slight chance that the information leak might happen. Hence during curation of the data, **English** and **German** data as well as their document id(manually generated), file names, multiple labels and thier labels were combined in a single list with *'\\n\\n\\n'*(three new line characters). This was done to ensure there is no information loss what so ever."
      ]
    },
    {
      "metadata": {
        "id": "_psRNM96GxUM",
        "colab_type": "code",
        "colab": {}
      },
      "cell_type": "code",
      "source": [
        "def seperate_data(data, label):\n",
        "    \"\"\"Seperates data from combined data, it is seperated by '\\n\\n\\n', three new line charaters\n",
        "    Returns: english data, german data, file name, doc_id, multiple labels\n",
        "    \"\"\"\n",
        "    en_data = [] \n",
        "    de_data = []\n",
        "    file_name = []\n",
        "    doc_id = []\n",
        "    multilabel = []\n",
        "    labels = []\n",
        "    \n",
        "    if isinstance(data, list):\n",
        "        for doc, l in zip(data,label):\n",
        "            en_data.append(doc.split('\\n\\n\\n')[0])\n",
        "            de_data.append(doc.split('\\n\\n\\n')[1])\n",
        "            file_name.append(doc.split('\\n\\n\\n')[2])\n",
        "            doc_id.append(doc.split('\\n\\n\\n')[3])\n",
        "            multilabel.append(doc.split('\\n\\n\\n')[4])\n",
        "            labels.append(l)\n",
        "    return en_data,de_data, file_name, doc_id, multilabel, labels\n",
        "    "
      ],
      "execution_count": 0,
      "outputs": []
    },
    {
      "metadata": {
        "id": "ci53TB18HrT-",
        "colab_type": "code",
        "colab": {}
      },
      "cell_type": "code",
      "source": [
        "# Seperating train and test data\n",
        "train_en_data,train_de_data, train_file_name, train_doc_id, train_multilabel, train_label = seperate_data(train_data, train_la)\n",
        "\n",
        "test_en_data,test_de_data, test_file_name, test_doc_id, test_multilabel, test_label = seperate_data(test_data, test_la)"
      ],
      "execution_count": 0,
      "outputs": []
    },
    {
      "metadata": {
        "id": "PvcWndJsluXo",
        "colab_type": "text"
      },
      "cell_type": "markdown",
      "source": [
        "## Sliding Window\n",
        "\n",
        "Sliding window, helper function to chunk the incoming document into predefined chuck length and step size"
      ]
    },
    {
      "metadata": {
        "id": "T0p0-kVyEfcu",
        "colab_type": "code",
        "colab": {}
      },
      "cell_type": "code",
      "source": [
        "def slidingWindow(sequence,winSize,step):\n",
        "    \"\"\"Returns a generator that will iterate through\n",
        "    the defined chunks of input sequence. Input sequence\n",
        "    must be sliceable.\"\"\"\n",
        "\n",
        "    # Pre-compute number of chunks to emit\n",
        "    numOfChunks = ((len(sequence)-winSize)/step)+1\n",
        "    # Do the work\n",
        "    for i in range(0,round(numOfChunks)*step,step):\n",
        "        yield sequence[i:i+winSize]"
      ],
      "execution_count": 0,
      "outputs": []
    },
    {
      "metadata": {
        "id": "vNgEzuTNl-nl",
        "colab_type": "text"
      },
      "cell_type": "markdown",
      "source": [
        "## Numbering Labels\n",
        "\n",
        "Manually labeling the alpha labels as the evaluation based on documents will require more control over the label  "
      ]
    },
    {
      "metadata": {
        "id": "JBmZ9505DgPg",
        "colab_type": "code",
        "outputId": "db55a21c-422e-4ac5-e5e5-433f1f9be102",
        "colab": {
          "base_uri": "https://localhost:8080/",
          "height": 54
        }
      },
      "cell_type": "code",
      "source": [
        "# Numbering the labels\n",
        "label_num = dict(enumerate(sorted(set(label))))\n",
        "print(label_num)"
      ],
      "execution_count": 9,
      "outputs": [
        {
          "output_type": "stream",
          "text": [
            "{0: 'agriculture', 1: 'audiovisual_and_media', 2: 'budget', 3: 'competition', 4: 'consumers', 5: 'culture', 6: 'customs', 7: 'development', 8: 'economic_and_monetary_affairs', 9: 'education_training_youth', 10: 'employment_and_social_policy', 11: 'energy', 12: 'enlargement', 13: 'enterprise', 14: 'environment', 15: 'external_relations', 16: 'external_trade', 17: 'fight_against_fraud', 18: 'food_safety', 19: 'foreign_and_security_policy', 20: 'human_rights', 21: 'humanitarian_aid', 22: 'information_society', 23: 'institutional_affairs', 24: 'internal_market', 25: 'justice_freedom_security', 26: 'maritime_affairs_and_fisheries', 27: 'public_health', 28: 'regional_policy', 29: 'research_innovation', 30: 'taxation', 31: 'transport'}\n"
          ],
          "name": "stdout"
        }
      ]
    },
    {
      "metadata": {
        "id": "Bqjj3K1NmWS5",
        "colab_type": "text"
      },
      "cell_type": "markdown",
      "source": [
        "## Train Sentence preparation German\n",
        "\n",
        "From the training documents we are creating sentences and the giving them corresponding numeric labels to each sentence"
      ]
    },
    {
      "metadata": {
        "id": "8JImdQ4qlE9a",
        "colab_type": "code",
        "outputId": "9efcf0a0-35c9-43bb-b824-d2a1179b0a80",
        "colab": {
          "base_uri": "https://localhost:8080/",
          "height": 34
        }
      },
      "cell_type": "code",
      "source": [
        "# Train data preparation\n",
        "_train_sentence = []\n",
        "_train_label = []\n",
        "\n",
        "for doc, labe in zip(train_de_data, train_label):\n",
        "    # call the sliding window on doc\n",
        "    \n",
        "    slides = slidingWindow(doc.split(' '), 30, 10)\n",
        "    \n",
        "    # get the num label \n",
        "    for key, value in label_num.items():\n",
        "        if value == labe:\n",
        "            num = key\n",
        "            \n",
        "      \n",
        "    for slide in slides:\n",
        "        _train_sentence.append(slide)\n",
        "        _train_label.append(num)\n",
        "\n",
        "\n",
        "# ensuring the number of samples in train set and labels\n",
        "print(len(_train_sentence), len(_train_label))"
      ],
      "execution_count": 10,
      "outputs": [
        {
          "output_type": "stream",
          "text": [
            "137319 137319\n"
          ],
          "name": "stdout"
        }
      ]
    },
    {
      "metadata": {
        "id": "qemei-HbmuL2",
        "colab_type": "text"
      },
      "cell_type": "markdown",
      "source": [
        "## Tokenizing training sentence\n",
        "\n",
        "Toknizing the training sentences and then fitting it on train sentence and then use the same tokenizer object on test data\n",
        "Also calculate the vocabulary size which we will need in the embedding layer. "
      ]
    },
    {
      "metadata": {
        "id": "PM5hxLg-GYDH",
        "colab_type": "code",
        "outputId": "55632215-2bf4-4b71-e432-ff9a1027df22",
        "colab": {
          "base_uri": "https://localhost:8080/",
          "height": 70
        }
      },
      "cell_type": "code",
      "source": [
        "# tokenizing Sentences Using Keras tokenizer\n",
        "tokenizer = keras.preprocessing.text.Tokenizer()\n",
        "\n",
        "# Tokenizing the sentences (This process may take some time depending on your corpus size)\n",
        "tokenizer.fit_on_texts(_train_sentence)\n",
        "\n",
        "# Lets see what our vocabulary size is\n",
        "vocab_size = len(tokenizer.word_index) + 1   # We are adding 1 here because it takes indexing from zero\n",
        "print(\"Vocabulary size is: {}\".format(vocab_size))\n",
        "\n",
        "# Sentence encoding (it means we are now converting words into numbers)\n",
        "sent_encoded = tokenizer.texts_to_sequences(_train_sentence)\n",
        "print(\"The number of sentence in train set after encoding: {}\".format(len(sent_encoded)))\n",
        "\n",
        "\n",
        "# Start padding with the 30, although we wont need it, but still as precautionary measure\n",
        "max_len = len(_train_sentence[1])\n",
        "print('Maximum length of sentences in training set is', max_len)\n",
        "padded_sents = keras.preprocessing.sequence.pad_sequences(sent_encoded, maxlen=max_len, padding='post')"
      ],
      "execution_count": 11,
      "outputs": [
        {
          "output_type": "stream",
          "text": [
            "Vocabulary size is: 52239\n",
            "The number of sentence in train set after encoding: 137319\n",
            "Maximum length of sentences in training set is 30\n"
          ],
          "name": "stdout"
        }
      ]
    },
    {
      "metadata": {
        "id": "RXswQd3qn0Xt",
        "colab_type": "text"
      },
      "cell_type": "markdown",
      "source": [
        "## One Hot Encoding Labels\n",
        "\n",
        "The numerical labels needs to be converted into its one hot encoded form."
      ]
    },
    {
      "metadata": {
        "id": "GJbJAHtlgNYN",
        "colab_type": "code",
        "colab": {}
      },
      "cell_type": "code",
      "source": [
        "# Converting train labels into one hot encoded form\n",
        "oht_obj = OneHotEncoder(sparse=False, categories='auto')\n",
        "oht_obj.fit((np.reshape(_train_label, (-1,1))))\n",
        "\n",
        "train_labels = oht_obj.transform((np.reshape(_train_label, (-1,1))))\n"
      ],
      "execution_count": 0,
      "outputs": []
    },
    {
      "metadata": {
        "id": "68jWOCson--a",
        "colab_type": "text"
      },
      "cell_type": "markdown",
      "source": [
        "## Callback\n",
        "\n",
        "Two call backs are used here,\n",
        "\n",
        "* *reduce_rate*:  Which helps in situation where we are stuck on a Plateau.\n",
        "* *early_stopping*: It monitors the validation loss and in case of overfitting it will wait for the number of epochs given by user before stopping the leanring process.\n"
      ]
    },
    {
      "metadata": {
        "id": "sB2BE6IjHNBk",
        "colab_type": "code",
        "outputId": "fc7fc90b-5ea7-4056-d03f-afa94be1d083",
        "colab": {
          "base_uri": "https://localhost:8080/",
          "height": 52
        }
      },
      "cell_type": "code",
      "source": [
        "# Other callbacks \n",
        "reduce_rate = keras.callbacks.ReduceLROnPlateau(monitor='val_loss', factor=0.1, patience=0, verbose=1, \n",
        "                                                mode='auto', epsilon=0.0001, cooldown=0, min_lr=0)\n",
        "early_stop = keras.callbacks.EarlyStopping(monitor='val_loss', min_delta=0, \n",
        "                                           patience=2, verbose=1, mode='auto')"
      ],
      "execution_count": 0,
      "outputs": [
        {
          "output_type": "stream",
          "text": [
            "/usr/local/lib/python3.6/dist-packages/keras/callbacks.py:1065: UserWarning: `epsilon` argument is deprecated and will be removed, use `min_delta` instead.\n",
            "  warnings.warn('`epsilon` argument is deprecated and '\n"
          ],
          "name": "stderr"
        }
      ]
    },
    {
      "metadata": {
        "id": "M8b1_QAPv_pl",
        "colab_type": "code",
        "outputId": "fa730bd9-86a2-4e49-db73-62053a4e7fec",
        "colab": {
          "base_uri": "https://localhost:8080/",
          "height": 90
        }
      },
      "cell_type": "code",
      "source": [
        "learning_rate = 0.001\n",
        "optimizer = keras.optimizers.RMSprop(lr=learning_rate, rho=0.9, epsilon=None, decay=0.0)"
      ],
      "execution_count": 0,
      "outputs": [
        {
          "output_type": "stream",
          "text": [
            "WARNING:tensorflow:From /usr/local/lib/python3.6/dist-packages/tensorflow/python/framework/op_def_library.py:263: colocate_with (from tensorflow.python.framework.ops) is deprecated and will be removed in a future version.\n",
            "Instructions for updating:\n",
            "Colocations handled automatically by placer.\n"
          ],
          "name": "stdout"
        }
      ]
    },
    {
      "metadata": {
        "id": "Si5H--iso4ki",
        "colab_type": "text"
      },
      "cell_type": "markdown",
      "source": [
        "\n",
        "\n",
        "## Model Architecture"
      ]
    },
    {
      "metadata": {
        "id": "QnatoFO6qL6W",
        "colab_type": "code",
        "outputId": "bfc17e25-3407-4c40-a9df-9b7bd5e531e3",
        "colab": {
          "base_uri": "https://localhost:8080/",
          "height": 661
        }
      },
      "cell_type": "code",
      "source": [
        "from IPython.display import Image\n",
        "Image('/content/model.png')"
      ],
      "execution_count": 0,
      "outputs": [
        {
          "output_type": "execute_result",
          "data": {
            "image/png": "[encoded data removed]",
            "text/plain": [
              "<IPython.core.display.Image object>"
            ]
          },
          "metadata": {
            "tags": []
          },
          "execution_count": 21
        }
      ]
    },
    {
      "metadata": {
        "id": "Y2qkLpDhG4Pb",
        "colab_type": "code",
        "outputId": "5ad35d8d-0097-4eab-d6e7-24f098400b42",
        "colab": {
          "base_uri": "https://localhost:8080/",
          "height": 445
        }
      },
      "cell_type": "code",
      "source": [
        "# Create sequential model\n",
        "model = Sequential()\n",
        "model.add(emb(vocab_size, 200, input_length=max_len))   \n",
        "model.add(Bidirectional(LSTM(40, activation='tanh',return_sequences=True, kernel_regularizer=keras.regularizers.l2(0.04))))# LSTM layer \n",
        "model.add(keras.layers.Dropout(0.5))\n",
        "model.add(Bidirectional(LSTM(40, activation='tanh',return_sequences=False, kernel_regularizer=keras.regularizers.l2(0.03))))\n",
        "model.add(keras.layers.Dropout(0.5))\n",
        "model.add(Dense(32, activation='softmax'))\n",
        "model.compile(loss='categorical_crossentropy', optimizer= optimizer, metrics=['accuracy'])\n",
        "print(model.summary())"
      ],
      "execution_count": 0,
      "outputs": [
        {
          "output_type": "stream",
          "text": [
            "WARNING:tensorflow:From /usr/local/lib/python3.6/dist-packages/keras/backend/tensorflow_backend.py:3445: calling dropout (from tensorflow.python.ops.nn_ops) with keep_prob is deprecated and will be removed in a future version.\n",
            "Instructions for updating:\n",
            "Please use `rate` instead of `keep_prob`. Rate should be set to `rate = 1 - keep_prob`.\n",
            "_________________________________________________________________\n",
            "Layer (type)                 Output Shape              Param #   \n",
            "=================================================================\n",
            "embedding_1 (Embedding)      (None, 30, 200)           10447800  \n",
            "_________________________________________________________________\n",
            "bidirectional_1 (Bidirection (None, 30, 80)            77120     \n",
            "_________________________________________________________________\n",
            "dropout_1 (Dropout)          (None, 30, 80)            0         \n",
            "_________________________________________________________________\n",
            "bidirectional_2 (Bidirection (None, 80)                38720     \n",
            "_________________________________________________________________\n",
            "dropout_2 (Dropout)          (None, 80)                0         \n",
            "_________________________________________________________________\n",
            "dense_1 (Dense)              (None, 32)                2592      \n",
            "=================================================================\n",
            "Total params: 10,566,232\n",
            "Trainable params: 10,566,232\n",
            "Non-trainable params: 0\n",
            "_________________________________________________________________\n",
            "None\n"
          ],
          "name": "stdout"
        }
      ]
    },
    {
      "metadata": {
        "id": "fI6lwDyBpGsu",
        "colab_type": "code",
        "colab": {}
      },
      "cell_type": "code",
      "source": [
        "# Model visualization\n",
        "from keras.utils import plot_model\n",
        "plot_model(model, to_file='model.png')"
      ],
      "execution_count": 0,
      "outputs": []
    },
    {
      "metadata": {
        "id": "S_xYFvkjpES6",
        "colab_type": "code",
        "outputId": "b03f8d2f-f54d-4c96-e1ec-03d8e48a35c7",
        "colab": {
          "base_uri": "https://localhost:8080/",
          "height": 478
        }
      },
      "cell_type": "code",
      "source": [
        "# Training the mdoel\n",
        "model.fit(padded_sents, train_labels, validation_split=0.3, epochs=20, batch_size=32, \n",
        "          verbose=1, callbacks=[reduce_rate,early_stop])"
      ],
      "execution_count": 0,
      "outputs": [
        {
          "output_type": "stream",
          "text": [
            "WARNING:tensorflow:From /usr/local/lib/python3.6/dist-packages/tensorflow/python/ops/math_ops.py:3066: to_int32 (from tensorflow.python.ops.math_ops) is deprecated and will be removed in a future version.\n",
            "Instructions for updating:\n",
            "Use tf.cast instead.\n",
            "Train on 96123 samples, validate on 41196 samples\n",
            "Epoch 1/20\n",
            "96123/96123 [==============================] - 621s 6ms/step - loss: 3.2347 - acc: 0.1343 - val_loss: 3.0669 - val_acc: 0.1444\n",
            "Epoch 2/20\n",
            "96123/96123 [==============================] - 617s 6ms/step - loss: 2.5827 - acc: 0.2375 - val_loss: 2.9153 - val_acc: 0.1770\n",
            "Epoch 3/20\n",
            "96123/96123 [==============================] - 620s 6ms/step - loss: 2.3175 - acc: 0.3182 - val_loss: 2.8461 - val_acc: 0.2313\n",
            "Epoch 4/20\n",
            "96123/96123 [==============================] - 626s 7ms/step - loss: 2.0738 - acc: 0.4089 - val_loss: 2.8420 - val_acc: 0.2528\n",
            "Epoch 5/20\n",
            "96123/96123 [==============================] - 636s 7ms/step - loss: 1.8633 - acc: 0.4817 - val_loss: 2.7845 - val_acc: 0.2990\n",
            "Epoch 6/20\n",
            "96123/96123 [==============================] - 1112s 12ms/step - loss: 1.7029 - acc: 0.5437 - val_loss: 2.7173 - val_acc: 0.3316\n",
            "Epoch 7/20\n",
            "96123/96123 [==============================] - 1122s 12ms/step - loss: 1.5632 - acc: 0.5935 - val_loss: 2.7380 - val_acc: 0.3486\n",
            "\n",
            "Epoch 00007: ReduceLROnPlateau reducing learning rate to 0.00010000000474974513.\n",
            "Epoch 8/20\n",
            "96123/96123 [==============================] - 1131s 12ms/step - loss: 1.2774 - acc: 0.6828 - val_loss: 2.7274 - val_acc: 0.3626\n",
            "\n",
            "Epoch 00008: ReduceLROnPlateau reducing learning rate to 1.0000000474974514e-05.\n",
            "Epoch 00008: early stopping\n"
          ],
          "name": "stdout"
        },
        {
          "output_type": "execute_result",
          "data": {
            "text/plain": [
              "<keras.callbacks.History at 0x7f4690f6dd68>"
            ]
          },
          "metadata": {
            "tags": []
          },
          "execution_count": 22
        }
      ]
    },
    {
      "metadata": {
        "id": "7iDNmLaa1hMd",
        "colab_type": "code",
        "colab": {}
      },
      "cell_type": "code",
      "source": [
        "# Saving the model\n",
        "model.save('/content/gdrive/My Drive/Thesis Models/DE_32_CLASS_LSTM.h5')"
      ],
      "execution_count": 0,
      "outputs": []
    },
    {
      "metadata": {
        "id": "f3vkqxvtqtKp",
        "colab_type": "text"
      },
      "cell_type": "markdown",
      "source": [
        "## Evaluation on Document level\n",
        "\n",
        "SVMs are trained on document level and to make a fair evaluation the LSTMs needs to be evaluated on document level as well, but LSTM are trained on sentence level as due to hardware limitations one can not feed the whole document hence the technique used here is a little unique. \n",
        "\n",
        "So to make a fair comparision, the evaluation has to be done manually, first the document has to be divided into sentences with same technique used during training, then when all the sentence from a single document is curated then they are encoded into numeric form and padded to make all of them of equal length.\n",
        "\n",
        "Then each sentence is predicted and the predictions are normalized and combined to make it a single prediction for the whole document.\n",
        "\n"
      ]
    },
    {
      "metadata": {
        "id": "S5Lq1Y2hl_DG",
        "colab_type": "code",
        "colab": {
          "base_uri": "https://localhost:8080/",
          "height": 214
        },
        "outputId": "e47b0e33-62e2-4384-fd48-f345af29146b"
      },
      "cell_type": "code",
      "source": [
        "# Loading the model for evaluation\n",
        "from keras.models import load_model\n",
        "model = load_model('/content/gdrive/My Drive/Thesis Models/DE_32_CLASS_LSTM.h5')"
      ],
      "execution_count": 2,
      "outputs": [
        {
          "output_type": "stream",
          "text": [
            "Using TensorFlow backend.\n"
          ],
          "name": "stderr"
        },
        {
          "output_type": "stream",
          "text": [
            "WARNING:tensorflow:From /usr/local/lib/python3.6/dist-packages/tensorflow/python/framework/op_def_library.py:263: colocate_with (from tensorflow.python.framework.ops) is deprecated and will be removed in a future version.\n",
            "Instructions for updating:\n",
            "Colocations handled automatically by placer.\n",
            "WARNING:tensorflow:From /usr/local/lib/python3.6/dist-packages/keras/backend/tensorflow_backend.py:3445: calling dropout (from tensorflow.python.ops.nn_ops) with keep_prob is deprecated and will be removed in a future version.\n",
            "Instructions for updating:\n",
            "Please use `rate` instead of `keep_prob`. Rate should be set to `rate = 1 - keep_prob`.\n",
            "WARNING:tensorflow:From /usr/local/lib/python3.6/dist-packages/tensorflow/python/ops/math_ops.py:3066: to_int32 (from tensorflow.python.ops.math_ops) is deprecated and will be removed in a future version.\n",
            "Instructions for updating:\n",
            "Use tf.cast instead.\n"
          ],
          "name": "stdout"
        }
      ]
    },
    {
      "metadata": {
        "id": "UqYuNrVoHNuo",
        "colab_type": "code",
        "colab": {}
      },
      "cell_type": "code",
      "source": [
        "from sklearn.preprocessing import MinMaxScaler, Normalizer, StandardScaler\n",
        "\n",
        "original_label = []   # list to store the original label \n",
        "predicted_label = []   # list to store the predicted label\n",
        "\n",
        "for first_data, first_label in zip(test_de_data,test_label):\n",
        "    ## TMP LIST for each doc\n",
        "    sent_pred = []\n",
        "    \n",
        "    # start chunking the text into 30 words with 10 word slide\n",
        "    slides = slidingWindow(first_data.split(' '),30,10)\n",
        "        \n",
        "    for key,value in label_num.items():\n",
        "        if value == first_label:\n",
        "            num = key\n",
        "    \n",
        "    doc_sent = []\n",
        "    for slide in slides:\n",
        "        \n",
        "        a = ' '.join(slide)\n",
        "        \n",
        "        doc_sent.append(a)\n",
        "    \n",
        "        \n",
        "    # we have the slide here, create the sequence from text to numbers\n",
        "    text_sequence = tokenizer.texts_to_sequences(doc_sent)\n",
        "\n",
        "    # pad it to make flat 30 lenght\n",
        "    text_padded = keras.preprocessing.sequence.pad_sequences(text_sequence, maxlen=30, padding='post')\n",
        "\n",
        "\n",
        "    # predict the label\n",
        "    sent_pred.append(model.predict(text_padded))        \n",
        "    \n",
        "    # normailizing the predictions before combining them.\n",
        "    nor_data = []\n",
        "    for predc in sent_pred:\n",
        "        transformer2 = Normalizer().fit(predc)\n",
        "        nor_data.append(transformer2.transform(predc))    \n",
        "        \n",
        "    # adding all the predictions of sentences of a single document into one.\n",
        "    sent = np.zeros(32)\n",
        "    for sen in nor_data:\n",
        "        for i in range(len(sen)):\n",
        "            sent += sen[i]\n",
        "    \n",
        "    # populating lists of the predicted labels and original labels for further evaluation\n",
        "    predicted_label.append(np.argmax(sent, axis=0))\n",
        "    original_label.append(num)\n",
        "    \n",
        "    "
      ],
      "execution_count": 0,
      "outputs": []
    },
    {
      "metadata": {
        "id": "xoWIONwMVYYI",
        "colab_type": "code",
        "colab": {}
      },
      "cell_type": "code",
      "source": [
        "test_label[1:10]"
      ],
      "execution_count": 0,
      "outputs": []
    },
    {
      "metadata": {
        "id": "EQXiyNdcfvPZ",
        "colab_type": "code",
        "outputId": "8572e4ae-923b-4e58-dcc3-c135d588c369",
        "colab": {
          "base_uri": "https://localhost:8080/",
          "height": 34
        }
      },
      "cell_type": "code",
      "source": [
        "# Accuracy on document level\n",
        "from sklearn.metrics import accuracy_score, classification_report, confusion_matrix\n",
        "print(\"Accuracy of the model on document level is: {:.2f} %\".format(accuracy_score(original_label, predicted_label)*100))"
      ],
      "execution_count": 0,
      "outputs": [
        {
          "output_type": "stream",
          "text": [
            "Accuracy of the model on document level is: 65.40 %\n"
          ],
          "name": "stdout"
        }
      ]
    },
    {
      "metadata": {
        "id": "RxpNYfiSrpac",
        "colab_type": "code",
        "outputId": "7484baef-9cd9-4c74-f3d4-b1ca3313344a",
        "colab": {
          "base_uri": "https://localhost:8080/",
          "height": 1154
        }
      },
      "cell_type": "code",
      "source": [
        "# Classification report and confusion Matrix\n",
        "np.set_printoptions(threshold=np.nan)\n",
        "print(confusion_matrix(original_label, predicted_label))"
      ],
      "execution_count": 0,
      "outputs": [
        {
          "output_type": "stream",
          "text": [
            "[[20  0  0  0  1  0  0  0  0  0  0  0  0  0  3  0  0  0  0  0  0  0  0  0\n",
            "   0  0  0  0  1  0  0  0]\n",
            " [ 0  0  0  0  0  1  1  0  0  0  0  0  0  1  0  0  0  0  0  0  0  0  2  0\n",
            "   0  0  0  0  0  0  0  0]\n",
            " [ 0  0  0  0  0  0  0  1  0  0  0  0  0  0  0  0  1  0  0  0  0  0  0  2\n",
            "   0  1  0  0  2  3  0  0]\n",
            " [ 0  0  0  5  0  0  0  0  0  0  0  0  0  4  0  0  0  0  0  0  0  0  0  0\n",
            "   1  0  0  0  0  0  0  5]\n",
            " [ 0  0  0  0 23  0  0  0  0  0  0  0  0  0  0  0  0  0  2  0  0  0  0  1\n",
            "   7  2  0  0  0  1  0  1]\n",
            " [ 0  0  0  0  0  2  0  0  0  1  0  0  1  1  0  1  0  0  0  0  0  0  0  0\n",
            "   0  1  0  0  0  0  0  0]\n",
            " [ 1  0  0  0  1  0  7  0  0  0  1  0  0  1  1  0  1  0  0  0  0  0  0  0\n",
            "   0  2  0  0  0  0  0  0]\n",
            " [ 0  0  0  0  0  0  0 17  0  0  0  0  0  0  0  1  0  0  0  0  0  0  0  0\n",
            "   0  0  0  0  0  0  0  0]\n",
            " [ 0  0  0  0  0  0  0  0 41  0  0  0  0  1  0  0  0  0  0  0  0  0  0  0\n",
            "   0  0  0  0  0  0  0  1]\n",
            " [ 0  0  0  0  0  0  0  0  0 22  1  0  0  0  0  0  0  0  0  0  0  0  0  0\n",
            "   0  3  0  0  0  0  0  0]\n",
            " [ 0  0  0  0  0  0  0  0  0  1 41  0  0  0  0  0  0  0  0  0  0  0  1  0\n",
            "   1  1  0  0  2  0  0  0]\n",
            " [ 0  0  0  0  0  0  0  0  0  0  1 17  0  1  5  0  0  0  0  0  0  0  0  0\n",
            "   1  0  0  0  0  0  0  3]\n",
            " [ 0  0  0  0  0  0  0  0  1  0  0  2  9  1  0  0  0  0  0  0  0  0  0  1\n",
            "   0  1  1  0  0  0  0  0]\n",
            " [ 1  0  0  0  0  0  0  0  0  0  0  0  1  3  2  0  0  0  0  1  0  0  1  2\n",
            "   1  0  0  0  0  0  0  1]\n",
            " [ 0  0  0  0  0  0  0  0  0  0  0  0  0  2 35  0  0  0  0  0  0  0  0  1\n",
            "   2  0  0  0  1  0  0  3]\n",
            " [ 0  0  0  0  0  0  0  4  0  0  0  0  0  0  0  8  2  0  0  3  0  0  0  0\n",
            "   0  4  0  0  0  1  0  0]\n",
            " [ 0  0  0  0  0  0  0  0  0  0  0  0  1  0  3  0  9  0  0  0  0  0  0  1\n",
            "   0  0  0  0  0  0  0  0]\n",
            " [ 1  0  0  0  0  0  0  0  0  0  0  0  0  0  0  0  0  0  0  0  0  0  1  0\n",
            "   0  6  0  0  0  0  0  0]\n",
            " [ 0  0  0  0  4  0  0  0  0  0  0  0  0  0  3  0  0  0 29  0  0  0  0  0\n",
            "   1  0  1  0  0  0  0  0]\n",
            " [ 0  0  0  0  0  0  0  0  0  0  0  0  0  0  0  3  0  0  0  6  0  0  0  1\n",
            "   0  0  0  0  0  2  0  0]\n",
            " [ 0  0  0  0  0  0  0  0  0  0  2  0  0  0  0  1  0  0  0  0  4  0  0  1\n",
            "   0  4  0  0  0  0  0  0]\n",
            " [ 0  0  0  0  0  0  0  2  0  1  0  0  0  0  0  0  0  0  0  1  0  3  0  0\n",
            "   0  0  0  0  0  0  0  0]\n",
            " [ 0  0  0  0  1  0  0  0  0  0  0  0  1  0  0  0  0  0  0  0  0  0 30  0\n",
            "   2  6  0  0  0  0  0  0]\n",
            " [ 0  0  0  0  0  0  0  0  0  1  3  0  0  1  1  0  0  0  0  0  0  0  0 20\n",
            "   0  3  0  0  0  0  0  1]\n",
            " [ 0  0  0  0  6  0  0  0  2  0  4  0  0  1  0  0  0  0  0  0  0  0  7  2\n",
            "  49  1  0  0  0  0  0  2]\n",
            " [ 0  0  0  0  0  0  0  0  0  0  2  0  1  0  0  0  0  0  0  0  0  0  4  1\n",
            "   1 54  0  0  0  1  0  0]\n",
            " [ 0  0  0  0  0  0  0  0  0  0  0  0  0  0  3  0  0  0  0  0  0  0  0  0\n",
            "   0  0 21  0  1  0  0  2]\n",
            " [ 2  0  0  0  3  0  1  0  0  6  3  0  0  0  0  0  0  0  0  0  0  0  1  2\n",
            "   0  3  0  0  0  0  0  1]\n",
            " [ 2  0  0  0  0  0  0  0  0  0  0  1  0  0  2  0  0  0  0  0  0  0  1  0\n",
            "   0  0  0  0 14  0  0  1]\n",
            " [ 0  0  0  0  0  0  0  0  0  0  0  1  0  2  0  0  1  0  0  0  0  0  1  1\n",
            "   0  2  0  0  1  5  0  0]\n",
            " [ 0  0  0  0  0  0  2  0  0  0  1  0  1  0  0  0  0  0  0  0  0  0  0  0\n",
            "   1  2  0  0  0  0  6  1]\n",
            " [ 0  0  0  0  0  0  0  1  0  0  0  0  1  3  1  0  0  0  0  0  0  0  4  0\n",
            "   3  1  0  0  0  0  0 33]]\n"
          ],
          "name": "stdout"
        }
      ]
    },
    {
      "metadata": {
        "id": "38kGsHlrr6tk",
        "colab_type": "code",
        "outputId": "8b41acd3-dc1e-4be2-9094-ed2ae8c39350",
        "colab": {
          "base_uri": "https://localhost:8080/",
          "height": 745
        }
      },
      "cell_type": "code",
      "source": [
        "print(classification_report(original_label, predicted_label))"
      ],
      "execution_count": 0,
      "outputs": [
        {
          "output_type": "stream",
          "text": [
            "              precision    recall  f1-score   support\n",
            "\n",
            "           0       0.74      0.80      0.77        25\n",
            "           1       0.00      0.00      0.00         5\n",
            "           2       0.00      0.00      0.00        10\n",
            "           3       1.00      0.33      0.50        15\n",
            "           4       0.59      0.62      0.61        37\n",
            "           5       0.67      0.29      0.40         7\n",
            "           6       0.64      0.47      0.54        15\n",
            "           7       0.68      0.94      0.79        18\n",
            "           8       0.93      0.95      0.94        43\n",
            "           9       0.69      0.85      0.76        26\n",
            "          10       0.69      0.87      0.77        47\n",
            "          11       0.81      0.61      0.69        28\n",
            "          12       0.56      0.56      0.56        16\n",
            "          13       0.14      0.23      0.17        13\n",
            "          14       0.59      0.80      0.68        44\n",
            "          15       0.57      0.36      0.44        22\n",
            "          16       0.64      0.64      0.64        14\n",
            "          17       0.00      0.00      0.00         8\n",
            "          18       0.94      0.76      0.84        38\n",
            "          19       0.55      0.50      0.52        12\n",
            "          20       1.00      0.33      0.50        12\n",
            "          21       1.00      0.43      0.60         7\n",
            "          22       0.57      0.75      0.65        40\n",
            "          23       0.56      0.67      0.61        30\n",
            "          24       0.70      0.66      0.68        74\n",
            "          25       0.56      0.84      0.67        64\n",
            "          26       0.91      0.78      0.84        27\n",
            "          27       0.00      0.00      0.00        22\n",
            "          28       0.64      0.67      0.65        21\n",
            "          29       0.38      0.36      0.37        14\n",
            "          30       1.00      0.43      0.60        14\n",
            "          31       0.60      0.70      0.65        47\n",
            "\n",
            "   micro avg       0.65      0.65      0.65       815\n",
            "   macro avg       0.60      0.54      0.55       815\n",
            "weighted avg       0.65      0.65      0.63       815\n",
            "\n"
          ],
          "name": "stdout"
        },
        {
          "output_type": "stream",
          "text": [
            "/usr/local/lib/python3.6/dist-packages/sklearn/metrics/classification.py:1143: UndefinedMetricWarning: Precision and F-score are ill-defined and being set to 0.0 in labels with no predicted samples.\n",
            "  'precision', 'predicted', average, warn_for)\n"
          ],
          "name": "stderr"
        }
      ]
    },
    {
      "metadata": {
        "id": "FsA-X2Bqo6Lh",
        "colab_type": "text"
      },
      "cell_type": "markdown",
      "source": [
        "## Evaluation on Sentence level\n"
      ]
    },
    {
      "metadata": {
        "id": "dAAY4c28n23m",
        "colab_type": "code",
        "colab": {}
      },
      "cell_type": "code",
      "source": [
        "# converting docs into sentences and corresponding numerical labels\n",
        "_test_sentences = []\n",
        "_test_label_alpha = []\n",
        "_test_label_num = []\n",
        "\n",
        "for _t_data, t_label in zip(test_de_data, test_label):\n",
        "    # start chunking the text into 30 words with 10 word slide\n",
        "    slides = slidingWindow(_t_data.split(' '),30,10)\n",
        "        \n",
        "    for key,value in label_num.items():\n",
        "        if value == t_label:\n",
        "            num = key\n",
        "    \n",
        "    \n",
        "    for slide in slides:\n",
        "        _test_sentences.append(' '.join(slide))\n",
        "        _test_label_alpha.append(t_label)\n",
        "        _test_label_num.append(num)"
      ],
      "execution_count": 0,
      "outputs": []
    },
    {
      "metadata": {
        "id": "Gnl6eZ4ApV7j",
        "colab_type": "code",
        "outputId": "38f65c9e-5ec6-44a7-9eb7-1dc70df211bd",
        "colab": {
          "base_uri": "https://localhost:8080/",
          "height": 34
        }
      },
      "cell_type": "code",
      "source": [
        "len(_test_sentences), len(_test_label_alpha), len(_test_label_num)"
      ],
      "execution_count": 14,
      "outputs": [
        {
          "output_type": "execute_result",
          "data": {
            "text/plain": [
              "(59448, 59448, 59448)"
            ]
          },
          "metadata": {
            "tags": []
          },
          "execution_count": 14
        }
      ]
    },
    {
      "metadata": {
        "id": "0e5eYf8kqdQj",
        "colab_type": "code",
        "outputId": "4ab7513f-493b-4aac-d076-3d1c28a96849",
        "colab": {
          "base_uri": "https://localhost:8080/",
          "height": 34
        }
      },
      "cell_type": "code",
      "source": [
        "# Coverting labels to one hot encoded format\n",
        "test_label = oht_obj.transform(np.reshape(_test_label_num,(-1,1)))\n",
        "print(len(_test_label_num))"
      ],
      "execution_count": 15,
      "outputs": [
        {
          "output_type": "stream",
          "text": [
            "59448\n"
          ],
          "name": "stdout"
        }
      ]
    },
    {
      "metadata": {
        "id": "ddPi9c1OVHyB",
        "colab_type": "code",
        "outputId": "b425daf8-a2be-4ea1-9994-08724644d487",
        "colab": {
          "base_uri": "https://localhost:8080/",
          "height": 585
        }
      },
      "cell_type": "code",
      "source": [
        "set(_test_label_num)"
      ],
      "execution_count": 16,
      "outputs": [
        {
          "output_type": "execute_result",
          "data": {
            "text/plain": [
              "{0,\n",
              " 1,\n",
              " 2,\n",
              " 3,\n",
              " 4,\n",
              " 5,\n",
              " 6,\n",
              " 7,\n",
              " 8,\n",
              " 9,\n",
              " 10,\n",
              " 11,\n",
              " 12,\n",
              " 13,\n",
              " 14,\n",
              " 15,\n",
              " 16,\n",
              " 17,\n",
              " 18,\n",
              " 19,\n",
              " 20,\n",
              " 21,\n",
              " 22,\n",
              " 23,\n",
              " 24,\n",
              " 25,\n",
              " 26,\n",
              " 27,\n",
              " 28,\n",
              " 29,\n",
              " 30,\n",
              " 31}"
            ]
          },
          "metadata": {
            "tags": []
          },
          "execution_count": 16
        }
      ]
    },
    {
      "metadata": {
        "id": "DVFw4c3iq90t",
        "colab_type": "code",
        "colab": {}
      },
      "cell_type": "code",
      "source": [
        "#Test sentences to numeric converstion\n",
        "test_sequences = tokenizer.texts_to_sequences(_test_sentences)\n",
        "padded_sents_test = keras.preprocessing.sequence.pad_sequences(test_sequences, maxlen=max_len, padding='post')"
      ],
      "execution_count": 0,
      "outputs": []
    },
    {
      "metadata": {
        "id": "U8B9g1OmrReh",
        "colab_type": "code",
        "outputId": "142e2122-fa22-48b5-e814-f568474c824c",
        "colab": {
          "base_uri": "https://localhost:8080/",
          "height": 34
        }
      },
      "cell_type": "code",
      "source": [
        "print(len(padded_sents_test))"
      ],
      "execution_count": 18,
      "outputs": [
        {
          "output_type": "stream",
          "text": [
            "59448\n"
          ],
          "name": "stdout"
        }
      ]
    },
    {
      "metadata": {
        "id": "1CqU97fXrdT3",
        "colab_type": "code",
        "outputId": "98c30a87-8378-4a33-d224-e1f0c38e9ae3",
        "colab": {
          "base_uri": "https://localhost:8080/",
          "height": 52
        }
      },
      "cell_type": "code",
      "source": [
        "scores = model.evaluate(padded_sents_test, test_label, verbose=1)\n",
        "print(\"Accuracy on sentence level: %.2f%%\" % (scores[1]*100))"
      ],
      "execution_count": 19,
      "outputs": [
        {
          "output_type": "stream",
          "text": [
            "59448/59448 [==============================] - 41s 697us/step\n",
            "Accuracy on sentence level: 35.61%\n"
          ],
          "name": "stdout"
        }
      ]
    },
    {
      "metadata": {
        "id": "JxEJNQLZrmz6",
        "colab_type": "code",
        "colab": {}
      },
      "cell_type": "code",
      "source": [
        "pred = model.predict(padded_sents_test)\n",
        "y_pred = np.argmax(pred, axis=1)\n",
        "y_true = np.argmax(test_label, axis=1)\n"
      ],
      "execution_count": 0,
      "outputs": []
    },
    {
      "metadata": {
        "id": "-GdQlYdVwgAa",
        "colab_type": "code",
        "colab": {
          "base_uri": "https://localhost:8080/",
          "height": 1723
        },
        "outputId": "4ce47105-709c-4c70-dc03-9988310cd457"
      },
      "cell_type": "code",
      "source": [
        "print(confusion_matrix(y_true, y_pred))"
      ],
      "execution_count": 23,
      "outputs": [
        {
          "output_type": "stream",
          "text": [
            "[[ 963    0    4    5  100    0    5   41   34   10   47   36   48   62\n",
            "   475   16   61    4  126    0    1    0   32   32   50   24  240   52\n",
            "    84   56   16  134]\n",
            " [   1    3    0    1    8   83   57    0    5   14   11    1    4   24\n",
            "    10    6    2    2    9    1   11    0   95   10   22   29    1    8\n",
            "     4    3    1   12]\n",
            " [  23    0   20    1    1    1    6   56   38   20   24   17    9   55\n",
            "    45   19   37    7    1    0    5    3   10   56   11   38    7   13\n",
            "    88   70   16   13]\n",
            " [  18    0    0   88   12    1    3    0   12    2   20   83   12  157\n",
            "   115    2   12    2    1    0    0    0   27   56   76   24   49   23\n",
            "    21   14    6  191]\n",
            " [  80    0    0    2  694    0    4   11   13   15   50   17    2   52\n",
            "    75    1    7    0  104    0    3    0  169   69  298   79   57   28\n",
            "    12   18    1  205]\n",
            " [   0    0    0    0    1   60   12    8    6   34   13    5   30   12\n",
            "    10   27   12    5    3   22   20    6   23   20    2   50    0    7\n",
            "    10    7    1    3]\n",
            " [  42    0    0    0   34   13  306   12   20    5   36   14   22   34\n",
            "    54   18   76    9   30    5    7    3   87   32   44   84   32   22\n",
            "    26   24   79   42]\n",
            " [  31    0    7    0    1    5    9  510   35   24   27   13   27   22\n",
            "    27  105   94    9    5   47   31   26   11    7    2   17   10   21\n",
            "    39   71    5    1]\n",
            " [   8    0    0    4    8    2    4    7 3185   29  306   25   99  145\n",
            "    31    9    8    8    0    1    3    0   30  161   57   19   14   33\n",
            "    57    7    2   32]\n",
            " [   6    0    0    1    0   12    6   11   15 1123  224    4    7   23\n",
            "    11   32    8    8    3    2   46    1   49   50   23  183    2   20\n",
            "     6   11    0    0]\n",
            " [   8    0    3    3   27    3    8   26  187  263 1488   36   67   92\n",
            "    48   42   20   18   10    7   33    0  119  160  107  118   33   82\n",
            "    82   32    1   44]\n",
            " [  15    0    2   38   16    0    5    9   33   10   35  401   36  213\n",
            "   199    5   13    7    6    0    0    0   51   51   91   32   41   29\n",
            "    92   80    1  151]\n",
            " [  28    0    1   17    0    1    7   15  109   16   73  159  357  107\n",
            "    38   24   19   12    7   13   18    0   11   82   10  124   75   25\n",
            "   118   25    4   22]\n",
            " [  21    0    0    5   12    0    0   12   58    8   27   38   57  129\n",
            "    72   17   19    3    6   23    1    3   23   70   54   26   18   21\n",
            "    34   18    3   44]\n",
            " [ 128    0    1   35   42    0    4   57   28   17   49  148   29  138\n",
            "   877   28   63   11   25    0    5    0   79   56   93   73  126   89\n",
            "    87   99    3  180]\n",
            " [  23    1    4    0    1   14   37  206   30   50   51   25   77   31\n",
            "    72  231  139   16    3  139   83   23   44   15   10  178   12   17\n",
            "    87  120    5    9]\n",
            " [  44    0    0    3   12    7   35   35   12    4   26    7   14   46\n",
            "    88   53  240    6    9   11    8    4   21   36   22   34   11   25\n",
            "    17   34   10   19]\n",
            " [  17    0    0    0    9    5   32    2   23   13   13    2    2   12\n",
            "    29   30   26    5    6    2    9    0   56   26   26  123    4    8\n",
            "     3   13   15   16]\n",
            " [ 259    0    0    2  282    0   22    3    2    5   23   11    0   19\n",
            "   152    7   17    1  971    0    1    0   61   17   60   67  115   40\n",
            "     8   17   21   81]\n",
            " [   8    0    1    1    3    0    5   25    3   16   20   22   15   25\n",
            "    19   72   25   23    4  143   22    6   16   42    9   42    3   14\n",
            "    24   43    0    6]\n",
            " [   2    0    0    0    0    5    9    8   11   77   85    3   26   19\n",
            "     6   59   11   16    3   29  187    9   22   51   15  176    0   19\n",
            "     8   17    0    0]\n",
            " [  10    0    0    0    1   10    1   74   11   13   19    2   16   15\n",
            "    12   65   20   19    0  130   19  128    7   17    1   26    3    6\n",
            "     6   15    0    2]\n",
            " [  19    2    0    1   80   13   30    7   32   71  127   35   48   84\n",
            "    64   20   35   11   17    0   24    0 1327   89  323  393    7   41\n",
            "    39   71    2   81]\n",
            " [  19    0    4    4    5    2    9   16   69   90  187   37   10  102\n",
            "    44   34   12   12    4    6   12    1   52  779   92  520    4   28\n",
            "    46   36    2   68]\n",
            " [  39    1    1    4  359    4   23   15  170   59  285   41   14  209\n",
            "   140   39   38   11   40    0   10    0  574  290 1576  217   25   66\n",
            "    49   69   20  344]\n",
            " [  21    1    5    1   43   10   43   29   18  171  170   19   59  121\n",
            "    96   82   56   37   17   32  100    6  428  226  166 2465    4  100\n",
            "    47   91    3   43]\n",
            " [  80    0    8   20   19    0    9   11   20   11   25   55   26   85\n",
            "   219   13   15    4   20    2    1    0   33   39   46   39  933   33\n",
            "    81   46    2  137]\n",
            " [  51    0    0    3  100    4   26   19   18  139  269   16    9   52\n",
            "    65   29   31    6   39    3   29    2  146   48   63  147   13   99\n",
            "    19   37   15   49]\n",
            " [ 186    0    8    5   20    4    4   71  136   96  160  185  138  200\n",
            "   300   58   33   27   11    6   15    0   81   83   43   45   83   54\n",
            "   476  151    6   84]\n",
            " [   4    0    7    0    3    2    6   21   22   21   29   57   16   70\n",
            "    43   22   45    7    0    0    3    0   51   55   32   66   14   25\n",
            "    47  204    2   12]\n",
            " [  33    0    0    0    9    1   67    3   18   12   54    1   12    7\n",
            "    36   10   49    3   58    1    6    0   37   20   26   48    0   19\n",
            "     6    9  150   28]\n",
            " [  35    0    3   32  163    0    4   42   72   29   70   94   42  249\n",
            "   208   15   23    6   11    1    1    0  198   80  352  111  151   71\n",
            "    78   59    5 1053]]\n"
          ],
          "name": "stdout"
        }
      ]
    },
    {
      "metadata": {
        "id": "CgTt24tFsllq",
        "colab_type": "code",
        "outputId": "058696e0-4f8a-4a24-a8d5-7c9b39b98e3f",
        "colab": {
          "base_uri": "https://localhost:8080/",
          "height": 710
        }
      },
      "cell_type": "code",
      "source": [
        "print(classification_report(y_true, y_pred))"
      ],
      "execution_count": 25,
      "outputs": [
        {
          "output_type": "stream",
          "text": [
            "              precision    recall  f1-score   support\n",
            "\n",
            "           0       0.43      0.35      0.39      2758\n",
            "           1       0.38      0.01      0.01       438\n",
            "           2       0.25      0.03      0.05       710\n",
            "           3       0.32      0.09      0.14      1027\n",
            "           4       0.34      0.34      0.34      2066\n",
            "           5       0.23      0.15      0.18       409\n",
            "           6       0.38      0.25      0.30      1212\n",
            "           7       0.37      0.41      0.39      1239\n",
            "           8       0.72      0.74      0.73      4294\n",
            "           9       0.46      0.60      0.52      1887\n",
            "          10       0.37      0.47      0.41      3167\n",
            "          11       0.25      0.24      0.25      1662\n",
            "          12       0.27      0.24      0.25      1517\n",
            "          13       0.05      0.16      0.08       822\n",
            "          14       0.24      0.34      0.28      2570\n",
            "          15       0.19      0.13      0.16      1753\n",
            "          16       0.19      0.27      0.22       893\n",
            "          17       0.02      0.01      0.01       527\n",
            "          18       0.63      0.43      0.51      2264\n",
            "          19       0.23      0.22      0.22       657\n",
            "          20       0.26      0.21      0.24       873\n",
            "          21       0.58      0.20      0.29       648\n",
            "          22       0.33      0.43      0.38      3093\n",
            "          23       0.28      0.34      0.30      2306\n",
            "          24       0.41      0.33      0.37      4732\n",
            "          25       0.44      0.52      0.48      4710\n",
            "          26       0.45      0.46      0.45      2032\n",
            "          27       0.09      0.06      0.07      1546\n",
            "          28       0.26      0.17      0.21      2769\n",
            "          29       0.13      0.23      0.17       886\n",
            "          30       0.38      0.21      0.27       723\n",
            "          31       0.34      0.32      0.33      3258\n",
            "\n",
            "   micro avg       0.36      0.36      0.36     59448\n",
            "   macro avg       0.32      0.28      0.28     59448\n",
            "weighted avg       0.37      0.36      0.35     59448\n",
            "\n"
          ],
          "name": "stdout"
        }
      ]
    },
    {
      "metadata": {
        "id": "mfE7y7tfstYZ",
        "colab_type": "code",
        "colab": {}
      },
      "cell_type": "code",
      "source": [
        ""
      ],
      "execution_count": 0,
      "outputs": []
    }
  ]
}