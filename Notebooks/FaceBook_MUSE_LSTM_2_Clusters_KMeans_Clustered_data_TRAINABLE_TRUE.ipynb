{
  "nbformat": 4,
  "nbformat_minor": 0,
  "metadata": {
    "colab": {
      "name": "FaceBook MUSE LSTM 2 Clusters KMeans Clustered data TRAINABLE-TRUE.ipynb",
      "version": "0.3.2",
      "provenance": [],
      "collapsed_sections": [],
      "toc_visible": true
    },
    "kernelspec": {
      "name": "python3",
      "display_name": "Python 3"
    },
    "accelerator": "TPU"
  },
  "cells": [
    {
      "metadata": {
        "id": "xPmUx16HunB7",
        "colab_type": "text"
      },
      "cell_type": "markdown",
      "source": [
        "# LSTM 2 Cluster KMeans Clustered Data(EN-DE) with Facebooks MUSE word embedding\n",
        "\n",
        "The idea here is to divide the data into two clusters based on the results from K-Means clustering. Trainable true\n",
        "\n"
      ]
    },
    {
      "metadata": {
        "id": "WYNVUD3ZpFZj",
        "colab_type": "code",
        "outputId": "3b9e42d9-cada-4224-93cc-b5866815bde5",
        "colab": {
          "base_uri": "https://localhost:8080/",
          "height": 34
        }
      },
      "cell_type": "code",
      "source": [
        "# Imports\n",
        "import os\n",
        "import keras\n",
        "import sys\n",
        "from keras.models import Sequential\n",
        "from keras.layers import Dense\n",
        "from keras.layers import LSTM, Bidirectional\n",
        "from keras.layers import Embedding as emb\n",
        "import tensorflow as tf\n",
        "import numpy as np\n",
        "from sklearn.model_selection import train_test_split\n",
        "from sklearn.preprocessing import OneHotEncoder\n",
        "from keras.preprocessing.text import Tokenizer\n",
        "from keras.preprocessing.sequence import pad_sequences\n",
        "from keras.models import load_model\n",
        "from sklearn.metrics import classification_report, confusion_matrix\n",
        "import seaborn \n",
        "\n",
        "# Setting seed to get reproducable results\n",
        "from numpy.random import seed\n",
        "from tensorflow import set_random_seed\n",
        "SEED = 13\n",
        "seed(SEED)\n",
        "set_random_seed(SEED)"
      ],
      "execution_count": 0,
      "outputs": [
        {
          "output_type": "stream",
          "text": [
            "Using TensorFlow backend.\n"
          ],
          "name": "stderr"
        }
      ]
    },
    {
      "metadata": {
        "id": "eLNThdyLHGHo",
        "colab_type": "code",
        "outputId": "3b388442-0923-4d67-9040-bc094eee4af8",
        "colab": {
          "base_uri": "https://localhost:8080/",
          "height": 34
        }
      },
      "cell_type": "code",
      "source": [
        "from google.colab import drive\n",
        "drive.mount('/content/gdrive')"
      ],
      "execution_count": 0,
      "outputs": [
        {
          "output_type": "stream",
          "text": [
            "Drive already mounted at /content/gdrive; to attempt to forcibly remount, call drive.mount(\"/content/gdrive\", force_remount=True).\n"
          ],
          "name": "stdout"
        }
      ]
    },
    {
      "metadata": {
        "id": "TEeI0omc0F10",
        "colab_type": "code",
        "colab": {}
      },
      "cell_type": "code",
      "source": [
        "# Getting English and German word embeddings\n",
        "with open('/content/gdrive/My Drive/Thesis/fbMUSE/wiki.multi.en.vec') as e:\n",
        "    en_vec = e.readlines()\n",
        "with open('/content/gdrive/My Drive/Thesis/fbMUSE/wiki.multi.de.vec') as d:\n",
        "    de_vec = d.readlines()"
      ],
      "execution_count": 0,
      "outputs": []
    },
    {
      "metadata": {
        "id": "YBd_CLDaH6NR",
        "colab_type": "code",
        "colab": {}
      },
      "cell_type": "code",
      "source": [
        "en_de= en_vec+de_vec"
      ],
      "execution_count": 0,
      "outputs": []
    },
    {
      "metadata": {
        "id": "7-Y-5EKbnpAJ",
        "colab_type": "text"
      },
      "cell_type": "markdown",
      "source": [
        "## Preparing Data\n",
        "The word embedding created using facebooks MUSE are not preprocessed in anyway except fot lower case the words. So in order to use these word embedding we need the data into the same format. "
      ]
    },
    {
      "metadata": {
        "id": "DaS4Gsp1Eb0B",
        "colab_type": "code",
        "outputId": "ea1a5675-0b81-428f-f011-69b288173c57",
        "colab": {
          "base_uri": "https://localhost:8080/",
          "height": 51
        }
      },
      "cell_type": "code",
      "source": [
        "!unzip /content/gdrive/My\\ Drive/Thesis/data/Scrapped_raw.zip "
      ],
      "execution_count": 0,
      "outputs": [
        {
          "output_type": "stream",
          "text": [
            "Archive:  /content/gdrive/My Drive/Thesis/data/Scrapped_raw.zip\n",
            "replace scrapped_data/agriculture/agriculture  enlargement/Cyprus.txt? [y]es, [n]o, [A]ll, [N]one, [r]ename: "
          ],
          "name": "stdout"
        }
      ]
    },
    {
      "metadata": {
        "id": "RLnKeFeGqMvS",
        "colab_type": "code",
        "colab": {}
      },
      "cell_type": "code",
      "source": [
        "!python removeMajority_drive.py"
      ],
      "execution_count": 0,
      "outputs": []
    },
    {
      "metadata": {
        "id": "OLyX7ZHoGtFE",
        "colab_type": "text"
      },
      "cell_type": "markdown",
      "source": [
        "The above command will create dataset for the training of facebooks word embeddings as the embeddings were trained on unprocessed data, I had to prepare that too. All though all the words need to be lower cased."
      ]
    },
    {
      "metadata": {
        "id": "J5B7SaFVq1nx",
        "colab_type": "code",
        "colab": {}
      },
      "cell_type": "code",
      "source": [
        "# unpickle data\n",
        "import pickle\n",
        "def unpickle(obj):\n",
        "    with open(obj, 'rb') as picklehandle:\n",
        "        toReturn = pickle.load(picklehandle)\n",
        "    return toReturn"
      ],
      "execution_count": 0,
      "outputs": []
    },
    {
      "metadata": {
        "id": "LbHesQk90IL5",
        "colab_type": "code",
        "colab": {}
      },
      "cell_type": "code",
      "source": [
        "en_de_combined = unpickle('/content/combined_data.pkl')\n",
        "label = unpickle('/content/en-de-label.pkl')\n",
        "# en_data = unpickle('/content/EN-DATA.pkl')\n",
        "# en_label = unpickle('/content/EN-LABEL.pkl')\n",
        "# de_data = unpickle('/content/DE-DATA.pkl')\n",
        "# de_label = unpickle('/content/DE-LABEL.pkl')"
      ],
      "execution_count": 0,
      "outputs": []
    },
    {
      "metadata": {
        "id": "yH0Y3azSUnbc",
        "colab_type": "code",
        "outputId": "081667c6-d2f5-45b2-a3a2-74d9195e6dca",
        "colab": {
          "base_uri": "https://localhost:8080/",
          "height": 34
        }
      },
      "cell_type": "code",
      "source": [
        "len(en_de_combined), len(label)"
      ],
      "execution_count": 0,
      "outputs": [
        {
          "output_type": "execute_result",
          "data": {
            "text/plain": [
              "(2701, 2701)"
            ]
          },
          "metadata": {
            "tags": []
          },
          "execution_count": 7
        }
      ]
    },
    {
      "metadata": {
        "id": "yIONIpFCocp2",
        "colab_type": "code",
        "colab": {}
      },
      "cell_type": "code",
      "source": [
        "# Initial Test Train Split\n",
        "train_data, test_data, train_la, test_la = train_test_split(en_de_combined, label,test_size=0.3, random_state=13)"
      ],
      "execution_count": 0,
      "outputs": []
    },
    {
      "metadata": {
        "id": "fxZqZW2Uwhru",
        "colab_type": "code",
        "outputId": "21cbac07-4df9-4959-fec5-5fef4fd41fa2",
        "colab": {
          "base_uri": "https://localhost:8080/",
          "height": 34
        }
      },
      "cell_type": "code",
      "source": [
        "len(train_data)+ len(test_data)\n"
      ],
      "execution_count": 0,
      "outputs": [
        {
          "output_type": "execute_result",
          "data": {
            "text/plain": [
              "2701"
            ]
          },
          "metadata": {
            "tags": []
          },
          "execution_count": 9
        }
      ]
    },
    {
      "metadata": {
        "id": "M6fWb3IfG7g7",
        "colab_type": "code",
        "outputId": "dd285ad0-579a-4e96-a6f9-fd5ca08b83c6",
        "colab": {
          "base_uri": "https://localhost:8080/",
          "height": 122
        }
      },
      "cell_type": "code",
      "source": [
        "train_data[1].split('\\n\\n\\n')"
      ],
      "execution_count": 0,
      "outputs": [
        {
          "output_type": "execute_result",
          "data": {
            "text/plain": [
              "[\"Use of passenger records to prevent terrorism and serious crime Use of passenger records to prevent terrorism and serious crime SUMMARY OF: Directive (EU) 2016/681 on the use of passenger name record (PNR) data for the prevention, detection, investigation and prosecution of terrorist offences and serious crime WHAT IS THE AIM OF THE DIRECTIVE? It aims to regulate the transfer of the passenger name record (PNR) data of passengers on international flights from airlines to the European Union (EU) countries. It also regulates the processing of these data by EU countries competent authorities. KEY POINTS What are PNR data? They consist of booking information stored by airlines in their reservation and departure control systems. The information collected includes: travel dates; travel itinerary; ticket information; contact details; means of payment used; baggage information. Scope Each EU country must establish Passenger Information Unit (PIU). PIU is responsible for: collecting, storing and processing the data, as well as transferring the data or the results of the processing to the competent national authorities; exchanging PNR data and the results of processing with other EU countries and Europol. Airlines must provide PIUs in EU countries with the PNR data for flights entering or departing from the EU. It also allows but does not require EU countries to collect PNR data concerning selected intra-EU flights. Processing The data collected may only be processed to prevent, detect, investigate and prosecute terrorist offences and serious crime. Data should only be processed in the following cases: for pre-arrival assessment of passengers against pre-determined risk criteria and relevant law enforcement databases; for use in specific investigations/prosecutions; as input in the development of risk assessment criteria. Transfer and exchange of data EU countries should not be able to access the database of airline companies. PNR data are sent by the airline to the PIU of the EU country concerned. When necessary and relevant, an EU country must supply PNR data on an identified person to the competent authorities of another EU country. PNR data may be transferred to non-EU country under certain specific conditions. Storage Data provided by airline carriers must be stored in database by PIU for years from the time of its transfer to the EU country in which the flight is landing or departing. After months the transferred data must be ‘depersonalised to mask out certain information including; name; address and contact information; all payment information including billing address. Disclosure of the full PNR information after this 6-month period has expired is only permitted if: it is reasonably believed to be necessary in order to respond to requests for PNR data made by competent authorities or Europol on case-by-case basis and; it has been approved by judicial or other national authority competent under national law to verify whether the conditions for disclosure are met. FROM WHEN DOES THE DIRECTIVE APPLY? The directive has applied since 24 May 2016. EU countries have to incorporate it into national law by 25 May 2018. BACKGROUND For more information, see: ‘Passenger Name Record (PNR) on the European Commission's website MAIN DOCUMENT Directive (EU) 2016/681 of the European Parliament and of the Council of 27 April 2016 on the use of passenger name record (PNR) data for the prevention, detection, investigation and prosecution of terrorist offences and serious crime (OJ 119, 4.5.2016, pp. 132-149) last update 13.12.2016\",\n",
              " 'Verwendung von Fluggastdatensätzen zur Verhütung von Terrorismus und schwerer Kriminalität Verwendung von Fluggastdatensätzen zur Verhütung von Terrorismus und schwerer Kriminalität ZUSAMMENFASSUNG DES DOKUMENTS: Richtlinie (EU) 2016/681 über die Verwendung von Fluggastdatensätzen (PNR-Daten) zur Verhütung, Aufdeckung, Ermittlung und Verfolgung von terroristischen Straftaten und schwerer Kriminalität WAS IST DER ZWECK DIESER RICHTLINIE? Ziel der Richtlinie ist, die Übermittlung von Fluggastdatensätzen (PNR-Daten) zu Fluggästen von internationalen Flügen durch Fluggesellschaften an die Länder der Europäischen Union (EU) zu regeln. Zudem wird die Verarbeitung dieser Daten durch die zuständigen Behörden der EU-Länder geregelt. WICHTIGE ECKPUNKTE Was sind PNR-Daten? PNR-Daten bestehen aus den in den Buchungs- und Abfertigungssystemen der Fluggesellschaften gespeicherten Buchungsinformationen. Es werden folgende Daten erhoben: Abflugdaten; Reiseverlauf; Flugscheindaten; Kontaktinformationen; verwendetes Zahlungsmittel; Gepäckangaben. Anwendungsbereich Jedes EU-Land muss eine PNR-Zentralstelle errichten. Die PNR-Zentralstelle ist verantwortlich für: die Erhebung, Speicherung und Verarbeitung der Daten sowie die Übermittlung der Daten oder der Ergebnisse ihrer Verarbeitung an die zuständigen nationalen Behörden; den Austausch von PNR-Daten und den Ergebnissen der Verarbeitung mit anderen EU-Ländern und mit Europol. Die Fluggesellschaften müssen den PNR-Zentralstellen in den EU-Ländern die PNR-Daten zu Flügen, die aus der EU ankommen beziehungsweise aus der EU abgegangen sind, zur Verfügung stellen. Die EU-Länder können zudem PNR-Daten zu ausgewählten EU-Flügen erheben, sind dazu allerdings nicht verpflichtet. Verarbeitung Die Verarbeitung der erhobenen Daten darf nur zur Verhütung, Aufdeckung, Ermittlung und Verfolgung von terroristischen Straftaten und schwerer Kriminalität erfolgen. Die Daten sollten ausschließlich zu folgenden Zwecken verarbeitet werden: Überprüfung von Fluggästen vor ihrer Ankunft anhand im Voraus festgelegter Kriterien und der Datenbanken der Strafverfolgungsbehörden; Verwendung für konkrete Ermittlungs- und Strafverfolgungszwecke; Verwendung als Beitrag bei der Entwicklung von Kriterien zur Risikobewertung. Übermittlung und Austausch von Daten Die EU-Länder sollten keinen Zugriff auf die Datenbanken der Fluggesellschaften haben. Die PNR-Daten werden von der Fluggesellschaft an die PNR-Zentralstelle des betreffenden EU-Landes übermittelt. Falls erforderlich und relevant, muss ein EU-Land die PNR-Daten von ermittelten Personen an die zuständigen Behörden eines anderen EU-Landes übermitteln. PNR-Daten dürfen nur unter bestimmten Bedingungen an ein Nicht-EU-Land übermittelt werden. Speicherung Die von Fluggesellschaften übermittelten Daten müssen von der PNR-Zentralstelle für einen Zeitraum von fünf Jahren ab ihrer Übermittlung an das EU-Land, in dem der Flug angekommen beziehungsweise von dem er abgegangen ist, in einer Datenbank gespeichert werden. Nach sechs Monaten müssen die Daten „depersonalisiert“ werden, um bestimmte Informationen unkenntlich zu machen, darunter: Name; Anschrift und Kontaktdaten; alle Zahlungsinformationen einschließlich Rechnungsanschrift. Nach Ablauf der vorgenannten Frist von sechs Monaten ist die Offenlegung der vollständigen PNR-Daten nur zulässig, wenn berechtigter Grund zu der Annahme besteht, dass dies im Einzelfall für die Beantwortung von Anfragen von PNR-Daten durch die zuständigen Behörden oder Europol erforderlich ist, und dies durch eine Justizbehörde oder eine andere nationale Behörde genehmigt wird, die nach nationalem Recht dafür zuständig ist zu überprüfen, ob die Bedingungen für die Offenlegung erfüllt sind. WANN TRITT DIE RICHTLINIE IN KRAFT? Die Richtlinie ist am 24. Mai 2016 in Kraft getreten. Die EU-Länder müssen sie bis 25. Mai 2018 in nationales Recht umsetzen. HINTERGRUND Weiterführende Informationen: „Fluggastdatensätze (PNR-Daten)“ auf der Website der Europäischen Kommission HAUPTDOKUMENT Richtlinie (EU) 2016/681 des Europäischen Parlaments und des Rates vom 27. April 2016 über die Verwendung von Fluggastdatensätzen (PNR-Daten) zur Verhütung, Aufdeckung, Ermittlung und Verfolgung von terroristischen Straftaten und schwerer Kriminalität (ABl. 119 vom 4.5.2016, S. 132-149) Letzte Aktualisierung: 13.12.2016',\n",
              " 'Use of passenger records to prevent terrorism and serious crime.txt',\n",
              " 'doc_2220',\n",
              " 'justice_freedom_security information_society']"
            ]
          },
          "metadata": {
            "tags": []
          },
          "execution_count": 10
        }
      ]
    },
    {
      "metadata": {
        "id": "oJTyalw5ulTp",
        "colab_type": "code",
        "colab": {}
      },
      "cell_type": "code",
      "source": [
        "# KMeans performed on the documents suggested that these classes should be togather in one cluster.\n",
        "cluster_1_info = ['competition', 'development', 'economic_and_monetary_affairs', 'energy', 'enterprise', 'external_trade',\n",
        "                   'external_relations', 'fight_against_fraud', 'foreign_and_security_policy', 'human_rights', \n",
        "                   'humanitarian_aid', 'maritime_affairs_and_fisheries', 'research_innovation', 'taxation']"
      ],
      "execution_count": 0,
      "outputs": []
    },
    {
      "metadata": {
        "id": "47cpzbQMNeL1",
        "colab_type": "code",
        "colab": {}
      },
      "cell_type": "code",
      "source": [
        "# sliding window for creating sentences\n",
        "def slidingWindow(sequence,winSize,step):\n",
        "    \"\"\"Returns a generator that will iterate through\n",
        "    the defined chunks of input sequence. Input sequence\n",
        "    must be sliceable.\"\"\"\n",
        "\n",
        "    # Pre-compute number of chunks to emit\n",
        "    numOfChunks = ((len(sequence)-winSize)/step)+1\n",
        "    # Do the work\n",
        "    for i in range(0,round(numOfChunks)*step,step):\n",
        "        yield sequence[i:i+winSize]"
      ],
      "execution_count": 0,
      "outputs": []
    },
    {
      "metadata": {
        "id": "Nf-PqYs8oSNy",
        "colab_type": "code",
        "colab": {}
      },
      "cell_type": "code",
      "source": [
        "# TRAIN DATA\n",
        "# dividing data with second sampling technique, the first one was already done where the duplicates from the \n",
        "# major class were removed, and if there were duplicates in the same class they were removed too.\n",
        "# we dont need the multiclass information of doc ids here so I will not bother about it here \n",
        "cluster_1_data = []\n",
        "cluster_1_label = []\n",
        "\n",
        "root_data = []\n",
        "root_label = []\n",
        "\n",
        "cluster_2_data = []\n",
        "cluster_2_label = []\n",
        "\n",
        "# for statistics\n",
        "count_cluster_1 =0\n",
        "count_cluster_2 =0\n",
        "count_root = 0\n",
        "\n",
        "# we will just divide the train data and labels\n",
        "\n",
        "for combined_doc, label in zip(train_data, train_la):\n",
        "    if label == 'content':\n",
        "        pass\n",
        "    elif label in cluster_1_info:\n",
        "        \"\"\"call the split function on the data\"\"\"\n",
        "        count_cluster_1 +=1\n",
        "        count_root +=1\n",
        "        cluster_1_data.append(combined_doc.split('\\n\\n\\n')[0])\n",
        "        cluster_1_data.append(combined_doc.split('\\n\\n\\n')[1])\n",
        "        cluster_1_label.append(label)\n",
        "        cluster_1_label.append(label)\n",
        "        \n",
        "        root_data.append(combined_doc.split('\\n\\n\\n')[0])\n",
        "        root_data.append(combined_doc.split('\\n\\n\\n')[1])\n",
        "        root_label.append(1)    # label for cluster 1 in the root classifier is 1\n",
        "        root_label.append(1)\n",
        "    elif label not in cluster_1_info:\n",
        "        count_cluster_2 +=1\n",
        "        count_root+=1\n",
        "        cluster_2_data.append(combined_doc.split('\\n\\n\\n')[0])\n",
        "        cluster_2_data.append(combined_doc.split('\\n\\n\\n')[1])\n",
        "        cluster_2_label.append(label)\n",
        "        cluster_2_label.append(label)\n",
        "        \n",
        "        root_data.append(combined_doc.split('\\n\\n\\n')[0])\n",
        "        root_data.append(combined_doc.split('\\n\\n\\n')[1])\n",
        "        root_label.append(2)    # label for cluster 2 in root classifier is 2 \n",
        "        root_label.append(2)\n",
        "    else:\n",
        "        print('Something wrong')"
      ],
      "execution_count": 0,
      "outputs": []
    },
    {
      "metadata": {
        "id": "gKD6Y0tOvTun",
        "colab_type": "code",
        "outputId": "e49d904f-1268-45e4-ff0f-69f25cb8a3e2",
        "colab": {
          "base_uri": "https://localhost:8080/",
          "height": 207
        }
      },
      "cell_type": "code",
      "source": [
        "cluster_1_data[0:10]"
      ],
      "execution_count": 0,
      "outputs": [
        {
          "output_type": "execute_result",
          "data": {
            "text/plain": [
              "['Inter-regional programme: Strategy paper 2007-2013 and indicative programme 2007-2010 Inter-regional programme: Strategy paper 2007-2013 and indicative programme 2007-2010 The inter-regional programme (IRP) forms p0art of the European Neighbourhood and Partnership Instrument (ENPI) and aims at strengthening the European Neighbourhood Policy (ENP) as well as dialogue and cooperation at regional level. It is addressed to countries covered by the ENP and Russia and concerns their relations with the European Union. It extends the field of Community instruments with proven effectiveness to the countries concerned by the priority action areas identified in the strategy paper for the period 2007-2013 and the indicative programme for the period 2007-2010. ACT European neighbourhood and partnership instrument Inter-regional programme Strategy paper 2007-2013, indicative programme 2007-2010. SUMMARY The inter-regional programme (IRP) supports the achievement of the objectives of the European neighbourhood policy (ENP) and the strategic partnership with Russia. It focuses on dialogue and cooperation between the countries benefiting from the European Neighbourhood and Partnership Instrument (ENPI), and also between the latter and the European Union (EU). Being part of the ENPI, the IRP provides financial support to activities whose inter-regional implementation has an added value in terms of visibility, coherence, efficiency and flexibility. It also promotes more important role for governments, universities, towns and regions in order to ensure effective implementation and to boost the impact of initiatives and actions undertaken. Programmes The strategy paper 2007-2013 and the indicative programme 2007-2010 identify the priority action areas of the IRP. They distinguish five priority areas for the period 2007-2010. The promotion of reforms through EU advice and experience aims at supporting the reform process in ENPI beneficiary countries. On the basis of experience acquired during the transition process of the ten new Member States, this priority is based mainly on the following: the technical assistance and information exchange programme (TAIEX), which provides targeted advice and know-how, notably as regards convergence of legislation forming the Community acquis. support for the improvement of public institutions and management systems (SIGMA) launched by the European Commission and the Organisation for Economic Cooperation and Development (OECD) in Europe. Its objective is to facilitate economic integration and political cooperation with the EU. Promotion of higher education and student mobility, is an area that is essential for the development of partner countries, mutual understanding between peoples and interpersonal contact. The Tempus programme constitutes framework for reform of higher education and the promotion of cooperation between establishments. scholarship scheme will be established in order to promote student and teacher mobility. The latter will be based on experience gained from the Erasmus and Erasmus Mundus External Cooperation Window programmes. more important role will be assigned to partner countries as regards programme management. Promotion of cooperation between local actors in partner countries and the EU is fundamental objective of the ENP based on the exchange of experience and know-how. However, given the lack of structures, cooperation programme will be set up first of all between local and regional authorities in order to strengthen democratic governance and sustainable regional and local development. Promotion of the implementation of ENP and the Strategic Partnership with Russia concerns primarily their thematic policy areas, such as energy, environment and infrastructures. This programme supports information and dialogue activities in particular at inter-regional level in order to strengthen mutual understanding amongst opinion formers and citizens in partner countries. The objective of promoting investment projects in ENP partner countries is to mobilise additional investments in order to support an area of prosperity and good neighbourliness involving the EU and its neighbours. These additional funds will make it possible to improve the infrastructures connecting the EU with neighbouring countries in the areas of transport and energy, to meet the common environmental challenges and to support socio-economic development in partner countries. Arrangements Funding for IRP for the period 2007-2010 amounts to 523.9 million, of which 40 million has been allocated to the first priority action area, 218.6 million to the second, 14.3 million to the third and 250 million to the fifth. The envelope for the fourth objective depends on the progress of the ENP and the partnership with Russia. The indicative programme 2007-2010 gives an idea of the expected results for each priority, such as: the improvement in the legal and regulatory frameworks and their implementation; reform and modernisation of higher education in partner countries and better mutual understanding; transparent selection process and greater visibility for mobility and scholarship schemes; strengthening of governance by local and regional authorities in partner countries and strengthening of links between them; effective action and information and dialogue activities at inter-regional level in order to create awareness of ENP action. In order to measure their impact, partners define performance indicators at the time the programmes are being drawn up (number of partnerships, visibility, progress identified in the reports, national and thematic spread of actions, relevance of activities, etc.). Last updated: 13.03.2008',\n",
              " 'Interregionales Programm: Strategiepapier 2007-2013 und Richtprogramm 2007-2010 Interregionales Programm: Strategiepapier 2007-2013 und Richtprogramm 2007-2010 Das Interregionale Programm (IRP) beruht auf dem Europäischen Nachbarschafts- und Partnerschaftsinstrument (ENPI) und zielt darauf ab, die Europäische Nachbarschaftspolitik (ENP) sowie den Dialog und die Zusammenarbeit auf regionaler Ebene zu stärken. Es bezieht sich auf die ENP-Partnerländer sowie Russland und soll deren Beziehungen zur Europäischen Union verbessern. Mit dem IRP werden die Instrumente der Gemeinschaft, die ihre Wirksamkeit unter Beweis gestellt haben, auf die Partnerländer ausgeweitet, und zwar in den Schwerpunktbereichen, die im Strategiepapier für den Zeitraum 2007-2013 und im Richtprogramm für den Zeitraum 2007-2010 aufgeführt sind. RECHTSAKT Europäisches Nachbarschafts- und Partnerschaftsinstrument Interregionales Programm Strategiepapier 2007-2013, Richtprogramm 2007-2010. ZUSAMMENFASSUNG Das Interregionale Programm (IRP) soll zur Verwirklichung der Ziele der Europäischen Nachbarschaftspolitik (ENP) und der strategischen Partnerschaft mit Russland beitragen. Es setzt vor allem auf den Dialog und die Zusammenarbeit zwischen den Ländern, die über das Europäische Nachbarschafts- und Partnerschaftsinstrument (ENPI) gefördert werden, sowie zwischen diesen und der Europäischen Union (EU). Durch das IRP, das auf dem ENPI beruht, werden solche Maßnahmen finanziert, bei denen es aus Gründen der Öffentlichkeitswirksamkeit, der Kohärenz und der Flexibilität einen Mehrwert bietet, sie auf interregionaler Ebene durchzuführen. Außerdem soll die Rolle der Regierungen, der Hochschulen sowie der Städte und Regionen gestärkt werden, um eine effiziente Umsetzung zu gewährleisten und die Wirksamkeit der Initiativen und Maßnahmen zu erhöhen. Programme Die Schwerpunktbereiche für das IRP sind im Strategiepapier 2007-2013 und im Richtprogramm 2007-2010 aufgeführt. Für den Zeitraum 2007-2010 gibt es demnach fünf Schwerpunktbereiche. Mittels der Förderung von Reformen durch Bereitstellung von Beratung und Fachwissen seitens der EU soll der Reformprozess in den ENPI-Ländern vorangetrieben werden. Dieser Schwerpunktbereich baut auf die Erfahrungen aus dem Transformationsprozess der zehn neuen Mitgliedstaaten auf und stützt sich vor allem auf: das Programm für technische Hilfe und Informationsaustausch (TAIEX), über das die Partnerländer insbesondere im Hinblick auf die Angleichung ihrer Rechtsvorschriften an den gemeinschaftlichen Besitzstand beraten und unterstützt werden. die Unterstützung bei der Verbesserung von öffentlichen Behörden und Verwaltungssystemen (SIGMA) (EN), die auf eine Initiative der Europäischen Kommission und der Organisation für wirtschaftliche Zusammenarbeit und Entwicklung (OECD) (EN) (FR) zurückgeht. Ziel dieses Programms ist es, die wirtschaftliche Integration und die politische Zusammenarbeit mit der EU voranzutreiben. Die Förderung der Reform der Hochschulbildung und der Mobilität von Studierenden ist von enormer Bedeutung für die Entwicklung der Partnerländer, die Völkerverständigung und zwischenmenschliche Kontakte. Das Programm Tempus bildet den Rahmen für die Reform der Hochschulbildung und die Förderung der Zusammenarbeit zwischen den Universitäten. Es ist geplant, ein neues Stipendienprogramm zur Förderung der Mobilität von Studierenden und Lehrkräften aufzulegen, das auf die Erfahrungen der Programme Erasmus und Erasmus Mundus External Cooperation Window (EN) aufbauen soll. Bei der Verwaltung der Programme soll den Partnerländern eine größere Verantwortung zukommen. Die Förderung der Zusammenarbeit zwischen den lokalen Akteuren in der EU und in den Partnerländern auf der Grundlage von Erfahrungsaustausch und Wissenstransfer ist ein grundlegendes Ziel der ENP. Da jedoch noch keine entsprechenden Strukturen vorhanden sind, wird zunächst ein Programm für Zusammenarbeit zwischen lokalen und regionalen Akteuren eingerichtet, das darauf abzielt, demokratische Prozesse sowie eine nachhaltige Lokal- und Regionalentwicklung zu fördern. Die Unterstützung bei der Umsetzung der ENP und der strategischen Partnerschaft mit Russland beruht hauptsächlich auf den in diesen Kooperationsprogrammen verfolgten Themenschwerpunkten wie Energie, Umwelt und Infrastrukturentwicklung. Dieser Schwerpunktbereich dient insbesondere der Förderung des interregionalen Dialogs und Informationsaustauschs und zielt darauf ab, das gegenseitige Verständnis unter Meinungsführern und Bürgern der Partnerländer zu erhöhen. Über die Förderung von Investitionsvorhaben in ENP-Partnerländern sollen die zusätzlichen Mittel bereitgestellt werden, die für die Schaffung eines Raums des Wohlstands und der gutnachbarschaftlichen Beziehungen zwischen der EU und ihren Nachbarländern erforderlich sind. Mit diesen zusätzlichen Geldern soll die Verkehrs- und Energieinfrastruktur zwischen der EU und den Partnerländern ausgebaut werden. Außerdem sollen die Mittel zur Bewältigung der gemeinsamen Herausforderungen im Umweltbereich und zur Förderung der sozioökonomischen Entwicklung in den Partnerländern beitragen. Modalitäten Für den Zeitraum 2007-2010 sind für das IRP Finanzmittel von 523,9 Mio. EUR vorgesehen, die sich folgendermaßen zusammensetzen: 40 Mio. EUR für den ersten Schwerpunktbereich, 218,6 Mio. EUR für den zweiten, 14,3 Mio. EUR für den dritten und 250 Mio. EUR für den fünften. Die Finanzausstattung des vierten Schwerpunktbereichs hängt von der Entwicklung der ENP und der Partnerschaft mit Russland ab. Im Richtprogramm 2007-2010 sind für jeden Schwerpunktbereich erwartete Ergebnisse aufgeführt. Dies sind unter anderem: Verbesserung des Rechts- und Regulierungsrahmens und bessere Umsetzung dieser Vorschriften; Reform und Modernisierung der Hochschulbildung in den Partnerländern und Steigerung der Völkerverständigung; große Bekanntheit der Mobilitätsprogramme und transparente Auswahlverfahren für die Stipendienvergabe; Förderung von verantwortungsvollem Regieren seitens der Lokal- und Regionalbehörden der Partnerländer und Stärkung der Kontakte zwischen diesen beiden Ebenen; wirksame Maßnahmen sowie Dialog und Informationsaustausch auf interregionaler Ebene, um auf die ENP aufmerksam zu machen. Zur Bestimmung der Wirksamkeit legen die Partner bei der Ausarbeitung der Programme Indikatoren fest (Zahl der Partnerschaften, Öffentlichkeitswirksamkeit, beobachtete Fortschritte laut den Berichten, Aufteilung der Maßnahmen nach Ländern und Themengebieten, Wirksamkeit der Maßnahmen usw.) Letzte Änderung: 13.03.2008',\n",
              " 'Trade in seal products Trade in seal products SUMMARY OF: Regulation (EC) No 1007/2009 on trade in seal products SUMMARY WHAT DOES THIS REGULATION DO? It sets out harmonised rules for placing seal products on the EU market. KEY POINTS Seal products may only be placed on the market in the EU if they come from hunts carried out by Inuit* or other indigenous communities. The hunt must: be traditionally conducted by the community contribute to the communitys subsistence in order to provide food and income and not be primarily conducted for commercial reasons pay due care to animal welfare, while taking account of the communitys way of life and the subsistence purpose of the hunt. When being placed on the market, seal product must have certificate confirming all the above conditions have been complied with. Bodies authorised by the European Commission issue the certificates. Travellers and their families may import seal products which are for their personal use. If such products are to be imported at later date, the travellers should have the relevant documentation. If the Commission has evidence that products come from seal hunt conducted primarily for commercial reasons, it may ban, or limit, their being placed on the EU market. The Commission informs the public, the competent authorities and the customs authorities about the conditions under which seal products may be placed on the market in the EU. By 31 December 2018, and then every years, EU countries report to the Commission on the measures they have taken to implement the legislation. The Commission, within year of receiving the national reports, provides an overall report to the European Parliament and the Council. The first report will be submitted by 31 December 2019. FROM WHEN DOES THE REGULATION APPLY? It applies since 20 November 2009. BACKGROUND Seals are hunted inside and outside the EU for variety of purposes. They are used to obtain meat, oil, blubber, organs and fur skins, and for articles as diverse as Omega-3 capsules and clothing. Trade in seal products KEY TERM Inuit: indigenous members of the Inuit homeland, namely those arctic and subarctic areas where, presently or traditionally, Inuit have aboriginal rights and interests, recognised by Inuit as being members of their people. The term includes Inupiat, Yupik (Alaska), Inuit, Inuvialuit (Canada), Kalaallit (Greenland) and Yupik (Russia). ACT Regulation (EC) No 1007/2009 of the European Parliament and of the Council of 16 September 2009 on trade in seal products (OJ 286, 31.10.2009, pp. 36–39) Successive amendments to Regulation (EC) No 1007/2009 have been incorporated into the basic text. This consolidated version is for reference purposes only. RELATED ACTS Commission Implementing Regulation (EU) 2015/1850 of 13 October 2015 laying down detailed rules for the implementation of Regulation (EC) No 1007/2009 of the European Parliament and of the Council on trade in seal products (OJ 271, 16.10.2015, pp. 1–11) last update 31.03.2016',\n",
              " 'Handel mit Robbenerzeugnissen Handel mit Robbenerzeugnissen ZUSAMMENFASSUNG DES DOKUMENTS: Verordnung (EG) Nr. 1007/2009 über den Handel mit Robbenerzeugnissen ZUSAMMENFASSUNG WAS IST DER ZWECK DIESER VERORDNUNG? Sie legt einheitliche Vorschriften für das Inverkehrbringen von Robbenerzeugnissen auf dem EU-Markt fest. WICHTIGE ECKPUNKTE Robbenerzeugnisse dürfen auf dem Markt der EU nur in Verkehr gebracht werden, wenn sie aus einer von Inuit* oder anderen indigenen Gemeinschaften betriebenen Jagd stammen. Die Jagd muss von der Gemeinschaft traditionsgemäß betrieben werden; als Nahrungsmittel- und Einkommensquelle zum Lebensunterhalt der Gemeinschaft beitragen und darf nicht in erster Linie aus kommerziellen Gründen betrieben werden; Tierschutzaspekte gebührend beachten und zugleich die Lebensweise der Gemeinschaft und den mit der Jagd verfolgten Zweck des Lebensunterhalts berücksichtigen. Beim Inverkehrbringen muss für das Robbenerzeugnis eine Bescheinigung über die Erfüllung aller vorstehenden Bedingungen vorliegen. Die Ausstellung der Bescheinigungen erfolgt durch Stellen, die von der Europäischen Kommission anerkannt wurden. Reisenden und ihren Familien ist die Einfuhr von Robbenerzeugnissen gestattet, sofern diese zum persönlichen Gebrauch dienen. Wenn diese Erzeugnisse zu einem späteren Zeitpunkt eingeführt werden sollen, müssen die Reisenden über die einschlägigen Unterlagen verfügen. Wenn der Kommission Nachweise dafür vorliegen, dass die Erzeugnisse aus einer Robbenjagd stammen, die in erster Linie aus kommerziellen Gründen durchgeführt wird, so ist sie befugt, das Inverkehrbringen dieser Erzeugnisse auf dem EU-Markt zu untersagen oder zu begrenzen. Die Kommission informiert die Öffentlichkeit, die zuständigen Behörden und Zollbehörden über die Bedingungen, unter denen Robbenerzeugnisse in der EU in Verkehr gebracht werden dürfen. Die EU-Länder übermitteln der Kommission bis zum 31. Dezember 2018 und danach alle vier Jahre einen Bericht über die zur Durchführung dieser Verordnung getroffenen Maßnahmen. Die Kommission übermittelt dem Europäischen Parlament und dem Rat innerhalb eines Jahres nach Erhalt der einzelstaatlichen Berichte einen Gesamtbericht. Der erste Bericht wird bis zum 31. Dezember 2019 übermittelt. WANN TRITT DIE VERORDNUNG IN KRAFT? Die Verordnung ist am 20. November 2009 in Kraft getreten. HINTERGRUND Robben werden innerhalb und außerhalb der EU aus verschiedenen Gründen gejagt. Sie werden zur Gewinnung von Fleisch, Öl, Unterhautfett, Organen und Fellen sowie unterschiedlichsten Produkten wie Omega-3-Kapseln und Bekleidung verwendet. Handel mit Robbenerzeugnissen SCHLÜSSELBEGRIFF Inuit: indigene Bewohner des Inuit-Stammesgebiets, d. h. der arktischen und subarktischen Regionen, in denen Inuit derzeit oder traditionsgemäß indigene Rechte und Interessen besitzen, die von den Inuit als Mitglieder ihres Volkes anerkannt sind. Der Begriff erstreckt sich auf Inupiat, Yupik (Alaska), Inuit, Inuvialuit (Kanada), Kalaallit (Grönland) und Yupik (Russland). RECHTSAKT Verordnung (EG) Nr. 1007/2009 des Europäischen Parlaments und des Rates vom 16. September 2009 über den Handel mit Robbenerzeugnissen (ABl. 286 vom 31.10.2009, S. 36-39) Die im Nachhinein vorgenommenen Änderungen der Verordnung (EG) Nr. 1007/2009 wurden in den Grundlagentext eingefügt. Diese konsolidierte Fassung hat ausschließlich dokumentarischen Charakter. VERBUNDENE RECHTSAKTE Durchführungsverordnung (EU) 2015/1850 der Kommission vom 13. Oktober 2015 mit Durchführungsvorschriften zur Verordnung (EG) Nr. 1007/2009 des Europäischen Parlaments und des Rates über den Handel mit Robbenerzeugnissen (ABl. 271 vom 16.10.2015, S. 1-11) Letzte Aktualisierung: 31.03.2016',\n",
              " \"Micro-, small- and medium-sized enterprises: definition and scope Micro-, small- and medium-sized enterprises: definition and scope SUMMARY OF: Commission Recommendation the definition of micro, small and medium-sized enterprises SUMMARY WHAT DOES THIS RECOMMENDATION DO? It sets out the criteria for identifying whether company is micro, small or medium-sized enterprise (SME). These different categories, based on the number of company's employees and its turnover or balance sheet, determine its eligibility for EU and national financial and support programmes. The definitions came into effect on January 2005. KEY POINTS Definitions: micro enterprise: fewer than 10 employees and an annual turnover (the amount of money taken in particular period) or balance sheet (a statement of company's assets and liabilities) below €2 million. small enterprise: fewer than 50 employees and an annual turnover or balance sheet below €10 million. medium-sized enterprise: fewer than 250 employees and annual turnover below €50 million or balance sheet below €43 million. SMEs meeting the different criteria can benefit from EU and national business support programmes, such as research, competitiveness and innovation funding, which otherwise would not be allowed under EU state aid rules, fewer requirements or reduced costs when complying with EU legislation. The European Commission regularly monitors the practical impact of the definitions. An independent study published in September 2012 concluded that there was no need to revisit the criteria, but some clarification and guidance of the existing rules might be useful. In 2015, after an evaluation of the first user guide to the SME definition, the Commission published an updated version. BACKGROUND SMEs represent 99 of all businesses in the EU. They are the backbone of its economy. They generate out of every jobs. In 2013, over 21 million SMEs provided almost 90 million jobs throughout the EU. They stimulate sense of entrepreneurship and innovation, helping to foster European competitiveness, economic growth and employment. What is an SME? User guide to the SME definition ACT Commission Recommendation of May 2003 concerning the definition of micro, small and medium-sized enterprises (notified under document number C(2003) 1422) (OJ 124, 20.5.2003, pp. 36–41) last update 11.01.2016\",\n",
              " 'Kleinstunternehmen sowie kleine und mittlere Unternehmen: Definition und Umfang Kleinstunternehmen sowie kleine und mittlere Unternehmen: Definition und Umfang ZUSAMMENFASSUNG DES DOKUMENTS: Empfehlung der Kommission die Definition der Kleinstunternehmen sowie der kleinen und mittleren Unternehmen ZUSAMMENFASSUNG WAS IST DER ZWECK DIESER EMPFEHLUNG? In der Empfehlung werden die Kriterien dafür festgelegt, ob ein Unternehmen als Kleinstunternehmen oder kleines oder mittleres Unternehmen (KMU) bezeichnet wird. Die unterschiedlichen Kategorien, basierend auf seiner Mitarbeiterzahl, seines Umsatzes oder der Bilanzsumme, bestimmen seine Berechtigung für die Finanz- und Förderprogramme der EU und der Einzelstaaten. Die Definitionen sind seit dem 1. Januar 2005 gültig. WICHTIGE ECKPUNKTE Definitionen: Kleinstunternehmen: weniger als 10 Mitarbeiter und ein Jahresumsatz (der Geldbetrag, der in einem bestimmten Zeitraum eingenommen wurde) bzw. eine Jahresbilanz (eine Aufstellung der Vermögenswerte und Verbindlichkeiten eines Unternehmens) von unter Mio. EUR. kleines Unternehmen: weniger als 50 Mitarbeiter und ein Jahresumsatz bzw. eine Jahresbilanz von unter 10 Mio. EUR. mittleres Unternehmen: weniger als 250 Mitarbeiter und ein Jahresumsatz von unter 50 Mio. EUR bzw. eine Jahresbilanz von unter 43 Mio. EUR. KMU, die die verschiedenen Kriterien erfüllen, können von folgenden Fördermaßnahmen profitieren: EU- und nationale Unternehmensförderprogramme, z. B. für die Finanzierung von Forschung, Wettbewerbsfähigkeit und Innovation, die gemäß der EU-Vorschriften für staatliche Beihilfe ansonsten nicht bewilligt würden, geringere Anforderungen oder verringerte Kosten bei Einhaltung der EU-Rechtsvorschriften. Die Europäische Kommission überprüft die konkreten Auswirkungen der Definitionen regelmäßig. Eine unabhängige Untersuchung, die im September 2012 veröffentlicht wurde, kam zu dem Ergebnis, dass keinerlei Notwendigkeit bestehe, die Kriterien zu überarbeiten, jedoch die Erläuterung und Präzisierung der bestehenden Vorschriften hilfreich sein könne. Im Jahr 2015 veröffentlichte die Kommission nach einer Bewertung des ersten Benutzerhandbuchs zur KMU-Definition eine aktualisierte Fassung. HINTERGRUND KMU stellen 99 aller Unternehmen in der EU dar. Sie sind das Rückgrat der europäischen Wirtschaft. Sie schaffen zwei von drei Arbeitsplätzen. Im Jahr 2013 stellten 21 Millionen KMU fast 90 Millionen Arbeitsplätze in der gesamten EU zur Verfügung. Sie regen den Sinn für Unternehmertum und Innovation an und fördern Wettbewerbsfähigkeit, Wirtschaftswachstum und Beschäftigung in Europa. Was ist ein KMU? Benutzerhandbuch zur KMU-Definition RECHTSAKT Empfehlung der Kommission vom 6. Mai 2003 betreffend die Definition der Kleinstunternehmen sowie der kleinen und mittleren Unternehmen (ABl. 124 vom 20.5.2003, S. 36-41) Letzte Aktualisierung: 11.01.2016',\n",
              " 'Textiles after 2005 Textiles after 2005 In order to prepare for the end of the import quota system on January 2005, the European Commission set up High Level Group to recommend ways of increasing the competitiveness of the European textile industry. In this Communication, the Commission examined several specific measures recommended by the High Level Group and drew the necessary conclusions. ACT Communication from the Commission to the Council, the European Parliament, the European Economic and Social Committee and the Committee of the Regions, of 13 October 2004 Textiles and clothing after 2005 Recommendations of the High Level Group for textiles and clothing [COM(2004) 668 Not published in the Official Journal]. SUMMARY The WTO Agreement on Textiles and Clothing and all of its restrictions on imports of textiles and clothing were repealed on January 2005. In preparation, the Commission set up High Level Group for textiles and clothing at the beginning of 2004. The Group comprised representatives of the Commission and the European Parliament, some Member States, industrialists, retailers and importers, European trade associations, trade unions and representatives of local textile and clothing associations, and its mandate was to put forward recommendations in order to improve the sector\\'s competitiveness and facilitate its adjustment to future challenges. The economic situation in the textile sector has been difficult. Production and employment fell significantly between 2000 and 2003. The European Union (EU) had less success in its major export markets, and the US dollar/Euro exchange rate made the prices of its products less competitive. Finally, the development of the Euro-Med Area and the prospect of quota elimination led to relocation of production. The High Level Group presented its first recommendations on 30 June 2004. In this Communication, the Commission examined these recommendations, which cover five areas. Research and innovation In the area of research and development, the Commission approved several initiatives proposed by the High Level Group, such as the creation of European Technology Platform for Textiles and Clothing. It also called on the sector to take part in Community programmes in this area, for example the 7th Framework Programme for Research and Development or the Competitiveness and Innovation Framework Programme. The textile sector can also improve its supply chain management by means of initiatives to develop information society technologies. Education, training and employment The Commission highlighted the importance of social dialogue as means of achieving reforms in this area. It agreed with the High Level Group\\'s analysis of need for Europe-wide lifelong learning strategy for the sector and to ensure better match between supply and demand for training. It also drew attention to European programmes offering the possibility of funding in this area, such as the Leonardo da Vinci programme and certain provisions of the European Social Fund. Other competitiveness-related issues The Commission evaluated several issues related to competitiveness, including: REACH the textile industry is highly intensive user of chemicals. For this reason the Commission decided to examine the impact of the chemicals policy on the sector; Intellectual Property Rights (IPR): the Commission\\'s objectives are to enforce IPR in third countries, raise right-holders\\' awareness of counterfeiting and tackle counterfeiting and piracy, and it has made provision for the creation of website on IPR and the organisation of seminars and networking meetings; access to finance: small and medium-sized enterprises (SMEs) encounter many problems in obtaining credit. Several Community financial instruments have therefore been set up, such as the Financial Services Action Plan, to provide support for SME financing. Regional aspects The Commission does not recommend sectoral approach in the area of regional policy. However, it is necessary to anticipate developments in the sector and put in place appropriate programmes to mitigate the socio-economic impact on those regions where the sector is dominant. Member States must set aside an amount of of the Structural Funds annual contribution for the \"Convergence\" objective and of the \"Regional competitiveness and employment\" objective contribution to cover unforeseen local or sectoral crises linked to economic and social restructuring, or to the consequences of trade liberalisation. Trade policy issues With regard to trade policy, the Commission examined four issues which are essential to the competitiveness of European textile companies: creation of the Euro-Mediterranean Area: the completion of the Euro-Mediterranean Free Trade Area is crucial for the textile sector, as it will enable the sector to maintain the whole chain of production close to the European market and, therefore, attain advantages involving costs, quality and proximity. The Commission is therefore focusing on the conclusion of free trade agreements between the countries concerned; access to markets: the Commission is working towards opening up the market while at the same time promoting level playing field, for example within the Doha Agenda negotiations. It is also continuing to call on members of the World Trade Organisation (WTO) to cut their customs duties to the lowest possible level and to eliminate non-tariff barriers; Chinese imports: the Commission suggested monitoring Chinese imports through customs declarations. It has already taken the initiative of establishing sustained dialogue with the relevant Chinese authorities; trade defence instruments: the Commission drew up guidelines, for example for the application of safeguard clauses, and undertook to facilitate the use of existing trade defence instruments. The Commission pointed out, in conclusion, that in addition to all of these measures initiatives would have to be taken at national and regional levels. Moreover, in order to observe the impact of quota elimination, the Commission recommended that the High Level Group continue its work. Subsequent developments The High Level Group continued to meet after quotas had been abolished. It expressed its support for the Shanghai Agreement of 10 June 2005. This agreement provided for three-year adjustment period during which the rate of increase in imports of textiles from China was restricted in certain categories. Following crisis during which Chinese textiles were blocked in European ports after their import quotas had been exceeded, the EU and China reached an agreement on September 2005 to clear blocked Chinese textile imports. On 18 September 2006 the High Level Group adopted follow-up report entitled \"European textiles and clothing in quota-free environment\". It noted that the wave of very low-priced imports from Asia had not reached the level feared and felt that the EU would maintain its technological lead until 2020 at least. Nevertheless, the sector requires radical restructuring. The High Level Group recommended that companies cooperate more, set up large-scale groups of companies and focus their efforts on innovation and development. Although the activities of the High Level Group for textiles and clothing formally came to an end in September 2006, the Group\\'s members highlighted the importance of continuing to monitor the sector\\'s development and of assessing in 2007 the progress made in implementing the recommendations. See also To find out more about European industrial policy relating to the textile sector, go to the Textiles and Clothing page on the Enterprise and Industry DG\\'s website Last updated: 26.09.2007',\n",
              " 'Der Textilsektor nach 2005 Der Textilsektor nach 2005 Um sich auf die Abschaffung der Einfuhrquoten zum 1. Januar 2005 vorzubereiten, hat die Europäische Kommission eine hochrangige Gruppe eingesetzt, die damit beauftragt wurde, Empfehlungen zur Verbesserung der Wettbewerbsfähigkeit der europäischen Textilindustrie zu erarbeiten. In der vorliegenden Mitteilung werden mehrere konkrete Maßnahmen, die von der hochrangigen Gruppe empfohlen wurden, von der Kommission geprüft und die notwendigen Schlussfolgerungen gezogen. RECHTSAKT Mitteilung der Kommission an den Rat, das Europäische Parlament, den Europäischen Wirtschafts- und Sozialausschuss und den Ausschuss der Regionen vom 13. Oktober 2004 mit dem Titel „Der Textil- und Bekleidungssektor nach 2005 Empfehlungen der hochrangigen Gruppe für den Textil- und Bekleidungssektor\" [KOM(2004) 668 endg. nicht im Amtsblatt veröffentlicht]. ZUSAMMENFASSUNG Das Übereinkommen der WTO über Textilwaren und Bekleidung und alle auf ihm beruhenden Einfuhrbeschränkungen für Textilien und Bekleidung sind zum 1. Januar 2005 außer Kraft getreten. Um sich auf diese Situation vorzubereiten, hat die Kommission Anfang 2004 eine hochrangige Gruppe für den Textil- und Bekleidungssektor eingesetzt. Diese aus Vertretern der Kommission und des Europäischen Parlaments, einiger Mitgliedstaaten, der Industrie, der Einzelhändler und Importeure, der europäischen Fachverbände, der Gewerkschaften sowie lokaler Textil- und Bekleidungsverbände bestehende Gruppe sollte Vorschläge zur Verbesserung der Wettbewerbsfähigkeit des Sektors und zur Bewältigung der künftigen Herausforderungen erarbeiten. Der Textilsektor befand sich in einer schwierigen wirtschaftlichen Lage. Produktion und Beschäftigung waren zwischen 2000 und 2003 deutlich rückläufig. Die Europäische Union (EU) schnitt auf ihren wichtigsten Exportmärkten nicht mehr so gut ab. Der Wechselkurs des Dollar und des Euro machte die Preise ihrer Produkte weniger wettbewerbsfähig. Und schließlich führten die Entwicklung des Europa-Mittelmeer-Raums und die Aussicht auf die Abschaffung der Quoten zu Produktionsauslagerungen. Am 30. Juni 2004 gab die hochrangige Gruppe ihre ersten Empfehlungen ab (EN). In der vorliegenden Mitteilungen werden diese Empfehlungen, untergliedert in fünf Bereiche, von der Kommission geprüft. Forschung und Innovation Im Bereich Forschung und Entwicklung hat die Kommission mehrere von der hochrangigen Gruppe vorgeschlagene Initiativen genehmigt, etwa die Einrichtung einer europäischen Technologieplattform für Textilwaren und Bekleidung. Sie hat die Textilbranche aufgefordert, sich an den einschlägigen Gemeinschaftsprogrammen zu beteiligen, zum Beispiel am 7. Rahmenprogramm für Forschung und Entwicklung oder am Rahmenprogramm für Wettbewerbsfähigkeit und Innovation. Zudem könnte die Branche mit Hilfe der Maßnahmen zur Förderung der Technologien für die Informationsdgesellschaft ihr Lieferkettenmanagement verbessern. Bildung, Ausbildung und Beschäftigung Die Kommission hat betont, wie wichtig der soziale Dialog für Reformen in diesem Bereich ist. Sie stimmt mit der hochrangigen Gruppe überein, dass der Textilsektor eine europäische Strategie für lebenslangen Lernen benötigt und Ausbildungsangebot und -nachfrage besser aufeinander abgestimmt werden müssen. Sie hat außerdem auf die europäischen Programme hingewiesen, die entsprechende Finanzierungsmöglichkeiten bieten, wie etwa das Programm Leonardo da Vinci sowie bestimmte Regelungen des Europäischen Sozialfonds. Sonstige Fragen im Zusammenhang mit der Wettbewerbsfähigkeit Die Kommission hat mehrere Fragen im Zusammenhang mit der Wettbewerbsfähigkeit geprüft, unter anderem: REACH Die Textilindustrie verwendet in großem Umfang chemische Erzeugnisse. Daher hat die Kommission beschlossen, die Auswirkungen der Chemikalienpolitik auf die Branche zu untersuchen. Rechte an geistigem Eigentum (IPR): Durchsetzung von IPR in Drittländern, Sensibilisierung der Rechteinhaber für die Probleme der Nachahmung, Bekämpfung von Nachahmung und Produktpiraterie dies sind die Ziele der Kommission, die die Einrichtung einer Website über IPR und die Veranstaltung von Seminaren und Treffen zur Netzwerkbildung plant. Zugang zu Finanzmitteln: Kleine und mittlere Unternehmen (KMU) sehen sich bei der Beschaffung von Finanzmitteln zahlreichen Schwierigkeiten gegenüber. Daher wurden mehrere gemeinschaftliche Finanzierungsinstrumente geschaffen, etwa der Aktionsplan für Finanzdienstleistungen, der bei der Finanzierung von KMU helfen soll. Regionale Aspekte Im Bereich der Regionalpolitik empfiehlt die Kommission kein sektorspezifisches Vorgehen. Allerdings muss man sich rechtzeitig auf die künftige Entwicklung des Sektors einstellen und geeignete Programme aufstellen, um die sozioökonomischen Folgen für Regionen, in denen der Textilsektor eine vorherrschende Rolle spielt, zu mildern. Die Mitgliedstaaten müssen zudem des Jahresbeitrags zu den Strukturfonds für das Ziel „Konvergenz\" und des Beitrags für das Ziel „Regionale Wettbewerbsfähigkeit und Beschäftigung\" reservieren, um unvorhergesehene lokale oder sektorale Krisen im Zusammenhang mit der wirtschaftlichen und sozialen Umstrukturierung oder den Folgen der Handelsliberalisierung abzudecken. Handelspolitische Fragen Im Bereich der Handelspolitik hat die Kommission vier Fragen von zentraler Bedeutung für die Wettbewerbsfähigkeit der europäischen Textilunternehmen untersucht: Freihandelszone Europa-Mittelmeer: Die Errichtung der Freihandelszone Europa-Mittelmeer ist entscheidend für den Textilsektor. Sie wird es ihm ermöglichen, mit seiner gesamten Produktionskette nahe am europäischen Markt zu bleiben und so Vorteile zu erzielen, was Kosten, Qualität und geografische Nähe anbelangt. Die Kommission konzentriert sich daher auf den Abschluss von Freihandelsabkommen mit den betroffenen Ländern. Marktzugang: Die Kommission arbeitet weiter auf die Öffnung der Märkte hin und fördert dabei die Schaffung fairer Wettbewerbsbedingungen, insbesondere im Rahmen der Verhandlungen zur Doha-Entwicklungsagenda. Ferner fordert sie die Mitglieder der Welthandelsorganisation (WTO) weiterhin auf, ihre Zollsätze auf das niedrigstmögliche Niveau zu senken und nichttarifäre Handelshemmnisse zu beseitigen. Einfuhren aus China: Die Kommission hat angeregt, die Einfuhren aus China anhand der Zollerklärungen zu kontrollieren. Sie hat bereits die Initiative ergriffen und einen intensiven Dialog mit den zuständigen chinesischen Behörden eingeleitet. Handelspolitische Schutzinstrumente: Die Kommission hat Leitlinien insbesondere für die Anwendung von Schutzklauseln erarbeitet und will die Anwendung der vorhandenen handelspolitischen Schutzinstrumente erleichtern. In ihren Schlussfolgerungen hat die Kommission betont, dass alle diese Maßnahmen durch Initiativen auf nationaler und regionaler Ebene ergänzt werden müssen. Im Übrigen empfiehlt die Kommission der hochrangigen Gruppe, ihre Arbeiten fortzusetzen, damit die Folgen der Abschaffung der Quoten beobachtet werden können. Weitere Entwicklungen Die hochrangige Gruppe ist nach der Abschaffung der Quoten weiterhin zusammengetroffen. Sie hat insbesondere ihre Unterstützung für das Abkommen von Shanghai vom 10. Juni 2005 erklärt. Dieses Abkommen sah vor, die Zunahme der Textilimporte aus China während eines dreijährigen Übergangszeitraums in bestimmten Produktkategorien zu begrenzen. Nachdem es im Zusammenhang mit chinesischen Textilwaren, die nach dem Überschreiten ihrer Einfuhrquoten in europäischen Häfen festgehalten wurden, zu einer Krise gekommen war, gelangten die EU und China am 5. September 2005 zu einer Einigung über die Freigabe der Einfuhren chinesischer Textilwaren. Am 18. September 2006 nahm die hochrangige Gruppe einen Folgebericht mit dem Titel „Die europäische Textil- und Bekleidungsindustrie in einem quotenfreien Markt\" (EN) an. Darin stellt sie fest, dass die Einfuhren von Billigprodukten aus Asien nicht den befürchteten Umfang erreicht hätten und dass die EU voraussichtlich bis mindestens 2020 ihren technologischen Vorsprung werde wahren können. Der Sektor muss jedoch radikal umstrukturiert werden. Die hochrangige Gruppe empfahl den Unternehmen, stärker zusammenzuarbeiten, sich zu großen Unternehmensgruppen zusammenzuschließen und ihre Anstrengungen auf Innovation und Entwicklung zu konzentrieren. Die hochrangige Gruppe für den Textil- und Bekleidungssektor hat ihre Tätigkeit zwar im September 2006 offiziell eingestellt, die Mitglieder der Gruppe haben jedoch nachdrücklich darauf hingewiesen, dass die Entwicklung des Sektors weiterhin überwacht werden muss und dass im Jahr 2007 eine Bilanz der bei der Umsetzung der Empfehlungen erzielten Fortschritte gezogen werden sollte. See also Ausführlichere Informationen über die europäische Industriepolitik für den Textilsektor enthält die Seite Textil und Bekleidung auf der Website der GD Unternehmen und Industrie. Letzte Änderung: 26.09.2007',\n",
              " 'Community framework for State aid for research and development Community framework for State aid for research and development This framework is directed at Member States and aims to facilitate their use of State aid for research, development and innovation. It should enable them to employ their aid in support of these three disciplines to encourage investment. As such, it constitutes an essential tool for growth, competitiveness and employment within the European Union (EU). In concrete terms, its objective is to ensure that all aid granted is of maximum benefit, addresses the needs of the market and promotes rather than distorts competition. ACT Communication from the Commission Community framework for State aid for research and development [Official Journal 323/1 of 30.12.2006]. SUMMARY The present Community framework contributes directly to the strategy for growth and jobs by: extending the field of R&D to that of innovation; stimulating research, development and innovation without distorting competition; encouraging new investment in very specific domains such as aid to young, innovative companies or innovation clusters. This framework is applicable as of January 2007. Aims The aim of this framework is two-fold and entails: helping Member States to devote greater proportion of their total public aid budget to research, development and innovation; optimising allocation of aid within these three sectors, taking account of economic considerations. This should increase available funding without hindering competition or trade, whilst enhancing the effectiveness of public spending. State aid and RDI: weighing up the positive and negative effects To determine whether or not State aid is compatible with the common market, the Commission has to weigh up the negative and positive effects. State aid will be authorised where it: counters failing in the market and meets an objective of common interest (growth, jobs, cohesion, environment, etc.); is correctly targeted and constitutes an appropriate tool; offers real added value (the net impact in terms of distortion of competition and effects on trade must be positive). Market failings The framework identifies the main market failings which could adversely affect research, development and innovation in relation to: dissemination of knowledge; coordination; networking; information. To address these failings, range of guidance has been issued for various types of State aid: aid for R&D projects; aid for technical feasibility studies; aid to cover SMEs\\' costs relating to intellectual property rights; aid to young, innovative companies; aid in support of organisation and process innovation in the service industry; aid for recourse to innovation support and advisory services; aid to SMEs for temporary employment of highly qualified personnel; aid for innovation clusters *. Control of State aid This framework gives the Commission new means of improving the control of State aid. To prevent major distortion, cases involving significant funding and consequently increased risks will be subject to extensive assessments. Background The prosperity of European concerns on global scale requires them to be at the cutting edge of research, development and innovation, but at present these three areas are suffering lack of investment. The most effective means of encouraging companies to invest is to promote healthy competition. Nevertheless, in some cases the market alone is unable to stimulate RDI sufficiently and recourse to State aid (although prohibited in principle by the EC Treaty) may be required. The purpose of the Community framework is to prevent the potentially disastrous consequences of excessive or ill-directed aid. Key terms used in the act Innovation clusters: groups of independent companies active in particular sector and region, intended to stimulate innovation by promoting intensive interaction, resource-sharing and exchange of knowledge and know-how, effectively contributing to the transfer of technology, networking and dissemination of information between the component companies. RELATED ACTS Commission Communication of 22 November 2006 to the Council, the European Parliament and the European Economic and Social Committee: \"Towards more effective use of tax incentives in favour of R&D\" [COM(2006) 728 final Not published in the Official Journal]. State Aid Action Plan Less and better targeted State aid: roadmap for State aid reform 2005-2009 [Consultation document not published in the Official Journal]. Last updated: 12.09.2007',\n",
              " 'Konsortium für eine europäische Forschungsinfrastruktur (ERIC) Konsortium für eine europäische Forschungsinfrastruktur (ERIC) ZUSAMMENFASSUNG DES DOKUMENTS: Verordnung (EG) Nr. 723/2009 Vorschriften für den Aufbau eines Konsortiums für eine europäische Forschungsinfrastruktur (ERIC) WAS IST DER ZWECK DIESER VERORDNUNG? Sie führt eine einzige Rechtsgrundlage ein, um den gemeinsamen Aufbau und Betrieb eines Konsortiums für eine europäische Forschungsinfrastruktur (ERIC) durch die EU-Länder und die mögliche Beteiligung assoziierter Länder, anderer Länder und besonderer zwischenstaatlicher Organisationen an Forschungsrahmenprogrammen der EU zu erleichtern. WICHTIGE ECKPUNKTE EU-Länder und assoziierte Länder sind allein verantwortlich für die Erstellung eines Forschungsinfrastrukturprojekts und die Definition grundlegender Aspekte wie Satzung und Sitz. Im Gegensatz zu den gemeinsamen Technologieinitiativen und gemeinsamen Unternehmen, an denen die EU systematisch als Mitglied beteiligt ist, ist ein Konsortium für eine europäische Forschungsinfrastruktur (ERIC) eine Rechtsperson, bei der die EU nicht notwendigerweise Mitglied ist. Dieser Rechtsrahmen gilt nur für Infrastrukturen von gesamteuropäischem Interesse. Jede gemäß der vorliegenden Verordnung gegründete Forschungsinfrastruktur muss folgende Bedingungen erfüllen:Durchführung der europäischen Forschungsaktivitäten;ein Mehrwert für Wissenschaft und Technologie auf europäischer und internationaler Ebene;den Forschern der EU-Länder und der mit dem Rahmenprogramm für Forschung und Entwicklung (Horizont 2020) der EU assoziierten Länder offenstehen;zur Mobilität der Forscher und des Wissens im Europäischen Forschungsraum (EFR) beitragen;zur Verbreitung und Auswertung der Ergebnisse der Forschungstätigkeiten beitragen. Die Europäische Kommission bietet praktische Leitlinien, um potenziellen Antragstellern zu helfen. Die Tätigkeiten des ERIC verfolgen grundsätzlich keinen Gewinnzweck. Allerdings kann ein ERIC begrenzte wirtschaftliche Tätigkeiten ausüben, solange diese eng mit der Hauptaufgabe verbunden sind und nicht das Hauptziel der Forschungsinfrastruktur behindern. Die Anträge auf Gründung eines ERIC werden der Kommission zur Prüfung vorgelegt. Die Antragsdossiers müssen folgende Unterlagen enthalten:ein an die Kommission gerichtetes Ersuchen zur Gründung des ERIC;einen Satzungsentwurf (Liste der Mitglieder, Sitz, Name des ERIC, Rechte und Pflichten der Mitglieder, Organe des ERIC und ihre Zuständigkeiten, Art und Weise, in der sie gebildet werden und Entscheidungen treffen, Dauer des ERIC, grundsätzliche Regeln, Arbeitssprache, Verweise auf die Durchführungsbestimmungen der Satzung);eine wissenschaftliche und technische Beschreibung (siehe oben stehende Bedingungen);eine Erklärung des EU-Gastlandes, der zufolge das ERIC als internationale Einrichtung im Sinne der EU-Richtlinien über die Mehrwertsteuer (MwSt.) und die Verbrauchersteuer anerkannt ist. Während der Prüfung können die Antragsteller aufgefordert werden, ihren Antrag zu ergänzen oder abzuändern. Unter Berücksichtigung der Ergebnisse der Prüfung und der Stellungnahmen der EU-Länder erlässt die Kommission ihre Entscheidung, die sie dem Antragsteller mitteilt. Genehmigt sie die Gründung des ERIC, wird ihre Entscheidung im Amtsblatt der Europäischen Union veröffentlicht. Das ERIC besitzt Rechtspersönlichkeit und muss seinen Sitz im Land eines Mitglieds haben (EU-Land oder ein mit einem EU-Rahmenprogramm für Forschung assoziiertes Land). Der Name muss die Abkürzung „ERIC“ enthalten. Die Mitgliedschaft eines ERIC besteht aus einem EU-Land und zwei anderen Ländern, die entweder EU-Länder oder assoziierte Länder sind. Zudem können jederzeit andere EU-Länder oder assoziierte Länder, andere Länder oder zwischenstaatliche Organisationen beitreten. Das ERIC ist außerdem eine internationale Einrichtung bzw. Organisation im Sinne der Richtlinien über die Mehrwertsteuer, über die Verbrauchersteuern und über die Vergabe öffentlicher Aufträge. Es ist daher in gewissen Grenzen und unter bestimmten Bedingungen von der Mehrwertsteuer und Verbrauchersteuer befreit und kann eigene Beschaffungsverfahren annehmen. Die Haftung der Mitglieder für die Schulden des ERIC wird grundsätzlich auf ihre jeweiligen Beiträge beschränkt. Anwendbares Recht ist zunächst das EU-Recht, dann das Recht des Landes des satzungsmäßigen Sitzes oder in Bezug auf bestimmte sicherheitsbezogene und technische Angelegenheiten das Recht des Landes, in dem die Einrichtung betrieben wird. Fünf Jahre nach Verabschiedung des Rechtsrahmens musste die Kommission eine Bewertung durchführen und dem Europäischen Parlament und dem Rat darüber Bericht erstatten. WANN TRITT DIESE VERORDNUNG IN KRAFT? Sie ist am 28. August 2009 in Kraft getreten. HINTERGRUND Diese Verordnung ist eine der strategischen Initiativen im Sinne des Grünbuchs über den EFR vom 4. April 2007. Diese Initiative trägt zur Umsetzung des Themenbereichs „Forschungsinfrastrukturen“ des 7. Rahmenprogramms für Forschung (2007-2013) und des Rahmenprogramms für Forschung und Innovation „Horizont 2020“ (2014-2020) bei.Weiterführende Informationen:Konsortium für eine europäische Forschungsinfrastruktur (Europäische Kommission). HAUPTDOKUMENT Verordnung (EG) Nr. 723/2009 des Rates vom 25. Juni 2009 über den gemeinschaftlichen Rechtsrahmen für ein Konsortium für eine europäische Forschungsinfrastruktur (ERIC) (ABl. 206 vom 8.8.2009, S. 1-8) Nachfolgende Änderungen der Verordnung (EG) Nr. 723/2009 wurden in den Originaltext eingefügt. Diese konsolidierte Fassung hat ausschließlich dokumentarischen Charakter. VERBUNDENE DOKUMENTE Durchführungsbeschluss (EU) 2018/272 der Kommission vom 20. Februar 2018 über die Gründung des Europäischen Zentrums für biologische Meeresressourcen Konsortium für eine Europäische Forschungsinfrastruktur (ERIC EMBRC) (ABl. 51 vom 23.2.2018, S. 17-22) Durchführungsbeschluss (EU) 2017/1213 der Kommission vom 4. Juli 2017 über die Einrichtung der Infrastruktur „Integrierte Strukturbiologie“ als Konsortium für eine europäische Forschungsinfrastruktur (Instruct-ERIC) (ABl. 173 vom 6.7.2017, S. 47-52) Durchführungsbeschluss (EU) 2017/996 der Kommission vom 9. Juni 2017 über die Gründung eines europäischen Laboratoriums für die Abscheidung und Lagerung von Kohlendioxid als Konsortium für eine europäische Forschungsinfrastruktur (ERIC ECCSEL) (ABl. 149 vom 13.6.2017, S. 91-97) Durchführungsbeschluss (EU) 2017/995 der Kommission vom 9. Juni 2017 über die Gründung der „European Social Science Data Archives“ als Konsortium für eine europäische Forschungsinfrastruktur (ERIC CESSDA) (ABl. 149 vom 13.6.2017, S. 85-90) Durchführungsbeschluss (EU) 2017/499 der Kommission vom 17. März 2017 über die Gründung einer europäischen Infrastruktur für e-Wissenschaft und Technik im Forschungsbereich Biodiversität und Ökosysteme als Konsortium für eine Europäische Forschungsinfrastruktur (ERIC LifeWatch) (ABl. 76 vom 22.3.2017, S. 35-39) Durchführungsbeschluss (EU) 2016/1757 der Kommission vom 29. September 2016 zur Gründung der Europäischen Multidisziplinären Beobachtungsstelle für Meeresboden und Wassersäule als Konsortium für eine Europäische Forschungsinfrastruktur (ERIC EMSO) (ABl. 268 vom 1.10.2016, S. 113-117) Durchführungsbeschluss (EU) 2015/2097 der Kommission vom 26. Oktober 2015 zur Gründung des Integrierten Kohlenstoffbeobachtungssystems als Konsortium für eine europäische Forschungsinfrastruktur (ERIC ICOS) (ABl. 303 vom 20.11.2015, S. 19-34) Durchführungsbeschluss (EU) 2015/1478 der Kommission vom 19. August 2015 zur Gründung der Europäischen Spallationsquelle als Konsortium für eine europäische Forschungsinfrastruktur (ERIC Europäische Spallationsquelle) (ABl. 225 vom 28.8.2015, S. 16-48) Durchführungsbeschluss 2014/923/EU der Kommission vom 12. Dezember 2014 über die Gründung eines gemeinsamen Instituts für Interferometrie mit sehr langen Basislinien als Konsortium für eine Europäische Forschungsinfrastruktur (JIV-ERIC) (ABl. 363 vom 18.12.2014, S. 156-169) Durchführungsbeschluss 2014/526/EU der Kommission vom 6. August 2014 über die Gründung der Digitalen Forschungsinfrastruktur für Kultur- und Geisteswissenschaften als Konsortium für eine Europäische Forschungsinfrastruktur (DARIAH ERIC) (ABl. 239 vom 12.8.2014, S. 64-80) Durchführungsbeschluss 2014/261/EU der Kommission vom 5. Mai 2014 zur Gründung der Forschungsinfrastruktur Euro-Argo als Konsortium für eine europäische Forschungsinfrastruktur (ERIC Euro-Argo) (ABl. 136 vom 9.5.2014, S. 35-50) Durchführungsbeschluss 2013/713/EU der Kommission vom 29. November 2013 zur Gründung des Europäischen Infrastrukturnetzes für klinische Forschung (ECRIN) als Konsortium für eine europäische Forschungsinfrastruktur (ERIC ECRIN) (ABl. 324 vom 5.12.2013, S. 8-20) Siehe konsolidierte Fassung. Durchführungsbeschluss 2013/701/EU der Kommission vom 22. November 2013 zur Gründung der Forschungsinfrastruktur im Bereich der Biobanken und biomolekularen Ressourcen als Konsortium für eine europäische Forschungsinfrastruktur (ERIC BBMRI) (ABl. 320 vom 30.11.2013, S. 63-80) Durchführungsbeschluss 2013/700/EU der Kommission vom 22. November 2013 zur Gründung der Europäischen Sozialerhebung als Konsortium für eine europäische Forschungsinfrastruktur (ERIC ESS) (ABl. 320 vom 30.11.2013, S. 44-62) Durchführungsbeschluss 2013/640/EU der Kommission vom 7. November 2013 zur Gründung der Europäischen Infrastruktur für fortgeschrittene translationale Forschung im Bereich der Medizin als Konsortium für eine europäische Forschungsinfrastruktur (ERIC EATRIS) (ABl. 298 vom 8.11.2013, S. 38-47) Beschluss 2012/136/EU der Kommission vom 29. Februar 2012 über die Einrichtung der gemeinsamen Infrastruktur für Sprachressourcen und -technologien als Konsortium für eine europäische Forschungsinfrastruktur (CLARIN ERIC) (ABl. 64 vom 3.3.2012, S. 13-28) Beschluss 2011/166/EU der Kommission vom 17. März 2011 zur Gründung des SHARE-ERIC (ABl. 71 vom 18.3.2011, S. 20-31) Siehe konsolidierte Fassung. Letzte Aktualisierung: 23.11.2017']"
            ]
          },
          "metadata": {
            "tags": []
          },
          "execution_count": 14
        }
      ]
    },
    {
      "metadata": {
        "id": "pM9HlQnrpOev",
        "colab_type": "code",
        "colab": {}
      },
      "cell_type": "code",
      "source": [
        "# TEST DATA\n",
        "cluster_1_data_test = []\n",
        "cluster_1_doc_id_test = []\n",
        "cluster_1_label_test = []\n",
        "cluster_1_multilabel_test = []\n",
        "cluster_1_file_name_test = []\n",
        "\n",
        "\n",
        "root_test_data = []\n",
        "root_test_label = []\n",
        "root_test_doc_id = []\n",
        "root_test_file_name = []\n",
        "root_test_multilabel = []\n",
        "\n",
        "cluster_2_data_test = []\n",
        "cluster_2_doc_id_test = []\n",
        "cluster_2_label_test = []\n",
        "cluster_2_multilabel_test = []\n",
        "cluster_2_file_name_test = []\n",
        "\n",
        "# for statistics\n",
        "count_cluster_1_test = 0\n",
        "count_cluster_2_test = 0\n",
        "count_root_test = 0\n",
        "# we will just divide the train data and labels\n",
        "\n",
        "for combine_doc, label in zip(test_data, test_la):\n",
        "    if label == 'content':\n",
        "        pass\n",
        "    elif label in cluster_1_info:\n",
        "        count_cluster_1_test +=1\n",
        "        count_root_test +=1\n",
        "        cluster_1_data_test.append(combine_doc.split('\\n\\n\\n')[0])\n",
        "        cluster_1_data_test.append(combine_doc.split('\\n\\n\\n')[1])\n",
        "        cluster_1_label_test.append(label)\n",
        "        \n",
        "        cluster_1_multilabel_test.append(combine_doc.split('\\n\\n\\n')[4])\n",
        "        cluster_1_doc_id_test.append(combine_doc.split('\\n\\n\\n')[3])\n",
        "        cluster_1_file_name_test.append(combine_doc.split('\\n\\n\\n')[2])\n",
        "        cluster_1_label_test.append(label)\n",
        "        \n",
        "        cluster_1_multilabel_test.append(combine_doc.split('\\n\\n\\n')[4])\n",
        "        cluster_1_doc_id_test.append(combine_doc.split('\\n\\n\\n')[3])\n",
        "        cluster_1_file_name_test.append(combine_doc.split('\\n\\n\\n')[2])\n",
        "        \n",
        "        root_test_data.append(combine_doc.split('\\n\\n\\n')[0])\n",
        "        root_test_data.append(combine_doc.split('\\n\\n\\n')[1])\n",
        "        root_test_label.append(1)\n",
        "        root_test_doc_id.append(combine_doc.split('\\n\\n\\n')[3])\n",
        "        root_test_file_name.append(combine_doc.split('\\n\\n\\n')[2])\n",
        "        root_test_multilabel.append(combine_doc.split('\\n\\n\\n')[4])\n",
        "        root_test_label.append(1)\n",
        "        root_test_doc_id.append(combine_doc.split('\\n\\n\\n')[3])\n",
        "        root_test_file_name.append(combine_doc.split('\\n\\n\\n')[2])\n",
        "        root_test_multilabel.append(combine_doc.split('\\n\\n\\n')[4])\n",
        "        \n",
        "    elif label not in cluster_1_info:\n",
        "        count_cluster_2_test +=1\n",
        "        count_root_test +=1\n",
        "        cluster_2_data_test.append(combine_doc.split('\\n\\n\\n')[0])\n",
        "        cluster_2_data_test.append(combine_doc.split('\\n\\n\\n')[1])\n",
        "        cluster_2_label_test.append(label)\n",
        "        cluster_2_multilabel_test.append(combine_doc.split('\\n\\n\\n')[4])\n",
        "        cluster_2_doc_id_test.append(combine_doc.split('\\n\\n\\n')[3])\n",
        "        cluster_2_file_name_test.append(combine_doc.split('\\n\\n\\n')[2])\n",
        "        cluster_2_label_test.append(label)\n",
        "        cluster_2_multilabel_test.append(combine_doc.split('\\n\\n\\n')[4])\n",
        "        cluster_2_doc_id_test.append(combine_doc.split('\\n\\n\\n')[3])\n",
        "        cluster_2_file_name_test.append(combine_doc.split('\\n\\n\\n')[2])\n",
        "        \n",
        "        root_test_data.append(combine_doc.split('\\n\\n\\n')[0])\n",
        "        root_test_data.append(combine_doc.split('\\n\\n\\n')[1])\n",
        "        root_test_label.append(2)\n",
        "        root_test_doc_id.append(combine_doc.split('\\n\\n\\n')[3])\n",
        "        root_test_file_name.append(combine_doc.split('\\n\\n\\n')[2])\n",
        "        root_test_multilabel.append(combine_doc.split('\\n\\n\\n')[4])\n",
        "        root_test_label.append(2)\n",
        "        root_test_doc_id.append(combine_doc.split('\\n\\n\\n')[3])\n",
        "        root_test_file_name.append(combine_doc.split('\\n\\n\\n')[2])\n",
        "        root_test_multilabel.append(combine_doc.split('\\n\\n\\n')[4])\n",
        "        \n",
        "    else:\n",
        "        print('Something wrong')"
      ],
      "execution_count": 0,
      "outputs": []
    },
    {
      "metadata": {
        "id": "jk0PhKbOpmlW",
        "colab_type": "code",
        "outputId": "ea563baa-5af6-4437-c4f0-7178a3cc8780",
        "colab": {
          "base_uri": "https://localhost:8080/",
          "height": 119
        }
      },
      "cell_type": "code",
      "source": [
        "# Train statistics\n",
        "print(\"Total docs in cluster 1 train are: {}\".format(len(cluster_1_data)))\n",
        "print(\"Total docs in cluster 2 train are: {}\".format(len(cluster_2_data)))\n",
        "print(\"Total docs in root_classifier train are: {}\".format(len(root_data)))\n",
        "\n",
        "# test statistics\n",
        "print(\"Total docs in cluster 1 test are: {}\".format(len(cluster_1_data_test)))\n",
        "print(\"Total docs in cluster 2 test are: {}\".format(len(cluster_2_data_test)))\n",
        "print(\"Total docs in root test are: {}\".format(len(root_test_data)))"
      ],
      "execution_count": 0,
      "outputs": [
        {
          "output_type": "stream",
          "text": [
            "Total docs in cluster 1 train are: 1146\n",
            "Total docs in cluster 2 train are: 2634\n",
            "Total docs in root_classifier train are: 3780\n",
            "Total docs in cluster 1 test are: 512\n",
            "Total docs in cluster 2 test are: 1110\n",
            "Total docs in root test are: 1622\n"
          ],
          "name": "stdout"
        }
      ]
    },
    {
      "metadata": {
        "id": "ifP-d5V936hz",
        "colab_type": "text"
      },
      "cell_type": "markdown",
      "source": [
        "## Cluster 1 "
      ]
    },
    {
      "metadata": {
        "id": "Mqdw4S08Gixl",
        "colab_type": "text"
      },
      "cell_type": "markdown",
      "source": [
        "### Assiginig numbers to labels"
      ]
    },
    {
      "metadata": {
        "id": "rgeYCckJ36u1",
        "colab_type": "code",
        "outputId": "98872cbc-b2ef-46a1-af5d-a7a6419ceb56",
        "colab": {
          "base_uri": "https://localhost:8080/",
          "height": 265
        }
      },
      "cell_type": "code",
      "source": [
        "# Assigning numbers to labels of cluster 1 and 2\n",
        "num_label_cluster_1 = dict(list(enumerate(sorted(set(cluster_1_label)))))\n",
        "num_label_cluster_1"
      ],
      "execution_count": 0,
      "outputs": [
        {
          "output_type": "execute_result",
          "data": {
            "text/plain": [
              "{0: 'competition',\n",
              " 1: 'development',\n",
              " 2: 'economic_and_monetary_affairs',\n",
              " 3: 'energy',\n",
              " 4: 'enterprise',\n",
              " 5: 'external_relations',\n",
              " 6: 'external_trade',\n",
              " 7: 'fight_against_fraud',\n",
              " 8: 'foreign_and_security_policy',\n",
              " 9: 'human_rights',\n",
              " 10: 'humanitarian_aid',\n",
              " 11: 'maritime_affairs_and_fisheries',\n",
              " 12: 'research_innovation',\n",
              " 13: 'taxation'}"
            ]
          },
          "metadata": {
            "tags": []
          },
          "execution_count": 17
        }
      ]
    },
    {
      "metadata": {
        "id": "XKu-R8NUGonO",
        "colab_type": "text"
      },
      "cell_type": "markdown",
      "source": [
        "### Train sentence preparation"
      ]
    },
    {
      "metadata": {
        "id": "jx-tyGFwppHx",
        "colab_type": "code",
        "colab": {}
      },
      "cell_type": "code",
      "source": [
        "# Cluster 1 train data, sentence conversion\n",
        "cluster_1_sent_train = []  # List to store the sentence\n",
        "cluster_1_labels_train = [] # List to store the label(alpha)\n",
        "cluster_1_label_num_train = []\n",
        "\n",
        "\n",
        "for first_data, first_label in zip(cluster_1_data,cluster_1_label):\n",
        "    # start chunking the text into 30 words with 10 word slide\n",
        "    slides = slidingWindow(first_data.split(' '),30,10)\n",
        "        \n",
        "    for key,value in num_label_cluster_1.items():\n",
        "        if value == first_label:\n",
        "            num = key\n",
        "    \n",
        "    \n",
        "    for slide in slides:\n",
        "        cluster_1_sent_train.append(' '.join(slide).lower())\n",
        "        cluster_1_labels_train.append(first_label)\n",
        "        cluster_1_label_num_train.append(num)\n",
        "\n",
        "        \n"
      ],
      "execution_count": 0,
      "outputs": []
    },
    {
      "metadata": {
        "id": "6Z8LX0RgbVE4",
        "colab_type": "code",
        "outputId": "43621c0f-f76d-41e9-ac2f-2cad48909233",
        "colab": {
          "base_uri": "https://localhost:8080/",
          "height": 34
        }
      },
      "cell_type": "code",
      "source": [
        "len(cluster_1_sent_train)"
      ],
      "execution_count": 0,
      "outputs": [
        {
          "output_type": "execute_result",
          "data": {
            "text/plain": [
              "93458"
            ]
          },
          "metadata": {
            "tags": []
          },
          "execution_count": 19
        }
      ]
    },
    {
      "metadata": {
        "id": "wtbKz_bJMA7E",
        "colab_type": "code",
        "outputId": "86e06293-21b2-4e4f-8a56-15ef8bc14f66",
        "colab": {
          "base_uri": "https://localhost:8080/",
          "height": 265
        }
      },
      "cell_type": "code",
      "source": [
        "from collections import Counter\n",
        "Counter(cluster_1_labels_train)"
      ],
      "execution_count": 0,
      "outputs": [
        {
          "output_type": "execute_result",
          "data": {
            "text/plain": [
              "Counter({'competition': 4058,\n",
              "         'development': 6368,\n",
              "         'economic_and_monetary_affairs': 22867,\n",
              "         'energy': 7850,\n",
              "         'enterprise': 4779,\n",
              "         'external_relations': 9065,\n",
              "         'external_trade': 5581,\n",
              "         'fight_against_fraud': 3039,\n",
              "         'foreign_and_security_policy': 3556,\n",
              "         'human_rights': 4276,\n",
              "         'humanitarian_aid': 3605,\n",
              "         'maritime_affairs_and_fisheries': 9781,\n",
              "         'research_innovation': 5468,\n",
              "         'taxation': 3165})"
            ]
          },
          "metadata": {
            "tags": []
          },
          "execution_count": 20
        }
      ]
    },
    {
      "metadata": {
        "id": "4D0dmQ9CMBBd",
        "colab_type": "code",
        "colab": {}
      },
      "cell_type": "code",
      "source": [
        "class_weights_cls1 = dict()\n",
        "\n",
        "max_value = max(Counter(cluster_1_labels_train).values())\n",
        "\n",
        "for keys, values in Counter(cluster_1_labels_train).items():\n",
        "    for _keys, _values in num_label_cluster_1.items():\n",
        "        if keys == _values:\n",
        "            class_weights_cls1[_keys] = (max_value/ values)\n",
        "    "
      ],
      "execution_count": 0,
      "outputs": []
    },
    {
      "metadata": {
        "id": "sVjoYlVoMBAP",
        "colab_type": "code",
        "outputId": "c87a508d-0a6c-4471-ae55-c736fb84f899",
        "colab": {
          "base_uri": "https://localhost:8080/",
          "height": 265
        }
      },
      "cell_type": "code",
      "source": [
        "class_weights_cls1"
      ],
      "execution_count": 0,
      "outputs": [
        {
          "output_type": "execute_result",
          "data": {
            "text/plain": [
              "{0: 5.63504189255791,\n",
              " 1: 3.5909233668341707,\n",
              " 2: 1.0,\n",
              " 3: 2.9129936305732484,\n",
              " 4: 4.784892236869638,\n",
              " 5: 2.5225592939878654,\n",
              " 6: 4.097294391686078,\n",
              " 7: 7.524514642974663,\n",
              " 8: 6.430539932508436,\n",
              " 9: 5.347754911131899,\n",
              " 10: 6.343134535367545,\n",
              " 11: 2.3379000102239034,\n",
              " 12: 4.181967812728603,\n",
              " 13: 7.224960505529226}"
            ]
          },
          "metadata": {
            "tags": []
          },
          "execution_count": 22
        }
      ]
    },
    {
      "metadata": {
        "id": "-VDkrW7GGvVL",
        "colab_type": "text"
      },
      "cell_type": "markdown",
      "source": [
        "### One hot encoding train and test labels"
      ]
    },
    {
      "metadata": {
        "id": "vwd7rxfUGuo4",
        "colab_type": "code",
        "outputId": "a5016c17-a662-4953-b3bf-75fcef397977",
        "colab": {
          "base_uri": "https://localhost:8080/",
          "height": 107
        }
      },
      "cell_type": "code",
      "source": [
        "# Define one_hot_encoder object\n",
        "onehot_encoder = OneHotEncoder(sparse=False)\n",
        "\n",
        "cluster_1_train_label = onehot_encoder.fit_transform(np.reshape(cluster_1_label_num_train,(-1,1)))"
      ],
      "execution_count": 0,
      "outputs": [
        {
          "output_type": "stream",
          "text": [
            "/usr/local/lib/python3.6/dist-packages/sklearn/preprocessing/_encoders.py:371: FutureWarning: The handling of integer data will change in version 0.22. Currently, the categories are determined based on the range [0, max(values)], while in the future they will be determined based on the unique values.\n",
            "If you want the future behaviour and silence this warning, you can specify \"categories='auto'\".\n",
            "In case you used a LabelEncoder before this OneHotEncoder to convert the categories to integers, then you can now use the OneHotEncoder directly.\n",
            "  warnings.warn(msg, FutureWarning)\n"
          ],
          "name": "stderr"
        }
      ]
    },
    {
      "metadata": {
        "id": "AzfXxSCNG4HR",
        "colab_type": "text"
      },
      "cell_type": "markdown",
      "source": [
        "Tokenizing train sentences"
      ]
    },
    {
      "metadata": {
        "id": "bczn-grnG4kc",
        "colab_type": "code",
        "colab": {}
      },
      "cell_type": "code",
      "source": [
        "tokenizer = Tokenizer(num_words=50000)\n",
        "tokenizer.fit_on_texts(cluster_1_data)\n",
        "cluster_1_train_sequences = tokenizer.texts_to_sequences(cluster_1_sent_train)"
      ],
      "execution_count": 0,
      "outputs": []
    },
    {
      "metadata": {
        "id": "vvx8HVlOG6kh",
        "colab_type": "code",
        "outputId": "5475ce32-0dfe-490d-dbbe-38c2d4b1ae87",
        "colab": {
          "base_uri": "https://localhost:8080/",
          "height": 34
        }
      },
      "cell_type": "code",
      "source": [
        "word_index = tokenizer.word_index\n",
        "vocab_size = len(word_index)+1\n",
        "max_len = 30\n",
        "print('max_length is', max_len)\n",
        "cluster_1_padded_sents = keras.preprocessing.sequence.pad_sequences(cluster_1_train_sequences, maxlen=max_len, padding='post')"
      ],
      "execution_count": 0,
      "outputs": [
        {
          "output_type": "stream",
          "text": [
            "max_length is 30\n"
          ],
          "name": "stdout"
        }
      ]
    },
    {
      "metadata": {
        "id": "0UP3ffY6G-RM",
        "colab_type": "text"
      },
      "cell_type": "markdown",
      "source": [
        "### Embedding Matrix creation"
      ]
    },
    {
      "metadata": {
        "id": "FmheThMpG8V9",
        "colab_type": "code",
        "outputId": "7b00b546-4aca-47ae-9e47-1d468321a2c2",
        "colab": {
          "base_uri": "https://localhost:8080/",
          "height": 212
        }
      },
      "cell_type": "code",
      "source": [
        "# converting embedding matrix into a form that can be used in keras embedding layer\n",
        "embeddings_index = {}\n",
        "# with open(embding_path, 'r') as embpath:\n",
        "#     pretrained_embeding = embpath.readlines()\n",
        "    \n",
        "for i, line in enumerate(en_de):\n",
        "    if i == 0:\n",
        "        pass\n",
        "    else:\n",
        "        try:\n",
        "            values = line.split()\n",
        "            word = values[0]\n",
        "            coefs = np.asarray(values[1:], dtype='float32')\n",
        "            embeddings_index[word] = coefs\n",
        "        except ValueError:\n",
        "            print('Value error: {}'.format(values[1:5]))\n",
        "\n",
        "embedding_matrix = np.zeros((len(word_index) + 1, 300))\n",
        "for word, i in word_index.items():\n",
        "    embedding_vector = embeddings_index.get(word)\n",
        "    if embedding_vector is not None:\n",
        "        # words not found in embedding index will be all-zeros.\n",
        "        embedding_matrix[i] = embedding_vector"
      ],
      "execution_count": 0,
      "outputs": [
        {
          "output_type": "stream",
          "text": [
            "Value error: ['·', '-0.116043', '-0.0278416', '0.0375914']\n",
            "Value error: ['—', '-0.000894651', '0.0377289', '-0.0714999']\n",
            "Value error: ['gebäude', '-0.0360703', '-0.0850809', '-0.0597942']\n",
            "Value error: ['waldfläche', '-0.0314779', '-0.0465583', '-0.0163933']\n",
            "Value error: ['verkehrsfläche', '-0.0356581', '-0.0029205', '0.0181392']\n",
            "Value error: ['erholungsfläche', '-0.0368387', '-0.0377135', '0.00746337']\n",
            "Value error: ['landwirtschaftsfläche', '-0.0263421', '-0.046624', '-0.0177181']\n",
            "Value error: ['sonstige_flächen', '-0.0559894', '-0.0219282', '-0.000380597']\n",
            "Value error: ['gesamtfläche', '-0.0660608', '-0.0324034', '0.0221355']\n",
            "Value error: ['wasserfläche', '-0.0588425', '-0.0477398', '-0.0339936']\n",
            "Value error: ['•', '-0.0626246', '-0.0190532', '-0.0432283']\n"
          ],
          "name": "stdout"
        }
      ]
    },
    {
      "metadata": {
        "id": "tCdLGiPM0UYL",
        "colab_type": "code",
        "outputId": "55a26ef6-116d-4d83-d387-7d006961e372",
        "colab": {
          "base_uri": "https://localhost:8080/",
          "height": 34
        }
      },
      "cell_type": "code",
      "source": [
        "print('shape embedding matrix: {}'.format(embedding_matrix.shape))"
      ],
      "execution_count": 0,
      "outputs": [
        {
          "output_type": "stream",
          "text": [
            "shape embedding matrix: (38326, 300)\n"
          ],
          "name": "stdout"
        }
      ]
    },
    {
      "metadata": {
        "id": "IMJwatXBCp1I",
        "colab_type": "text"
      },
      "cell_type": "markdown",
      "source": [
        "### One Hot Encoding Labels\n",
        "\n",
        "The numerical labels needs to be converted into its one hot encoded form."
      ]
    },
    {
      "metadata": {
        "id": "MNegok1-HTY5",
        "colab_type": "text"
      },
      "cell_type": "markdown",
      "source": [
        "### Callbacks\n"
      ]
    },
    {
      "metadata": {
        "id": "Is61FoE5HAeo",
        "colab_type": "code",
        "outputId": "d15a25d9-fc63-418c-810f-702cd2702e68",
        "colab": {
          "base_uri": "https://localhost:8080/",
          "height": 51
        }
      },
      "cell_type": "code",
      "source": [
        "# Other callbacks \n",
        "reduce_rate = keras.callbacks.ReduceLROnPlateau(monitor='val_loss', factor=0.1, patience=0, verbose=1, \n",
        "                                                mode='auto', epsilon=0.0001, cooldown=0, min_lr=0)\n",
        "early_stop = keras.callbacks.EarlyStopping(monitor='val_loss', min_delta=0, \n",
        "                                           patience=3, verbose=1, mode='auto')"
      ],
      "execution_count": 0,
      "outputs": [
        {
          "output_type": "stream",
          "text": [
            "/usr/local/lib/python3.6/dist-packages/keras/callbacks.py:1065: UserWarning: `epsilon` argument is deprecated and will be removed, use `min_delta` instead.\n",
            "  warnings.warn('`epsilon` argument is deprecated and '\n"
          ],
          "name": "stderr"
        }
      ]
    },
    {
      "metadata": {
        "id": "07UMP2sQ4j62",
        "colab_type": "code",
        "colab": {}
      },
      "cell_type": "code",
      "source": [
        "learning_rate = 0.001\n",
        "optimizer = keras.optimizers.RMSprop(lr=learning_rate, rho=0.9, epsilon=None, decay=0.0)\n",
        "#optimizer = keras.optimizers.Adam(lr=learning_rate, beta_1=0.9, beta_2=0.999, epsilon=None, decay=0.0, amsgrad=False)"
      ],
      "execution_count": 0,
      "outputs": []
    },
    {
      "metadata": {
        "id": "J4RzVNho_7dD",
        "colab_type": "code",
        "outputId": "d553094b-af13-41da-d2c8-570ff9a5d257",
        "colab": {
          "base_uri": "https://localhost:8080/",
          "height": 107
        }
      },
      "cell_type": "code",
      "source": [
        "# Cluster 1 test data, sentence conversion\n",
        "cluster_1_sent_test = []  # List to store the sentence\n",
        "cluster_1_labels_test = [] # List to store the label(alpha)\n",
        "cluster_1_label_num_test = []\n",
        "\n",
        "\n",
        "for first_data, first_label in zip(cluster_1_data_test, cluster_1_label_test):\n",
        "    # start chunking the text into 30 words with 10 word slide\n",
        "    slides = slidingWindow(first_data.split(' '),30,10)\n",
        "        \n",
        "    for key,value in num_label_cluster_1.items():\n",
        "        if value == first_label:\n",
        "            num = key\n",
        "    \n",
        "    \n",
        "    for slide in slides:\n",
        "        cluster_1_sent_test.append(' '.join(slide).lower())\n",
        "        cluster_1_labels_test.append(first_label)\n",
        "        cluster_1_label_num_test.append(num)\n",
        "\n",
        "cluster_1_test_label = onehot_encoder.fit_transform(np.reshape(cluster_1_label_num_test,(-1,1)))\n",
        "cluster_1_test_sequences = tokenizer.texts_to_sequences(cluster_1_sent_test)\n",
        "# Testing the data\n",
        "cluster_1_padded_sents_test = keras.preprocessing.sequence.pad_sequences(cluster_1_test_sequences, maxlen=max_len, padding='post')"
      ],
      "execution_count": 0,
      "outputs": [
        {
          "output_type": "stream",
          "text": [
            "/usr/local/lib/python3.6/dist-packages/sklearn/preprocessing/_encoders.py:371: FutureWarning: The handling of integer data will change in version 0.22. Currently, the categories are determined based on the range [0, max(values)], while in the future they will be determined based on the unique values.\n",
            "If you want the future behaviour and silence this warning, you can specify \"categories='auto'\".\n",
            "In case you used a LabelEncoder before this OneHotEncoder to convert the categories to integers, then you can now use the OneHotEncoder directly.\n",
            "  warnings.warn(msg, FutureWarning)\n"
          ],
          "name": "stderr"
        }
      ]
    },
    {
      "metadata": {
        "id": "EPTWgxMHHbGM",
        "colab_type": "text"
      },
      "cell_type": "markdown",
      "source": [
        "### Training"
      ]
    },
    {
      "metadata": {
        "id": "0pHqyBnrHaBy",
        "colab_type": "code",
        "outputId": "aa49b849-799a-4307-8f2a-c35deea99f64",
        "colab": {
          "base_uri": "https://localhost:8080/",
          "height": 801
        }
      },
      "cell_type": "code",
      "source": [
        "# Create sequential model\n",
        "model = Sequential()\n",
        "model.add(emb(vocab_size, 300, weights=[embedding_matrix], input_length=30, trainable=True))   \n",
        "model.add(Bidirectional(LSTM(40, activation='tanh',return_sequences=True, kernel_regularizer=keras.regularizers.l2(0.04))))# LSTM layer \n",
        "model.add(keras.layers.Dropout(0.5))\n",
        "model.add(Bidirectional(LSTM(40, activation='tanh',return_sequences=False, kernel_regularizer=keras.regularizers.l2(0.01))))\n",
        "model.add(keras.layers.Dropout(0.5))\n",
        "model.add(Dense(14, activation='softmax'))\n",
        "model.compile(loss='categorical_crossentropy', optimizer= optimizer, metrics=['accuracy'])\n",
        "print(model.summary())\n",
        "model.fit(cluster_1_padded_sents, cluster_1_train_label, validation_data=(cluster_1_padded_sents_test,cluster_1_test_label), epochs=20, batch_size=32, \n",
        "          verbose=1, callbacks=[reduce_rate,early_stop])"
      ],
      "execution_count": 0,
      "outputs": [
        {
          "output_type": "stream",
          "text": [
            "WARNING:tensorflow:From /usr/local/lib/python3.6/dist-packages/keras/backend/tensorflow_backend.py:3445: calling dropout (from tensorflow.python.ops.nn_ops) with keep_prob is deprecated and will be removed in a future version.\n",
            "Instructions for updating:\n",
            "Please use `rate` instead of `keep_prob`. Rate should be set to `rate = 1 - keep_prob`.\n",
            "_________________________________________________________________\n",
            "Layer (type)                 Output Shape              Param #   \n",
            "=================================================================\n",
            "embedding_1 (Embedding)      (None, 30, 300)           11497800  \n",
            "_________________________________________________________________\n",
            "bidirectional_1 (Bidirection (None, 30, 80)            109120    \n",
            "_________________________________________________________________\n",
            "dropout_1 (Dropout)          (None, 30, 80)            0         \n",
            "_________________________________________________________________\n",
            "bidirectional_2 (Bidirection (None, 80)                38720     \n",
            "_________________________________________________________________\n",
            "dropout_2 (Dropout)          (None, 80)                0         \n",
            "_________________________________________________________________\n",
            "dense_1 (Dense)              (None, 14)                1134      \n",
            "=================================================================\n",
            "Total params: 11,646,774\n",
            "Trainable params: 11,646,774\n",
            "Non-trainable params: 0\n",
            "_________________________________________________________________\n",
            "None\n",
            "WARNING:tensorflow:From /usr/local/lib/python3.6/dist-packages/tensorflow/python/ops/math_ops.py:3066: to_int32 (from tensorflow.python.ops.math_ops) is deprecated and will be removed in a future version.\n",
            "Instructions for updating:\n",
            "Use tf.cast instead.\n",
            "Train on 93458 samples, validate on 42352 samples\n",
            "Epoch 1/20\n",
            "93458/93458 [==============================] - 688s 7ms/step - loss: 1.9751 - acc: 0.4135 - val_loss: 1.9819 - val_acc: 0.3891\n",
            "Epoch 2/20\n",
            "93458/93458 [==============================] - 682s 7ms/step - loss: 1.2307 - acc: 0.6350 - val_loss: 1.7747 - val_acc: 0.5041\n",
            "Epoch 3/20\n",
            "93458/93458 [==============================] - 686s 7ms/step - loss: 0.9034 - acc: 0.7623 - val_loss: 1.7200 - val_acc: 0.5528\n",
            "Epoch 4/20\n",
            "93458/93458 [==============================] - 687s 7ms/step - loss: 0.7391 - acc: 0.8150 - val_loss: 1.9271 - val_acc: 0.5463\n",
            "\n",
            "Epoch 00004: ReduceLROnPlateau reducing learning rate to 0.00010000000474974513.\n",
            "Epoch 5/20\n",
            "93458/93458 [==============================] - 689s 7ms/step - loss: 0.5243 - acc: 0.8730 - val_loss: 1.7905 - val_acc: 0.5754\n",
            "\n",
            "Epoch 00005: ReduceLROnPlateau reducing learning rate to 1.0000000474974514e-05.\n",
            "Epoch 00005: early stopping\n"
          ],
          "name": "stdout"
        },
        {
          "output_type": "execute_result",
          "data": {
            "text/plain": [
              "<keras.callbacks.History at 0x7f1ef23c5470>"
            ]
          },
          "metadata": {
            "tags": []
          },
          "execution_count": 31
        }
      ]
    },
    {
      "metadata": {
        "id": "ApFDb0nU3baR",
        "colab_type": "code",
        "outputId": "2eeb78e4-09a7-4811-d1b9-da8394b72c49",
        "colab": {
          "base_uri": "https://localhost:8080/",
          "height": 52
        }
      },
      "cell_type": "code",
      "source": [
        "model.evaluate(cluster_1_padded_sents_test, cluster_1_test_label)"
      ],
      "execution_count": 0,
      "outputs": [
        {
          "output_type": "stream",
          "text": [
            "42352/42352 [==============================] - 34s 796us/step\n"
          ],
          "name": "stdout"
        },
        {
          "output_type": "execute_result",
          "data": {
            "text/plain": [
              "[1.790470532008982, 0.5754391764261428]"
            ]
          },
          "metadata": {
            "tags": []
          },
          "execution_count": 32
        }
      ]
    },
    {
      "metadata": {
        "id": "PKDB_PCQprMM",
        "colab_type": "code",
        "outputId": "881c4138-1b26-4766-d9f4-10031ec89878",
        "colab": {
          "base_uri": "https://localhost:8080/",
          "height": 34
        }
      },
      "cell_type": "code",
      "source": [
        "cluster_1_padded_sents_test[0].shape, cluster_1_test_label[0].shape"
      ],
      "execution_count": 0,
      "outputs": [
        {
          "output_type": "execute_result",
          "data": {
            "text/plain": [
              "((30,), (14,))"
            ]
          },
          "metadata": {
            "tags": []
          },
          "execution_count": 33
        }
      ]
    },
    {
      "metadata": {
        "id": "4kfJ56HSAMgX",
        "colab_type": "text"
      },
      "cell_type": "markdown",
      "source": [
        "### Test Data Preparation\n"
      ]
    },
    {
      "metadata": {
        "id": "2knH3IVOH6hy",
        "colab_type": "text"
      },
      "cell_type": "markdown",
      "source": [
        "### Evaluation"
      ]
    },
    {
      "metadata": {
        "id": "1i5UgxsFAHlD",
        "colab_type": "code",
        "colab": {}
      },
      "cell_type": "code",
      "source": [
        "# Cluster 1 test data, sentence conversion\n",
        "from sklearn.preprocessing import MinMaxScaler, Normalizer, StandardScaler\n",
        "\n",
        "doc_id_pred = []\n",
        "file_name_pred = []\n",
        "multi_label_pred = []\n",
        "pred_one_hot_encoded = []\n",
        "label_one_hot_encoded = []\n",
        "prd_for_doc = []\n",
        "\n",
        "original_label = []\n",
        "predicted_label = []\n",
        "\n",
        "import warnings\n",
        "warnings.simplefilter(action='ignore', category=FutureWarning)\n",
        "from collections import Counter \n",
        "\n",
        "\n",
        "counter = 0\n",
        "for first_data, first_label, _doc_id, _multi, _file_name in zip(cluster_1_data_test, cluster_1_label_test, \n",
        "                                   cluster_1_doc_id_test,cluster_1_multilabel_test,\n",
        "                                   cluster_1_file_name_test ):\n",
        "    \n",
        "    ## TMP LIST for each doc\n",
        "    sent_pred = []\n",
        "    \n",
        "    # start chunking the text into 30 words with 10 word slide\n",
        "    slides = slidingWindow(first_data.split(' '),30,10)\n",
        "        \n",
        "    for key,value in num_label_cluster_1.items():\n",
        "        if value == first_label:\n",
        "            num = key\n",
        "    \n",
        "    doc_sent = []\n",
        "    for slide in slides:\n",
        "        \n",
        "        a = ' '.join(slide).lower()\n",
        "        \n",
        "        doc_sent.append(a)\n",
        "        \n",
        "    # we have the slide here, create the sequence from text to numbers\n",
        "    text_sequence = tokenizer.texts_to_sequences(doc_sent)\n",
        "\n",
        "\n",
        "    # pad it to make flat 30 lenght\n",
        "    text_padded = keras.preprocessing.sequence.pad_sequences(text_sequence, maxlen=30, padding='post')\n",
        "\n",
        "    # Convert the label for this into one hot encoding\n",
        "    label_one_hot = onehot_encoder.fit_transform(np.reshape(num,(1,-1)))\n",
        "\n",
        "    # predict the label\n",
        "    sent_pred.append(model.predict(text_padded))        \n",
        "\n",
        "    nor_data = []\n",
        "    for predc in sent_pred:\n",
        "        transformer2 = Normalizer().fit(predc)\n",
        "        nor_data.append(transformer2.transform(predc))    \n",
        "        \n",
        "    sent = np.zeros(14)\n",
        "    for sen in nor_data:\n",
        "        for i in range(len(sen)):\n",
        "            sent += sen[i]\n",
        "    \n",
        "    predicted_label.append(np.argmax(sent, axis=0))\n",
        "    original_label.append(num)\n",
        "\n",
        "    label_one_hot_encoded.append(num)\n",
        "    doc_id_pred.append(_doc_id)\n",
        "    file_name_pred.append(_file_name)\n",
        "    multi_label_pred.append(_multi)"
      ],
      "execution_count": 0,
      "outputs": []
    },
    {
      "metadata": {
        "id": "RKYSghbgHcsn",
        "colab_type": "code",
        "outputId": "6e07d47d-1e40-42bc-b0cb-af6803161979",
        "colab": {
          "base_uri": "https://localhost:8080/",
          "height": 34
        }
      },
      "cell_type": "code",
      "source": [
        "from sklearn.metrics import accuracy_score, confusion_matrix, classification_report\n",
        "accuracy_score(original_label, predicted_label)"
      ],
      "execution_count": 0,
      "outputs": [
        {
          "output_type": "execute_result",
          "data": {
            "text/plain": [
              "0.818359375"
            ]
          },
          "metadata": {
            "tags": []
          },
          "execution_count": 35
        }
      ]
    },
    {
      "metadata": {
        "id": "3TVNFRX7J_wz",
        "colab_type": "code",
        "outputId": "aec681bd-cb3b-429a-917d-db644512c3f3",
        "colab": {
          "base_uri": "https://localhost:8080/",
          "height": 265
        }
      },
      "cell_type": "code",
      "source": [
        "Counter(original_label)"
      ],
      "execution_count": 0,
      "outputs": [
        {
          "output_type": "execute_result",
          "data": {
            "text/plain": [
              "Counter({0: 30,\n",
              "         1: 40,\n",
              "         2: 72,\n",
              "         3: 46,\n",
              "         4: 46,\n",
              "         5: 18,\n",
              "         6: 34,\n",
              "         7: 18,\n",
              "         8: 42,\n",
              "         9: 16,\n",
              "         10: 12,\n",
              "         11: 66,\n",
              "         12: 38,\n",
              "         13: 34})"
            ]
          },
          "metadata": {
            "tags": []
          },
          "execution_count": 36
        }
      ]
    },
    {
      "metadata": {
        "id": "IN5dJzbgHC8L",
        "colab_type": "code",
        "outputId": "92d01e5e-df4e-4845-fbff-a95ccfd7909d",
        "colab": {
          "base_uri": "https://localhost:8080/",
          "height": 265
        }
      },
      "cell_type": "code",
      "source": [
        "confusion_matrix(original_label, predicted_label)"
      ],
      "execution_count": 0,
      "outputs": [
        {
          "output_type": "execute_result",
          "data": {
            "text/plain": [
              "array([[27,  0,  0,  2,  0,  0,  0,  0,  0,  0,  0,  1,  0,  0],\n",
              "       [ 0, 27,  0,  0,  0,  6,  1,  0,  2,  0,  0,  4,  0,  0],\n",
              "       [ 0,  0, 72,  0,  0,  0,  0,  0,  0,  0,  0,  0,  0,  0],\n",
              "       [ 0,  0,  1, 43,  0,  0,  1,  0,  0,  0,  0,  0,  0,  1],\n",
              "       [ 0,  1,  4,  5, 29,  0,  2,  0,  2,  0,  0,  0,  3,  0],\n",
              "       [ 0,  0,  0,  2,  0, 15,  1,  0,  0,  0,  0,  0,  0,  0],\n",
              "       [ 2,  4,  0,  0,  1,  4, 23,  0,  0,  0,  0,  0,  0,  0],\n",
              "       [ 1,  0,  1,  0,  0,  0,  0, 16,  0,  0,  0,  0,  0,  0],\n",
              "       [ 0,  2,  0,  2,  0,  3,  2,  0, 28,  3,  0,  0,  2,  0],\n",
              "       [ 0,  0,  0,  0,  0,  2,  0,  0,  0, 14,  0,  0,  0,  0],\n",
              "       [ 0,  0,  0,  0,  0,  0,  0,  0,  0,  0, 10,  2,  0,  0],\n",
              "       [ 3,  0,  0,  0,  0,  0,  0,  0,  0,  0,  0, 63,  0,  0],\n",
              "       [ 0,  0,  0,  6,  2,  1,  0,  0,  0,  0,  0,  0, 29,  0],\n",
              "       [ 1,  0,  4,  4,  0,  0,  2,  0,  0,  0,  0,  0,  0, 23]])"
            ]
          },
          "metadata": {
            "tags": []
          },
          "execution_count": 37
        }
      ]
    },
    {
      "metadata": {
        "id": "ppjTeB_oGm7i",
        "colab_type": "code",
        "outputId": "6a2c53ca-1a97-4f40-d1d9-5dd46270011c",
        "colab": {
          "base_uri": "https://localhost:8080/",
          "height": 390
        }
      },
      "cell_type": "code",
      "source": [
        "print(classification_report(original_label, predicted_label))"
      ],
      "execution_count": 0,
      "outputs": [
        {
          "output_type": "stream",
          "text": [
            "              precision    recall  f1-score   support\n",
            "\n",
            "           0       0.79      0.90      0.84        30\n",
            "           1       0.79      0.68      0.73        40\n",
            "           2       0.88      1.00      0.94        72\n",
            "           3       0.67      0.93      0.78        46\n",
            "           4       0.91      0.63      0.74        46\n",
            "           5       0.48      0.83      0.61        18\n",
            "           6       0.72      0.68      0.70        34\n",
            "           7       1.00      0.89      0.94        18\n",
            "           8       0.88      0.67      0.76        42\n",
            "           9       0.82      0.88      0.85        16\n",
            "          10       1.00      0.83      0.91        12\n",
            "          11       0.90      0.95      0.93        66\n",
            "          12       0.85      0.76      0.81        38\n",
            "          13       0.96      0.68      0.79        34\n",
            "\n",
            "   micro avg       0.82      0.82      0.82       512\n",
            "   macro avg       0.83      0.81      0.81       512\n",
            "weighted avg       0.84      0.82      0.82       512\n",
            "\n"
          ],
          "name": "stdout"
        }
      ]
    },
    {
      "metadata": {
        "id": "3k3VzYoQH53h",
        "colab_type": "code",
        "outputId": "f3f3f52e-c1c3-42f7-c76b-f604d63e8599",
        "colab": {
          "base_uri": "https://localhost:8080/",
          "height": 1004
        }
      },
      "cell_type": "code",
      "source": [
        "scores = model.evaluate(cluster_1_padded_sents_test, cluster_1_test_label, verbose=1)\n",
        "print(\"Accuracy: %.2f%%\" % (scores[1]*100))\n",
        "# Classification Report (Precision, Recall and F1-Score)\n",
        "\n",
        "\n",
        "y_true = np.argmax(cluster_1_test_label, axis=1)\n",
        "y_pred = np.argmax(model.predict(cluster_1_padded_sents_test),axis=1)\n",
        "classificationReport = classification_report(y_true, y_pred)\n",
        "\n",
        "print(classificationReport)\n",
        "\n",
        "conf = confusion_matrix(y_true, y_pred)\n",
        "seaborn.heatmap(conf)\n",
        "print(confusion_matrix(y_true, y_pred))"
      ],
      "execution_count": 0,
      "outputs": [
        {
          "output_type": "stream",
          "text": [
            "42352/42352 [==============================] - 35s 821us/step\n",
            "Accuracy: 57.54%\n",
            "              precision    recall  f1-score   support\n",
            "\n",
            "           0       0.51      0.54      0.52      2389\n",
            "           1       0.51      0.41      0.45      3193\n",
            "           2       0.76      0.86      0.81      8008\n",
            "           3       0.45      0.69      0.54      3024\n",
            "           4       0.42      0.36      0.39      3304\n",
            "           5       0.30      0.47      0.36      1789\n",
            "           6       0.49      0.42      0.45      3220\n",
            "           7       0.45      0.48      0.46      1143\n",
            "           8       0.66      0.41      0.51      2801\n",
            "           9       0.47      0.55      0.51      1221\n",
            "          10       0.55      0.65      0.60       810\n",
            "          11       0.70      0.70      0.70      6012\n",
            "          12       0.50      0.39      0.44      2642\n",
            "          13       0.69      0.45      0.55      2796\n",
            "\n",
            "   micro avg       0.58      0.58      0.58     42352\n",
            "   macro avg       0.53      0.53      0.52     42352\n",
            "weighted avg       0.58      0.58      0.57     42352\n",
            "\n",
            "[[1301    7  152  239  123   15   86   62   13   99    5  177   16   94]\n",
            " [  33 1308  159   50   47  595  200   25   75   56  156  379  105    5]\n",
            " [  95   62 6874  196  196   56   68  170   16   15    4  180   46   30]\n",
            " [ 122   43  158 2079  156   25   51   10   24   11    1  178   83   83]\n",
            " [  62   84  439  475 1198   70  168   40  142   56   11  140  353   66]\n",
            " [  48  131   56  135   48  837  147   64   50   78   29  107   31   28]\n",
            " [ 115  250  139   90  209  500 1347   70   47   70   38  118  109  118]\n",
            " [ 100    8  146   40   29   47   51  544    3   39    0   79   11   46]\n",
            " [  93  148   55  221   75  221  174   30 1159  228   94  131  146   26]\n",
            " [  40   41   25   22    4  119   53   27  117  674   66   12    5   16]\n",
            " [   8   67   14   22    9   45    1    1   19   25  527   65    6    1]\n",
            " [ 327  204  350  433  135   73   62   26   29   15   17 4237   73   31]\n",
            " [  15  203  149  410  249  160  183    8   44   19    7  159 1020   16]\n",
            " [ 209    5  275  208  361   40  164  138    8   35    1   63   23 1266]]\n"
          ],
          "name": "stdout"
        },
        {
          "output_type": "display_data",
          "data": {
            "image/png": "[encoded data removed]",
            "text/plain": [
              "<Figure size 576x396 with 2 Axes>"
            ]
          },
          "metadata": {
            "tags": []
          }
        }
      ]
    },
    {
      "metadata": {
        "id": "KAXATl5DLuNm",
        "colab_type": "text"
      },
      "cell_type": "markdown",
      "source": [
        "## Cluster 2"
      ]
    },
    {
      "metadata": {
        "id": "pcJJw8T-L4D4",
        "colab_type": "text"
      },
      "cell_type": "markdown",
      "source": [
        "### Assigning numbers to labels"
      ]
    },
    {
      "metadata": {
        "id": "JvgXk-4hHZOB",
        "colab_type": "code",
        "outputId": "9c96e6f0-0238-4496-8bf5-6c8a476e38eb",
        "colab": {
          "base_uri": "https://localhost:8080/",
          "height": 323
        }
      },
      "cell_type": "code",
      "source": [
        "num_label_cluster_2 = dict(list(enumerate(sorted(set(cluster_2_label)))))\n",
        "num_label_cluster_2\n"
      ],
      "execution_count": 0,
      "outputs": [
        {
          "output_type": "execute_result",
          "data": {
            "text/plain": [
              "{0: 'agriculture',\n",
              " 1: 'audiovisual_and_media',\n",
              " 2: 'budget',\n",
              " 3: 'consumers',\n",
              " 4: 'culture',\n",
              " 5: 'customs',\n",
              " 6: 'education_training_youth',\n",
              " 7: 'employment_and_social_policy',\n",
              " 8: 'enlargement',\n",
              " 9: 'environment',\n",
              " 10: 'food_safety',\n",
              " 11: 'information_society',\n",
              " 12: 'institutional_affairs',\n",
              " 13: 'internal_market',\n",
              " 14: 'justice_freedom_security',\n",
              " 15: 'public_health',\n",
              " 16: 'regional_policy',\n",
              " 17: 'transport'}"
            ]
          },
          "metadata": {
            "tags": []
          },
          "execution_count": 18
        }
      ]
    },
    {
      "metadata": {
        "id": "GEckdQiwMGah",
        "colab_type": "text"
      },
      "cell_type": "markdown",
      "source": [
        "### Tain sentence preparation"
      ]
    },
    {
      "metadata": {
        "id": "JkpvvKX1MDEF",
        "colab_type": "code",
        "colab": {}
      },
      "cell_type": "code",
      "source": [
        "# Cluster 2 train data, sentence conversion\n",
        "cluster_2_sent_train = []  # List to store the sentence\n",
        "cluster_2_labels_train = [] # List to store the label(alpha)\n",
        "cluster_2_label_num_train = []\n",
        "\n",
        "\n",
        "for second_data, second_label in zip(cluster_2_data, cluster_2_label):\n",
        "    # start chunking the text into 30 words with 10 word slide\n",
        "    slides = slidingWindow(second_data.split(' '),30,10)\n",
        "        \n",
        "    for key,value in num_label_cluster_2.items():\n",
        "        if value == second_label:\n",
        "            num = key\n",
        "    \n",
        "    \n",
        "    for slide in slides:\n",
        "        cluster_2_sent_train.append(' '.join(slide).lower())\n",
        "        cluster_2_labels_train.append(second_label)\n",
        "        cluster_2_label_num_train.append(num)\n",
        "        \n",
        "# Cluster 2 test data        \n",
        "cluster_2_sent_test = []  # List to store the sentence\n",
        "cluster_2_labels_test = [] # List to store the label(alpha)\n",
        "cluster_2_label_num_test = []\n",
        "\n",
        "\n",
        "for second_data, second_label in zip(cluster_2_data_test, cluster_2_label_test):\n",
        "    # start chunking the text into 30 words with 10 word slide\n",
        "    slides = slidingWindow(second_data.split(' '),30,10)\n",
        "        \n",
        "    for key,value in num_label_cluster_2.items():\n",
        "        if value == second_label:\n",
        "            num = key\n",
        "    \n",
        "    \n",
        "    for slide in slides:\n",
        "        cluster_2_sent_test.append(' '.join(slide).lower())\n",
        "        cluster_2_labels_test.append(second_label)\n",
        "        cluster_2_label_num_test.append(num)"
      ],
      "execution_count": 0,
      "outputs": []
    },
    {
      "metadata": {
        "id": "Cp9xlfrLtYo-",
        "colab_type": "code",
        "outputId": "2cc7330e-968c-4e52-f7f4-1a41746f3436",
        "colab": {
          "base_uri": "https://localhost:8080/",
          "height": 34
        }
      },
      "cell_type": "code",
      "source": [
        "len(cluster_2_sent_train)"
      ],
      "execution_count": 0,
      "outputs": [
        {
          "output_type": "execute_result",
          "data": {
            "text/plain": [
              "202900"
            ]
          },
          "metadata": {
            "tags": []
          },
          "execution_count": 20
        }
      ]
    },
    {
      "metadata": {
        "id": "lOCPUGsAMNVD",
        "colab_type": "text"
      },
      "cell_type": "markdown",
      "source": [
        "### Tokenizing train sentences & one hot encoding train test labels"
      ]
    },
    {
      "metadata": {
        "id": "9iY3p8HjMIgM",
        "colab_type": "code",
        "outputId": "b48b054b-48fe-4559-d178-f759097eaa13",
        "colab": {
          "base_uri": "https://localhost:8080/",
          "height": 105
        }
      },
      "cell_type": "code",
      "source": [
        "# tokenizing cluster 2 sents\n",
        "tokenizer_cls2 = Tokenizer()\n",
        "tokenizer_cls2.fit_on_texts(cluster_2_data)\n",
        "cluster_2_train_sequences = tokenizer_cls2.texts_to_sequences(cluster_2_sent_train)\n",
        "cluster_2_test_sequences = tokenizer_cls2.texts_to_sequences(cluster_2_sent_test)\n",
        "\n",
        "# padding the sentences\n",
        "cluster_2_padded_sents = keras.preprocessing.sequence.pad_sequences(cluster_2_train_sequences, maxlen=30, padding='post')\n",
        "\n",
        "# checking vocab size\n",
        "word_index_cls2 = tokenizer_cls2.word_index\n",
        "vocab_size_cls2 = len(word_index_cls2)+1\n",
        "onehot_encoder = OneHotEncoder(sparse=False)\n",
        "\n",
        "onehot_encoder.fit(np.reshape(cluster_2_label_num_train,(-1,1)))\n",
        "\n",
        "cluster_2_train_label = onehot_encoder.transform(np.reshape(cluster_2_label_num_train,(-1,1)))\n",
        "cluster_2_test_label = onehot_encoder.transform(np.reshape(cluster_2_label_num_test,(-1,1)))\n"
      ],
      "execution_count": 0,
      "outputs": [
        {
          "output_type": "stream",
          "text": [
            "/usr/local/lib/python3.6/dist-packages/sklearn/preprocessing/_encoders.py:371: FutureWarning: The handling of integer data will change in version 0.22. Currently, the categories are determined based on the range [0, max(values)], while in the future they will be determined based on the unique values.\n",
            "If you want the future behaviour and silence this warning, you can specify \"categories='auto'\".\n",
            "In case you used a LabelEncoder before this OneHotEncoder to convert the categories to integers, then you can now use the OneHotEncoder directly.\n",
            "  warnings.warn(msg, FutureWarning)\n"
          ],
          "name": "stderr"
        }
      ]
    },
    {
      "metadata": {
        "id": "w0nE9TMBs_C6",
        "colab_type": "code",
        "outputId": "1aef3c9e-1daa-4f3a-edcf-ec0c04242077",
        "colab": {
          "base_uri": "https://localhost:8080/",
          "height": 34
        }
      },
      "cell_type": "code",
      "source": [
        "len(cluster_2_train_sequences), len(cluster_2_train_label)"
      ],
      "execution_count": 0,
      "outputs": [
        {
          "output_type": "execute_result",
          "data": {
            "text/plain": [
              "(202900, 202900)"
            ]
          },
          "metadata": {
            "tags": []
          },
          "execution_count": 22
        }
      ]
    },
    {
      "metadata": {
        "id": "ZcnGRNjB9Nj-",
        "colab_type": "code",
        "colab": {}
      },
      "cell_type": "code",
      "source": [
        "cluster_2_padded_sents_test = keras.preprocessing.sequence.pad_sequences(cluster_2_test_sequences, maxlen=30, padding='post')"
      ],
      "execution_count": 0,
      "outputs": []
    },
    {
      "metadata": {
        "id": "cN7ASuyXcPif",
        "colab_type": "code",
        "outputId": "746b14f3-562a-41b9-dd1e-b2a7277e1bee",
        "colab": {
          "base_uri": "https://localhost:8080/",
          "height": 51
        }
      },
      "cell_type": "code",
      "source": [
        "cluster_2_train_label[1]"
      ],
      "execution_count": 0,
      "outputs": [
        {
          "output_type": "execute_result",
          "data": {
            "text/plain": [
              "array([0., 0., 0., 0., 0., 0., 0., 0., 0., 0., 0., 1., 0., 0., 0., 0., 0.,\n",
              "       0.])"
            ]
          },
          "metadata": {
            "tags": []
          },
          "execution_count": 24
        }
      ]
    },
    {
      "metadata": {
        "id": "7-FPFfCwMVFK",
        "colab_type": "text"
      },
      "cell_type": "markdown",
      "source": [
        "### Embedding Matrix creation"
      ]
    },
    {
      "metadata": {
        "id": "39cGLW65MQLq",
        "colab_type": "code",
        "outputId": "71da506c-cebd-41db-e907-78d3394df189",
        "colab": {
          "base_uri": "https://localhost:8080/",
          "height": 204
        }
      },
      "cell_type": "code",
      "source": [
        "# converting embedding matrix into a form that can be used in keras embedding layer\n",
        "embeddings_index_cls2 = {}\n",
        "\n",
        "for i, line in enumerate(en_de):\n",
        "    if i == 0:\n",
        "        pass\n",
        "    else:\n",
        "        try:\n",
        "            values = line.split()\n",
        "            word = values[0]\n",
        "            coefs = np.asarray(values[1:], dtype='float32')\n",
        "            embeddings_index_cls2[word] = coefs\n",
        "        except ValueError:\n",
        "            print('Value error: {}'.format(values[1:5]))\n",
        "\n",
        "# preparing embedding matrix for cluster 2\n",
        "embedding_matrix_cls2 = np.zeros((len(word_index_cls2) + 1, 300))\n",
        "for word, i in word_index_cls2.items():\n",
        "    embedding_vector = embeddings_index_cls2.get(word)\n",
        "    if embedding_vector is not None:\n",
        "        # words not found in embedding index will be all-zeros.\n",
        "        embedding_matrix_cls2[i] = embedding_vector"
      ],
      "execution_count": 0,
      "outputs": [
        {
          "output_type": "stream",
          "text": [
            "Value error: ['·', '-0.116043', '-0.0278416', '0.0375914']\n",
            "Value error: ['—', '-0.000894651', '0.0377289', '-0.0714999']\n",
            "Value error: ['gebäude', '-0.0360703', '-0.0850809', '-0.0597942']\n",
            "Value error: ['waldfläche', '-0.0314779', '-0.0465583', '-0.0163933']\n",
            "Value error: ['verkehrsfläche', '-0.0356581', '-0.0029205', '0.0181392']\n",
            "Value error: ['erholungsfläche', '-0.0368387', '-0.0377135', '0.00746337']\n",
            "Value error: ['landwirtschaftsfläche', '-0.0263421', '-0.046624', '-0.0177181']\n",
            "Value error: ['sonstige_flächen', '-0.0559894', '-0.0219282', '-0.000380597']\n",
            "Value error: ['gesamtfläche', '-0.0660608', '-0.0324034', '0.0221355']\n",
            "Value error: ['wasserfläche', '-0.0588425', '-0.0477398', '-0.0339936']\n",
            "Value error: ['•', '-0.0626246', '-0.0190532', '-0.0432283']\n"
          ],
          "name": "stdout"
        }
      ]
    },
    {
      "metadata": {
        "id": "xDBOd2P6vJJ1",
        "colab_type": "code",
        "colab": {}
      },
      "cell_type": "code",
      "source": [
        "from collections import Counter\n",
        "class_weights_cls2 = dict()\n",
        "\n",
        "max_value = max(Counter(cluster_2_labels_train).values())\n",
        "\n",
        "for keys, values in Counter(cluster_2_labels_train).items():\n",
        "    for _keys, _values in num_label_cluster_2.items():\n",
        "        if keys == _values:\n",
        "            class_weights_cls2[_keys] = (max_value/ values)"
      ],
      "execution_count": 0,
      "outputs": []
    },
    {
      "metadata": {
        "id": "88ZZBxqjClMe",
        "colab_type": "code",
        "outputId": "eae17710-08cf-4a8f-fda2-da0c03dc0212",
        "colab": {
          "base_uri": "https://localhost:8080/",
          "height": 323
        }
      },
      "cell_type": "code",
      "source": [
        "class_weights_cls2"
      ],
      "execution_count": 0,
      "outputs": [
        {
          "output_type": "execute_result",
          "data": {
            "text/plain": [
              "{0: 1.9686444766039557,\n",
              " 1: 14.531750741839762,\n",
              " 2: 9.625,\n",
              " 3: 2.278403275332651,\n",
              " 4: 11.02972972972973,\n",
              " 5: 4.605228512318977,\n",
              " 6: 1.9918652891889694,\n",
              " 7: 1.3342414995640801,\n",
              " 8: 2.558888076079005,\n",
              " 9: 1.8271770763375867,\n",
              " 10: 2.1573568281938327,\n",
              " 11: 1.4357080035180299,\n",
              " 12: 1.924394844388557,\n",
              " 13: 1.1529334212261042,\n",
              " 14: 1.0,\n",
              " 15: 5.3556430446194225,\n",
              " 16: 2.8077055383556933,\n",
              " 17: 1.7258246405413025}"
            ]
          },
          "metadata": {
            "tags": []
          },
          "execution_count": 27
        }
      ]
    },
    {
      "metadata": {
        "id": "2mEKGliGMZNH",
        "colab_type": "code",
        "outputId": "433735e9-47b9-4670-d4d5-102fde8a147f",
        "colab": {
          "base_uri": "https://localhost:8080/",
          "height": 921
        }
      },
      "cell_type": "code",
      "source": [
        "# Create sequential model_cls2\n",
        "model_cls2 = Sequential()\n",
        "model_cls2.add(emb(vocab_size_cls2, 300, weights=[embedding_matrix_cls2], input_length=30, trainable=True))   \n",
        "model_cls2.add(Bidirectional(LSTM(40, activation='tanh',return_sequences=True, kernel_regularizer=keras.regularizers.l2(0.5))))# LSTM layer \n",
        "model_cls2.add(keras.layers.Dropout(0.5))\n",
        "model_cls2.add(Bidirectional(LSTM(40, activation='tanh',return_sequences=False, kernel_regularizer=keras.regularizers.l2(0.1))))\n",
        "model_cls2.add(keras.layers.Dropout(0.5))\n",
        "model_cls2.add(Dense(18, activation='softmax'))\n",
        "model_cls2.compile(loss='categorical_crossentropy', optimizer= optimizer, metrics=['accuracy'])\n",
        "print(model_cls2.summary())\n",
        "model_cls2.fit(cluster_2_padded_sents, cluster_2_train_label, validation_data=(cluster_2_padded_sents_test,cluster_2_test_label), epochs=50, batch_size=512, \n",
        "          verbose=1, callbacks=[reduce_rate,early_stop])"
      ],
      "execution_count": 0,
      "outputs": [
        {
          "output_type": "stream",
          "text": [
            "_________________________________________________________________\n",
            "Layer (type)                 Output Shape              Param #   \n",
            "=================================================================\n",
            "embedding_3 (Embedding)      (None, 30, 300)           17940600  \n",
            "_________________________________________________________________\n",
            "bidirectional_5 (Bidirection (None, 30, 80)            109120    \n",
            "_________________________________________________________________\n",
            "dropout_5 (Dropout)          (None, 30, 80)            0         \n",
            "_________________________________________________________________\n",
            "bidirectional_6 (Bidirection (None, 80)                38720     \n",
            "_________________________________________________________________\n",
            "dropout_6 (Dropout)          (None, 80)                0         \n",
            "_________________________________________________________________\n",
            "dense_3 (Dense)              (None, 18)                1458      \n",
            "=================================================================\n",
            "Total params: 18,089,898\n",
            "Trainable params: 18,089,898\n",
            "Non-trainable params: 0\n",
            "_________________________________________________________________\n",
            "None\n",
            "WARNING:tensorflow:From /usr/local/lib/python3.6/dist-packages/tensorflow/python/ops/math_ops.py:3066: to_int32 (from tensorflow.python.ops.math_ops) is deprecated and will be removed in a future version.\n",
            "Instructions for updating:\n",
            "Use tf.cast instead.\n",
            "Train on 202900 samples, validate on 84135 samples\n",
            "Epoch 1/50\n",
            "202900/202900 [==============================] - 568s 3ms/step - loss: 17.5990 - acc: 0.1662 - val_loss: 2.4071 - val_acc: 0.2663\n",
            "Epoch 2/50\n",
            "202900/202900 [==============================] - 568s 3ms/step - loss: 2.1409 - acc: 0.3254 - val_loss: 2.4041 - val_acc: 0.2784\n",
            "Epoch 3/50\n",
            "202900/202900 [==============================] - 573s 3ms/step - loss: 1.9071 - acc: 0.4078 - val_loss: 2.2642 - val_acc: 0.3214\n",
            "Epoch 4/50\n",
            "202900/202900 [==============================] - 574s 3ms/step - loss: 1.7580 - acc: 0.4727 - val_loss: 2.3920 - val_acc: 0.3209\n",
            "\n",
            "Epoch 00004: ReduceLROnPlateau reducing learning rate to 0.00010000000474974513.\n",
            "Epoch 5/50\n",
            "202900/202900 [==============================] - 571s 3ms/step - loss: 1.5264 - acc: 0.5561 - val_loss: 2.2524 - val_acc: 0.3665\n",
            "Epoch 6/50\n",
            "202900/202900 [==============================] - 572s 3ms/step - loss: 1.4783 - acc: 0.5706 - val_loss: 2.2397 - val_acc: 0.3678\n",
            "Epoch 7/50\n",
            "202900/202900 [==============================] - 574s 3ms/step - loss: 1.4489 - acc: 0.5817 - val_loss: 2.2529 - val_acc: 0.3741\n",
            "\n",
            "Epoch 00007: ReduceLROnPlateau reducing learning rate to 1.0000000474974514e-05.\n",
            "Epoch 8/50\n",
            "202900/202900 [==============================] - 558s 3ms/step - loss: 1.4159 - acc: 0.5932 - val_loss: 2.2592 - val_acc: 0.3745\n",
            "\n",
            "Epoch 00008: ReduceLROnPlateau reducing learning rate to 1.0000000656873453e-06.\n",
            "Epoch 9/50\n",
            "202900/202900 [==============================] - 542s 3ms/step - loss: 1.4105 - acc: 0.5953 - val_loss: 2.2594 - val_acc: 0.3752\n",
            "\n",
            "Epoch 00009: ReduceLROnPlateau reducing learning rate to 1.0000001111620805e-07.\n",
            "Epoch 00009: early stopping\n"
          ],
          "name": "stdout"
        },
        {
          "output_type": "execute_result",
          "data": {
            "text/plain": [
              "<keras.callbacks.History at 0x7f985d0efc88>"
            ]
          },
          "metadata": {
            "tags": []
          },
          "execution_count": 32
        }
      ]
    },
    {
      "metadata": {
        "id": "DRCCDRvW66yn",
        "colab_type": "text"
      },
      "cell_type": "markdown",
      "source": [
        "### Evaluation\n"
      ]
    },
    {
      "metadata": {
        "id": "e7wu5EtCMexV",
        "colab_type": "code",
        "outputId": "1f444809-f4cd-40f5-98bb-93342e488ae7",
        "colab": {
          "base_uri": "https://localhost:8080/",
          "height": 1472
        }
      },
      "cell_type": "code",
      "source": [
        "# Testing the data\n",
        "model_cls2.save('my_method_cluster_2_model_FB_MUSE_trainableTrue.h5')  # creates a HDF5 file 'my_model.h5'\n",
        "\n",
        "#cluster_2_test_sequences = tokenizer_cls2.texts_to_sequences(cluster_2_sent_test)\n",
        "cluster_2_padded_sents_test = keras.preprocessing.sequence.pad_sequences(cluster_2_test_sequences, maxlen=30, padding='post')\n",
        "\n",
        "scores_cls2 = model_cls2.evaluate(cluster_2_padded_sents_test, cluster_2_test_label, verbose=1)\n",
        "print(\"Accuracy: %.2f%%\" % (scores_cls2[1]*100))\n",
        "\n",
        "y_true = np.argmax(cluster_2_test_label, axis=1)\n",
        "y_pred = np.argmax(model_cls2.predict(cluster_2_padded_sents_test),axis=1)\n",
        "classificationReport_cls2 = classification_report(y_true, y_pred)\n",
        "\n",
        "print(classificationReport_cls2)\n",
        "\n",
        "\n",
        "conf_cls2 = confusion_matrix(y_true, y_pred)\n",
        "seaborn.heatmap(conf_cls2)\n",
        "print(confusion_matrix(y_true, y_pred))"
      ],
      "execution_count": 0,
      "outputs": [
        {
          "output_type": "stream",
          "text": [
            "84135/84135 [==============================] - 70s 835us/step\n",
            "Accuracy: 37.52%\n"
          ],
          "name": "stdout"
        },
        {
          "output_type": "stream",
          "text": [
            "/usr/local/lib/python3.6/dist-packages/sklearn/metrics/classification.py:1143: UndefinedMetricWarning: Precision and F-score are ill-defined and being set to 0.0 in labels with no predicted samples.\n",
            "  'precision', 'predicted', average, warn_for)\n"
          ],
          "name": "stderr"
        },
        {
          "output_type": "stream",
          "text": [
            "              precision    recall  f1-score   support\n",
            "\n",
            "           0       0.58      0.38      0.46      5639\n",
            "           1       0.00      0.00      0.00      1071\n",
            "           2       0.00      0.00      0.00      1386\n",
            "           3       0.40      0.27      0.32      4628\n",
            "           4       0.00      0.00      0.00       958\n",
            "           5       0.00      0.00      0.00      1410\n",
            "           6       0.30      0.50      0.38      3700\n",
            "           7       0.24      0.51      0.32      7930\n",
            "           8       0.21      0.44      0.29      2082\n",
            "           9       0.30      0.36      0.33      5774\n",
            "          10       0.51      0.51      0.51      3819\n",
            "          11       0.59      0.43      0.50      8927\n",
            "          12       0.27      0.32      0.29      6141\n",
            "          13       0.46      0.40      0.43     10060\n",
            "          14       0.63      0.52      0.57     10433\n",
            "          15       0.00      0.00      0.00      2718\n",
            "          16       0.31      0.22      0.26      3151\n",
            "          17       0.23      0.30      0.26      4308\n",
            "\n",
            "   micro avg       0.38      0.38      0.38     84135\n",
            "   macro avg       0.28      0.29      0.27     84135\n",
            "weighted avg       0.38      0.38      0.37     84135\n",
            "\n",
            "[[2165    0    0   96    0    0  174  699  326  886  403  105  113   82\n",
            "    41    0  465   84]\n",
            " [   3    0    0    3    0    0  372  138   87   29    2  260   99   31\n",
            "    18    0   18   11]\n",
            " [  84    0    0    0    0    0  193  278  317   84    0   55   92   33\n",
            "    29    0  213    8]\n",
            " [  74    0    0 1227    0    0   15  549   14  362  555   27  130  590\n",
            "   125    0    7  953]\n",
            " [   4    0    0    0    0    0  415   77  192   20    0  129   67   13\n",
            "     5    0   32    4]\n",
            " [  16    0    0   21    0    0   94  299  100  123   41  109  161  121\n",
            "   258    0   26   41]\n",
            " [   4    0    0    2    0    0 1855  609  405   38    0  391  254   48\n",
            "    66    0   15   13]\n",
            " [  34    0    0   94    0    0  472 4024  485  624   48   66  744  628\n",
            "   138    0  126  447]\n",
            " [  76    0    0    1    0    0  302  286  926   91    2   59   55   10\n",
            "    23    0  239   12]\n",
            " [ 387    0    0  243    0    0   78 1415  180 2092  426   27  156  213\n",
            "    32    0  167  358]\n",
            " [ 143    0    0  410    0    0   13  325   13  481 1964    6   42  123\n",
            "    13    0   10  276]\n",
            " [  20    0    0   33    0    0 1085 1147  304  119   11 3855 1069  431\n",
            "   642    0   56  155]\n",
            " [  25    0    0   15    0    0  322 1271  133  149   19  496 1992  473\n",
            "  1073    0   35  138]\n",
            " [  32    0    0  380    0    0  207 1988  112  372   83  128  723 4013\n",
            "   595    0   34 1393]\n",
            " [   8    0    0   28    0    0  267 1286  168  122   18  594 1192 1028\n",
            "  5460    0   47  215]\n",
            " [  65    0    0  112    0    0   82  878   91  654  179   74  195  173\n",
            "    45    0   33  137]\n",
            " [ 574    0    0   15    0    0  150  616  416  357   53   71  100   50\n",
            "    12    0  703   34]\n",
            " [  25    0    0  355    0    0   93  987  125  271   67   60  194  628\n",
            "   156    0   55 1292]]\n"
          ],
          "name": "stdout"
        },
        {
          "output_type": "display_data",
          "data": {
            "image/png": "[encoded data removed]",
            "text/plain": [
              "<Figure size 576x396 with 2 Axes>"
            ]
          },
          "metadata": {
            "tags": []
          }
        }
      ]
    },
    {
      "metadata": {
        "id": "WntUbP5k7Km1",
        "colab_type": "code",
        "colab": {}
      },
      "cell_type": "code",
      "source": [
        "# Cluster 1 test data, sentence conversion\n",
        "from sklearn.preprocessing import MinMaxScaler, Normalizer, StandardScaler\n",
        "\n",
        "doc_id_pred = []\n",
        "file_name_pred = []\n",
        "multi_label_pred = []\n",
        "pred_one_hot_encoded = []\n",
        "label_one_hot_encoded = []\n",
        "prd_for_doc = []\n",
        "\n",
        "original_label = []\n",
        "predicted_label = []\n",
        "\n",
        "import warnings\n",
        "warnings.simplefilter(action='ignore', category=FutureWarning)\n",
        "from collections import Counter \n",
        "\n",
        "\n",
        "counter = 0\n",
        "for first_data, first_label, _doc_id, _multi, _file_name in zip(cluster_2_data_test, cluster_2_label_test, \n",
        "                                   cluster_2_doc_id_test,cluster_2_multilabel_test,\n",
        "                                   cluster_2_file_name_test ):\n",
        "    \n",
        "    ## TMP LIST for each doc\n",
        "    sent_pred = []\n",
        "    \n",
        "    # start chunking the text into 30 words with 10 word slide\n",
        "    slides = slidingWindow(first_data.split(' '),30,10)\n",
        "        \n",
        "    for key,value in num_label_cluster_2.items():\n",
        "        if value == first_label:\n",
        "            num = key\n",
        "    \n",
        "    doc_sent = []\n",
        "    for slide in slides:\n",
        "        \n",
        "        a = ' '.join(slide).lower()\n",
        "        \n",
        "        doc_sent.append(a)\n",
        "        \n",
        "    # we have the slide here, create the sequence from text to numbers\n",
        "    text_sequence = tokenizer_cls2.texts_to_sequences(doc_sent)\n",
        "\n",
        "    # pad it to make flat 30 lenght\n",
        "    text_padded = keras.preprocessing.sequence.pad_sequences(text_sequence, maxlen=30, padding='post')\n",
        "\n",
        "    # Convert the label for this into one hot encoding\n",
        "    label_one_hot = onehot_encoder.fit_transform(np.reshape(num,(1,-1)))\n",
        "\n",
        "    # predict the label\n",
        "    sent_pred.append(model_cls2.predict(text_padded))        \n",
        "    \n",
        "\n",
        " \n",
        "    nor_data = []\n",
        "    for predc in sent_pred:\n",
        "        transformer2 = Normalizer().fit(predc)\n",
        "        nor_data.append(transformer2.transform(predc))    \n",
        "        \n",
        "    sent = np.zeros(18)\n",
        "    for sen in nor_data:\n",
        "        for i in range(len(sen)):\n",
        "            sent += sen[i]\n",
        "    \n",
        "    predicted_label.append(np.argmax(sent, axis=0))\n",
        "    original_label.append(num)\n",
        "    \n",
        "   \n",
        "    label_one_hot_encoded.append(num)\n",
        "    doc_id_pred.append(_doc_id)\n",
        "    file_name_pred.append(_file_name)\n",
        "    multi_label_pred.append(_multi)"
      ],
      "execution_count": 0,
      "outputs": []
    },
    {
      "metadata": {
        "id": "-8moYg9D7BQ0",
        "colab_type": "code",
        "outputId": "4af9c932-2250-4935-9840-d1280b9a3f41",
        "colab": {
          "base_uri": "https://localhost:8080/",
          "height": 34
        }
      },
      "cell_type": "code",
      "source": [
        "from sklearn.metrics import accuracy_score, confusion_matrix, classification_report\n",
        "accuracy_score(original_label, predicted_label)"
      ],
      "execution_count": 0,
      "outputs": [
        {
          "output_type": "execute_result",
          "data": {
            "text/plain": [
              "0.6810810810810811"
            ]
          },
          "metadata": {
            "tags": []
          },
          "execution_count": 35
        }
      ]
    },
    {
      "metadata": {
        "id": "WWAw6_818zVR",
        "colab_type": "code",
        "outputId": "da01f6e8-d7c3-446e-bd58-72cb17953a97",
        "colab": {
          "base_uri": "https://localhost:8080/",
          "height": 629
        }
      },
      "cell_type": "code",
      "source": [
        "confusion_matrix(original_label, predicted_label)"
      ],
      "execution_count": 0,
      "outputs": [
        {
          "output_type": "execute_result",
          "data": {
            "text/plain": [
              "array([[ 44,   0,   0,   1,   0,   0,   0,   1,   2,   6,   2,   2,   1,\n",
              "          1,   0,   0,   0,   0],\n",
              "       [  0,   0,   0,   0,   0,   0,   8,   1,   0,   0,   0,   3,   0,\n",
              "          0,   0,   0,   0,   0],\n",
              "       [  0,   0,   0,   0,   0,   0,   1,   5,  10,   0,   0,   0,   0,\n",
              "          0,   0,   0,   4,   0],\n",
              "       [  2,   0,   0,  33,   0,   0,   0,   4,   0,   3,   5,   0,   0,\n",
              "          8,   2,   0,   0,  17],\n",
              "       [  0,   0,   0,   0,   0,   0,  11,   0,   1,   0,   0,   2,   0,\n",
              "          0,   0,   0,   0,   0],\n",
              "       [  0,   0,   0,   0,   0,   0,   0,   9,   0,   1,   0,   0,   0,\n",
              "          2,   4,   0,   0,   0],\n",
              "       [  0,   0,   0,   0,   0,   0,  36,   5,   0,   0,   0,   3,   0,\n",
              "          0,   0,   0,   0,   0],\n",
              "       [  0,   0,   0,   0,   0,   0,   0, 107,   0,   0,   0,   0,   2,\n",
              "          5,   0,   0,   0,   0],\n",
              "       [  2,   0,   0,   0,   0,   0,   0,   0,  24,   0,   0,   0,   0,\n",
              "          0,   0,   0,   0,   0],\n",
              "       [  1,   0,   0,   2,   0,   0,   0,  17,   0,  53,   3,   0,   0,\n",
              "          0,   0,   0,   0,   4],\n",
              "       [  0,   0,   0,   3,   0,   0,   0,   0,   0,   1,  52,   0,   0,\n",
              "          0,   0,   0,   0,   0],\n",
              "       [  0,   0,   0,   1,   0,   0,   2,   6,   0,   0,   0,  81,   0,\n",
              "          2,   4,   0,   0,   0],\n",
              "       [  0,   0,   0,   0,   0,   0,   1,   8,   0,   2,   0,   6,  45,\n",
              "          1,   9,   0,   0,   2],\n",
              "       [  0,   0,   0,   3,   0,   0,   0,  24,   0,   1,   0,   0,   1,\n",
              "        102,   1,   0,   0,  18],\n",
              "       [  0,   0,   0,   0,   0,   0,   2,   7,   0,   0,   0,   1,   2,\n",
              "          2, 120,   0,   0,   0],\n",
              "       [  1,   0,   0,   1,   0,   0,   0,  21,   0,  17,   0,   0,   0,\n",
              "          0,   0,   0,   0,   0],\n",
              "       [  6,   0,   0,   0,   0,   0,   0,   9,   0,   1,   1,   0,   0,\n",
              "          0,   0,   0,  21,   0],\n",
              "       [  0,   0,   0,   0,   0,   0,   0,  13,   0,   1,   0,   0,   0,\n",
              "          7,   3,   0,   0,  38]])"
            ]
          },
          "metadata": {
            "tags": []
          },
          "execution_count": 36
        }
      ]
    },
    {
      "metadata": {
        "id": "3lubM1T_83VK",
        "colab_type": "code",
        "outputId": "0385ddf7-95e4-462a-e6a4-5f076b4b6425",
        "colab": {
          "base_uri": "https://localhost:8080/",
          "height": 496
        }
      },
      "cell_type": "code",
      "source": [
        "print(classification_report(original_label, predicted_label))"
      ],
      "execution_count": 0,
      "outputs": [
        {
          "output_type": "stream",
          "text": [
            "              precision    recall  f1-score   support\n",
            "\n",
            "           0       0.79      0.73      0.76        60\n",
            "           1       0.00      0.00      0.00        12\n",
            "           2       0.00      0.00      0.00        20\n",
            "           3       0.75      0.45      0.56        74\n",
            "           4       0.00      0.00      0.00        14\n",
            "           5       0.00      0.00      0.00        16\n",
            "           6       0.59      0.82      0.69        44\n",
            "           7       0.45      0.94      0.61       114\n",
            "           8       0.65      0.92      0.76        26\n",
            "           9       0.62      0.66      0.64        80\n",
            "          10       0.83      0.93      0.87        56\n",
            "          11       0.83      0.84      0.84        96\n",
            "          12       0.88      0.61      0.72        74\n",
            "          13       0.78      0.68      0.73       150\n",
            "          14       0.84      0.90      0.87       134\n",
            "          15       0.00      0.00      0.00        40\n",
            "          16       0.84      0.55      0.67        38\n",
            "          17       0.48      0.61      0.54        62\n",
            "\n",
            "   micro avg       0.68      0.68      0.68      1110\n",
            "   macro avg       0.52      0.54      0.51      1110\n",
            "weighted avg       0.66      0.68      0.65      1110\n",
            "\n"
          ],
          "name": "stdout"
        },
        {
          "output_type": "stream",
          "text": [
            "/usr/local/lib/python3.6/dist-packages/sklearn/metrics/classification.py:1143: UndefinedMetricWarning: Precision and F-score are ill-defined and being set to 0.0 in labels with no predicted samples.\n",
            "  'precision', 'predicted', average, warn_for)\n"
          ],
          "name": "stderr"
        }
      ]
    }
  ]
}