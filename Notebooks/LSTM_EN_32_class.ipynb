{
  "nbformat": 4,
  "nbformat_minor": 0,
  "metadata": {
    "colab": {
      "name": "LSTM EN 32 class.ipynb",
      "version": "0.3.2",
      "provenance": [],
      "collapsed_sections": [],
      "toc_visible": true,
      "include_colab_link": true
    },
    "kernelspec": {
      "name": "python3",
      "display_name": "Python 3"
    }
  },
  "cells": [
    {
      "cell_type": "markdown",
      "metadata": {
        "id": "view-in-github",
        "colab_type": "text"
      },
      "source": [
        "<a href=\"https://colab.research.google.com/github/jdvala/Thesis/blob/master/LSTM_EN_32_class.ipynb\" target=\"_parent\"><img src=\"https://colab.research.google.com/assets/colab-badge.svg\" alt=\"Open In Colab\"/></a>"
      ]
    },
    {
      "metadata": {
        "id": "m0TxQ65zixbh",
        "colab_type": "text"
      },
      "cell_type": "markdown",
      "source": [
        "# Bidirectional LSTM for English with 32 classes\n",
        "\n",
        "The bidirectional LSTM is trained on sentence level and there are two evaluations, one on sentence level and one on document level"
      ]
    },
    {
      "metadata": {
        "id": "cIiz-Z6uivei",
        "colab_type": "code",
        "colab": {}
      },
      "cell_type": "code",
      "source": [
        "# Imports\n",
        "import os\n",
        "import keras\n",
        "import sys\n",
        "from keras.models import Sequential\n",
        "from keras.layers import Dense\n",
        "from keras.layers import LSTM, Bidirectional\n",
        "from keras.layers import Embedding as emb\n",
        "import tensorflow as tf\n",
        "import numpy as np\n",
        "from sklearn.model_selection import train_test_split\n",
        "from sklearn.preprocessing import OneHotEncoder\n",
        "from keras.preprocessing.text import Tokenizer\n",
        "from keras.preprocessing.sequence import pad_sequences\n",
        "from keras.models import load_model\n",
        "from sklearn.metrics import classification_report, confusion_matrix\n",
        "import seaborn\n",
        "from keras.utils import generic_utils \n",
        "from sklearn.preprocessing import LabelEncoder\n",
        "\n",
        "\n",
        "# Setting seed to get reproducable results\n",
        "from numpy.random import seed\n",
        "from tensorflow import set_random_seed\n",
        "SEED = 13\n",
        "seed(SEED)\n",
        "set_random_seed(SEED)"
      ],
      "execution_count": 0,
      "outputs": []
    },
    {
      "metadata": {
        "id": "H2lyy5hCjMqa",
        "colab_type": "text"
      },
      "cell_type": "markdown",
      "source": [
        "## Setting Up Google Drive\n",
        "The data used in this notebook is available in my drive."
      ]
    },
    {
      "metadata": {
        "id": "pVsPIWVTK3Gf",
        "colab_type": "code",
        "outputId": "a67e2e28-d7e6-45b9-89a4-da5526511cb2",
        "colab": {
          "base_uri": "https://localhost:8080/",
          "height": 34
        }
      },
      "cell_type": "code",
      "source": [
        "from google.colab import drive\n",
        "drive.mount('/content/gdrive')\n",
        "embding_path = '/content/gdrive/My Drive/en.de.context.emb'"
      ],
      "execution_count": 0,
      "outputs": [
        {
          "output_type": "stream",
          "text": [
            "Drive already mounted at /content/gdrive; to attempt to forcibly remount, call drive.mount(\"/content/gdrive\", force_remount=True).\n"
          ],
          "name": "stdout"
        }
      ]
    },
    {
      "metadata": {
        "id": "aScNdU9Ujc_w",
        "colab_type": "text"
      },
      "cell_type": "markdown",
      "source": [
        "## Getting the data\n",
        "\n",
        "The data is pickled and hence unpickling it here.\n"
      ]
    },
    {
      "metadata": {
        "id": "lqHTjrhlkMy8",
        "colab_type": "code",
        "colab": {}
      },
      "cell_type": "code",
      "source": [
        "# unpickle data\n",
        "import pickle\n",
        "def unpickle(obj):\n",
        "    with open(obj, 'rb') as picklehandle:\n",
        "        toReturn = pickle.load(picklehandle)\n",
        "    return toReturn\n",
        "\n",
        "en_de_combined = unpickle('/content/gdrive/My Drive/combined_data.pkl')\n",
        "label = unpickle('/content/gdrive/My Drive/en-de-label.pkl')"
      ],
      "execution_count": 0,
      "outputs": []
    },
    {
      "metadata": {
        "id": "mDq-U-yXjpE9",
        "colab_type": "text"
      },
      "cell_type": "markdown",
      "source": [
        "## Test Train Split\n",
        "\n",
        "Before doing anything, Split the data into test and train sets, so there is no information leak from train data to test data.\n",
        "This is not a problem in case of one language as every instance is either in train or test set, but in case of multilingual data it might so happen that a document from one language is in  train set and the same document from another language might end up in test set, this might be a problem, and to avoid it we split the data as soon as we have it."
      ]
    },
    {
      "metadata": {
        "id": "z_i2lhgDk83J",
        "colab_type": "code",
        "colab": {}
      },
      "cell_type": "code",
      "source": [
        "# Initial Test Train Split\n",
        "train_data, test_data, train_la, test_la = train_test_split(en_de_combined, label,test_size=0.3, random_state=SEED)"
      ],
      "execution_count": 0,
      "outputs": []
    },
    {
      "metadata": {
        "id": "QIMp2zuQkleM",
        "colab_type": "text"
      },
      "cell_type": "markdown",
      "source": [
        "## Seperate the data\n",
        "\n",
        "As mentioned above there is a slight chance that the information leak might happen. Hence during curation of the data, **English** and **German** data as well as their document id(manually generated), file names, multiple labels and thier labels were combined in a single list with *'\\n\\n\\n'*(three new line characters). This was done to ensure there is no information loss what so ever."
      ]
    },
    {
      "metadata": {
        "id": "_psRNM96GxUM",
        "colab_type": "code",
        "colab": {}
      },
      "cell_type": "code",
      "source": [
        "def seperate_data(data, label):\n",
        "    \"\"\"Seperates data from combined data, it is seperated by '\\n\\n\\n', three new line charaters\n",
        "    Returns: english data, german data, file name, doc_id, multiple labels\n",
        "    \"\"\"\n",
        "    en_data = [] \n",
        "    de_data = []\n",
        "    file_name = []\n",
        "    doc_id = []\n",
        "    multilabel = []\n",
        "    labels = []\n",
        "    \n",
        "    if isinstance(data, list):\n",
        "        for doc, l in zip(data,label):\n",
        "            en_data.append(doc.split('\\n\\n\\n')[0])\n",
        "            de_data.append(doc.split('\\n\\n\\n')[1])\n",
        "            file_name.append(doc.split('\\n\\n\\n')[2])\n",
        "            doc_id.append(doc.split('\\n\\n\\n')[3])\n",
        "            multilabel.append(doc.split('\\n\\n\\n')[4])\n",
        "            labels.append(l)\n",
        "    return en_data,de_data, file_name, doc_id, multilabel, labels\n",
        "    "
      ],
      "execution_count": 0,
      "outputs": []
    },
    {
      "metadata": {
        "id": "ci53TB18HrT-",
        "colab_type": "code",
        "colab": {}
      },
      "cell_type": "code",
      "source": [
        "# Seperating train and test data\n",
        "train_en_data,train_de_data, train_file_name, train_doc_id, train_multilabel, train_label = seperate_data(train_data, train_la)\n",
        "\n",
        "test_en_data,test_de_data, test_file_name, test_doc_id, test_multilabel, test_label = seperate_data(test_data, test_la)"
      ],
      "execution_count": 0,
      "outputs": []
    },
    {
      "metadata": {
        "id": "PvcWndJsluXo",
        "colab_type": "text"
      },
      "cell_type": "markdown",
      "source": [
        "## Sliding Window\n",
        "\n",
        "Sliding window, helper function to chunk the incoming document into predefined chuck length and step size"
      ]
    },
    {
      "metadata": {
        "id": "T0p0-kVyEfcu",
        "colab_type": "code",
        "colab": {}
      },
      "cell_type": "code",
      "source": [
        "def slidingWindow(sequence,winSize,step):\n",
        "    \"\"\"Returns a generator that will iterate through\n",
        "    the defined chunks of input sequence. Input sequence\n",
        "    must be sliceable.\"\"\"\n",
        "\n",
        "    # Pre-compute number of chunks to emit\n",
        "    numOfChunks = ((len(sequence)-winSize)/step)+1\n",
        "    # Do the work\n",
        "    for i in range(0,round(numOfChunks)*step,step):\n",
        "        yield sequence[i:i+winSize]"
      ],
      "execution_count": 0,
      "outputs": []
    },
    {
      "metadata": {
        "id": "vNgEzuTNl-nl",
        "colab_type": "text"
      },
      "cell_type": "markdown",
      "source": [
        "## Numbering Labels\n",
        "\n",
        "Manually labeling the alpha labels as the evaluation based on documents will require more control over the label  "
      ]
    },
    {
      "metadata": {
        "id": "JBmZ9505DgPg",
        "colab_type": "code",
        "outputId": "2e308722-9fda-494a-e14c-8d558a531759",
        "colab": {
          "base_uri": "https://localhost:8080/",
          "height": 54
        }
      },
      "cell_type": "code",
      "source": [
        "# Numbering the labels\n",
        "label_num = dict(enumerate(sorted(set(label))))\n",
        "print(label_num)"
      ],
      "execution_count": 0,
      "outputs": [
        {
          "output_type": "stream",
          "text": [
            "{0: 'agriculture', 1: 'audiovisual_and_media', 2: 'budget', 3: 'competition', 4: 'consumers', 5: 'culture', 6: 'customs', 7: 'development', 8: 'economic_and_monetary_affairs', 9: 'education_training_youth', 10: 'employment_and_social_policy', 11: 'energy', 12: 'enlargement', 13: 'enterprise', 14: 'environment', 15: 'external_relations', 16: 'external_trade', 17: 'fight_against_fraud', 18: 'food_safety', 19: 'foreign_and_security_policy', 20: 'human_rights', 21: 'humanitarian_aid', 22: 'information_society', 23: 'institutional_affairs', 24: 'internal_market', 25: 'justice_freedom_security', 26: 'maritime_affairs_and_fisheries', 27: 'public_health', 28: 'regional_policy', 29: 'research_innovation', 30: 'taxation', 31: 'transport'}\n"
          ],
          "name": "stdout"
        }
      ]
    },
    {
      "metadata": {
        "id": "Bqjj3K1NmWS5",
        "colab_type": "text"
      },
      "cell_type": "markdown",
      "source": [
        "## Train Sentence preparation\n",
        "\n",
        "From the training documents we are creating sentences and the giving them corresponding numeric labels to each sentence"
      ]
    },
    {
      "metadata": {
        "id": "8JImdQ4qlE9a",
        "colab_type": "code",
        "outputId": "18b89744-9af5-4a36-e19c-b9af995089d7",
        "colab": {
          "base_uri": "https://localhost:8080/",
          "height": 34
        }
      },
      "cell_type": "code",
      "source": [
        "# Train data preparation\n",
        "_train_sentence = []\n",
        "_train_label = []\n",
        "\n",
        "for doc, labe in zip(train_en_data, train_label):\n",
        "    # call the sliding window on doc\n",
        "    \n",
        "    slides = slidingWindow(doc.split(' '), 30, 10)\n",
        "    \n",
        "    # get the num label \n",
        "    for key, value in label_num.items():\n",
        "        if value == labe:\n",
        "            num = key\n",
        "            \n",
        "      \n",
        "    for slide in slides:\n",
        "        _train_sentence.append(slide)\n",
        "        _train_label.append(num)\n",
        "\n",
        "\n",
        "# ensuring the number of samples in train set and labels\n",
        "print(len(_train_sentence), len(_train_label))"
      ],
      "execution_count": 0,
      "outputs": [
        {
          "output_type": "stream",
          "text": [
            "84225 84225\n"
          ],
          "name": "stdout"
        }
      ]
    },
    {
      "metadata": {
        "id": "qemei-HbmuL2",
        "colab_type": "text"
      },
      "cell_type": "markdown",
      "source": [
        "## Tokenizing training sentence\n",
        "\n",
        "Toknizing the training sentences and then fitting it on train sentence and then use the same tokenizer object on test data\n",
        "Also calculate the vocabulary size which we will need in the embedding layer. "
      ]
    },
    {
      "metadata": {
        "id": "PM5hxLg-GYDH",
        "colab_type": "code",
        "outputId": "9a60700d-7309-4c26-f6e8-f9d37620109c",
        "colab": {
          "base_uri": "https://localhost:8080/",
          "height": 70
        }
      },
      "cell_type": "code",
      "source": [
        "# tokenizing Sentences Using Keras tokenizer\n",
        "tokenizer = keras.preprocessing.text.Tokenizer()\n",
        "\n",
        "# Tokenizing the sentences (This process may take some time depending on your corpus size)\n",
        "tokenizer.fit_on_texts(_train_sentence)\n",
        "\n",
        "# Lets see what our vocabulary size is\n",
        "vocab_size = len(tokenizer.word_index) + 1   # We are adding 1 here because it takes indexing from zero\n",
        "print(\"Vocabulary size is: {}\".format(vocab_size))\n",
        "\n",
        "# Sentence encoding (it means we are now converting words into numbers)\n",
        "sent_encoded = tokenizer.texts_to_sequences(_train_sentence)\n",
        "print(\"The number of sentence in train set after encoding: {}\".format(len(sent_encoded)))\n",
        "\n",
        "\n",
        "# Start padding with the 30, although we wont need it, but still as precautionary measure\n",
        "max_len = len(_train_sentence[1])\n",
        "print('Maximum length of sentences in training set is', max_len)\n",
        "padded_sents = keras.preprocessing.sequence.pad_sequences(sent_encoded, maxlen=max_len, padding='post')"
      ],
      "execution_count": 0,
      "outputs": [
        {
          "output_type": "stream",
          "text": [
            "Vocabulary size is: 18455\n",
            "The number of sentence in train set after encoding: 84225\n",
            "Maximum length of sentences in training set is 30\n"
          ],
          "name": "stdout"
        }
      ]
    },
    {
      "metadata": {
        "id": "RXswQd3qn0Xt",
        "colab_type": "text"
      },
      "cell_type": "markdown",
      "source": [
        "## One Hot Encoding Labels\n",
        "\n",
        "The numerical labels needs to be converted into its one hot encoded form."
      ]
    },
    {
      "metadata": {
        "id": "GJbJAHtlgNYN",
        "colab_type": "code",
        "colab": {}
      },
      "cell_type": "code",
      "source": [
        "# Converting train labels into one hot encoded form\n",
        "oht_obj = OneHotEncoder(sparse=False, categories='auto')\n",
        "oht_obj.fit((np.reshape(_train_label, (-1,1))))\n",
        "\n",
        "train_labels = oht_obj.transform((np.reshape(_train_label, (-1,1))))\n"
      ],
      "execution_count": 0,
      "outputs": []
    },
    {
      "metadata": {
        "id": "68jWOCson--a",
        "colab_type": "text"
      },
      "cell_type": "markdown",
      "source": [
        "## Callback\n",
        "\n",
        "Two call backs are used here,\n",
        "\n",
        "* *reduce_rate*:  Which helps in situation where we are stuck on a Plateau.\n",
        "* *early_stopping*: It monitors the validation loss and in case of overfitting it will wait for the number of epochs given by user before stopping the leanring process.\n"
      ]
    },
    {
      "metadata": {
        "id": "sB2BE6IjHNBk",
        "colab_type": "code",
        "outputId": "58c3c457-f305-4764-b282-5887776e7966",
        "colab": {
          "base_uri": "https://localhost:8080/",
          "height": 52
        }
      },
      "cell_type": "code",
      "source": [
        "# Other callbacks \n",
        "reduce_rate = keras.callbacks.ReduceLROnPlateau(monitor='val_loss', factor=0.1, patience=0, verbose=1, \n",
        "                                                mode='auto', epsilon=0.0001, cooldown=0, min_lr=0)\n",
        "early_stop = keras.callbacks.EarlyStopping(monitor='val_loss', min_delta=0, \n",
        "                                           patience=2, verbose=1, mode='auto')"
      ],
      "execution_count": 0,
      "outputs": [
        {
          "output_type": "stream",
          "text": [
            "/usr/local/lib/python3.6/dist-packages/keras/callbacks.py:1065: UserWarning: `epsilon` argument is deprecated and will be removed, use `min_delta` instead.\n",
            "  warnings.warn('`epsilon` argument is deprecated and '\n"
          ],
          "name": "stderr"
        }
      ]
    },
    {
      "metadata": {
        "id": "M8b1_QAPv_pl",
        "colab_type": "code",
        "colab": {}
      },
      "cell_type": "code",
      "source": [
        "learning_rate = 0.001\n",
        "optimizer = keras.optimizers.RMSprop(lr=learning_rate, rho=0.9, epsilon=None, decay=0.0)"
      ],
      "execution_count": 0,
      "outputs": []
    },
    {
      "metadata": {
        "id": "Si5H--iso4ki",
        "colab_type": "text"
      },
      "cell_type": "markdown",
      "source": [
        "## Model Architecture"
      ]
    },
    {
      "metadata": {
        "id": "QnatoFO6qL6W",
        "colab_type": "code",
        "outputId": "246c8d61-555a-4c89-a901-587e45bdcc64",
        "colab": {
          "base_uri": "https://localhost:8080/",
          "height": 661
        }
      },
      "cell_type": "code",
      "source": [
        "from IPython.display import Image\n",
        "Image('/content/model.png')"
      ],
      "execution_count": 0,
      "outputs": [
        {
          "output_type": "execute_result",
          "data": {
            "image/png": "[encoded data removed]",
            "text/plain": [
              "<IPython.core.display.Image object>"
            ]
          },
          "metadata": {
            "tags": []
          },
          "execution_count": 14
        }
      ]
    },
    {
      "metadata": {
        "id": "Y2qkLpDhG4Pb",
        "colab_type": "code",
        "outputId": "d143a65d-77ce-4b9e-9eda-8f9fb3c0bf70",
        "colab": {
          "base_uri": "https://localhost:8080/",
          "height": 372
        }
      },
      "cell_type": "code",
      "source": [
        "# Create sequential model\n",
        "model = Sequential()\n",
        "model.add(emb(vocab_size, 200, input_length=max_len))   \n",
        "model.add(Bidirectional(LSTM(40, activation='tanh',return_sequences=True, kernel_regularizer=keras.regularizers.l2(0.04))))# LSTM layer \n",
        "model.add(keras.layers.Dropout(0.5))\n",
        "model.add(Bidirectional(LSTM(40, activation='tanh',return_sequences=False, kernel_regularizer=keras.regularizers.l2(0.03))))\n",
        "model.add(keras.layers.Dropout(0.5))\n",
        "model.add(Dense(32, activation='softmax'))\n",
        "model.compile(loss='categorical_crossentropy', optimizer= optimizer, metrics=['accuracy'])\n",
        "print(model.summary())"
      ],
      "execution_count": 0,
      "outputs": [
        {
          "output_type": "stream",
          "text": [
            "_________________________________________________________________\n",
            "Layer (type)                 Output Shape              Param #   \n",
            "=================================================================\n",
            "embedding_2 (Embedding)      (None, 30, 200)           3691000   \n",
            "_________________________________________________________________\n",
            "bidirectional_3 (Bidirection (None, 30, 80)            77120     \n",
            "_________________________________________________________________\n",
            "dropout_3 (Dropout)          (None, 30, 80)            0         \n",
            "_________________________________________________________________\n",
            "bidirectional_4 (Bidirection (None, 80)                38720     \n",
            "_________________________________________________________________\n",
            "dropout_4 (Dropout)          (None, 80)                0         \n",
            "_________________________________________________________________\n",
            "dense_2 (Dense)              (None, 32)                2592      \n",
            "=================================================================\n",
            "Total params: 3,809,432\n",
            "Trainable params: 3,809,432\n",
            "Non-trainable params: 0\n",
            "_________________________________________________________________\n",
            "None\n"
          ],
          "name": "stdout"
        }
      ]
    },
    {
      "metadata": {
        "id": "fI6lwDyBpGsu",
        "colab_type": "code",
        "colab": {}
      },
      "cell_type": "code",
      "source": [
        "# Model visualization\n",
        "from keras.utils import plot_model\n",
        "plot_model(model, to_file='model.png')"
      ],
      "execution_count": 0,
      "outputs": []
    },
    {
      "metadata": {
        "id": "S_xYFvkjpES6",
        "colab_type": "code",
        "outputId": "4c828b84-396d-401a-fe14-0c06ad10d639",
        "colab": {
          "base_uri": "https://localhost:8080/",
          "height": 567
        }
      },
      "cell_type": "code",
      "source": [
        "# Training the mdoel\n",
        "model.fit(padded_sents, train_labels, validation_split=0.3, epochs=20, batch_size=32, \n",
        "          verbose=1, callbacks=[reduce_rate,early_stop])"
      ],
      "execution_count": 0,
      "outputs": [
        {
          "output_type": "stream",
          "text": [
            "Train on 58957 samples, validate on 25268 samples\n",
            "Epoch 1/20\n",
            "58957/58957 [==============================] - 277s 5ms/step - loss: 3.1507 - acc: 0.1920 - val_loss: 2.8249 - val_acc: 0.2113\n",
            "Epoch 2/20\n",
            "58957/58957 [==============================] - 272s 5ms/step - loss: 2.3581 - acc: 0.3159 - val_loss: 2.7380 - val_acc: 0.2526\n",
            "Epoch 3/20\n",
            "58957/58957 [==============================] - 272s 5ms/step - loss: 2.1365 - acc: 0.4000 - val_loss: 2.6875 - val_acc: 0.2965\n",
            "Epoch 4/20\n",
            "58957/58957 [==============================] - 264s 4ms/step - loss: 1.8885 - acc: 0.4959 - val_loss: 2.6528 - val_acc: 0.3586\n",
            "Epoch 5/20\n",
            "58957/58957 [==============================] - 264s 4ms/step - loss: 1.6585 - acc: 0.5703 - val_loss: 2.5336 - val_acc: 0.3776\n",
            "Epoch 6/20\n",
            "58957/58957 [==============================] - 265s 4ms/step - loss: 1.4880 - acc: 0.6274 - val_loss: 2.6710 - val_acc: 0.3826\n",
            "\n",
            "Epoch 00006: ReduceLROnPlateau reducing learning rate to 0.00010000000474974513.\n",
            "Epoch 7/20\n",
            "58957/58957 [==============================] - 261s 4ms/step - loss: 1.1965 - acc: 0.7109 - val_loss: 2.4414 - val_acc: 0.4341\n",
            "Epoch 8/20\n",
            "58957/58957 [==============================] - 264s 4ms/step - loss: 1.1292 - acc: 0.7267 - val_loss: 2.4173 - val_acc: 0.4318\n",
            "Epoch 9/20\n",
            "58957/58957 [==============================] - 266s 5ms/step - loss: 1.0921 - acc: 0.7358 - val_loss: 2.4114 - val_acc: 0.4386\n",
            "Epoch 10/20\n",
            "58957/58957 [==============================] - 266s 5ms/step - loss: 1.0571 - acc: 0.7464 - val_loss: 2.4482 - val_acc: 0.4380\n",
            "\n",
            "Epoch 00010: ReduceLROnPlateau reducing learning rate to 1.0000000474974514e-05.\n",
            "Epoch 11/20\n",
            "58957/58957 [==============================] - 264s 4ms/step - loss: 1.0102 - acc: 0.7588 - val_loss: 2.4435 - val_acc: 0.4432\n",
            "\n",
            "Epoch 00011: ReduceLROnPlateau reducing learning rate to 1.0000000656873453e-06.\n",
            "Epoch 00011: early stopping\n"
          ],
          "name": "stdout"
        },
        {
          "output_type": "execute_result",
          "data": {
            "text/plain": [
              "<keras.callbacks.History at 0x7f36bc3f6dd8>"
            ]
          },
          "metadata": {
            "tags": []
          },
          "execution_count": 21
        }
      ]
    },
    {
      "metadata": {
        "id": "7iDNmLaa1hMd",
        "colab_type": "code",
        "colab": {}
      },
      "cell_type": "code",
      "source": [
        "# Saving the model\n",
        "model.save('/content/gdrive/My Drive/Thesis Models/EN_32_CLASS_LSTM.h5')"
      ],
      "execution_count": 0,
      "outputs": []
    },
    {
      "metadata": {
        "id": "f3vkqxvtqtKp",
        "colab_type": "text"
      },
      "cell_type": "markdown",
      "source": [
        "## Evaluation on Document level\n",
        "\n",
        "SVMs are trained on document level and to make a fair evaluation the LSTMs needs to be evaluated on document level as well, but LSTM are trained on sentence level as due to hardware limitations one can not feed the whole document hence the technique used here is a little unique. \n",
        "\n",
        "So to make a fair comparision, the evaluation has to be done manually, first the document has to be divided into sentences with same technique used during training, then when all the sentence from a single document is curated then they are encoded into numeric form and padded to make all of them of equal length.\n",
        "\n",
        "Then each sentence is predicted and the predictions are normalized and combined to make it a single prediction for the whole document.\n",
        "\n"
      ]
    },
    {
      "metadata": {
        "id": "S5Lq1Y2hl_DG",
        "colab_type": "code",
        "outputId": "6d1839c8-216e-4c54-96ef-e0db9dc39d09",
        "colab": {
          "base_uri": "https://localhost:8080/",
          "height": 196
        }
      },
      "cell_type": "code",
      "source": [
        "# Loading the model for evaluation\n",
        "from keras.models import load_model\n",
        "model = load_model('/content/gdrive/My Drive/Thesis Models/EN_32_CLASS_LSTM.h5')"
      ],
      "execution_count": 0,
      "outputs": [
        {
          "output_type": "stream",
          "text": [
            "WARNING:tensorflow:From /usr/local/lib/python3.6/dist-packages/tensorflow/python/framework/op_def_library.py:263: colocate_with (from tensorflow.python.framework.ops) is deprecated and will be removed in a future version.\n",
            "Instructions for updating:\n",
            "Colocations handled automatically by placer.\n",
            "WARNING:tensorflow:From /usr/local/lib/python3.6/dist-packages/keras/backend/tensorflow_backend.py:3445: calling dropout (from tensorflow.python.ops.nn_ops) with keep_prob is deprecated and will be removed in a future version.\n",
            "Instructions for updating:\n",
            "Please use `rate` instead of `keep_prob`. Rate should be set to `rate = 1 - keep_prob`.\n",
            "WARNING:tensorflow:From /usr/local/lib/python3.6/dist-packages/tensorflow/python/ops/math_ops.py:3066: to_int32 (from tensorflow.python.ops.math_ops) is deprecated and will be removed in a future version.\n",
            "Instructions for updating:\n",
            "Use tf.cast instead.\n"
          ],
          "name": "stdout"
        }
      ]
    },
    {
      "metadata": {
        "id": "UqYuNrVoHNuo",
        "colab_type": "code",
        "colab": {}
      },
      "cell_type": "code",
      "source": [
        "from sklearn.preprocessing import MinMaxScaler, Normalizer, StandardScaler\n",
        "\n",
        "original_label = []   # list to store the original label \n",
        "predicted_label = []   # list to store the predicted label\n",
        "\n",
        "for first_data, first_label in zip(test_en_data,test_label):\n",
        "    ## TMP LIST for each doc\n",
        "    sent_pred = []\n",
        "    \n",
        "    # start chunking the text into 30 words with 10 word slide\n",
        "    slides = slidingWindow(first_data.split(' '),30,10)\n",
        "        \n",
        "    for key,value in label_num.items():\n",
        "        if value == first_label:\n",
        "            num = key\n",
        "    \n",
        "    doc_sent = []\n",
        "    for slide in slides:\n",
        "        \n",
        "        a = ' '.join(slide)\n",
        "        \n",
        "        doc_sent.append(a)\n",
        "    \n",
        "        \n",
        "    # we have the slide here, create the sequence from text to numbers\n",
        "    text_sequence = tokenizer.texts_to_sequences(doc_sent)\n",
        "\n",
        "    # pad it to make flat 30 lenght\n",
        "    text_padded = keras.preprocessing.sequence.pad_sequences(text_sequence, maxlen=30, padding='post')\n",
        "\n",
        "\n",
        "    # predict the label\n",
        "    sent_pred.append(model.predict(text_padded))        \n",
        "    \n",
        "    # normailizing the predictions before combining them.\n",
        "    nor_data = []\n",
        "    for predc in sent_pred:\n",
        "        transformer2 = Normalizer().fit(predc)\n",
        "        nor_data.append(transformer2.transform(predc))    \n",
        "        \n",
        "    # adding all the predictions of sentences of a single document into one.\n",
        "    sent = np.zeros(32)\n",
        "    for sen in nor_data:\n",
        "        for i in range(len(sen)):\n",
        "            sent += sen[i]\n",
        "    \n",
        "    # populating lists of the predicted labels and original labels for further evaluation\n",
        "    predicted_label.append(np.argmax(sent, axis=0))\n",
        "    original_label.append(num)\n",
        "    \n",
        "    "
      ],
      "execution_count": 0,
      "outputs": []
    },
    {
      "metadata": {
        "id": "EQXiyNdcfvPZ",
        "colab_type": "code",
        "outputId": "1badf855-ba4c-4171-bc0b-9b17ce479db5",
        "colab": {
          "base_uri": "https://localhost:8080/",
          "height": 34
        }
      },
      "cell_type": "code",
      "source": [
        "# Accuracy on document level\n",
        "from sklearn.metrics import accuracy_score, classification_report, confusion_matrix\n",
        "print(\"Accuracy of the model on document level is: {:.2f} %\".format(accuracy_score(original_label, predicted_label)*100))"
      ],
      "execution_count": 0,
      "outputs": [
        {
          "output_type": "stream",
          "text": [
            "Accuracy of the model on document level is: 64.66 %\n"
          ],
          "name": "stdout"
        }
      ]
    },
    {
      "metadata": {
        "id": "RxpNYfiSrpac",
        "colab_type": "code",
        "outputId": "f788afe7-39b5-49b6-d215-199a638e37f3",
        "colab": {
          "base_uri": "https://localhost:8080/",
          "height": 1154
        }
      },
      "cell_type": "code",
      "source": [
        "# Classification report and confusion Matrix\n",
        "np.set_printoptions(threshold=np.nan)\n",
        "print(confusion_matrix(original_label, predicted_label))"
      ],
      "execution_count": 0,
      "outputs": [
        {
          "output_type": "stream",
          "text": [
            "[[21  0  0  0  1  0  0  0  0  0  1  0  1  0  1  0  0  0  0  0  0  0  0  0\n",
            "   0  0  0  0  0  0  0  0]\n",
            " [ 0  0  0  0  0  4  0  0  0  1  0  0  0  0  0  0  0  0  0  0  0  0  0  0\n",
            "   0  0  0  0  0  0  0  0]\n",
            " [ 1  0  0  0  0  0  0  0  0  0  0  0  0  0  0  0  2  1  0  0  0  0  0  3\n",
            "   0  0  0  1  0  0  2  0]\n",
            " [ 2  0  0  0  1  0  0  0  0  0  0  0  0  0  0  0  9  0  0  0  0  0  0  0\n",
            "   1  0  1  0  0  0  0  1]\n",
            " [ 1  0  0  0 23  0  0  0  0  0  1  0  0  0  0  0  1  0  1  0  0  0  0  0\n",
            "   4  2  0  0  0  0  0  4]\n",
            " [ 0  0  0  0  0  6  0  0  0  0  0  0  0  0  0  0  0  0  0  0  0  0  0  0\n",
            "   0  0  0  0  0  1  0  0]\n",
            " [ 0  0  0  0  0  0  8  0  0  0  1  0  2  0  0  0  0  0  0  0  0  0  0  0\n",
            "   0  2  0  0  0  0  0  2]\n",
            " [ 0  0  0  0  0  0  0 11  1  0  0  0  0  1  1  0  1  0  0  0  0  0  0  1\n",
            "   0  1  0  0  0  0  1  0]\n",
            " [ 0  0  0  0  0  0  0  0 39  0  1  0  0  0  0  0  0  0  0  0  0  0  1  0\n",
            "   2  0  0  0  0  0  0  0]\n",
            " [ 0  0  0  0  0  0  0  0  0 24  1  0  0  0  0  0  0  0  0  0  0  0  0  0\n",
            "   0  1  0  0  0  0  0  0]\n",
            " [ 0  0  0  0  0  0  0  0  0  1 33  0  0  1  0  0  0  0  0  0  0  0  2  1\n",
            "   3  0  1  1  3  1  0  0]\n",
            " [ 1  0  0  0  1  0  0  1  0  0  1 17  0  2  4  0  0  0  0  0  0  0  0  1\n",
            "   0  0  0  0  0  0  0  0]\n",
            " [ 0  0  0  0  0  0  0  0  0  0  1  3  8  0  0  0  1  0  0  0  0  0  0  0\n",
            "   0  2  1  0  0  0  0  0]\n",
            " [ 2  0  0  0  1  0  0  0  0  0  0  1  1  3  1  0  0  0  0  1  0  0  1  0\n",
            "   2  0  0  0  0  0  0  0]\n",
            " [ 0  0  0  0  1  0  0  1  0  0  0  0  0  1 35  0  1  0  0  0  0  0  0  1\n",
            "   0  0  1  0  1  0  0  2]\n",
            " [ 0  0  0  0  0  0  0  5  1  0  0  0  0  0  0  8  3  0  0  1  0  0  0  2\n",
            "   0  2  0  0  0  0  0  0]\n",
            " [ 1  0  0  0  0  0  1  0  0  0  0  0  0  1  2  0  9  0  0  0  0  0  0  0\n",
            "   0  0  0  0  0  0  0  0]\n",
            " [ 1  0  0  0  0  0  0  0  0  0  0  0  0  0  0  0  0  4  0  0  0  0  0  0\n",
            "   0  3  0  0  0  0  0  0]\n",
            " [ 0  0  0  0  3  0  0  0  0  0  0  0  0  0  1  0  0  0 30  0  0  0  0  0\n",
            "   3  0  0  0  1  0  0  0]\n",
            " [ 0  0  0  0  0  0  1  0  0  0  0  0  0  0  1  0  0  0  0  6  0  0  0  4\n",
            "   0  0  0  0  0  0  0  0]\n",
            " [ 0  0  0  0  0  0  0  0  0  0  0  0  1  0  0  1  0  0  0  0  2  0  0  4\n",
            "   0  3  0  0  0  1  0  0]\n",
            " [ 0  0  0  0  0  0  0  2  0  0  0  0  0  0  0  0  0  0  0  2  0  2  0  0\n",
            "   0  1  0  0  0  0  0  0]\n",
            " [ 0  0  0  0  0  1  0  0  1  2  1  0  0  0  0  0  0  0  0  0  0  0 25  2\n",
            "   2  4  0  0  0  2  0  0]\n",
            " [ 0  0  0  0  0  0  0  0  0  0  2  1  0  0  1  0  0  0  0  0  0  0  0 22\n",
            "   0  3  0  0  0  0  0  1]\n",
            " [ 0  0  0  0  8  0  0  0  1  0  6  0  0  0  1  0  1  0  0  0  0  0  3  3\n",
            "  47  2  0  0  0  0  1  1]\n",
            " [ 0  0  0  0  0  0  0  0  0  0  0  0  1  0  0  0  0  0  0  0  0  0  1  6\n",
            "   1 55  0  0  0  0  0  0]\n",
            " [ 2  0  0  0  0  0  0  0  1  0  0  0  0  0  0  0  0  0  0  0  0  0  0  0\n",
            "   0  0 23  0  0  0  0  1]\n",
            " [ 2  0  0  0  2  0  0  0  0  0  7  1  0  1  0  0  0  0  0  0  0  0  0  1\n",
            "   2  0  0  6  0  0  0  0]\n",
            " [ 3  0  0  0  0  0  0  1  0  0  0  1  1  1  1  0  0  0  0  0  0  0  1  0\n",
            "   0  0  2  0  9  0  0  1]\n",
            " [ 0  0  0  0  0  0  0  0  0  0  1  0  0  0  1  0  1  0  0  0  0  0  1  3\n",
            "   0  0  0  0  0  7  0  0]\n",
            " [ 0  0  0  0  0  0  1  0  0  0  1  0  0  0  0  0  0  0  0  0  0  0  0  0\n",
            "   1  0  0  0  0  0 10  1]\n",
            " [ 0  0  0  0  0  0  0  0  0  0  1  0  1  1  3  0  0  0  0  0  0  0  2  0\n",
            "   1  1  1  0  1  1  0 34]]\n"
          ],
          "name": "stdout"
        }
      ]
    },
    {
      "metadata": {
        "id": "38kGsHlrr6tk",
        "colab_type": "code",
        "outputId": "6d30ce83-39f2-477a-e6b2-600bd73eed0b",
        "colab": {
          "base_uri": "https://localhost:8080/",
          "height": 745
        }
      },
      "cell_type": "code",
      "source": [
        "print(classification_report(original_label, predicted_label))"
      ],
      "execution_count": 0,
      "outputs": [
        {
          "output_type": "stream",
          "text": [
            "              precision    recall  f1-score   support\n",
            "\n",
            "           0       0.57      0.84      0.68        25\n",
            "           1       0.00      0.00      0.00         5\n",
            "           2       0.00      0.00      0.00        10\n",
            "           3       0.00      0.00      0.00        15\n",
            "           4       0.56      0.62      0.59        37\n",
            "           5       0.55      0.86      0.67         7\n",
            "           6       0.73      0.53      0.62        15\n",
            "           7       0.52      0.61      0.56        18\n",
            "           8       0.89      0.91      0.90        43\n",
            "           9       0.86      0.92      0.89        26\n",
            "          10       0.56      0.70      0.62        47\n",
            "          11       0.71      0.61      0.65        28\n",
            "          12       0.50      0.50      0.50        16\n",
            "          13       0.25      0.23      0.24        13\n",
            "          14       0.66      0.80      0.72        44\n",
            "          15       0.89      0.36      0.52        22\n",
            "          16       0.31      0.64      0.42        14\n",
            "          17       0.80      0.50      0.62         8\n",
            "          18       0.97      0.79      0.87        38\n",
            "          19       0.60      0.50      0.55        12\n",
            "          20       1.00      0.17      0.29        12\n",
            "          21       1.00      0.29      0.44         7\n",
            "          22       0.68      0.62      0.65        40\n",
            "          23       0.41      0.73      0.52        30\n",
            "          24       0.68      0.64      0.66        74\n",
            "          25       0.67      0.86      0.75        64\n",
            "          26       0.77      0.85      0.81        27\n",
            "          27       0.75      0.27      0.40        22\n",
            "          28       0.60      0.43      0.50        21\n",
            "          29       0.54      0.50      0.52        14\n",
            "          30       0.71      0.71      0.71        14\n",
            "          31       0.71      0.72      0.72        47\n",
            "\n",
            "   micro avg       0.65      0.65      0.65       815\n",
            "   macro avg       0.61      0.55      0.55       815\n",
            "weighted avg       0.65      0.65      0.63       815\n",
            "\n"
          ],
          "name": "stdout"
        },
        {
          "output_type": "stream",
          "text": [
            "/usr/local/lib/python3.6/dist-packages/sklearn/metrics/classification.py:1143: UndefinedMetricWarning: Precision and F-score are ill-defined and being set to 0.0 in labels with no predicted samples.\n",
            "  'precision', 'predicted', average, warn_for)\n"
          ],
          "name": "stderr"
        }
      ]
    },
    {
      "metadata": {
        "id": "FsA-X2Bqo6Lh",
        "colab_type": "text"
      },
      "cell_type": "markdown",
      "source": [
        "## Evaluation on Sentence level\n"
      ]
    },
    {
      "metadata": {
        "id": "dAAY4c28n23m",
        "colab_type": "code",
        "colab": {}
      },
      "cell_type": "code",
      "source": [
        "# converting docs into sentences and corresponding numerical labels\n",
        "_test_sentences = []\n",
        "_test_label_alpha = []\n",
        "_test_label_num = []\n",
        "\n",
        "for _t_data, t_label in zip(test_en_data, test_label):\n",
        "    # start chunking the text into 30 words with 10 word slide\n",
        "    slides = slidingWindow(_t_data.split(' '),30,10)\n",
        "        \n",
        "    for key,value in label_num.items():\n",
        "        if value == t_label:\n",
        "            num = key\n",
        "    \n",
        "    \n",
        "    for slide in slides:\n",
        "        _test_sentences.append(' '.join(slide))\n",
        "        _test_label_alpha.append(t_label)\n",
        "        _test_label_num.append(num)"
      ],
      "execution_count": 0,
      "outputs": []
    },
    {
      "metadata": {
        "id": "Gnl6eZ4ApV7j",
        "colab_type": "code",
        "outputId": "722f5a22-ce32-42cf-8cb2-1e453dbd8221",
        "colab": {
          "base_uri": "https://localhost:8080/",
          "height": 34
        }
      },
      "cell_type": "code",
      "source": [
        "len(_test_sentences), len(_test_label_alpha), len(_test_label_num)"
      ],
      "execution_count": 0,
      "outputs": [
        {
          "output_type": "execute_result",
          "data": {
            "text/plain": [
              "(36490, 36490, 36490)"
            ]
          },
          "metadata": {
            "tags": []
          },
          "execution_count": 19
        }
      ]
    },
    {
      "metadata": {
        "id": "0e5eYf8kqdQj",
        "colab_type": "code",
        "outputId": "b3d71755-7d2c-472d-fc97-bc0b1b4c889b",
        "colab": {
          "base_uri": "https://localhost:8080/",
          "height": 34
        }
      },
      "cell_type": "code",
      "source": [
        "# Coverting labels to one hot encoded format\n",
        "test_label = oht_obj.transform(np.reshape(_test_label_num,(-1,1)))\n",
        "print(len(test_label))"
      ],
      "execution_count": 0,
      "outputs": [
        {
          "output_type": "stream",
          "text": [
            "36490\n"
          ],
          "name": "stdout"
        }
      ]
    },
    {
      "metadata": {
        "id": "DVFw4c3iq90t",
        "colab_type": "code",
        "colab": {}
      },
      "cell_type": "code",
      "source": [
        "#Test sentences to numeric converstion\n",
        "test_sequences = tokenizer.texts_to_sequences(_test_sentences)\n",
        "padded_sents_test = keras.preprocessing.sequence.pad_sequences(test_sequences, maxlen=max_len, padding='post')"
      ],
      "execution_count": 0,
      "outputs": []
    },
    {
      "metadata": {
        "id": "U8B9g1OmrReh",
        "colab_type": "code",
        "outputId": "27bed540-1d0a-4e4b-de55-fcf685c14e74",
        "colab": {
          "base_uri": "https://localhost:8080/",
          "height": 34
        }
      },
      "cell_type": "code",
      "source": [
        "print(len(padded_sents_test))"
      ],
      "execution_count": 0,
      "outputs": [
        {
          "output_type": "stream",
          "text": [
            "36490\n"
          ],
          "name": "stdout"
        }
      ]
    },
    {
      "metadata": {
        "id": "1CqU97fXrdT3",
        "colab_type": "code",
        "outputId": "219d0e5f-d558-4348-872c-45a6c251da5b",
        "colab": {
          "base_uri": "https://localhost:8080/",
          "height": 52
        }
      },
      "cell_type": "code",
      "source": [
        "scores = model.evaluate(padded_sents_test, test_label, verbose=1)\n",
        "print(\"Accuracy on sentence level: %.2f%%\" % (scores[1]*100))"
      ],
      "execution_count": 0,
      "outputs": [
        {
          "output_type": "stream",
          "text": [
            "36490/36490 [==============================] - 26s 723us/step\n",
            "Accuracy on sentence level: 40.26%\n"
          ],
          "name": "stdout"
        }
      ]
    },
    {
      "metadata": {
        "id": "JxEJNQLZrmz6",
        "colab_type": "code",
        "outputId": "58c72151-4101-4a90-866a-a9abd106e6ac",
        "colab": {
          "base_uri": "https://localhost:8080/",
          "height": 1723
        }
      },
      "cell_type": "code",
      "source": [
        "pred = model.predict(padded_sents_test)\n",
        "y_pred = np.argmax(pred, axis=1)\n",
        "y_true = np.argmax(test_label, axis=1)\n",
        "print(confusion_matrix(y_true, y_pred))"
      ],
      "execution_count": 0,
      "outputs": [
        {
          "output_type": "stream",
          "text": [
            "[[ 713    0   15   35  112    0    7   94    6    2   32   12   31   43\n",
            "    95   11   95    4   95    0    0    0    8   24   33   14   78   32\n",
            "    41    6   11   14]\n",
            " [   5   26   12    3    3   87    3    2    3   31    4    7    7   10\n",
            "     1   12    4    0    0    3    1    2   17    3    4    3    1    4\n",
            "     1   21    0    1]\n",
            " [  29    0   19    7    3    3   17   22   12   11   12   16   10   16\n",
            "    12   23   39    9    1    3    1    0    6   40   11   13    2   20\n",
            "    15    6   43    8]\n",
            " [  58    0   11   63   42    2    3    5    8    1    2    3    8   12\n",
            "    39    2  182    7   13    1    0    0    2   15   50    9   22    9\n",
            "     2    2    6   45]\n",
            " [  59    0    2    8  493    0    3    4   10    4   46    0    3   20\n",
            "    34    1   19    4   96    0    1    0   17   25  173   72   25    7\n",
            "    10    3    3  131]\n",
            " [   1   21    2    0    0   81    0    1    0   31    2   15   30    9\n",
            "     1   18    0    0    0    1    0    1    5    7    0    0    0    4\n",
            "     2   11    0    0]\n",
            " [  12    0   12    3   32    1  210    6    7    3   29    0   52    7\n",
            "     3   21   48   37    8   18   22    0    9   24   26   81    5    8\n",
            "     2    3   40   23]\n",
            " [  31    7    7    2    1    5   17  269   14    7    8   29   15   19\n",
            "    19   64   58    5    0   40    7   46    2   25    2   14    3    2\n",
            "     9    9   10    1]\n",
            " [   5    0   25    3    5    4    1    5 1888   11  179    9  109   44\n",
            "     3   16   24   38    1    0    2    2   35   35   99   15    4   24\n",
            "    10   17    5    2]\n",
            " [   0    1    2    0    2    4    8    0    9  773   76    1   52    3\n",
            "     0    8    3    2    0    5    1    0   60   46    1   43    1    2\n",
            "     5   31    0    1]\n",
            " [  11    1    9    5   38    0    3    5   60   83  824   14  101   54\n",
            "    15   13   16   10    3    0    9    1   97   77   97  122   29   60\n",
            "    65   37    0   38]\n",
            " [  46   19    3    6   31    5    5   37    4    3   28  403    4  124\n",
            "    87    7   48    2    1    4    1    5   18   21   33   17   12   10\n",
            "    18   25    0   13]\n",
            " [  36   11   12    1    3   11   13   15   24    3   53  125  230   23\n",
            "    20   28   19   24    5    3   43    0    2   46   19  109   31   17\n",
            "     3    8    5    3]\n",
            " [  32    1    7    5   18    3    4   18   19    3   17   41   39   79\n",
            "    21   16   23    5    4   29    0    1   15   15   38    6    5    9\n",
            "     9   15    2    9]\n",
            " [ 120    0    4    8   60    0    6   88    5    4   24   65   13   85\n",
            "   637   23   59    3    6    4    0    0   16   68   41   16   56   18\n",
            "    42   19    0   89]\n",
            " [  23    1   22    0    4   21   33  125   11   37   14   34   37   26\n",
            "    12  176   74   11    1   64   26   26   10   91   13   82   11    5\n",
            "    12   29    4    5]\n",
            " [  58    0    5    5   22    0   26   38    7    0   12    6    5   26\n",
            "    30   17  171    6    4    5    5    2    6   18   28   22    2    7\n",
            "     9    0    7    9]\n",
            " [  15    0    2    3    7    0   21    1    8    1    6    0    2    4\n",
            "     4    5   10   71    4    4    2    0    3   20   20   72    2    0\n",
            "     4    0   19    3]\n",
            " [  78    0    4   10  193    0    3    4    1    0    5    1    2   12\n",
            "    42    3   20    2  806    0    0    0    4    8   70   17   58    9\n",
            "     7    0   10   24]\n",
            " [   3    2    6    1    2    2   29   37    0    0    9    5    5    7\n",
            "    24   41   14    2    0   96    7    6    6   54    3   11    2    2\n",
            "    11    7    1    9]\n",
            " [   0    0    1    0    0    0   12   13    0    8   16    0   40    1\n",
            "     0   78    2    1    1   29   84    0    6  119    1  123    0    1\n",
            "     0    6    1    1]\n",
            " [   2    0    5    0    0    1    8   42    0    6    1    6    3    3\n",
            "     5   76   12    0    0   96    9   55    1   44    2   20    0    2\n",
            "     1    1    0    1]\n",
            " [   4    8   10    3   31   13    2    5   24   84  140    5   41   39\n",
            "    38    9    9    9    1    0    5    2  866  128   87  145    5    9\n",
            "    36  122    0   79]\n",
            " [   6    3    2    0    5    5    4    6   18   23   54   28   21   17\n",
            "    20   41   16    9    1    4   13    2   52  650   25  287    1    7\n",
            "     8   19    0   34]\n",
            " [  34    0   12   18  264    0   25   13  116   10  232   19   27  109\n",
            "    70   18   85   36   49    5    3    1  191  160 1120  153    3   27\n",
            "    29   17   25  109]\n",
            " [  10    1    7    1   45    0   36   22   12    7   73    8   44   17\n",
            "    20   63   46   45    1    6  101    1   76  360  120 1689    3   12\n",
            "     6    8    8   34]\n",
            " [ 113    0    5   17   21    0    5   14   20    0   17    4    6   17\n",
            "    74    4   31    5   23    0    4    0   11   27   14    8  714    5\n",
            "    22    4    0   59]\n",
            " [  41    3   14   12   88    9    8   14   17   11  194   25   15   65\n",
            "    13   14   15    1   26    0    1    4   23   21   43   28    9  149\n",
            "    46   14    7   16]\n",
            " [ 168    3   25   12   18    5    7  132   35   33  111   81   54  117\n",
            "   113   43   20    3    3    5    0    4   99   32   26    9  125   83\n",
            "   205   47    7   49]\n",
            " [  12    0    1    4    0    0    0    7   18   26   16   36   12   25\n",
            "    30    6   15    2    0    0    1    0   63   78   11    4    5    2\n",
            "    16  121    2    4]\n",
            " [  13    0    2   13   20    0   45    2   11    0   32    2   17    3\n",
            "     6    3   20   27   16    0    0    0    1    3   30    9    2    2\n",
            "     2    4  168   10]\n",
            " [  27    1    3    2  218    0    9   10    9    1   83   15   29   50\n",
            "   125   22   22    7    5    2    2    0  144   48  117   69   94   17\n",
            "    48   23    5  842]]\n"
          ],
          "name": "stdout"
        }
      ]
    },
    {
      "metadata": {
        "id": "CgTt24tFsllq",
        "colab_type": "code",
        "outputId": "6ff00ded-a152-421e-c2a7-9eca391a7a6d",
        "colab": {
          "base_uri": "https://localhost:8080/",
          "height": 710
        }
      },
      "cell_type": "code",
      "source": [
        "print(classification_report(y_true, y_pred))"
      ],
      "execution_count": 0,
      "outputs": [
        {
          "output_type": "stream",
          "text": [
            "              precision    recall  f1-score   support\n",
            "\n",
            "           0       0.40      0.43      0.42      1663\n",
            "           1       0.24      0.09      0.13       281\n",
            "           2       0.07      0.04      0.05       429\n",
            "           3       0.25      0.10      0.14       624\n",
            "           4       0.28      0.39      0.32      1273\n",
            "           5       0.31      0.33      0.32       243\n",
            "           6       0.37      0.28      0.32       752\n",
            "           7       0.25      0.36      0.30       747\n",
            "           8       0.79      0.72      0.76      2620\n",
            "           9       0.64      0.68      0.66      1140\n",
            "          10       0.35      0.43      0.39      1897\n",
            "          11       0.40      0.39      0.39      1040\n",
            "          12       0.22      0.24      0.23       945\n",
            "          13       0.07      0.16      0.10       508\n",
            "          14       0.39      0.40      0.40      1579\n",
            "          15       0.20      0.17      0.18      1040\n",
            "          16       0.14      0.31      0.19       558\n",
            "          17       0.18      0.23      0.20       313\n",
            "          18       0.69      0.58      0.63      1393\n",
            "          19       0.22      0.24      0.23       404\n",
            "          20       0.24      0.15      0.19       544\n",
            "          21       0.34      0.14      0.20       402\n",
            "          22       0.46      0.44      0.45      1959\n",
            "          23       0.28      0.47      0.35      1381\n",
            "          24       0.48      0.38      0.42      2980\n",
            "          25       0.51      0.59      0.55      2882\n",
            "          26       0.55      0.57      0.56      1244\n",
            "          27       0.26      0.16      0.20       946\n",
            "          28       0.29      0.12      0.17      1674\n",
            "          29       0.19      0.23      0.21       517\n",
            "          30       0.43      0.36      0.39       463\n",
            "          31       0.51      0.41      0.45      2049\n",
            "\n",
            "   micro avg       0.40      0.40      0.40     36490\n",
            "   macro avg       0.34      0.33      0.33     36490\n",
            "weighted avg       0.42      0.40      0.40     36490\n",
            "\n"
          ],
          "name": "stdout"
        }
      ]
    },
    {
      "metadata": {
        "id": "mfE7y7tfstYZ",
        "colab_type": "code",
        "colab": {}
      },
      "cell_type": "code",
      "source": [
        ""
      ],
      "execution_count": 0,
      "outputs": []
    }
  ]
}