{
  "nbformat": 4,
  "nbformat_minor": 0,
  "metadata": {
    "colab": {
      "name": "LSTM-KMeans-32-EN-de.ipynb",
      "version": "0.3.2",
      "provenance": [],
      "toc_visible": true
    },
    "kernelspec": {
      "name": "python3",
      "display_name": "Python 3"
    },
    "accelerator": "GPU"
  },
  "cells": [
    {
      "metadata": {
        "id": "76MkQTCDd7GJ",
        "colab_type": "text"
      },
      "cell_type": "markdown",
      "source": [
        "# LSTM 2 Cluster KMeans Clustered Data English and German \n",
        "\n",
        "The idea here is to divide the data into two clusters based on the results from K-Means clustering.\n"
      ]
    },
    {
      "metadata": {
        "id": "M863K5MvptaT",
        "colab_type": "code",
        "colab": {}
      },
      "cell_type": "code",
      "source": [
        "!pip freeze >> requiremet.txt"
      ],
      "execution_count": 0,
      "outputs": []
    },
    {
      "metadata": {
        "id": "jRgpySkGdo4k",
        "colab_type": "code",
        "outputId": "c1e6a9a9-fcba-488a-8b0f-455725eb9c6c",
        "colab": {
          "base_uri": "https://localhost:8080/",
          "height": 35
        }
      },
      "cell_type": "code",
      "source": [
        "import os\n",
        "import keras\n",
        "import sys\n",
        "from keras.models import Sequential\n",
        "from keras.layers import Dense\n",
        "from keras.layers import LSTM, Bidirectional\n",
        "from keras.layers import Embedding as emb\n",
        "import tensorflow as tf\n",
        "from keras.utils.vis_utils import plot_model\n",
        "import numpy as np\n",
        "from sklearn.model_selection import train_test_split\n",
        "from sklearn.preprocessing import OneHotEncoder\n",
        "from keras.preprocessing.text import Tokenizer\n",
        "from keras.preprocessing.sequence import pad_sequences\n",
        "from keras.models import load_model\n",
        "from sklearn.metrics import classification_report, confusion_matrix\n",
        "import seaborn \n",
        "\n",
        "# Setting seed to get reproducable results\n",
        "from numpy.random import seed\n",
        "from tensorflow import set_random_seed\n",
        "SEED = 13\n",
        "seed(SEED)\n",
        "set_random_seed(SEED)"
      ],
      "execution_count": 0,
      "outputs": [
        {
          "output_type": "stream",
          "text": [
            "Using TensorFlow backend.\n"
          ],
          "name": "stderr"
        }
      ]
    },
    {
      "metadata": {
        "id": "aF7zCwT7k4Gs",
        "colab_type": "code",
        "outputId": "0627b0c3-19da-4f7b-d19d-b72a0c29a69e",
        "colab": {
          "base_uri": "https://localhost:8080/",
          "height": 478
        }
      },
      "cell_type": "code",
      "source": [
        "!lscpu"
      ],
      "execution_count": 0,
      "outputs": [
        {
          "output_type": "stream",
          "text": [
            "Architecture:        x86_64\n",
            "CPU op-mode(s):      32-bit, 64-bit\n",
            "Byte Order:          Little Endian\n",
            "CPU(s):              2\n",
            "On-line CPU(s) list: 0,1\n",
            "Thread(s) per core:  2\n",
            "Core(s) per socket:  1\n",
            "Socket(s):           1\n",
            "NUMA node(s):        1\n",
            "Vendor ID:           GenuineIntel\n",
            "CPU family:          6\n",
            "Model:               63\n",
            "Model name:          Intel(R) Xeon(R) CPU @ 2.30GHz\n",
            "Stepping:            0\n",
            "CPU MHz:             2299.998\n",
            "BogoMIPS:            4599.99\n",
            "Hypervisor vendor:   KVM\n",
            "Virtualization type: full\n",
            "L1d cache:           32K\n",
            "L1i cache:           32K\n",
            "L2 cache:            256K\n",
            "L3 cache:            46080K\n",
            "NUMA node0 CPU(s):   0,1\n",
            "Flags:               fpu vme de pse tsc msr pae mce cx8 apic sep mtrr pge mca cmov pat pse36 clflush mmx fxsr sse sse2 ss ht syscall nx pdpe1gb rdtscp lm constant_tsc rep_good nopl xtopology nonstop_tsc cpuid tsc_known_freq pni pclmulqdq ssse3 fma cx16 pcid sse4_1 sse4_2 x2apic movbe popcnt aes xsave avx f16c rdrand hypervisor lahf_lm abm invpcid_single pti ssbd ibrs ibpb stibp fsgsbase tsc_adjust bmi1 avx2 smep bmi2 erms invpcid xsaveopt arat arch_capabilities\n"
          ],
          "name": "stdout"
        }
      ]
    },
    {
      "metadata": {
        "id": "Nffv3wATm0dI",
        "colab_type": "code",
        "outputId": "8164b371-9001-4acf-c8af-1d2e25ffef86",
        "colab": {
          "base_uri": "https://localhost:8080/",
          "height": 329
        }
      },
      "cell_type": "code",
      "source": [
        "!nvidia-smi"
      ],
      "execution_count": 0,
      "outputs": [
        {
          "output_type": "stream",
          "text": [
            "Thu Apr 11 08:55:13 2019       \n",
            "+-----------------------------------------------------------------------------+\n",
            "| NVIDIA-SMI 418.56       Driver Version: 410.79       CUDA Version: 10.0     |\n",
            "|-------------------------------+----------------------+----------------------+\n",
            "| GPU  Name        Persistence-M| Bus-Id        Disp.A | Volatile Uncorr. ECC |\n",
            "| Fan  Temp  Perf  Pwr:Usage/Cap|         Memory-Usage | GPU-Util  Compute M. |\n",
            "|===============================+======================+======================|\n",
            "|   0  Tesla K80           Off  | 00000000:00:04.0 Off |                    0 |\n",
            "| N/A   36C    P8    26W / 149W |      0MiB / 11441MiB |      0%      Default |\n",
            "+-------------------------------+----------------------+----------------------+\n",
            "                                                                               \n",
            "+-----------------------------------------------------------------------------+\n",
            "| Processes:                                                       GPU Memory |\n",
            "|  GPU       PID   Type   Process name                             Usage      |\n",
            "|=============================================================================|\n",
            "|  No running processes found                                                 |\n",
            "+-----------------------------------------------------------------------------+\n"
          ],
          "name": "stdout"
        }
      ]
    },
    {
      "metadata": {
        "id": "O-YmF4rPnWXe",
        "colab_type": "code",
        "outputId": "1539a15a-cf94-417d-8a14-269a7306057c",
        "colab": {
          "base_uri": "https://localhost:8080/",
          "height": 72
        }
      },
      "cell_type": "code",
      "source": [
        "! free -h \n"
      ],
      "execution_count": 0,
      "outputs": [
        {
          "output_type": "stream",
          "text": [
            "              total        used        free      shared  buff/cache   available\n",
            "Mem:            12G        404M         10G        900K        1.7G         12G\n",
            "Swap:            0B          0B          0B\n"
          ],
          "name": "stdout"
        }
      ]
    },
    {
      "metadata": {
        "id": "d7QingKLni3W",
        "colab_type": "code",
        "outputId": "3aa622cd-0d25-4d48-e19f-05442f0cf9d1",
        "colab": {
          "base_uri": "https://localhost:8080/",
          "height": 164
        }
      },
      "cell_type": "code",
      "source": [
        "!df -k"
      ],
      "execution_count": 0,
      "outputs": [
        {
          "output_type": "stream",
          "text": [
            "Filesystem     1K-blocks     Used Available Use% Mounted on\n",
            "overlay        375674948 23201844 333320208   7% /\n",
            "tmpfs            6667636        0   6667636   0% /dev\n",
            "tmpfs            6667636        0   6667636   0% /sys/fs/cgroup\n",
            "/dev/sda1      382718764 27991856 354710524   8% /opt/bin\n",
            "tmpfs            6667636       12   6667624   1% /var/colab\n",
            "shm              6291456        0   6291456   0% /dev/shm\n",
            "tmpfs            6667636        0   6667636   0% /sys/firmware\n"
          ],
          "name": "stdout"
        }
      ]
    },
    {
      "metadata": {
        "id": "1U6eZ_yMmWJx",
        "colab_type": "text"
      },
      "cell_type": "markdown",
      "source": [
        ""
      ]
    },
    {
      "metadata": {
        "id": "TXopzoYYfUOr",
        "colab_type": "code",
        "outputId": "80ee1c2a-59c8-4b36-ec43-f9a3104c8c92",
        "colab": {
          "base_uri": "https://localhost:8080/",
          "height": 129
        }
      },
      "cell_type": "code",
      "source": [
        "from google.colab import drive\n",
        "drive.mount('/content/gdrive')\n",
        "embding_path = '/content/gdrive/My Drive/en.de.context.emb'"
      ],
      "execution_count": 0,
      "outputs": [
        {
          "output_type": "stream",
          "text": [
            "Go to this URL in a browser: https://accounts.google.com/o/oauth2/auth?client_id=947318989803-6bn6qk8qdgf4n4g3pfee6491hc0brc4i.apps.googleusercontent.com&redirect_uri=urn%3Aietf%3Awg%3Aoauth%3A2.0%3Aoob&scope=email%20https%3A%2F%2Fwww.googleapis.com%2Fauth%2Fdocs.test%20https%3A%2F%2Fwww.googleapis.com%2Fauth%2Fdrive%20https%3A%2F%2Fwww.googleapis.com%2Fauth%2Fdrive.photos.readonly%20https%3A%2F%2Fwww.googleapis.com%2Fauth%2Fpeopleapi.readonly&response_type=code\n",
            "\n",
            "Enter your authorization code:\n",
            "··········\n",
            "Mounted at /content/gdrive\n"
          ],
          "name": "stdout"
        }
      ]
    },
    {
      "metadata": {
        "id": "FpaRjefxfV6v",
        "colab_type": "code",
        "colab": {}
      },
      "cell_type": "code",
      "source": [
        "# unpickle data\n",
        "import pickle\n",
        "def unpickle(obj):\n",
        "    with open(obj, 'rb') as picklehandle:\n",
        "        toReturn = pickle.load(picklehandle)\n",
        "    return toReturn"
      ],
      "execution_count": 0,
      "outputs": []
    },
    {
      "metadata": {
        "id": "6a7Tk2bufdxI",
        "colab_type": "code",
        "colab": {}
      },
      "cell_type": "code",
      "source": [
        "en_de_combined = unpickle('/content/gdrive/My Drive/combined_data.pkl')\n",
        "label = unpickle('/content/gdrive/My Drive/en-de-label.pkl')"
      ],
      "execution_count": 0,
      "outputs": []
    },
    {
      "metadata": {
        "id": "0LYeN67LffsM",
        "colab_type": "code",
        "outputId": "dd85ffae-4f0d-419e-d04b-233b7824d4b3",
        "colab": {
          "base_uri": "https://localhost:8080/",
          "height": 35
        }
      },
      "cell_type": "code",
      "source": [
        "len(en_de_combined), len(label)"
      ],
      "execution_count": 0,
      "outputs": [
        {
          "output_type": "execute_result",
          "data": {
            "text/plain": [
              "(2716, 2716)"
            ]
          },
          "metadata": {
            "tags": []
          },
          "execution_count": 11
        }
      ]
    },
    {
      "metadata": {
        "id": "CfSuwHL5fn1o",
        "colab_type": "text"
      },
      "cell_type": "markdown",
      "source": [
        "## Spliting the train and test data\n",
        "\n",
        "The data here is combined, hence there is no chance of an parallel document slipping from train to test data. It is a precautionary measure.\n",
        "\n",
        "The structure of data: \n",
        "\n",
        "* EN data \n",
        "* DE data\n",
        "* File Name \n",
        "* Doc_ID\n",
        "* Multilabel\n",
        "* Single Label\n",
        "\n",
        "The data is in list seperated by three new line charaters.\n",
        "\n",
        "To retrive the data\n",
        "\n",
        "\n",
        "\n",
        "```python\n",
        "    # unpicke the data\n",
        "    for data in unpickled_data:\n",
        "        en_data = data.split('\\n\\n\\n')[0]\n",
        "        de_data = data.split('\\n\\\\n\\n')[1]\n",
        "        file_name = data.split('\\n\\\\n\\n')[2]\n",
        "        doc_id = data.split('\\n\\\\n\\n')[3]\n",
        "        multilabel = data.split('\\n\\\\n\\n')[4]\n",
        "        single_label = data.split('\\n\\\\n\\n')[5]\n",
        "```\n",
        "\n"
      ]
    },
    {
      "metadata": {
        "id": "DGfpbXp_fkEH",
        "colab_type": "code",
        "colab": {}
      },
      "cell_type": "code",
      "source": [
        "# Initial Test Train Split\n",
        "train_data, test_data, train_la, test_la = train_test_split(en_de_combined, label,test_size=0.3, random_state=SEED)"
      ],
      "execution_count": 0,
      "outputs": []
    },
    {
      "metadata": {
        "id": "SZ-wLGmXhujQ",
        "colab_type": "text"
      },
      "cell_type": "markdown",
      "source": [
        "## Sliding Window "
      ]
    },
    {
      "metadata": {
        "id": "YAl6lLZ8htQR",
        "colab_type": "code",
        "colab": {}
      },
      "cell_type": "code",
      "source": [
        "# sliding window for creating sentences\n",
        "def slidingWindow(sequence,winSize,step):\n",
        "    \"\"\"Returns a generator that will iterate through\n",
        "    the defined chunks of input sequence. Input sequence\n",
        "    must be sliceable.\"\"\"\n",
        "\n",
        "    # Pre-compute number of chunks to emit\n",
        "    numOfChunks = ((len(sequence)-winSize)/step)+1\n",
        "    # Do the work\n",
        "    for i in range(0,round(numOfChunks)*step,step):\n",
        "        yield sequence[i:i+winSize]"
      ],
      "execution_count": 0,
      "outputs": []
    },
    {
      "metadata": {
        "id": "p5MhILaHiHUc",
        "colab_type": "text"
      },
      "cell_type": "markdown",
      "source": [
        "## Sentence preparation "
      ]
    },
    {
      "metadata": {
        "id": "ZcKkGBjwvCQR",
        "colab_type": "code",
        "colab": {}
      },
      "cell_type": "code",
      "source": [
        "cluster_1_info = ['agriculture',\n",
        " 'audiovisual_and_media',\n",
        " 'competition',\n",
        " 'consumers',\n",
        " 'employment_and_social_policy',\n",
        " 'energy',\n",
        " 'enterprise',\n",
        " 'environment',\n",
        " 'food_safety',\n",
        " 'information_society',\n",
        " 'internal_market',\n",
        " 'public_health',\n",
        " 'taxation',\n",
        " 'transport']"
      ],
      "execution_count": 0,
      "outputs": []
    },
    {
      "metadata": {
        "id": "RfrSMOrrvVTZ",
        "colab_type": "code",
        "colab": {}
      },
      "cell_type": "code",
      "source": [
        "# TRAIN DATA\n",
        "# dividing data with second sampling technique, the first one was already done where the duplicates from the \n",
        "# major class were removed, and if there were duplicates in the same class they were removed too.\n",
        "# we dont need the multiclass information of doc ids here so I will not bother about it here \n",
        "cluster_1_data = []\n",
        "cluster_1_label = []\n",
        "\n",
        "root_data = []\n",
        "root_label = []\n",
        "\n",
        "cluster_2_data = []\n",
        "cluster_2_label = []\n",
        "\n",
        "# for statistics\n",
        "count_cluster_1 =0\n",
        "count_cluster_2 =0\n",
        "count_root = 0\n",
        "\n",
        "# we will just divide the train data and labels\n",
        "\n",
        "for combined_doc, label in zip(train_data, train_la):\n",
        "    if label == 'content':\n",
        "        pass\n",
        "    elif label in cluster_1_info:\n",
        "        \"\"\"call the split function on the data\"\"\"\n",
        "        count_cluster_1 +=1\n",
        "        count_root +=1\n",
        "        cluster_1_data.append(combined_doc.split('\\n\\n\\n')[0])\n",
        "        cluster_1_data.append(combined_doc.split('\\n\\n\\n')[1])\n",
        "        cluster_1_label.append(label)\n",
        "        cluster_1_label.append(label)\n",
        "        \n",
        "        root_data.append(combined_doc.split('\\n\\n\\n')[0])\n",
        "        root_data.append(combined_doc.split('\\n\\n\\n')[1])\n",
        "        root_label.append(1)    # label for cluster 1 in the root classifier is 1\n",
        "        root_label.append(1)\n",
        "    elif label not in cluster_1_info:\n",
        "        count_cluster_2 +=1\n",
        "        count_root+=1\n",
        "        cluster_2_data.append(combined_doc.split('\\n\\n\\n')[0])\n",
        "        cluster_2_data.append(combined_doc.split('\\n\\n\\n')[1])\n",
        "        cluster_2_label.append(label)\n",
        "        cluster_2_label.append(label)\n",
        "        \n",
        "        root_data.append(combined_doc.split('\\n\\n\\n')[0])\n",
        "        root_data.append(combined_doc.split('\\n\\n\\n')[1])\n",
        "        root_label.append(2)    # label for cluster 2 in root classifier is 2 \n",
        "        root_label.append(2)\n",
        "    else:\n",
        "        raise ValueError"
      ],
      "execution_count": 0,
      "outputs": []
    },
    {
      "metadata": {
        "id": "y-T448z5xyIH",
        "colab_type": "code",
        "colab": {}
      },
      "cell_type": "code",
      "source": [
        "# TEST DATA\n",
        "cluster_1_data_test = []\n",
        "cluster_1_doc_id_test = []\n",
        "cluster_1_label_test = []\n",
        "cluster_1_multilabel_test = []\n",
        "cluster_1_file_name_test = []\n",
        "\n",
        "\n",
        "root_test_data = []\n",
        "root_test_label = []\n",
        "root_test_doc_id = []\n",
        "root_test_file_name = []\n",
        "root_test_multilabel = []\n",
        "\n",
        "cluster_2_data_test = []\n",
        "cluster_2_doc_id_test = []\n",
        "cluster_2_label_test = []\n",
        "cluster_2_multilabel_test = []\n",
        "cluster_2_file_name_test = []\n",
        "\n",
        "# for statistics\n",
        "count_cluster_1_test = 0\n",
        "count_cluster_2_test = 0\n",
        "count_root_test = 0\n",
        "# we will just divide the train data and labels\n",
        "\n",
        "for combine_doc, label in zip(test_data, test_la):\n",
        "    if label == 'content':\n",
        "        pass\n",
        "    elif label in cluster_1_info:\n",
        "        count_cluster_1_test +=1\n",
        "        count_root_test +=1\n",
        "        cluster_1_data_test.append(combine_doc.split('\\n\\n\\n')[0])\n",
        "        cluster_1_data_test.append(combine_doc.split('\\n\\n\\n')[1])\n",
        "        cluster_1_label_test.append(label)\n",
        "        \n",
        "        cluster_1_multilabel_test.append(combine_doc.split('\\n\\n\\n')[4])\n",
        "        cluster_1_doc_id_test.append(combine_doc.split('\\n\\n\\n')[3])\n",
        "        cluster_1_file_name_test.append(combine_doc.split('\\n\\n\\n')[2])\n",
        "        cluster_1_label_test.append(label)\n",
        "        \n",
        "        cluster_1_multilabel_test.append(combine_doc.split('\\n\\n\\n')[4])\n",
        "        cluster_1_doc_id_test.append(combine_doc.split('\\n\\n\\n')[3])\n",
        "        cluster_1_file_name_test.append(combine_doc.split('\\n\\n\\n')[2])\n",
        "        \n",
        "        root_test_data.append(combine_doc.split('\\n\\n\\n')[0])\n",
        "        root_test_data.append(combine_doc.split('\\n\\n\\n')[1])\n",
        "        root_test_label.append(1)\n",
        "        root_test_doc_id.append(combine_doc.split('\\n\\n\\n')[3])\n",
        "        root_test_file_name.append(combine_doc.split('\\n\\n\\n')[2])\n",
        "        root_test_multilabel.append(combine_doc.split('\\n\\n\\n')[4])\n",
        "        root_test_label.append(1)\n",
        "        root_test_doc_id.append(combine_doc.split('\\n\\n\\n')[3])\n",
        "        root_test_file_name.append(combine_doc.split('\\n\\n\\n')[2])\n",
        "        root_test_multilabel.append(combine_doc.split('\\n\\n\\n')[4])\n",
        "        \n",
        "    elif label not in cluster_1_info:\n",
        "        count_cluster_2_test +=1\n",
        "        count_root_test +=1\n",
        "        cluster_2_data_test.append(combine_doc.split('\\n\\n\\n')[0])\n",
        "        cluster_2_data_test.append(combine_doc.split('\\n\\n\\n')[1])\n",
        "        cluster_2_label_test.append(label)\n",
        "        cluster_2_multilabel_test.append(combine_doc.split('\\n\\n\\n')[4])\n",
        "        cluster_2_doc_id_test.append(combine_doc.split('\\n\\n\\n')[3])\n",
        "        cluster_2_file_name_test.append(combine_doc.split('\\n\\n\\n')[2])\n",
        "        cluster_2_label_test.append(label)\n",
        "        cluster_2_multilabel_test.append(combine_doc.split('\\n\\n\\n')[4])\n",
        "        cluster_2_doc_id_test.append(combine_doc.split('\\n\\n\\n')[3])\n",
        "        cluster_2_file_name_test.append(combine_doc.split('\\n\\n\\n')[2])\n",
        "        \n",
        "        root_test_data.append(combine_doc.split('\\n\\n\\n')[0])\n",
        "        root_test_data.append(combine_doc.split('\\n\\n\\n')[1])\n",
        "        root_test_label.append(2)\n",
        "        root_test_doc_id.append(combine_doc.split('\\n\\n\\n')[3])\n",
        "        root_test_file_name.append(combine_doc.split('\\n\\n\\n')[2])\n",
        "        root_test_multilabel.append(combine_doc.split('\\n\\n\\n')[4])\n",
        "        root_test_label.append(2)\n",
        "        root_test_doc_id.append(combine_doc.split('\\n\\n\\n')[3])\n",
        "        root_test_file_name.append(combine_doc.split('\\n\\n\\n')[2])\n",
        "        root_test_multilabel.append(combine_doc.split('\\n\\n\\n')[4])\n",
        "    else:\n",
        "        raise ValueError"
      ],
      "execution_count": 0,
      "outputs": []
    },
    {
      "metadata": {
        "id": "VdMQRwz-x2YM",
        "colab_type": "code",
        "outputId": "cc1dce67-3a7e-4eaf-e100-eac018b8e9b3",
        "colab": {
          "base_uri": "https://localhost:8080/",
          "height": 127
        }
      },
      "cell_type": "code",
      "source": [
        "# Train statistics\n",
        "print(\"Total docs in cluster 1 train are: {}\".format(len(cluster_1_data)))\n",
        "print(\"Total docs in cluster 2 train are: {}\".format(len(cluster_2_data)))\n",
        "print(\"Total docs in root_classifier train are: {}\".format(len(root_data)))\n",
        "\n",
        "# test statistics\n",
        "print(\"Total docs in cluster 1 test are: {}\".format(len(cluster_2_data)))\n",
        "print(\"Total docs in cluster 2 test are: {}\".format(len(cluster_2_data)))\n",
        "print(\"Total docs in root test are: {}\".format(len(root_test_data)))"
      ],
      "execution_count": 0,
      "outputs": [
        {
          "output_type": "stream",
          "text": [
            "Total docs in cluster 1 train are: 1980\n",
            "Total docs in cluster 2 train are: 1822\n",
            "Total docs in root_classifier train are: 3802\n",
            "Total docs in cluster 1 test are: 1822\n",
            "Total docs in cluster 2 test are: 1822\n",
            "Total docs in root test are: 1630\n"
          ],
          "name": "stdout"
        }
      ]
    },
    {
      "metadata": {
        "id": "P0GplS0MySoW",
        "colab_type": "text"
      },
      "cell_type": "markdown",
      "source": [
        "# Cluster 1\n"
      ]
    },
    {
      "metadata": {
        "id": "QYKh6-LIySBN",
        "colab_type": "code",
        "outputId": "4b17a4b1-e29b-4297-8474-5e1ed13d3ac6",
        "colab": {
          "base_uri": "https://localhost:8080/",
          "height": 255
        }
      },
      "cell_type": "code",
      "source": [
        "# Assigning numbers to labels of cluster 1 and 2\n",
        "num_label_cluster_1 = dict(list(enumerate(sorted(set(cluster_1_label)))))\n",
        "num_label_cluster_1"
      ],
      "execution_count": 0,
      "outputs": [
        {
          "output_type": "execute_result",
          "data": {
            "text/plain": [
              "{0: 'agriculture',\n",
              " 1: 'audiovisual_and_media',\n",
              " 2: 'competition',\n",
              " 3: 'consumers',\n",
              " 4: 'employment_and_social_policy',\n",
              " 5: 'energy',\n",
              " 6: 'enterprise',\n",
              " 7: 'environment',\n",
              " 8: 'food_safety',\n",
              " 9: 'information_society',\n",
              " 10: 'internal_market',\n",
              " 11: 'public_health',\n",
              " 12: 'taxation',\n",
              " 13: 'transport'}"
            ]
          },
          "metadata": {
            "tags": []
          },
          "execution_count": 12
        }
      ]
    },
    {
      "metadata": {
        "id": "cWjVGI-bywhH",
        "colab_type": "text"
      },
      "cell_type": "markdown",
      "source": [
        "### Train sentence preparation"
      ]
    },
    {
      "metadata": {
        "id": "-1Z00QLOyz9R",
        "colab_type": "code",
        "colab": {}
      },
      "cell_type": "code",
      "source": [
        "# Cluster 1 train data, sentence conversion\n",
        "cluster_1_sent_train = []  # List to store the sentence\n",
        "cluster_1_labels_train = [] # List to store the label(alpha)\n",
        "cluster_1_label_num_train = []\n",
        "\n",
        "\n",
        "for first_data, first_label in zip(cluster_1_data, cluster_1_label):\n",
        "    # start chunking the text into 30 words with 10 word slide\n",
        "    slides = slidingWindow(first_data.split(' '),30,10)\n",
        "        \n",
        "    for key,value in num_label_cluster_1.items():\n",
        "        if value == first_label:\n",
        "            num = key\n",
        "    \n",
        "    \n",
        "    for slide in slides:\n",
        "        cluster_1_sent_train.append(' '.join(slide))\n",
        "        cluster_1_labels_train.append(first_label)\n",
        "        cluster_1_label_num_train.append(num)"
      ],
      "execution_count": 0,
      "outputs": []
    },
    {
      "metadata": {
        "id": "z7aCF56Vy5jR",
        "colab_type": "code",
        "outputId": "d01c3d6b-79e7-4810-b789-5e82694158d8",
        "colab": {
          "base_uri": "https://localhost:8080/",
          "height": 34
        }
      },
      "cell_type": "code",
      "source": [
        "len(cluster_1_sent_train)"
      ],
      "execution_count": 0,
      "outputs": [
        {
          "output_type": "execute_result",
          "data": {
            "text/plain": [
              "109895"
            ]
          },
          "metadata": {
            "tags": []
          },
          "execution_count": 14
        }
      ]
    },
    {
      "metadata": {
        "id": "YLGY2_hbzJnn",
        "colab_type": "text"
      },
      "cell_type": "markdown",
      "source": [
        "### One hot encoding train and test labels"
      ]
    },
    {
      "metadata": {
        "id": "TpDznfriy_6W",
        "colab_type": "code",
        "outputId": "0551b8a4-2bc2-4a0b-b9b8-d8c51bc6d7d5",
        "colab": {
          "base_uri": "https://localhost:8080/",
          "height": 105
        }
      },
      "cell_type": "code",
      "source": [
        "# Define one_hot_encoder object\n",
        "onehot_encoder = OneHotEncoder(sparse=False)\n",
        "\n",
        "cluster_1_train_label = onehot_encoder.fit_transform(np.reshape(cluster_1_label_num_train,(-1,1)))"
      ],
      "execution_count": 0,
      "outputs": [
        {
          "output_type": "stream",
          "text": [
            "/usr/local/lib/python3.6/dist-packages/sklearn/preprocessing/_encoders.py:371: FutureWarning: The handling of integer data will change in version 0.22. Currently, the categories are determined based on the range [0, max(values)], while in the future they will be determined based on the unique values.\n",
            "If you want the future behaviour and silence this warning, you can specify \"categories='auto'\".\n",
            "In case you used a LabelEncoder before this OneHotEncoder to convert the categories to integers, then you can now use the OneHotEncoder directly.\n",
            "  warnings.warn(msg, FutureWarning)\n"
          ],
          "name": "stderr"
        }
      ]
    },
    {
      "metadata": {
        "id": "DIQj_2-KzQt2",
        "colab_type": "code",
        "colab": {}
      },
      "cell_type": "code",
      "source": [
        "tokenizer = Tokenizer(num_words=10000)\n",
        "tokenizer.fit_on_texts(cluster_1_sent_train)\n",
        "cluster_1_train_sequences = tokenizer.texts_to_sequences(cluster_1_sent_train)"
      ],
      "execution_count": 0,
      "outputs": []
    },
    {
      "metadata": {
        "id": "z2xbm7Gs0a4U",
        "colab_type": "code",
        "outputId": "19df2d7f-7dd7-4f12-c207-a0a7540e73d9",
        "colab": {
          "base_uri": "https://localhost:8080/",
          "height": 34
        }
      },
      "cell_type": "code",
      "source": [
        "word_index = tokenizer.word_index\n",
        "vocab_size = len(word_index)+1\n",
        "max_len = 30\n",
        "print('max_length is', max_len)\n",
        "cluster_1_padded_sents = keras.preprocessing.sequence.pad_sequences(cluster_1_train_sequences, maxlen=max_len, padding='post')"
      ],
      "execution_count": 0,
      "outputs": [
        {
          "output_type": "stream",
          "text": [
            "max_length is 30\n"
          ],
          "name": "stdout"
        }
      ]
    },
    {
      "metadata": {
        "id": "1dCiUqvx0d8T",
        "colab_type": "text"
      },
      "cell_type": "markdown",
      "source": [
        "### Embedding Matrix creation"
      ]
    },
    {
      "metadata": {
        "id": "J00zChZ50eJD",
        "colab_type": "code",
        "colab": {}
      },
      "cell_type": "code",
      "source": [
        "# converting embedding matrix into a form that can be used in keras embedding layer\n",
        "embeddings_index = {}\n",
        "with open(embding_path, 'r') as embpath:\n",
        "    pretrained_embeding = embpath.readlines()\n",
        "    \n",
        "    for i, line in enumerate(pretrained_embeding):\n",
        "        if i == 0:\n",
        "            pass\n",
        "        else:\n",
        "            values = line.split()\n",
        "            word = values[0]\n",
        "            coefs = np.asarray(values[1:], dtype='float32')\n",
        "            embeddings_index[word] = coefs\n",
        "\n",
        "embedding_matrix = np.zeros((len(word_index) + 1, 200))\n",
        "for word, i in word_index.items():\n",
        "    embedding_vector = embeddings_index.get(word)\n",
        "    if embedding_vector is not None:\n",
        "        # words not found in embedding index will be all-zeros.\n",
        "        embedding_matrix[i] = embedding_vector"
      ],
      "execution_count": 0,
      "outputs": []
    },
    {
      "metadata": {
        "id": "QfZWnbGe0oFi",
        "colab_type": "code",
        "outputId": "c08ed91d-cb6c-425e-8e1f-cc22af583f08",
        "colab": {
          "base_uri": "https://localhost:8080/",
          "height": 34
        }
      },
      "cell_type": "code",
      "source": [
        "print('shape embedding matrix: {}'.format(embedding_matrix.shape))"
      ],
      "execution_count": 0,
      "outputs": [
        {
          "output_type": "stream",
          "text": [
            "shape embedding matrix: (43329, 200)\n"
          ],
          "name": "stdout"
        }
      ]
    },
    {
      "metadata": {
        "id": "rsAty9_w0uG_",
        "colab_type": "code",
        "outputId": "b012f394-ab75-4866-b51b-4ebe31554f93",
        "colab": {
          "base_uri": "https://localhost:8080/",
          "height": 51
        }
      },
      "cell_type": "code",
      "source": [
        "# Other callbacks \n",
        "reduce_rate = keras.callbacks.ReduceLROnPlateau(monitor='val_loss', factor=0.1, patience=0, verbose=1, \n",
        "                                                mode='auto', epsilon=0.0001, cooldown=0, min_lr=0)\n",
        "early_stop = keras.callbacks.EarlyStopping(monitor='val_loss', min_delta=0, \n",
        "                                           patience=2, verbose=1, mode='auto')"
      ],
      "execution_count": 0,
      "outputs": [
        {
          "output_type": "stream",
          "text": [
            "/usr/local/lib/python3.6/dist-packages/keras/callbacks.py:1065: UserWarning: `epsilon` argument is deprecated and will be removed, use `min_delta` instead.\n",
            "  warnings.warn('`epsilon` argument is deprecated and '\n"
          ],
          "name": "stderr"
        }
      ]
    },
    {
      "metadata": {
        "id": "nsOumU2M01RC",
        "colab_type": "code",
        "outputId": "4590b056-9922-41d6-de9c-1956eda6b778",
        "colab": {
          "base_uri": "https://localhost:8080/",
          "height": 88
        }
      },
      "cell_type": "code",
      "source": [
        "learning_rate = 0.001\n",
        "optimizer = keras.optimizers.RMSprop(lr=learning_rate, rho=0.9, epsilon=None, decay=0.0)"
      ],
      "execution_count": 0,
      "outputs": [
        {
          "output_type": "stream",
          "text": [
            "WARNING:tensorflow:From /usr/local/lib/python3.6/dist-packages/tensorflow/python/framework/op_def_library.py:263: colocate_with (from tensorflow.python.framework.ops) is deprecated and will be removed in a future version.\n",
            "Instructions for updating:\n",
            "Colocations handled automatically by placer.\n"
          ],
          "name": "stdout"
        }
      ]
    },
    {
      "metadata": {
        "id": "Lnro8MpaBiIV",
        "colab_type": "text"
      },
      "cell_type": "markdown",
      "source": [
        "## Model Creation"
      ]
    },
    {
      "metadata": {
        "id": "VXVzDmcU07s3",
        "colab_type": "code",
        "outputId": "f5b82d7e-b223-487a-83fb-5d57a55c82a2",
        "colab": {
          "base_uri": "https://localhost:8080/",
          "height": 357
        }
      },
      "cell_type": "code",
      "source": [
        "# Create sequential model\n",
        "model = Sequential()\n",
        "model.add(emb(vocab_size, 200, weights=[embedding_matrix], input_length=30, trainable=False))   \n",
        "model.add(Bidirectional(LSTM(40, activation='tanh',return_sequences=True, kernel_regularizer=keras.regularizers.l2(0.04))))# LSTM layer \n",
        "model.add(keras.layers.Dropout(0.5))\n",
        "model.add(Bidirectional(LSTM(40, activation='tanh',return_sequences=False, kernel_regularizer=keras.regularizers.l2(0.03))))\n",
        "model.add(keras.layers.Dropout(0.5))\n",
        "model.add(Dense(14, activation='softmax'))\n",
        "model.compile(loss='categorical_crossentropy', optimizer= optimizer, metrics=['accuracy'])\n",
        "print(model.summary())"
      ],
      "execution_count": 0,
      "outputs": [
        {
          "output_type": "stream",
          "text": [
            "_________________________________________________________________\n",
            "Layer (type)                 Output Shape              Param #   \n",
            "=================================================================\n",
            "embedding_2 (Embedding)      (None, 30, 200)           8665800   \n",
            "_________________________________________________________________\n",
            "bidirectional_3 (Bidirection (None, 30, 80)            77120     \n",
            "_________________________________________________________________\n",
            "dropout_3 (Dropout)          (None, 30, 80)            0         \n",
            "_________________________________________________________________\n",
            "bidirectional_4 (Bidirection (None, 80)                38720     \n",
            "_________________________________________________________________\n",
            "dropout_4 (Dropout)          (None, 80)                0         \n",
            "_________________________________________________________________\n",
            "dense_2 (Dense)              (None, 14)                1134      \n",
            "=================================================================\n",
            "Total params: 8,782,774\n",
            "Trainable params: 116,974\n",
            "Non-trainable params: 8,665,800\n",
            "_________________________________________________________________\n",
            "None\n"
          ],
          "name": "stdout"
        }
      ]
    },
    {
      "metadata": {
        "id": "WCdulS9B1JlX",
        "colab_type": "code",
        "colab": {}
      },
      "cell_type": "code",
      "source": [
        "# Model visualization\n",
        "from keras.utils import plot_model\n",
        "plot_model(model, to_file='model.png', show_shapes=True, show_layer_names=True)"
      ],
      "execution_count": 0,
      "outputs": []
    },
    {
      "metadata": {
        "id": "ficqs6Vq1PLd",
        "colab_type": "code",
        "outputId": "142d3fa0-5ff6-48b4-a8f6-1daa63f38ebd",
        "colab": {
          "base_uri": "https://localhost:8080/",
          "height": 741
        }
      },
      "cell_type": "code",
      "source": [
        "\n",
        "from IPython.display import Image\n",
        "Image('/content/model.png')"
      ],
      "execution_count": 0,
      "outputs": [
        {
          "output_type": "execute_result",
          "data": {
            "image/png": "[encoded data removed]",
            "text/plain": [
              "<IPython.core.display.Image object>"
            ]
          },
          "metadata": {
            "tags": []
          },
          "execution_count": 25
        }
      ]
    },
    {
      "metadata": {
        "id": "NdaXqtCA1ljQ",
        "colab_type": "code",
        "outputId": "2b8065b6-998d-47ec-d505-bc5cdaed05fc",
        "colab": {
          "base_uri": "https://localhost:8080/",
          "height": 666
        }
      },
      "cell_type": "code",
      "source": [
        "history = model.fit(cluster_1_padded_sents, cluster_1_train_label, validation_split=0.3, epochs=20, batch_size=32, \n",
        "          verbose=1, callbacks=[reduce_rate,early_stop])"
      ],
      "execution_count": 0,
      "outputs": [
        {
          "output_type": "stream",
          "text": [
            "WARNING:tensorflow:From /usr/local/lib/python3.6/dist-packages/tensorflow/python/ops/math_ops.py:3066: to_int32 (from tensorflow.python.ops.math_ops) is deprecated and will be removed in a future version.\n",
            "Instructions for updating:\n",
            "Use tf.cast instead.\n",
            "Train on 76926 samples, validate on 32969 samples\n",
            "Epoch 1/20\n",
            "76926/76926 [==============================] - 217s 3ms/step - loss: 2.1974 - acc: 0.4453 - val_loss: 1.7898 - val_acc: 0.5028\n",
            "Epoch 2/20\n",
            "76926/76926 [==============================] - 213s 3ms/step - loss: 1.7124 - acc: 0.5316 - val_loss: 1.7955 - val_acc: 0.5069\n",
            "\n",
            "Epoch 00002: ReduceLROnPlateau reducing learning rate to 0.00010000000474974513.\n",
            "Epoch 3/20\n",
            "76926/76926 [==============================] - 212s 3ms/step - loss: 1.4814 - acc: 0.5920 - val_loss: 1.6199 - val_acc: 0.5419\n",
            "Epoch 4/20\n",
            "76926/76926 [==============================] - 215s 3ms/step - loss: 1.4160 - acc: 0.6038 - val_loss: 1.5927 - val_acc: 0.5447\n",
            "Epoch 5/20\n",
            "76926/76926 [==============================] - 215s 3ms/step - loss: 1.3892 - acc: 0.6076 - val_loss: 1.5885 - val_acc: 0.5429\n",
            "Epoch 6/20\n",
            "76926/76926 [==============================] - 215s 3ms/step - loss: 1.3678 - acc: 0.6134 - val_loss: 1.5726 - val_acc: 0.5484\n",
            "Epoch 7/20\n",
            "76926/76926 [==============================] - 215s 3ms/step - loss: 1.3547 - acc: 0.6158 - val_loss: 1.5664 - val_acc: 0.5534\n",
            "Epoch 8/20\n",
            "76926/76926 [==============================] - 214s 3ms/step - loss: 1.3391 - acc: 0.6185 - val_loss: 1.5522 - val_acc: 0.5529\n",
            "Epoch 9/20\n",
            "76926/76926 [==============================] - 216s 3ms/step - loss: 1.3305 - acc: 0.6218 - val_loss: 1.5755 - val_acc: 0.5490\n",
            "\n",
            "Epoch 00009: ReduceLROnPlateau reducing learning rate to 1.0000000474974514e-05.\n",
            "Epoch 10/20\n",
            "76926/76926 [==============================] - 216s 3ms/step - loss: 1.2871 - acc: 0.6345 - val_loss: 1.5430 - val_acc: 0.5586\n",
            "Epoch 11/20\n",
            "76926/76926 [==============================] - 216s 3ms/step - loss: 1.2769 - acc: 0.6382 - val_loss: 1.5473 - val_acc: 0.5570\n",
            "\n",
            "Epoch 00011: ReduceLROnPlateau reducing learning rate to 1.0000000656873453e-06.\n",
            "Epoch 12/20\n",
            "76926/76926 [==============================] - 216s 3ms/step - loss: 1.2710 - acc: 0.6381 - val_loss: 1.5465 - val_acc: 0.5564\n",
            "\n",
            "Epoch 00012: ReduceLROnPlateau reducing learning rate to 1.0000001111620805e-07.\n",
            "Epoch 00012: early stopping\n"
          ],
          "name": "stdout"
        }
      ]
    },
    {
      "metadata": {
        "id": "-4yVDuTm4gKI",
        "colab_type": "code",
        "outputId": "43268ae2-4059-4db9-90c2-ffd80128fc46",
        "colab": {
          "base_uri": "https://localhost:8080/",
          "height": 376
        }
      },
      "cell_type": "code",
      "source": [
        "# Visualizing model\n",
        "import matplotlib.pyplot as plt\n",
        "\n",
        "# Plot training & validation accuracy values\n",
        "plt.plot(history.history['acc'])\n",
        "plt.plot(history.history['val_acc'])\n",
        "plt.title('Model accuracy')\n",
        "plt.ylabel('Accuracy')\n",
        "plt.xlabel('Epoch')\n",
        "plt.legend(['Train', 'Test'], loc='upper left')\n",
        "plt.show()"
      ],
      "execution_count": 0,
      "outputs": [
        {
          "output_type": "display_data",
          "data": {
            "image/png": "[encoded data removed]",
            "text/plain": [
              "<Figure size 576x396 with 1 Axes>"
            ]
          },
          "metadata": {
            "tags": []
          }
        }
      ]
    },
    {
      "metadata": {
        "id": "JAs9cyAY4iJL",
        "colab_type": "code",
        "outputId": "04d9e4e2-9caf-4897-9586-99e7e94acc9a",
        "colab": {
          "base_uri": "https://localhost:8080/",
          "height": 376
        }
      },
      "cell_type": "code",
      "source": [
        "# Plot training & validation loss values\n",
        "plt.plot(history.history['loss'])\n",
        "plt.plot(history.history['val_loss'])\n",
        "plt.title('Model loss')\n",
        "plt.ylabel('Loss')\n",
        "plt.xlabel('Epoch')\n",
        "plt.legend(['Train', 'Test'], loc='upper left')\n",
        "plt.show()"
      ],
      "execution_count": 0,
      "outputs": [
        {
          "output_type": "display_data",
          "data": {
            "image/png": "[encoded data removed]",
            "text/plain": [
              "<Figure size 576x396 with 1 Axes>"
            ]
          },
          "metadata": {
            "tags": []
          }
        }
      ]
    },
    {
      "metadata": {
        "id": "OyklFXv69vKu",
        "colab_type": "code",
        "colab": {}
      },
      "cell_type": "code",
      "source": [
        "# Saving the model\n",
        "model.save('/content/gdrive/My Drive/Thesis Models/EN-DE-LEGDIV-2-Clusters_cluster_1.h5')"
      ],
      "execution_count": 0,
      "outputs": []
    },
    {
      "metadata": {
        "id": "miv7vzY19u6g",
        "colab_type": "text"
      },
      "cell_type": "markdown",
      "source": [
        "## Evaluation on Document level\n",
        "SVMs are trained on document level and to make a fair evaluation the LSTMs needs to be evaluated on document level as well, but LSTM are trained on sentence level as due to hardware limitations one can not feed the whole document hence the technique used here is a little unique.\n",
        "\n",
        "So to make a fair comparision, the evaluation has to be done manually, first the document has to be divided into sentences with same technique used during training, then when all the sentence from a single document is curated then they are encoded into numeric form and padded to make all of them of equal length.\n",
        "\n",
        "Then each sentence is predicted and the predictions are normalized and combined to make it a single prediction for the whole document."
      ]
    },
    {
      "metadata": {
        "id": "bRlDqCVP96y0",
        "colab_type": "code",
        "colab": {}
      },
      "cell_type": "code",
      "source": [
        "from sklearn.preprocessing import MinMaxScaler, Normalizer, StandardScaler\n",
        "\n",
        "original_label = []   # list to store the original label \n",
        "predicted_label = []   # list to store the predicted label\n",
        "\n",
        "for first_data, first_label in zip(cluster_1_data_test,cluster_1_label_test):\n",
        "    ## TMP LIST for each doc\n",
        "    sent_pred = []\n",
        "    \n",
        "    # start chunking the text into 30 words with 10 word slide\n",
        "    slides = slidingWindow(first_data.split(' '),30,10)\n",
        "        \n",
        "    for key,value in num_label_cluster_1.items():\n",
        "        if value == first_label:\n",
        "            num = key\n",
        "    \n",
        "    doc_sent = []\n",
        "    for slide in slides:\n",
        "        \n",
        "        a = ' '.join(slide)\n",
        "        \n",
        "        doc_sent.append(a)\n",
        "    \n",
        "        \n",
        "    # we have the slide here, create the sequence from text to numbers\n",
        "    text_sequence = tokenizer.texts_to_sequences(doc_sent)\n",
        "\n",
        "    # pad it to make flat 30 lenght\n",
        "    text_padded = keras.preprocessing.sequence.pad_sequences(text_sequence, maxlen=30, padding='post')\n",
        "\n",
        "\n",
        "    # predict the label\n",
        "    sent_pred.append(model.predict(text_padded))        \n",
        "    \n",
        "    # normailizing the predictions before combining them.\n",
        "    nor_data = []\n",
        "    for predc in sent_pred:\n",
        "        transformer2 = Normalizer().fit(predc)\n",
        "        nor_data.append(transformer2.transform(predc))    \n",
        "        \n",
        "    # adding all the predictions of sentences of a single document into one.\n",
        "    sent = np.zeros(cluster_1_train_label.shape[1])\n",
        "    for sen in nor_data:\n",
        "        for i in range(len(sen)):\n",
        "            sent += sen[i]\n",
        "    \n",
        "    # populating lists of the predicted labels and original labels for further evaluation\n",
        "    predicted_label.append(np.argmax(sent, axis=0))\n",
        "    original_label.append(num)"
      ],
      "execution_count": 0,
      "outputs": []
    },
    {
      "metadata": {
        "id": "-QahZ5a6_UHq",
        "colab_type": "code",
        "outputId": "3f0baff4-7372-40af-b49e-4c0596c5c233",
        "colab": {
          "base_uri": "https://localhost:8080/",
          "height": 34
        }
      },
      "cell_type": "code",
      "source": [
        "# Accuracy on document level\n",
        "from sklearn.metrics import accuracy_score, classification_report, confusion_matrix\n",
        "print(\"Accuracy of the model on document level is: {:.2f} %\".format(accuracy_score(original_label, predicted_label)*100))"
      ],
      "execution_count": 0,
      "outputs": [
        {
          "output_type": "stream",
          "text": [
            "Accuracy of the model on document level is: 75.84 %\n"
          ],
          "name": "stdout"
        }
      ]
    },
    {
      "metadata": {
        "id": "XrgEHF-F_YSJ",
        "colab_type": "code",
        "outputId": "45895bbe-d982-4bcf-e1a2-a4fc63edbf31",
        "colab": {
          "base_uri": "https://localhost:8080/",
          "height": 255
        }
      },
      "cell_type": "code",
      "source": [
        "\n",
        "# Classification report and confusion Matrix\n",
        "np.set_printoptions(threshold=np.nan)\n",
        "print(confusion_matrix(original_label, predicted_label))"
      ],
      "execution_count": 0,
      "outputs": [
        {
          "output_type": "stream",
          "text": [
            "[[ 43   0   0   1   2   0   0   2   2   0   0   0   0   0]\n",
            " [  0   1   1   0   0   0   0   0   0   8   0   0   0   0]\n",
            " [  0   0  25   0   0   0   0   0   0   0   1   0   0   4]\n",
            " [  2   0   0  48   1   0   0   2   2   2  11   0   0   6]\n",
            " [  0   0   0   0  83   0   1   0   0   3   7   0   0   0]\n",
            " [  0   0   0   1   0  36   0  14   0   1   2   2   0   0]\n",
            " [  3   0   0   0   3   0  11   2   0   3   4   0   0   0]\n",
            " [  0   0   0   6   2   0   0  74   0   0   2   0   0   4]\n",
            " [  0   0   0   6   0   0   0   4  62   0   4   0   0   0]\n",
            " [  0   0   0   0   2   0   0   0   0  67   7   0   0   4]\n",
            " [  0   0   0  12   7   1   4   1   0   4 111   1   1   6]\n",
            " [  0   0   0   7  15   0   0   0   1   0   2  19   0   0]\n",
            " [  0   0   0   0   2   0   0   1   0   2   1   0  20   2]\n",
            " [  0   0   0   0   0   0   1   6   0   4   2   0   0  81]]\n"
          ],
          "name": "stdout"
        }
      ]
    },
    {
      "metadata": {
        "id": "vzQwROqB_caY",
        "colab_type": "code",
        "outputId": "23a43f45-5845-4038-e677-40e5e3cddb7d",
        "colab": {
          "base_uri": "https://localhost:8080/",
          "height": 374
        }
      },
      "cell_type": "code",
      "source": [
        "print(classification_report(original_label, predicted_label))"
      ],
      "execution_count": 0,
      "outputs": [
        {
          "output_type": "stream",
          "text": [
            "              precision    recall  f1-score   support\n",
            "\n",
            "           0       0.90      0.86      0.88        50\n",
            "           1       1.00      0.10      0.18        10\n",
            "           2       0.96      0.83      0.89        30\n",
            "           3       0.59      0.65      0.62        74\n",
            "           4       0.71      0.88      0.79        94\n",
            "           5       0.97      0.64      0.77        56\n",
            "           6       0.65      0.42      0.51        26\n",
            "           7       0.70      0.84      0.76        88\n",
            "           8       0.93      0.82      0.87        76\n",
            "           9       0.71      0.84      0.77        80\n",
            "          10       0.72      0.75      0.74       148\n",
            "          11       0.86      0.43      0.58        44\n",
            "          12       0.95      0.71      0.82        28\n",
            "          13       0.76      0.86      0.81        94\n",
            "\n",
            "   micro avg       0.76      0.76      0.76       898\n",
            "   macro avg       0.81      0.69      0.71       898\n",
            "weighted avg       0.78      0.76      0.75       898\n",
            "\n"
          ],
          "name": "stdout"
        }
      ]
    },
    {
      "metadata": {
        "id": "ZVuCjwCw_q17",
        "colab_type": "text"
      },
      "cell_type": "markdown",
      "source": [
        "## Evaluation on Sentence level\n"
      ]
    },
    {
      "metadata": {
        "id": "_Y7LYhLr-Nta",
        "colab_type": "code",
        "outputId": "6a9ca49f-0c19-421e-886b-fb949d28aa4a",
        "colab": {
          "base_uri": "https://localhost:8080/",
          "height": 105
        }
      },
      "cell_type": "code",
      "source": [
        "# Cluster 1 test data, sentence conversion\n",
        "cluster_1_sent_test = []  # List to store the sentence\n",
        "cluster_1_labels_test = [] # List to store the label(alpha)\n",
        "cluster_1_label_num_test = []\n",
        "\n",
        "\n",
        "for first_data, first_label in zip(cluster_1_data_test, cluster_1_label_test):\n",
        "    # start chunking the text into 30 words with 10 word slide\n",
        "    slides = slidingWindow(first_data.split(' '),30,10)\n",
        "        \n",
        "    for key,value in num_label_cluster_1.items():\n",
        "        if value == first_label:\n",
        "            num = key\n",
        "    \n",
        "    \n",
        "    for slide in slides:\n",
        "        cluster_1_sent_test.append(' '.join(slide))\n",
        "        cluster_1_labels_test.append(first_label)\n",
        "        cluster_1_label_num_test.append(num)\n",
        "\n",
        "cluster_1_test_label = onehot_encoder.fit_transform(np.reshape(cluster_1_label_num_test,(-1,1)))\n",
        "cluster_1_test_sequences = tokenizer.texts_to_sequences(cluster_1_sent_test)\n",
        "\n",
        "\n",
        "# Testing the data\n",
        "cluster_1_padded_sents_test = keras.preprocessing.sequence.pad_sequences(cluster_1_test_sequences, maxlen=max_len, padding='post')"
      ],
      "execution_count": 0,
      "outputs": [
        {
          "output_type": "stream",
          "text": [
            "/usr/local/lib/python3.6/dist-packages/sklearn/preprocessing/_encoders.py:371: FutureWarning: The handling of integer data will change in version 0.22. Currently, the categories are determined based on the range [0, max(values)], while in the future they will be determined based on the unique values.\n",
            "If you want the future behaviour and silence this warning, you can specify \"categories='auto'\".\n",
            "In case you used a LabelEncoder before this OneHotEncoder to convert the categories to integers, then you can now use the OneHotEncoder directly.\n",
            "  warnings.warn(msg, FutureWarning)\n"
          ],
          "name": "stderr"
        }
      ]
    },
    {
      "metadata": {
        "id": "voMrgVT3__N7",
        "colab_type": "code",
        "outputId": "39388e56-56d8-4f59-fd9c-e5bbe3d24d97",
        "colab": {
          "base_uri": "https://localhost:8080/",
          "height": 34
        }
      },
      "cell_type": "code",
      "source": [
        "len(cluster_1_padded_sents_test)"
      ],
      "execution_count": 0,
      "outputs": [
        {
          "output_type": "execute_result",
          "data": {
            "text/plain": [
              "48781"
            ]
          },
          "metadata": {
            "tags": []
          },
          "execution_count": 35
        }
      ]
    },
    {
      "metadata": {
        "id": "ib42Zdru_6je",
        "colab_type": "code",
        "outputId": "8483053b-4ee6-4392-961b-64c729a45f31",
        "colab": {
          "base_uri": "https://localhost:8080/",
          "height": 51
        }
      },
      "cell_type": "code",
      "source": [
        "scores = model.evaluate(cluster_1_padded_sents_test, cluster_1_test_label, verbose=1)\n",
        "print(\"Accuracy on sentence level: %.2f%%\" % (scores[1]*100))"
      ],
      "execution_count": 0,
      "outputs": [
        {
          "output_type": "stream",
          "text": [
            "48781/48781 [==============================] - 32s 662us/step\n",
            "Accuracy on sentence level: 53.35%\n"
          ],
          "name": "stdout"
        }
      ]
    },
    {
      "metadata": {
        "id": "x6KCI-qzANe_",
        "colab_type": "code",
        "colab": {}
      },
      "cell_type": "code",
      "source": [
        "pred = model.predict(cluster_1_padded_sents_test)\n",
        "y_pred = np.argmax(pred, axis=1)\n",
        "y_true = np.argmax(cluster_1_test_label, axis=1)"
      ],
      "execution_count": 0,
      "outputs": []
    },
    {
      "metadata": {
        "id": "kC-RJILFAc_P",
        "colab_type": "code",
        "outputId": "bfd7d248-e8ea-4856-9a14-d9494766ebad",
        "colab": {
          "base_uri": "https://localhost:8080/",
          "height": 255
        }
      },
      "cell_type": "code",
      "source": [
        "print(confusion_matrix(y_true, y_pred))"
      ],
      "execution_count": 0,
      "outputs": [
        {
          "output_type": "stream",
          "text": [
            "[[2864    5  104  283  236   13   35  259  208  108  176   18   40   72]\n",
            " [  19  165   46   29   14    2    8   10    3  335   80    4    0    4]\n",
            " [  91    4  800   19   39   88   52   20    5   59  193    2   29  250]\n",
            " [ 127    3   20 1346  104   10    1  117  293  165  595   43   14  501]\n",
            " [ 103    8   14   82 3516   31  163  158   32  335  405  122   15   80]\n",
            " [  68    0   57  127  116 1167   60  506   34  184  210   37   18  118]\n",
            " [  73    0   32   49  172   87  360   95   12  184  177    6   23   60]\n",
            " [ 104    0    9  241  208  205   41 2518  123  149  243   55   16  237]\n",
            " [ 220    0    4  387   80    7    0  236 2264   34  266   82    6   71]\n",
            " [  64   26   16  208  435   53  100  143   15 2917  673   47   10  345]\n",
            " [ 144    1  125  716  749  137  189  229  198  880 3706  108   88  442]\n",
            " [  36   14    0  296  781   13   21  113  109  160  144  783    7   15]\n",
            " [  45    0   19   35  151   18    5   53   21   63  150    4  525   97]\n",
            " [  84    0   31  104  273  116   76  456   64  386  565    4   52 3096]]\n"
          ],
          "name": "stdout"
        }
      ]
    },
    {
      "metadata": {
        "id": "fZY9noP4AkpN",
        "colab_type": "code",
        "outputId": "f2819d2d-f439-4011-d65f-475664abb508",
        "colab": {
          "base_uri": "https://localhost:8080/",
          "height": 374
        }
      },
      "cell_type": "code",
      "source": [
        "print(classification_report(y_true, y_pred))"
      ],
      "execution_count": 0,
      "outputs": [
        {
          "output_type": "stream",
          "text": [
            "              precision    recall  f1-score   support\n",
            "\n",
            "           0       0.71      0.65      0.68      4421\n",
            "           1       0.73      0.23      0.35       719\n",
            "           2       0.63      0.48      0.55      1651\n",
            "           3       0.34      0.40      0.37      3339\n",
            "           4       0.51      0.69      0.59      5064\n",
            "           5       0.60      0.43      0.50      2702\n",
            "           6       0.32      0.27      0.29      1330\n",
            "           7       0.51      0.61      0.56      4149\n",
            "           8       0.67      0.62      0.64      3657\n",
            "           9       0.49      0.58      0.53      5052\n",
            "          10       0.49      0.48      0.48      7712\n",
            "          11       0.60      0.31      0.41      2492\n",
            "          12       0.62      0.44      0.52      1186\n",
            "          13       0.57      0.58      0.58      5307\n",
            "\n",
            "   micro avg       0.53      0.53      0.53     48781\n",
            "   macro avg       0.56      0.48      0.50     48781\n",
            "weighted avg       0.54      0.53      0.53     48781\n",
            "\n"
          ],
          "name": "stdout"
        }
      ]
    },
    {
      "metadata": {
        "id": "whMIbzDGAyeS",
        "colab_type": "text"
      },
      "cell_type": "markdown",
      "source": [
        "# Cluster 2"
      ]
    },
    {
      "metadata": {
        "id": "bPBQey6VA4kR",
        "colab_type": "code",
        "outputId": "972a9b36-ed61-4bc2-e9e1-57259f832b02",
        "colab": {
          "base_uri": "https://localhost:8080/",
          "height": 348
        }
      },
      "cell_type": "code",
      "source": [
        "num_label_cluster_2 = dict(list(enumerate(sorted(set(cluster_2_label)))))\n",
        "num_label_cluster_2"
      ],
      "execution_count": 0,
      "outputs": [
        {
          "output_type": "execute_result",
          "data": {
            "text/plain": [
              "{0: 'budget',\n",
              " 1: 'culture',\n",
              " 2: 'customs',\n",
              " 3: 'development',\n",
              " 4: 'economic_and_monetary_affairs',\n",
              " 5: 'education_training_youth',\n",
              " 6: 'enlargement',\n",
              " 7: 'external_relations',\n",
              " 8: 'external_trade',\n",
              " 9: 'fight_against_fraud',\n",
              " 10: 'foreign_and_security_policy',\n",
              " 11: 'human_rights',\n",
              " 12: 'humanitarian_aid',\n",
              " 13: 'institutional_affairs',\n",
              " 14: 'justice_freedom_security',\n",
              " 15: 'maritime_affairs_and_fisheries',\n",
              " 16: 'regional_policy',\n",
              " 17: 'research_innovation'}"
            ]
          },
          "metadata": {
            "tags": []
          },
          "execution_count": 20
        }
      ]
    },
    {
      "metadata": {
        "id": "ievaMWa0JGGg",
        "colab_type": "code",
        "outputId": "3101f57e-f6cc-4d3b-f002-5c47e4cf5727",
        "colab": {
          "base_uri": "https://localhost:8080/",
          "height": 348
        }
      },
      "cell_type": "code",
      "source": [
        "# Document frequency\n",
        "from collections import Counter\n",
        "Counter(cluster_2_label)"
      ],
      "execution_count": 0,
      "outputs": [
        {
          "output_type": "execute_result",
          "data": {
            "text/plain": [
              "Counter({'budget': 30,\n",
              "         'culture': 28,\n",
              "         'customs': 48,\n",
              "         'development': 90,\n",
              "         'economic_and_monetary_affairs': 212,\n",
              "         'education_training_youth': 152,\n",
              "         'enlargement': 96,\n",
              "         'external_relations': 74,\n",
              "         'external_trade': 84,\n",
              "         'fight_against_fraud': 46,\n",
              "         'foreign_and_security_policy': 74,\n",
              "         'human_rights': 46,\n",
              "         'humanitarian_aid': 46,\n",
              "         'institutional_affairs': 196,\n",
              "         'justice_freedom_security': 318,\n",
              "         'maritime_affairs_and_fisheries': 126,\n",
              "         'regional_policy': 74,\n",
              "         'research_innovation': 82})"
            ]
          },
          "metadata": {
            "tags": []
          },
          "execution_count": 21
        }
      ]
    },
    {
      "metadata": {
        "id": "Vz30D7hxA9A-",
        "colab_type": "text"
      },
      "cell_type": "markdown",
      "source": [
        "### Tain sentence preparation"
      ]
    },
    {
      "metadata": {
        "id": "R0r2SR9tA5xi",
        "colab_type": "code",
        "colab": {}
      },
      "cell_type": "code",
      "source": [
        "# Cluster 2 train data, sentence conversion\n",
        "cluster_2_sent_train = []  # List to store the sentence\n",
        "cluster_2_labels_train = [] # List to store the label(alpha)\n",
        "cluster_2_label_num_train = []\n",
        "\n",
        "\n",
        "for second_data, second_label in zip(cluster_2_data, cluster_2_label):\n",
        "    # start chunking the text into 30 words with 10 word slide\n",
        "    slides = slidingWindow(second_data.split(' '),30,10)\n",
        "        \n",
        "    for key,value in num_label_cluster_2.items():\n",
        "        if value == second_label:\n",
        "            num = key\n",
        "    \n",
        "    \n",
        "    for slide in slides:\n",
        "        cluster_2_sent_train.append(' '.join(slide))\n",
        "        cluster_2_labels_train.append(second_label)\n",
        "        cluster_2_label_num_train.append(num)\n",
        "        \n",
        "# Cluster 2 test data        \n",
        "cluster_2_sent_test = []  # List to store the sentence\n",
        "cluster_2_labels_test = [] # List to store the label(alpha)\n",
        "cluster_2_label_num_test = []\n",
        "\n",
        "\n",
        "for second_data, second_label in zip(cluster_2_data_test, cluster_2_label_test):\n",
        "    # start chunking the text into 30 words with 10 word slide\n",
        "    slides = slidingWindow(second_data.split(' '),30,10)\n",
        "        \n",
        "    for key,value in num_label_cluster_2.items():\n",
        "        if value == second_label:\n",
        "            num = key\n",
        "    \n",
        "    \n",
        "    for slide in slides:\n",
        "        cluster_2_sent_test.append(' '.join(slide))\n",
        "        cluster_2_labels_test.append(second_label)\n",
        "        cluster_2_label_num_test.append(num)"
      ],
      "execution_count": 0,
      "outputs": []
    },
    {
      "metadata": {
        "id": "viT7It85JwD2",
        "colab_type": "code",
        "outputId": "ed2ef005-52e5-4f77-93e0-0b9c8d7d8f11",
        "colab": {
          "base_uri": "https://localhost:8080/",
          "height": 348
        }
      },
      "cell_type": "code",
      "source": [
        "Counter(cluster_2_labels_train)"
      ],
      "execution_count": 0,
      "outputs": [
        {
          "output_type": "execute_result",
          "data": {
            "text/plain": [
              "Counter({'budget': 1801,\n",
              "         'culture': 1753,\n",
              "         'customs': 3034,\n",
              "         'development': 5517,\n",
              "         'economic_and_monetary_affairs': 15552,\n",
              "         'education_training_youth': 9065,\n",
              "         'enlargement': 6586,\n",
              "         'external_relations': 5424,\n",
              "         'external_trade': 5199,\n",
              "         'fight_against_fraud': 2264,\n",
              "         'foreign_and_security_policy': 3739,\n",
              "         'human_rights': 2834,\n",
              "         'humanitarian_aid': 2330,\n",
              "         'institutional_affairs': 10380,\n",
              "         'justice_freedom_security': 18374,\n",
              "         'maritime_affairs_and_fisheries': 8561,\n",
              "         'regional_policy': 4369,\n",
              "         'research_innovation': 4867})"
            ]
          },
          "metadata": {
            "tags": []
          },
          "execution_count": 23
        }
      ]
    },
    {
      "metadata": {
        "id": "k9pL5O1IKFYe",
        "colab_type": "code",
        "colab": {}
      },
      "cell_type": "code",
      "source": [
        "class_weight = dict()\n",
        "ref_class = max(Counter(cluster_2_labels_train).values())\n",
        "\n",
        "for key, value in Counter(cluster_2_labels_train).items():\n",
        "    for _key, _value in num_label_cluster_2.items():\n",
        "        if _value == key:\n",
        "            class_weight[_key] = ref_class/value"
      ],
      "execution_count": 0,
      "outputs": []
    },
    {
      "metadata": {
        "id": "8dYX0rgVLnla",
        "colab_type": "code",
        "outputId": "f2edb4f3-3e46-45e7-b45d-14ce81aa945d",
        "colab": {
          "base_uri": "https://localhost:8080/",
          "height": 348
        }
      },
      "cell_type": "code",
      "source": [
        "class_weight"
      ],
      "execution_count": 0,
      "outputs": [
        {
          "output_type": "execute_result",
          "data": {
            "text/plain": [
              "{0: 10.20210993892282,\n",
              " 1: 10.481460353679406,\n",
              " 2: 6.056031641397495,\n",
              " 3: 3.330433206452782,\n",
              " 4: 1.1814557613168724,\n",
              " 5: 2.026916712630998,\n",
              " 6: 2.7898572730033404,\n",
              " 7: 3.387536873156342,\n",
              " 8: 3.5341411809963454,\n",
              " 9: 8.115724381625443,\n",
              " 10: 4.914148167959348,\n",
              " 11: 6.483415666901905,\n",
              " 12: 7.885836909871244,\n",
              " 13: 1.7701348747591523,\n",
              " 14: 1.0,\n",
              " 15: 2.146244597593739,\n",
              " 16: 4.205539024948501,\n",
              " 17: 3.775220875282515}"
            ]
          },
          "metadata": {
            "tags": []
          },
          "execution_count": 25
        }
      ]
    },
    {
      "metadata": {
        "id": "SFdUEjhOBC9N",
        "colab_type": "text"
      },
      "cell_type": "markdown",
      "source": [
        "### Tokenizing train sentences & one hot encoding train test labels"
      ]
    },
    {
      "metadata": {
        "id": "YmeagkvyBFnk",
        "colab_type": "code",
        "outputId": "988124cc-23a2-4b3a-c538-035fc33335c2",
        "colab": {
          "base_uri": "https://localhost:8080/",
          "height": 110
        }
      },
      "cell_type": "code",
      "source": [
        "# tokenizing cluster 2 sents\n",
        "tokenizer_cls2 = Tokenizer()\n",
        "tokenizer_cls2.fit_on_texts(cluster_2_sent_train)\n",
        "cluster_2_train_sequences = tokenizer_cls2.texts_to_sequences(cluster_2_sent_train)\n",
        "cluster_2_test_sequences = tokenizer_cls2.texts_to_sequences(cluster_2_sent_test)\n",
        "\n",
        "# padding the sentences\n",
        "cluster_2_padded_sents = keras.preprocessing.sequence.pad_sequences(cluster_2_train_sequences, maxlen=30, padding='post')\n",
        "\n",
        "# checking vocab size\n",
        "word_index_cls2 = tokenizer_cls2.word_index\n",
        "vocab_size_cls2 = len(word_index_cls2)+1\n",
        "onehot_encoder = OneHotEncoder(sparse=False)\n",
        "\n",
        "onehot_encoder.fit(np.reshape(cluster_2_label_num_train,(-1,1)))\n",
        "\n",
        "cluster_2_train_label = onehot_encoder.transform(np.reshape(cluster_2_label_num_train,(-1,1)))\n",
        "cluster_2_test_label = onehot_encoder.transform(np.reshape(cluster_2_label_num_test,(-1,1)))"
      ],
      "execution_count": 0,
      "outputs": [
        {
          "output_type": "stream",
          "text": [
            "/usr/local/lib/python3.6/dist-packages/sklearn/preprocessing/_encoders.py:371: FutureWarning: The handling of integer data will change in version 0.22. Currently, the categories are determined based on the range [0, max(values)], while in the future they will be determined based on the unique values.\n",
            "If you want the future behaviour and silence this warning, you can specify \"categories='auto'\".\n",
            "In case you used a LabelEncoder before this OneHotEncoder to convert the categories to integers, then you can now use the OneHotEncoder directly.\n",
            "  warnings.warn(msg, FutureWarning)\n"
          ],
          "name": "stderr"
        }
      ]
    },
    {
      "metadata": {
        "id": "G4tx7nTZGehx",
        "colab_type": "code",
        "outputId": "d87bcd5b-7abe-49f5-a4f5-56b8592764ae",
        "colab": {
          "base_uri": "https://localhost:8080/",
          "height": 35
        }
      },
      "cell_type": "code",
      "source": [
        "print(\"Vocab Size: {}\".format(vocab_size_cls2))"
      ],
      "execution_count": 0,
      "outputs": [
        {
          "output_type": "stream",
          "text": [
            "Vocab Size: 39316\n"
          ],
          "name": "stdout"
        }
      ]
    },
    {
      "metadata": {
        "id": "0UELbJcuBV3M",
        "colab_type": "text"
      },
      "cell_type": "markdown",
      "source": [
        "### Embedding Matrix creation"
      ]
    },
    {
      "metadata": {
        "id": "5ZSMYIW0BXYq",
        "colab_type": "code",
        "colab": {}
      },
      "cell_type": "code",
      "source": [
        "# converting embedding matrix into a form that can be used in keras embedding layer\n",
        "embeddings_index_cls2 = {}\n",
        "with open(embding_path, 'r') as embpath:\n",
        "    pretrained_embeding = embpath.readlines()\n",
        "    \n",
        "    for i, line in enumerate(pretrained_embeding):\n",
        "        if i == 0:\n",
        "            pass\n",
        "        else:\n",
        "            values = line.split()\n",
        "            word = values[0]\n",
        "            coefs = np.asarray(values[1:], dtype='float32')\n",
        "            embeddings_index_cls2[word] = coefs\n",
        "            \n",
        "# preparing embedding matrix for cluster 2\n",
        "embedding_matrix_cls2 = np.zeros((len(word_index_cls2) + 1, 200))\n",
        "for word, i in word_index_cls2.items():\n",
        "    embedding_vector = embeddings_index_cls2.get(word)\n",
        "    if embedding_vector is not None:\n",
        "        # words not found in embedding index will be all-zeros.\n",
        "        embedding_matrix_cls2[i] = embedding_vector"
      ],
      "execution_count": 0,
      "outputs": []
    },
    {
      "metadata": {
        "id": "eyQpjewTHM4S",
        "colab_type": "code",
        "colab": {}
      },
      "cell_type": "code",
      "source": [
        "learning_rate = 0.001\n",
        "optimizer = keras.optimizers.RMSprop(lr=learning_rate, rho=0.9, epsilon=None, decay=0.0)"
      ],
      "execution_count": 0,
      "outputs": []
    },
    {
      "metadata": {
        "id": "8hx8HOgw4tLX",
        "colab_type": "code",
        "outputId": "c5674056-f6bc-44f9-d52e-5c76dbec1e19",
        "colab": {
          "base_uri": "https://localhost:8080/",
          "height": 51
        }
      },
      "cell_type": "code",
      "source": [
        "# Other callbacks \n",
        "reduce_rate = keras.callbacks.ReduceLROnPlateau(monitor='val_loss', factor=0.1, patience=0, verbose=1, \n",
        "                                                mode='auto', epsilon=0.0001, cooldown=0, min_lr=0)\n",
        "early_stop = keras.callbacks.EarlyStopping(monitor='val_loss', min_delta=0, \n",
        "                                           patience=2, verbose=1, mode='auto')"
      ],
      "execution_count": 0,
      "outputs": [
        {
          "output_type": "stream",
          "text": [
            "/usr/local/lib/python3.6/dist-packages/keras/callbacks.py:1065: UserWarning: `epsilon` argument is deprecated and will be removed, use `min_delta` instead.\n",
            "  warnings.warn('`epsilon` argument is deprecated and '\n"
          ],
          "name": "stderr"
        }
      ]
    },
    {
      "metadata": {
        "id": "FIi-c1MKBoxY",
        "colab_type": "text"
      },
      "cell_type": "markdown",
      "source": [
        "## Model Creation"
      ]
    },
    {
      "metadata": {
        "id": "tAUuoD9zBb2f",
        "colab_type": "code",
        "outputId": "1f67de16-b9f3-495d-8278-11ce87b7c90a",
        "colab": {
          "base_uri": "https://localhost:8080/",
          "height": 357
        }
      },
      "cell_type": "code",
      "source": [
        "# Create sequential model_cls2\n",
        "model_cls2 = Sequential()\n",
        "model_cls2.add(emb(vocab_size_cls2, 200, weights=[embedding_matrix_cls2], input_length=30, trainable=False))   \n",
        "model_cls2.add(Bidirectional(LSTM(40, activation='tanh',return_sequences=True, kernel_regularizer=keras.regularizers.l2(0.1))))# LSTM layer \n",
        "model_cls2.add(keras.layers.Dropout(0.5))\n",
        "model_cls2.add(Bidirectional(LSTM(40, activation='tanh',return_sequences=False, kernel_regularizer=keras.regularizers.l2(0.1))))\n",
        "model_cls2.add(keras.layers.Dropout(0.5))\n",
        "model_cls2.add(Dense(18, activation='softmax'))\n",
        "model_cls2.compile(loss='categorical_crossentropy', optimizer= optimizer, metrics=['accuracy'])\n",
        "print(model_cls2.summary())\n"
      ],
      "execution_count": 0,
      "outputs": [
        {
          "output_type": "stream",
          "text": [
            "_________________________________________________________________\n",
            "Layer (type)                 Output Shape              Param #   \n",
            "=================================================================\n",
            "embedding_3 (Embedding)      (None, 30, 200)           7863200   \n",
            "_________________________________________________________________\n",
            "bidirectional_5 (Bidirection (None, 30, 80)            77120     \n",
            "_________________________________________________________________\n",
            "dropout_5 (Dropout)          (None, 30, 80)            0         \n",
            "_________________________________________________________________\n",
            "bidirectional_6 (Bidirection (None, 80)                38720     \n",
            "_________________________________________________________________\n",
            "dropout_6 (Dropout)          (None, 80)                0         \n",
            "_________________________________________________________________\n",
            "dense_3 (Dense)              (None, 18)                1458      \n",
            "=================================================================\n",
            "Total params: 7,980,498\n",
            "Trainable params: 117,298\n",
            "Non-trainable params: 7,863,200\n",
            "_________________________________________________________________\n",
            "None\n"
          ],
          "name": "stdout"
        }
      ]
    },
    {
      "metadata": {
        "id": "nSemUohYCB7c",
        "colab_type": "code",
        "colab": {}
      },
      "cell_type": "code",
      "source": [
        "# Model visualization\n",
        "from keras.utils import plot_model\n",
        "plot_model(model_cls2, to_file='model_cls2.png', show_shapes=True, show_layer_names=True)"
      ],
      "execution_count": 0,
      "outputs": []
    },
    {
      "metadata": {
        "id": "83ruLJ-fCDi5",
        "colab_type": "code",
        "outputId": "ff39262b-1fc9-44b6-f882-7ec81f44f1ea",
        "colab": {
          "base_uri": "https://localhost:8080/",
          "height": 741
        }
      },
      "cell_type": "code",
      "source": [
        "from IPython.display import Image\n",
        "Image('/content/model_cls2.png')"
      ],
      "execution_count": 0,
      "outputs": [
        {
          "output_type": "execute_result",
          "data": {
            "image/png": "[encoded data removed]",
            "text/plain": [
              "<IPython.core.display.Image object>"
            ]
          },
          "metadata": {
            "tags": []
          },
          "execution_count": 54
        }
      ]
    },
    {
      "metadata": {
        "id": "YEbY1USYCJnO",
        "colab_type": "code",
        "outputId": "350d2e22-419c-469f-a091-946e35d5cb6e",
        "colab": {
          "base_uri": "https://localhost:8080/",
          "height": 680
        }
      },
      "cell_type": "code",
      "source": [
        "model_cls2.fit(cluster_2_padded_sents, cluster_2_train_label, validation_split=0.3, epochs=20, batch_size=32, \n",
        "          verbose=1, callbacks=[reduce_rate,early_stop], class_weight=class_weight)"
      ],
      "execution_count": 0,
      "outputs": [
        {
          "output_type": "stream",
          "text": [
            "Train on 78154 samples, validate on 33495 samples\n",
            "Epoch 1/20\n",
            "78154/78154 [==============================] - 225s 3ms/step - loss: 7.8989 - acc: 0.3034 - val_loss: 7.0425 - val_acc: 0.3049\n",
            "Epoch 2/20\n",
            "78154/78154 [==============================] - 224s 3ms/step - loss: 6.2722 - acc: 0.4207 - val_loss: 6.6579 - val_acc: 0.3334\n",
            "Epoch 3/20\n",
            "78154/78154 [==============================] - 222s 3ms/step - loss: 5.9788 - acc: 0.4582 - val_loss: 6.5701 - val_acc: 0.3582\n",
            "Epoch 4/20\n",
            "78154/78154 [==============================] - 223s 3ms/step - loss: 5.8158 - acc: 0.4765 - val_loss: 6.4446 - val_acc: 0.3640\n",
            "Epoch 5/20\n",
            "78154/78154 [==============================] - 223s 3ms/step - loss: 5.7052 - acc: 0.4906 - val_loss: 6.8265 - val_acc: 0.3953\n",
            "\n",
            "Epoch 00005: ReduceLROnPlateau reducing learning rate to 0.00010000000474974513.\n",
            "Epoch 6/20\n",
            "78154/78154 [==============================] - 220s 3ms/step - loss: 4.9603 - acc: 0.5434 - val_loss: 5.7560 - val_acc: 0.4379\n",
            "Epoch 7/20\n",
            "78154/78154 [==============================] - 221s 3ms/step - loss: 4.7149 - acc: 0.5540 - val_loss: 5.6102 - val_acc: 0.4636\n",
            "Epoch 8/20\n",
            "78154/78154 [==============================] - 220s 3ms/step - loss: 4.6178 - acc: 0.5578 - val_loss: 5.5760 - val_acc: 0.4631\n",
            "Epoch 9/20\n",
            "78154/78154 [==============================] - 220s 3ms/step - loss: 4.5561 - acc: 0.5623 - val_loss: 5.5691 - val_acc: 0.4621\n",
            "Epoch 10/20\n",
            "78154/78154 [==============================] - 222s 3ms/step - loss: 4.5165 - acc: 0.5626 - val_loss: 5.6790 - val_acc: 0.4512\n",
            "\n",
            "Epoch 00010: ReduceLROnPlateau reducing learning rate to 1.0000000474974514e-05.\n",
            "Epoch 11/20\n",
            "78154/78154 [==============================] - 223s 3ms/step - loss: 4.3789 - acc: 0.5747 - val_loss: 5.5286 - val_acc: 0.4668\n",
            "Epoch 12/20\n",
            "78154/78154 [==============================] - 224s 3ms/step - loss: 4.3390 - acc: 0.5777 - val_loss: 5.5151 - val_acc: 0.4703\n",
            "Epoch 13/20\n",
            "78154/78154 [==============================] - 222s 3ms/step - loss: 4.3283 - acc: 0.5767 - val_loss: 5.5404 - val_acc: 0.4711\n",
            "\n",
            "Epoch 00013: ReduceLROnPlateau reducing learning rate to 1.0000000656873453e-06.\n",
            "Epoch 14/20\n",
            "78154/78154 [==============================] - 223s 3ms/step - loss: 4.3063 - acc: 0.5803 - val_loss: 5.5244 - val_acc: 0.4695\n",
            "\n",
            "Epoch 00014: ReduceLROnPlateau reducing learning rate to 1.0000001111620805e-07.\n",
            "Epoch 00014: early stopping\n"
          ],
          "name": "stdout"
        },
        {
          "output_type": "execute_result",
          "data": {
            "text/plain": [
              "<keras.callbacks.History at 0x7f344a5eb7f0>"
            ]
          },
          "metadata": {
            "tags": []
          },
          "execution_count": 55
        }
      ]
    },
    {
      "metadata": {
        "id": "yWFnyhqrT94J",
        "colab_type": "code",
        "outputId": "9337fc03-d5a6-46e8-b3cf-a9bf8a9fcbce",
        "colab": {
          "base_uri": "https://localhost:8080/",
          "height": 376
        }
      },
      "cell_type": "code",
      "source": [
        "# Visualizing model\n",
        "import matplotlib.pyplot as plt\n",
        "\n",
        "# Plot training & validation accuracy values\n",
        "plt.plot(model_cls2.history.history['acc'])\n",
        "plt.plot(model_cls2.history.history['val_acc'])\n",
        "plt.title('Model accuracy')\n",
        "plt.ylabel('Accuracy')\n",
        "plt.xlabel('Epoch')\n",
        "plt.legend(['Train', 'Test'], loc='upper left')\n",
        "plt.show()"
      ],
      "execution_count": 0,
      "outputs": [
        {
          "output_type": "display_data",
          "data": {
            "image/png": "[encoded data removed]",
            "text/plain": [
              "<Figure size 576x396 with 1 Axes>"
            ]
          },
          "metadata": {
            "tags": []
          }
        }
      ]
    },
    {
      "metadata": {
        "id": "PQuW4-U2U6Bz",
        "colab_type": "code",
        "outputId": "b7fd1197-a10e-426a-c4ca-4aed44627124",
        "colab": {
          "base_uri": "https://localhost:8080/",
          "height": 376
        }
      },
      "cell_type": "code",
      "source": [
        "# Plot training & validation loss values\n",
        "plt.plot(model_cls2.history.history['loss'])\n",
        "plt.plot(model_cls2.history.history['val_loss'])\n",
        "plt.title('Model loss')\n",
        "plt.ylabel('Loss')\n",
        "plt.xlabel('Epoch')\n",
        "plt.legend(['Train', 'Test'], loc='upper left')\n",
        "plt.show()"
      ],
      "execution_count": 0,
      "outputs": [
        {
          "output_type": "display_data",
          "data": {
            "image/png": "[encoded data removed]",
            "text/plain": [
              "<Figure size 576x396 with 1 Axes>"
            ]
          },
          "metadata": {
            "tags": []
          }
        }
      ]
    },
    {
      "metadata": {
        "id": "Qv-XtoGiDwfm",
        "colab_type": "code",
        "colab": {}
      },
      "cell_type": "code",
      "source": [
        "# Saving the model\n",
        "model_cls2.save('/content/gdrive/My Drive/Thesis Models/EN-DE-LEGDIV-2-Clusters_cluster_2.h5')"
      ],
      "execution_count": 0,
      "outputs": []
    },
    {
      "metadata": {
        "id": "0wtBi6z62UN7",
        "colab_type": "text"
      },
      "cell_type": "markdown",
      "source": [
        "## Evaluation on Document level\n",
        "SVMs are trained on document level and to make a fair evaluation the LSTMs needs to be evaluated on document level as well, but LSTM are trained on sentence level as due to hardware limitations one can not feed the whole document hence the technique used here is a little unique.\n",
        "\n",
        "So to make a fair comparision, the evaluation has to be done manually, first the document has to be divided into sentences with same technique used during training, then when all the sentence from a single document is curated then they are encoded into numeric form and padded to make all of them of equal length.\n",
        "\n",
        "Then each sentence is predicted and the predictions are normalized and combined to make it a single prediction for the whole document."
      ]
    },
    {
      "metadata": {
        "id": "19oHSaNp2tJG",
        "colab_type": "code",
        "outputId": "ec0321d5-bf10-44bd-95b5-f2b4be3d6d81",
        "colab": {
          "base_uri": "https://localhost:8080/",
          "height": 34
        }
      },
      "cell_type": "code",
      "source": [
        "cluster_2_train_label.shape[1]"
      ],
      "execution_count": 0,
      "outputs": [
        {
          "output_type": "execute_result",
          "data": {
            "text/plain": [
              "18"
            ]
          },
          "metadata": {
            "tags": []
          },
          "execution_count": 63
        }
      ]
    },
    {
      "metadata": {
        "id": "Nbw47xow2UvK",
        "colab_type": "code",
        "colab": {}
      },
      "cell_type": "code",
      "source": [
        "from sklearn.preprocessing import MinMaxScaler, Normalizer, StandardScaler\n",
        "\n",
        "original_label = []   # list to store the original label \n",
        "predicted_label = []   # list to store the predicted label\n",
        "\n",
        "for first_data, first_label in zip(cluster_2_data_test,cluster_2_label_test):\n",
        "    ## TMP LIST for each doc\n",
        "    sent_pred = []\n",
        "    \n",
        "    # start chunking the text into 30 words with 10 word slide\n",
        "    slides = slidingWindow(first_data.split(' '),30,10)\n",
        "        \n",
        "    for key,value in num_label_cluster_2.items():\n",
        "        if value == first_label:\n",
        "            num = key\n",
        "    \n",
        "    doc_sent = []\n",
        "    for slide in slides:\n",
        "        a = ' '.join(slide)\n",
        "        doc_sent.append(a)\n",
        "           \n",
        "    # we have the slide here, create the sequence from text to numbers\n",
        "    text_sequence = tokenizer_cls2.texts_to_sequences(doc_sent)\n",
        "\n",
        "    # pad it to make flat 30 lenght\n",
        "    text_padded = keras.preprocessing.sequence.pad_sequences(text_sequence, maxlen=30, padding='post')\n",
        "\n",
        "\n",
        "    # predict the label\n",
        "    sent_pred.append(model_cls2.predict(text_padded))        \n",
        "    \n",
        "    # normailizing the predictions before combining them.\n",
        "    nor_data = []\n",
        "    for predc in sent_pred:\n",
        "        transformer2 = Normalizer().fit(predc)\n",
        "        nor_data.append(transformer2.transform(predc))    \n",
        "        \n",
        "    # adding all the predictions of sentences of a single document into one.\n",
        "    sent = np.zeros(cluster_2_train_label.shape[1])\n",
        "    for sen in nor_data:\n",
        "        for i in range(len(sen)):\n",
        "            sent += sen[i]\n",
        "    \n",
        "    # populating lists of the predicted labels and original labels for further evaluation\n",
        "    predicted_label.append(np.argmax(sent, axis=0))\n",
        "    original_label.append(num)"
      ],
      "execution_count": 0,
      "outputs": []
    },
    {
      "metadata": {
        "id": "Dr56oMth2aIQ",
        "colab_type": "code",
        "outputId": "a7748ede-62c6-448c-e7c8-bf413726d6d0",
        "colab": {
          "base_uri": "https://localhost:8080/",
          "height": 34
        }
      },
      "cell_type": "code",
      "source": [
        "# Accuracy on document level\n",
        "from sklearn.metrics import accuracy_score, classification_report, confusion_matrix\n",
        "print(\"Accuracy of the model on document level is: {:.2f} %\".format(accuracy_score(original_label, predicted_label)*100))"
      ],
      "execution_count": 0,
      "outputs": [
        {
          "output_type": "stream",
          "text": [
            "Accuracy of the model on document level is: 75.96 %\n"
          ],
          "name": "stdout"
        }
      ]
    },
    {
      "metadata": {
        "id": "2labmbar2_Mv",
        "colab_type": "code",
        "outputId": "84303556-121f-490b-c952-a29c1c68ec2e",
        "colab": {
          "base_uri": "https://localhost:8080/",
          "height": 323
        }
      },
      "cell_type": "code",
      "source": [
        "# Classification report and confusion Matrix\n",
        "np.set_printoptions(threshold=np.nan)\n",
        "print(confusion_matrix(original_label, predicted_label))"
      ],
      "execution_count": 0,
      "outputs": [
        {
          "output_type": "stream",
          "text": [
            "[[14  0  0  1  0  0  0  0  0  2  0  0  0  0  0  0  3  0]\n",
            " [ 0 14  0  0  0  0  0  0  0  0  0  0  0  0  0  0  0  0]\n",
            " [ 0  0 21  0  0  0  6  0  1  0  0  0  0  0  2  0  0  0]\n",
            " [ 0  0  0 30  0  0  0  0  3  0  0  0  3  0  0  0  0  0]\n",
            " [ 0  0  0  0 75  0  0  0  0  2  0  0  1  4  0  0  4  0]\n",
            " [ 0  0  0  0  0 49  0  0  0  0  2  1  0  0  0  0  0  0]\n",
            " [ 0  0  0  1  2  0 19  0  1  0  0  0  0  2  2  2  3  0]\n",
            " [ 0  0  0  8  1  0  0 24  4  0  0  0  0  0  6  0  1  0]\n",
            " [ 0  0  3  0  0  0  0  0 20  0  2  0  0  1  0  0  2  0]\n",
            " [ 0  1  6  0  0  0  0  0  0  8  0  0  0  0  0  1  0  0]\n",
            " [ 0  0  0  1  0  0  0  0  0  0 20  0  0  0  0  0  1  2]\n",
            " [ 0  0  0  0  0  2  0  0  0  0  2 17  0  1  2  0  0  0]\n",
            " [ 0  0  0  0  0  0  0  0  0  0  4  2  8  0  0  0  0  0]\n",
            " [ 0  0  1  0  0  3  0  0  0  0  0  1  0 39  7  0  0  9]\n",
            " [ 2  0  2  0  0  3  0  2  4  3  2  8  0 11 86  0  0  5]\n",
            " [ 2  0  0  2  1  0  0  0  0  0  0  0  0  0  0 49  0  0]\n",
            " [ 0  0  0  4  0  0  0  0  0  0  0  0  0  0  0  0 36  2]\n",
            " [ 0  0  0  0  0  0  0  0  0  0  0  0  0  0  1  0  0 27]]\n"
          ],
          "name": "stdout"
        }
      ]
    },
    {
      "metadata": {
        "id": "Jq6qOk0p3CUa",
        "colab_type": "code",
        "outputId": "bd564a98-23fc-471e-de57-185390019ce8",
        "colab": {
          "base_uri": "https://localhost:8080/",
          "height": 442
        }
      },
      "cell_type": "code",
      "source": [
        "print(classification_report(original_label, predicted_label))"
      ],
      "execution_count": 0,
      "outputs": [
        {
          "output_type": "stream",
          "text": [
            "              precision    recall  f1-score   support\n",
            "\n",
            "           0       0.78      0.70      0.74        20\n",
            "           1       0.93      1.00      0.97        14\n",
            "           2       0.64      0.70      0.67        30\n",
            "           3       0.64      0.83      0.72        36\n",
            "           4       0.95      0.87      0.91        86\n",
            "           5       0.86      0.94      0.90        52\n",
            "           6       0.76      0.59      0.67        32\n",
            "           7       0.92      0.55      0.69        44\n",
            "           8       0.61      0.71      0.66        28\n",
            "           9       0.53      0.50      0.52        16\n",
            "          10       0.62      0.83      0.71        24\n",
            "          11       0.59      0.71      0.64        24\n",
            "          12       0.67      0.57      0.62        14\n",
            "          13       0.67      0.65      0.66        60\n",
            "          14       0.81      0.67      0.74       128\n",
            "          15       0.94      0.91      0.92        54\n",
            "          16       0.72      0.86      0.78        42\n",
            "          17       0.60      0.96      0.74        28\n",
            "\n",
            "   micro avg       0.76      0.76      0.76       732\n",
            "   macro avg       0.74      0.75      0.74       732\n",
            "weighted avg       0.78      0.76      0.76       732\n",
            "\n"
          ],
          "name": "stdout"
        }
      ]
    },
    {
      "metadata": {
        "id": "9LSL_J-o3E2L",
        "colab_type": "text"
      },
      "cell_type": "markdown",
      "source": [
        "## Evaluation on Sentence level\n"
      ]
    },
    {
      "metadata": {
        "id": "9YuHg2bfDCNl",
        "colab_type": "code",
        "outputId": "520cd038-1cf2-47bc-9eea-970c395dcdfc",
        "colab": {
          "base_uri": "https://localhost:8080/",
          "height": 202
        }
      },
      "cell_type": "code",
      "source": [
        "#loading the keras model \n",
        "from keras.models import load_model\n",
        "model_cls2 = load_model('/content/gdrive/My Drive/Thesis Models/EN-DE-LEGDIV-2-Clusters_cluster_2.h5')"
      ],
      "execution_count": 0,
      "outputs": [
        {
          "output_type": "stream",
          "text": [
            "WARNING:tensorflow:From /usr/local/lib/python3.6/dist-packages/tensorflow/python/framework/op_def_library.py:263: colocate_with (from tensorflow.python.framework.ops) is deprecated and will be removed in a future version.\n",
            "Instructions for updating:\n",
            "Colocations handled automatically by placer.\n",
            "WARNING:tensorflow:From /usr/local/lib/python3.6/dist-packages/keras/backend/tensorflow_backend.py:3445: calling dropout (from tensorflow.python.ops.nn_ops) with keep_prob is deprecated and will be removed in a future version.\n",
            "Instructions for updating:\n",
            "Please use `rate` instead of `keep_prob`. Rate should be set to `rate = 1 - keep_prob`.\n",
            "WARNING:tensorflow:From /usr/local/lib/python3.6/dist-packages/tensorflow/python/ops/math_ops.py:3066: to_int32 (from tensorflow.python.ops.math_ops) is deprecated and will be removed in a future version.\n",
            "Instructions for updating:\n",
            "Use tf.cast instead.\n"
          ],
          "name": "stdout"
        }
      ]
    },
    {
      "metadata": {
        "id": "VFsIbVGYDc9E",
        "colab_type": "code",
        "colab": {}
      },
      "cell_type": "code",
      "source": [
        "# Testing the data\n",
        "cluster_2_padded_sents_test = keras.preprocessing.sequence.pad_sequences(cluster_2_test_sequences, maxlen=30, padding='post')"
      ],
      "execution_count": 0,
      "outputs": []
    },
    {
      "metadata": {
        "id": "mX-Sw3CfD3JR",
        "colab_type": "code",
        "outputId": "b145d0ec-805b-41d3-dd44-2c0f543ff063",
        "colab": {
          "base_uri": "https://localhost:8080/",
          "height": 54
        }
      },
      "cell_type": "code",
      "source": [
        "scores = model_cls2.evaluate(cluster_2_padded_sents_test, cluster_2_test_label, verbose=1)\n",
        "print(\"Accuracy on sentence level: %.2f%%\" % (scores[1]*100))"
      ],
      "execution_count": 0,
      "outputs": [
        {
          "output_type": "stream",
          "text": [
            "47157/47157 [==============================] - 177s 4ms/step\n",
            "Accuracy on sentence level: 47.87%\n"
          ],
          "name": "stdout"
        }
      ]
    },
    {
      "metadata": {
        "id": "ie_RIzkHD9z4",
        "colab_type": "code",
        "colab": {}
      },
      "cell_type": "code",
      "source": [
        "pred = model_cls2.predict(cluster_2_padded_sents_test)\n",
        "y_pred = np.argmax(pred, axis=1)\n",
        "y_true = np.argmax(cluster_2_test_label, axis=1)"
      ],
      "execution_count": 0,
      "outputs": []
    },
    {
      "metadata": {
        "id": "g0OYeQtVECrI",
        "colab_type": "code",
        "outputId": "dfb20d43-46d4-470f-9bdc-0f9e13d10879",
        "colab": {
          "base_uri": "https://localhost:8080/",
          "height": 678
        }
      },
      "cell_type": "code",
      "source": [
        "print(confusion_matrix(y_true, y_pred))"
      ],
      "execution_count": 0,
      "outputs": [
        {
          "output_type": "stream",
          "text": [
            "[[ 482   10   35   79   62   22    4    3   24   70   22    8   14   40\n",
            "     9   28  170   57]\n",
            " [   2  387    8   14    2   79   38    5    0    2   11   10    2   14\n",
            "     5    5   33   35]\n",
            " [  11   91  881   18   12   14  305   42   80   69   27   17    2   43\n",
            "   189  101   30   32]\n",
            " [  30   34   21  764   57   51   44  193  199   13   39   91  167   19\n",
            "    10   25  156   73]\n",
            " [ 158  107   51   79 4689  104  476   26   43  239   78   23   27  203\n",
            "    31   92  380  108]\n",
            " [   9  150   22   27   24 2121   27    7    8   13   87   78   10   42\n",
            "   107   26  117  152]\n",
            " [  11   62   89  114  186   24  876   77   66   45   53   77   10  142\n",
            "   156  236  160   78]\n",
            " [  23   95  117  429   51   59  105  680  341   45  111  132   28   48\n",
            "   203   36  141  149]\n",
            " [  26   18  151  103   29    4   16   31  613   24   90   37   20  105\n",
            "    35   64   51   34]\n",
            " [  13   36  166   12   23    6    2   32   48  266   16   15    2   29\n",
            "    97   30   27   20]\n",
            " [  25   14   37   67    3   12   10   35   18   28  428   37   69   56\n",
            "    33   20   65  104]\n",
            " [  22   40   22   69    7   82   31   16   13   21  144  623   70   72\n",
            "   126   12   29   18]\n",
            " [   2    4    3   56   10   15    2    7   15    4  353   87  359   79\n",
            "    18    9   14   13]\n",
            " [ 176   71  168   42   42  155   43   56   57  134  203  219   24 1427\n",
            "   493   38   98  241]\n",
            " [ 118  184  539  108   44  187  252  162  152  465  346  706   89  662\n",
            "  3087  107  163  221]\n",
            " [ 128   42   44  226  100   20   75   42   63   49   78    9   35   76\n",
            "    59 1869  262   99]\n",
            " [ 147  131   31  499  135  183  155   68   22   68   42   32   41   62\n",
            "    17  256 2249  305]\n",
            " [  27   56   18   86   23   60   48   28   22   22   37    8    8   39\n",
            "    41   46   63  771]]\n"
          ],
          "name": "stdout"
        }
      ]
    },
    {
      "metadata": {
        "id": "zYq3z23PEFIG",
        "colab_type": "code",
        "outputId": "5492362a-d1cb-49f5-fbc5-3643e44b059d",
        "colab": {
          "base_uri": "https://localhost:8080/",
          "height": 476
        }
      },
      "cell_type": "code",
      "source": [
        "print(classification_report(y_true, y_pred))"
      ],
      "execution_count": 0,
      "outputs": [
        {
          "output_type": "stream",
          "text": [
            "              precision    recall  f1-score   support\n",
            "\n",
            "           0       0.34      0.42      0.38      1139\n",
            "           1       0.25      0.59      0.35       652\n",
            "           2       0.37      0.45      0.40      1964\n",
            "           3       0.27      0.38      0.32      1986\n",
            "           4       0.85      0.68      0.76      6914\n",
            "           5       0.66      0.70      0.68      3027\n",
            "           6       0.35      0.36      0.35      2462\n",
            "           7       0.45      0.24      0.32      2793\n",
            "           8       0.34      0.42      0.38      1451\n",
            "           9       0.17      0.32      0.22       840\n",
            "          10       0.20      0.40      0.27      1061\n",
            "          11       0.28      0.44      0.34      1417\n",
            "          12       0.37      0.34      0.35      1050\n",
            "          13       0.45      0.39      0.42      3687\n",
            "          14       0.65      0.41      0.50      7592\n",
            "          15       0.62      0.57      0.60      3276\n",
            "          16       0.53      0.51      0.52      4443\n",
            "          17       0.31      0.55      0.39      1403\n",
            "\n",
            "   micro avg       0.48      0.48      0.48     47157\n",
            "   macro avg       0.42      0.45      0.42     47157\n",
            "weighted avg       0.53      0.48      0.49     47157\n",
            "\n"
          ],
          "name": "stdout"
        }
      ]
    }
  ]
}