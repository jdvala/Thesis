{
 "cells": [
  {
   "cell_type": "code",
   "execution_count": 1,
   "metadata": {},
   "outputs": [],
   "source": [
    "#SVM English Data\n",
    "import os\n",
    "import numpy as np\n",
    "from sklearn.svm import LinearSVC\n",
    "from sklearn.metrics import classification_report, confusion_matrix, accuracy_score\n",
    "from sklearn.model_selection import train_test_split\n",
    "from sklearn.feature_extraction.text import TfidfVectorizer\n",
    "from sklearn.preprocessing import LabelEncoder\n",
    "from collections import defaultdict\n",
    "import pickle\n",
    "import matplotlib.pyplot as plt\n",
    "import logging\n",
    "import sys"
   ]
  },
  {
   "cell_type": "code",
   "execution_count": 2,
   "metadata": {},
   "outputs": [],
   "source": [
    "# logger file name\n",
    "log_file_name = sys.argv[0].split('.')[0]\n",
    "\n",
    "## SETTING LOGGER\n",
    "logging.basicConfig(filename=os.path.join(os.getcwd(),log_file_name+'.txt'),filemode='w',\n",
    "                    level=logging.INFO, format='%(asctime)s - %(message)s')\n",
    "\n",
    "logging.info(\"### SVM English Data.\\n\")"
   ]
  },
  {
   "cell_type": "code",
   "execution_count": 3,
   "metadata": {},
   "outputs": [],
   "source": [
    "combined_data_path = 'combined_data.pkl'\n",
    "label = 'en-de-label.pkl'"
   ]
  },
  {
   "cell_type": "code",
   "execution_count": 4,
   "metadata": {},
   "outputs": [],
   "source": [
    "## GETTING PICKLED DATA\n",
    "def unpickle(path):\n",
    "    \"\"\" returns data after unpickling the data\n",
    "    \"\"\"\n",
    "    with open(path, 'rb') as readhandle:\n",
    "        toReturn = pickle.load(readhandle)\n",
    "\n",
    "    return toReturn\n",
    "\n",
    "\n",
    "def save_pickle(path, obj, name):\n",
    "    \"\"\"saves the given python objects serially\n",
    "    \"\"\"\n",
    "    with open(os.path.join(path, name)+'.pkl', 'wb') as writehandle:\n",
    "        pickle.dump(obj, writehandle)\n",
    "\n",
    "\n",
    "data = unpickle(combined_data_path)\n",
    "label = unpickle(label)"
   ]
  },
  {
   "cell_type": "code",
   "execution_count": 12,
   "metadata": {},
   "outputs": [],
   "source": [
    "# numbering labels\n",
    "num_label = dict(list(enumerate(sorted(set(label)))))"
   ]
  },
  {
   "cell_type": "code",
   "execution_count": 13,
   "metadata": {},
   "outputs": [
    {
     "data": {
      "text/plain": [
       "{0: 'agriculture',\n",
       " 1: 'audiovisual_and_media',\n",
       " 2: 'budget',\n",
       " 3: 'competition',\n",
       " 4: 'consumers',\n",
       " 5: 'culture',\n",
       " 6: 'customs',\n",
       " 7: 'development',\n",
       " 8: 'economic_and_monetary_affairs',\n",
       " 9: 'education_training_youth',\n",
       " 10: 'employment_and_social_policy',\n",
       " 11: 'energy',\n",
       " 12: 'enlargement',\n",
       " 13: 'enterprise',\n",
       " 14: 'environment',\n",
       " 15: 'external_relations',\n",
       " 16: 'external_trade',\n",
       " 17: 'fight_against_fraud',\n",
       " 18: 'food_safety',\n",
       " 19: 'foreign_and_security_policy',\n",
       " 20: 'human_rights',\n",
       " 21: 'humanitarian_aid',\n",
       " 22: 'information_society',\n",
       " 23: 'institutional_affairs',\n",
       " 24: 'internal_market',\n",
       " 25: 'justice_freedom_security',\n",
       " 26: 'maritime_affairs_and_fisheries',\n",
       " 27: 'public_health',\n",
       " 28: 'regional_policy',\n",
       " 29: 'research_innovation',\n",
       " 30: 'taxation',\n",
       " 31: 'transport'}"
      ]
     },
     "execution_count": 13,
     "metadata": {},
     "output_type": "execute_result"
    }
   ],
   "source": [
    "num_label"
   ]
  },
  {
   "cell_type": "code",
   "execution_count": 15,
   "metadata": {},
   "outputs": [],
   "source": [
    "train_set, test_set, train_label, test_label = train_test_split(data, label, test_size=0.2, random_state=13)"
   ]
  },
  {
   "cell_type": "code",
   "execution_count": 21,
   "metadata": {},
   "outputs": [],
   "source": [
    "# splitting\n",
    "en_train_data = []\n",
    "en_train_label = []\n",
    "de_train_data = []\n",
    "de_train_label= []\n",
    "for i,j in zip(train_set, train_label):\n",
    "    en_train_data.append(i.split('\\n\\n\\n')[0])\n",
    "    de_train_data.append(i.split('\\n\\n\\n')[1])\n",
    "    # getting the label number of corresponding label\n",
    "    for key,value in num_label.items():\n",
    "        if value == j:\n",
    "            num=key\n",
    "    en_train_label.append(num)\n",
    "    de_train_label.append(num)"
   ]
  },
  {
   "cell_type": "code",
   "execution_count": 22,
   "metadata": {},
   "outputs": [
    {
     "data": {
      "text/plain": [
       "(2172, 2172, 2172, 2172)"
      ]
     },
     "execution_count": 22,
     "metadata": {},
     "output_type": "execute_result"
    }
   ],
   "source": [
    "len(en_train_data), len(en_train_label), len(de_train_data), len(de_train_label)"
   ]
  },
  {
   "cell_type": "code",
   "execution_count": 24,
   "metadata": {},
   "outputs": [
    {
     "data": {
      "text/plain": [
       "(10,\n",
       " 'european recovery drive european recovery summary of european-commission communication com final drive european recovery what do this european-commission communication do pron set series measure take trigger recovery european-union eu follow financial-crisis start summer intensify late key point the communication present ambitious programme aim at restore maintain stability financial sector the report present de larosière group pdf make supervision cornerstone stable financial system the european-commission intend establish supervisory framework detect potential risk relate financial-market early mean of eu-body oversee stability financial system whole european financial-supervision system security also integral part future european regulation to end commission make plan for legislative instrument establish regulatory supervisory standard hedge fund private-equity white paper tool early intervention prevent possible crisis report derivative complex structured product increase transparency ensure financial-stability legislation increase quality quantity prudential capital address liquidity-risk limit excessive leverage with aim rebuild confidence european investor consumer small medium sized enterprise economy access credit right concern financial product commission seek take action follow area increase efficiency marketing safeguard retail investment product strengthen protection bank-depositor investor insurance-policy holder introduction measure responsible lending borrowing the remuneration employee financial sector director also consideration package legislative proposal aim submit prudential oversight lastly harmonise system sanction introduce order prevent market-abuse support real economy the eu-single continue motor behind economic social prosperity eu to end eu-country increase support real economy implement follow principle eliminate barrier free movement good service implement structural change meet climate energy challenge promotion low carbon economy promote exchange good practice synergy term eu cooperation keep eu-single open trade partner support population the crisis also negative consequence labour-market accentuate problem unemployment social-exclusion in order combat issue commission invite eu-country initiate action follow area keep people employment reinforce activation provide income-support invest re training skill upgrading prevent over indebtedness maintain access financial service guarantee free movement worker implement support measure unskilled-worker combat school drop out promote flexicurity term employment-protection background part communication propose preparation summit london april the follow proposal make aim mitigate deficiency global economy cause crisis strengthen global financial architecture strengthen financial framework act communication spring european-council drive european recovery volume com final march last update')"
      ]
     },
     "execution_count": 24,
     "metadata": {},
     "output_type": "execute_result"
    }
   ],
   "source": [
    "en_train_label[1], en_train_data[1]"
   ]
  },
  {
   "cell_type": "code",
   "execution_count": 25,
   "metadata": {},
   "outputs": [
    {
     "data": {
      "text/plain": [
       "(10,\n",
       " 'impuls fuer der aufschwung europa impuls fuer der aufschwung europa zusammenfassung des dokuments mitteilung der europaeischen kommission kom endgueltig impuls fuer der aufschwung europa was ist der zweck dieser mitteilung der europaeischen kommission ich erlaeutert einen reihen von massnahmen zur ankurbelung-der der europaeischen union eu der folge der im sommer begonnen und sich enden intensivierenden krise ergreifen werden muessen wichtige eckpunkte der mitteilung enthaelt einen ehrgeizig programm zur wiederherstellung und aufrechterhaltung ein stabil finanzsektors der bericht der delarosièregruppe zufolge pdf bilden der aufsicht ein eckpfeiler fuer einen stabil finanzsystem der europaeische kommission planen der schaffung ein aufsichtsrahmens zur frueherkennung potenzieller risiko der finanzmaerkte dieser umfasst einen europaeische einrichtung der ueber der stabilitaet der finanzsystems insgesamt wachen soll einen europaeische finanzaufsicht der sicherheit musste ebenso bestandteil kuenftiger europaeischer regelung mein zu dies zweck sehen der kommission folgendes vor ein rechtsakt ueber gemeinsam regulierungs und aufsichtsnormen fuer hedgefonds und beteiligungskapitalfonds einen weissbuch ueber instrument der fruehzeitigen krisenpraevention ein einschlaegigen bericht ueber derivate und ander komplex finanzprodukte um mehr transparenz und finanzielle stabilitaet zu gewaehrleisten rechtsakte zur staerkung von qualitaet und quantitaet der eigenkapital zur einschraenkung der liquiditaetsrisikos und einer uebermaessigen kreditvergabe um der vertrauen europaeischer anleger verbraucher sowie klein und mittler unternehmen im hinblick auf mein ersparnis mein zugang zu darlehen und mein recht beim umgang mit finanzprodukten zu staerken haben der kommission der zielen massnahmen der folgend bereich durchzufuehren verbesserung der sicherheitsvorkehrungen beim vertreiben von anlageprodukten fuer kleinanleger staerkung der schutz von einlegern anleger und versicherungsnehmern einfuehrung von massnahmen fuer verantwortungsvoll kreditgebaren zudem sein der verguetung von mitarbeiter und mitglied der unternehmensleitungen im finanzsektor gegenstand einer reihen von rechtsakten durch der der befugnis der aufsichtsorgane auch auf der verguetung ausweiten werden sollen schliesslich sollen einen harmonisiert sanktionssystem zur praevention von marktmissbrauch einrichten werden unterstuetzung der realwirtschaft der eubinnenmarkt muss weiterhin der motor hinter wirtschaftlich und sozial wohlstand der eu bleiben zu dies zweck muessen der eulaender der realwirtschaft verstaerkt unterstuetzen und der folgend grundsaetze umsetzen beseitigung von hindernis fuer der frei waren und dienstleistungsverkehr umsetzung der strukturwandels zur anpassung der herausforderung im klima und energiebereich durch der foerderung einer emissionsarmen wirtschaft foerderung der austauschs bewaehrter verfahren und der schaffung von synergien im rahmen der euzusammenarbeit offenhaltung der eubinnenmarkts fuer der handelspartner hilfe fuer der mensch der krise haben sich auch auf der arbeitsmarkt negativ auswirken ich haben der arbeitslosigkeit und soziale-ausgrenzung verschaerft zur bewaeltigung dies phaenomene fordern der kommission der eulaender zu massnahmen der folgend bereich auf erhalten bestehend arbeitsplaetze staerkere nutzung und bereitstellung angemessen einkommenshilfen investition umschulungsmassnahmen und fortbildung verhinderung der ueberschuldung und aufrechterhaltung der zugang zu finanzdienstleistungen gewaehrleistung der freizuegigkeit der arbeitnehmer durchfuehrung von hilfsmassnahmen fuer geringqualifizierte bekaempfung der schulabbruchs foerderung der flexicuritykonzepts im bereich beschaeftigungsschutz hintergrund ein teilen dies mitteilung sein zur vorbereitung der ggipfels london april bestimmen mit der folgend vorschlaegen sollen der durch der krise hervorgerufen schwachstellen der weltwirtschaft beseitigen werden staerkung der global finanzarchitektur staerkung der finanzrahmens rechtsakt mitteilung fuer der fruehjahrstagung der europaeischen rat impuls fuer der aufschwung europa teilen com endgueltig vom maerz letzt aktualisierung')"
      ]
     },
     "execution_count": 25,
     "metadata": {},
     "output_type": "execute_result"
    }
   ],
   "source": [
    "de_train_label[1], de_train_data[1]"
   ]
  },
  {
   "cell_type": "code",
   "execution_count": 30,
   "metadata": {},
   "outputs": [],
   "source": [
    "en_test_data = []\n",
    "en_test_label = []\n",
    "de_test_data = []\n",
    "de_test_label= []\n",
    "for i,j in zip(test_set, test_label):\n",
    "    en_test_data.append(i.split('\\n\\n\\n')[0])\n",
    "    de_test_data.append(i.split('\\n\\n\\n')[1])\n",
    "    for key,value in num_label.items():\n",
    "        if value == j:\n",
    "            num=key\n",
    "    en_test_label.append(num)\n",
    "    de_test_label.append(num)"
   ]
  },
  {
   "cell_type": "code",
   "execution_count": 31,
   "metadata": {},
   "outputs": [
    {
     "data": {
      "text/plain": [
       "(544, 544, 544, 544)"
      ]
     },
     "execution_count": 31,
     "metadata": {},
     "output_type": "execute_result"
    }
   ],
   "source": [
    "len(en_test_data), len(en_test_label), len(de_test_data), len(de_test_label)"
   ]
  },
  {
   "cell_type": "code",
   "execution_count": 34,
   "metadata": {},
   "outputs": [
    {
     "data": {
      "text/plain": [
       "('expert traffic human beings group expert traffic human beings the group expert responsible advise commission matter relate traffic human being exist since pron composition operation regularly adjust accordance development take place field within european-union eu-act commission-decision eu august set group experts traffic human beings repeal decision summary this decision establish group expert traffic human beings responsible advise european-commission anti traffic matter the group main task be provide commission write contribution matter relate traffic human being ensure coherent approach subject help commission assess evolution policy field national european international level identify possible measure provide forum discussion matter relate traffic human being the group shall compose fifteen member appoint commission four year basis call application pron member shall individual expertise experience prevention fight traffic human being pron shall citizen member state european-union eu candidate potential candidate country european-economic country the group shall chair eu anti trafficking coordinator expert observer may invite participate meeting neither group member expert observer receive remuneration service context set group enable commission develop anti traffic policy this decision repeal previous decision establish group expert order take account new european directive prevention fight traffic human being creation position eu anti trafficking coordinator the latter task improve coordination action european national international level participate development eu-policy field anti traffic references act entry force deadline transposition member states official-journal decision eu see also fight traffic human being eu group experts last update',\n",
       " 25)"
      ]
     },
     "execution_count": 34,
     "metadata": {},
     "output_type": "execute_result"
    }
   ],
   "source": [
    "en_test_data[0], en_test_label[0]"
   ]
  },
  {
   "cell_type": "code",
   "execution_count": 36,
   "metadata": {},
   "outputs": [
    {
     "data": {
      "text/plain": [
       "('sachverstaendigengruppe fuer menschenhandel sachverstaendigengruppe fuer menschenhandel der sachverstaendigengruppe der der kommission alle frage zum thema menschenhandel beraten soll bestehen seit mein zusammensetzung und mein arbeitsweise werden regelmaessig der entwicklung dies bereich innerhalb der europaeischen union eu angepasst rechtsakt beschluss eu der kommission vom august zur einsetzung der sachverstaendigengruppe fuer menschenhandel und zur aufhebung der beschluß eg abl vom zusammenfassung mit dies beschluss werden einen sachverstaendigengruppe fuer menschenhandel einsetzen der der europaeische kommission alle frage zum thema menschenhandel beraten soll der gruppe haben insbesondere folgend aufgeben ich legen der kommission schriftlich stellungnahme zum thema menschenhandel vor und gewaehrleistet einen kohaerentes vorgehen dies frage ich unterstuetzt der kommission bei der bewertung der politik dies bereich auf national europaeischer und international ebene sowie bei der ermittlung der zu ergreifend massnahmen ich bieten einen diskussionsforum fuer frage zum thema menschenhandel der gruppe bestehen aus mitglied der von der kommission auf der grundlage der aufforderung zur einreichung von bewerbung fuer vier jahr ernennen werden der mitglied verfuegen ueber einschlaegige kenntnis und erfahrung im bereich verhuetung und bekaempfung der menschenhandels ich muessen buerger ein mitgliedstaates der europaeischen union eu oder ein bewerberlandes beziehungsweise potenziellen bewerberlandes oder ein ewrmitgliedstaates mein der vorsitz der gruppe fuehrt der eukoordinator fuer der bekaempfung der menschenhandels ich koennen sachverstaendige oder beobachter zur teilnahme der sitzung einladen werden weder der taetigkeit der mitglied der gruppe noch der der sachverstaendigen oder beobachter werden verguetet hintergrund der eingerichtet sachverstaendigengruppe haben ich der kommission ermoeglicht mein politik zur bekaempfung der menschenhandels weiterentwickeln dieser beschluss heben der vorherig beschluss ueber der einrichtung einer sachverstaendigengruppe auf um der neu eurichtlinie ueber der verhuetung und bekaempfung der menschenhandels sowie der ernennung ein eukoordinators fuer der bekaempfung der menschenhandels rechnung zu tragen der koordinator soll der abstimmung der auf europaeischer national und international ebene durchgefuehrten massnahmen verbessern zudem soll ich der ausgestaltung der eupolitik im bereich der bekaempfung der menschenhandels mitwirken bezug rechtsakt datum der inkrafttreten termin fuer der umsetzung der mitgliedstaaten amtsblatt beschluss eu abl see also bekaempfung der menschenhandels sachverstaendigengruppe der eu letzt aenderung',\n",
       " 25)"
      ]
     },
     "execution_count": 36,
     "metadata": {},
     "output_type": "execute_result"
    }
   ],
   "source": [
    "de_test_data[0], de_test_label[0]"
   ]
  },
  {
   "cell_type": "markdown",
   "metadata": {},
   "source": [
    "## English Language"
   ]
  },
  {
   "cell_type": "code",
   "execution_count": 37,
   "metadata": {},
   "outputs": [
    {
     "name": "stdout",
     "output_type": "stream",
     "text": [
      "\n",
      "TF-IDF Creation Starting for English Language\n"
     ]
    },
    {
     "data": {
      "text/plain": [
       "TfidfVectorizer(analyzer='word', binary=False, decode_error='strict',\n",
       "        dtype=<class 'numpy.float64'>, encoding='latin-1', input='content',\n",
       "        lowercase=True, max_df=1.0, max_features=10000, min_df=5,\n",
       "        ngram_range=(1, 2), norm='l2', preprocessor=None, smooth_idf=True,\n",
       "        stop_words='english', strip_accents=None, sublinear_tf=True,\n",
       "        token_pattern='(?u)\\\\b\\\\w\\\\w+\\\\b', tokenizer=None, use_idf=True,\n",
       "        vocabulary=None)"
      ]
     },
     "execution_count": 37,
     "metadata": {},
     "output_type": "execute_result"
    }
   ],
   "source": [
    "# creating tf-idf matrix\n",
    "print('\\nTF-IDF Creation Starting for English Language')\n",
    "logging.info('TF-IDF Creation Starting')\n",
    "\n",
    "vectorizer = TfidfVectorizer(sublinear_tf=True ,min_df=5,max_features=10000 ,norm='l2', encoding='latin-1', ngram_range=(1, 2), stop_words='english')\n",
    "\n",
    "# Fitting the vectorizer on train data from both the clusters\n",
    "vectorizer.fit(en_train_data, en_test_data)"
   ]
  },
  {
   "cell_type": "code",
   "execution_count": 40,
   "metadata": {},
   "outputs": [
    {
     "name": "stdout",
     "output_type": "stream",
     "text": [
      "Starting SVM\n",
      "Training Cluster 1 SVM\n",
      "[LibLinear]Saving the predictions\n"
     ]
    }
   ],
   "source": [
    "# Starting SVM\n",
    "print('Starting SVM')\n",
    "logging.info('Starting SVM')\n",
    "\n",
    "# Defining Classifiers parameters\n",
    "SVM_EN = LinearSVC(C=1,verbose=True)\n",
    "\n",
    "print('Training Cluster 1 SVM')\n",
    "\n",
    "# fit the classifier on train data\n",
    "SVM_EN.fit(vectorizer.transform(en_train_data), en_train_label)\n",
    "\n",
    "\n",
    "# predicting using classifier\n",
    "y_pred_EN = SVM_EN.predict(vectorizer.transform(en_test_data))\n",
    "print(\"Saving the predictions\")"
   ]
  },
  {
   "cell_type": "code",
   "execution_count": 41,
   "metadata": {},
   "outputs": [
    {
     "name": "stdout",
     "output_type": "stream",
     "text": [
      "Accuracy: 0.8106617647058824\n",
      "              precision    recall  f1-score   support\n",
      "\n",
      "           0       0.95      0.78      0.86        23\n",
      "           1       0.75      0.60      0.67         5\n",
      "           2       0.86      0.86      0.86         7\n",
      "           3       0.79      1.00      0.88        11\n",
      "           4       0.80      0.80      0.80        25\n",
      "           5       1.00      0.67      0.80         3\n",
      "           6       1.00      0.80      0.89        10\n",
      "           7       0.88      1.00      0.93        14\n",
      "           8       0.93      1.00      0.96        27\n",
      "           9       0.79      0.94      0.86        16\n",
      "          10       0.75      0.92      0.83        26\n",
      "          11       0.67      0.93      0.78        15\n",
      "          12       0.67      0.67      0.67        12\n",
      "          13       0.75      0.60      0.67        10\n",
      "          14       0.77      0.86      0.81        35\n",
      "          15       0.92      0.69      0.79        16\n",
      "          16       1.00      0.78      0.88         9\n",
      "          17       0.50      0.20      0.29         5\n",
      "          18       0.87      0.87      0.87        23\n",
      "          19       0.62      0.50      0.56        10\n",
      "          20       0.71      0.62      0.67         8\n",
      "          21       0.50      0.25      0.33         4\n",
      "          22       0.72      0.90      0.80        20\n",
      "          23       0.87      0.65      0.74        20\n",
      "          24       0.84      0.75      0.79        51\n",
      "          25       0.75      0.85      0.80        46\n",
      "          26       0.88      0.88      0.88        17\n",
      "          27       1.00      0.88      0.94        17\n",
      "          28       0.75      0.67      0.71         9\n",
      "          29       0.82      0.82      0.82        11\n",
      "          30       0.89      0.80      0.84        10\n",
      "          31       0.77      0.83      0.80        29\n",
      "\n",
      "   micro avg       0.81      0.81      0.81       544\n",
      "   macro avg       0.80      0.76      0.77       544\n",
      "weighted avg       0.82      0.81      0.81       544\n",
      "\n",
      "[[18  0  0 ...  0  0  0]\n",
      " [ 0  3  0 ...  0  0  0]\n",
      " [ 0  0  6 ...  0  0  0]\n",
      " ...\n",
      " [ 0  0  0 ...  9  0  0]\n",
      " [ 0  0  0 ...  0  8  1]\n",
      " [ 0  0  0 ...  1  0 24]]\n"
     ]
    }
   ],
   "source": [
    "print(\"Accuracy:\",accuracy_score(en_test_label, y_pred_EN))\n",
    "#logging.info(\"Accuracy:\",str(accuracy_score(test_label, y_pred)))\n",
    "classification_rep = classification_report(en_test_label, y_pred_EN)\n",
    "print(classification_rep)\n",
    "#logging.info(\"Classification Report:\\n\",str(classification_rep))\n",
    "conf_matrix = confusion_matrix(en_test_label, y_pred_EN)\n",
    "#logging.info('Confusion Matrix:\\n',str(conf_matrix))\n",
    "print(conf_matrix)"
   ]
  },
  {
   "cell_type": "code",
   "execution_count": null,
   "metadata": {},
   "outputs": [],
   "source": []
  }
 ],
 "metadata": {
  "kernelspec": {
   "display_name": "Python 3",
   "language": "python",
   "name": "python3"
  },
  "language_info": {
   "codemirror_mode": {
    "name": "ipython",
    "version": 3
   },
   "file_extension": ".py",
   "mimetype": "text/x-python",
   "name": "python",
   "nbconvert_exporter": "python",
   "pygments_lexer": "ipython3",
   "version": "3.6.8"
  }
 },
 "nbformat": 4,
 "nbformat_minor": 2
}
