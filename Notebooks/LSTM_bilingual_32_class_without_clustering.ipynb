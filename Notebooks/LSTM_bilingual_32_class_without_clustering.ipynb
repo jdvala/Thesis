{
  "nbformat": 4,
  "nbformat_minor": 0,
  "metadata": {
    "colab": {
      "name": "LSTM_bilingual_32_class_without_clustering.ipynb",
      "version": "0.3.2",
      "provenance": [],
      "collapsed_sections": [],
      "toc_visible": true
    },
    "kernelspec": {
      "name": "python3",
      "display_name": "Python 3"
    },
    "accelerator": "TPU"
  },
  "cells": [
    {
      "metadata": {
        "id": "lv1RUBK28gln",
        "colab_type": "text"
      },
      "cell_type": "markdown",
      "source": [
        "# LSTM EN-DE 32 Classes\n",
        "\n",
        "The bidirectional LSTM is trained on sentence level on English and German data. There are two evaluations, one on sentence level and one on document level"
      ]
    },
    {
      "metadata": {
        "id": "Tw3k42Yn4Dlq",
        "colab_type": "code",
        "outputId": "97bea4ad-1896-4c01-b2b5-e2ccd6ddc844",
        "colab": {
          "base_uri": "https://localhost:8080/",
          "height": 35
        }
      },
      "cell_type": "code",
      "source": [
        "# Imports\n",
        "import os\n",
        "import keras\n",
        "import sys\n",
        "from keras.models import Sequential\n",
        "from keras.layers import Dense\n",
        "from keras.layers import LSTM, Bidirectional\n",
        "from keras.layers import Embedding as emb\n",
        "import tensorflow as tf\n",
        "import numpy as np\n",
        "from sklearn.model_selection import train_test_split\n",
        "from sklearn.preprocessing import OneHotEncoder\n",
        "from keras.preprocessing.text import Tokenizer\n",
        "from keras.preprocessing.sequence import pad_sequences\n",
        "from keras.models import load_model\n",
        "from sklearn.metrics import classification_report, confusion_matrix\n",
        "import seaborn\n",
        "from keras.utils import generic_utils \n",
        "from sklearn.preprocessing import LabelEncoder\n",
        "\n",
        "\n",
        "# Setting seed to get reproducable results\n",
        "from numpy.random import seed\n",
        "from tensorflow import set_random_seed\n",
        "SEED = 13\n",
        "seed(SEED)\n",
        "set_random_seed(SEED)"
      ],
      "execution_count": 0,
      "outputs": [
        {
          "output_type": "stream",
          "text": [
            "Using TensorFlow backend.\n"
          ],
          "name": "stderr"
        }
      ]
    },
    {
      "metadata": {
        "id": "fZX2COQI9cOR",
        "colab_type": "text"
      },
      "cell_type": "markdown",
      "source": [
        "## Setting Up Google Drive\n",
        "The data used in this notebook is available in my drive.\n",
        "\n",
        "The  bilingual word embedding created from the large legal corpus is also in the drive"
      ]
    },
    {
      "metadata": {
        "id": "OVV3QBEy9WhT",
        "colab_type": "code",
        "outputId": "3baa09cc-2684-4425-c67d-291025d6ae0a",
        "colab": {
          "base_uri": "https://localhost:8080/",
          "height": 129
        }
      },
      "cell_type": "code",
      "source": [
        "from google.colab import drive\n",
        "drive.mount('/content/gdrive')\n",
        "embding_path = '/content/gdrive/My Drive/en.de.context.emb'"
      ],
      "execution_count": 0,
      "outputs": [
        {
          "output_type": "stream",
          "text": [
            "Go to this URL in a browser: https://accounts.google.com/o/oauth2/auth?client_id=947318989803-6bn6qk8qdgf4n4g3pfee6491hc0brc4i.apps.googleusercontent.com&redirect_uri=urn%3Aietf%3Awg%3Aoauth%3A2.0%3Aoob&scope=email%20https%3A%2F%2Fwww.googleapis.com%2Fauth%2Fdocs.test%20https%3A%2F%2Fwww.googleapis.com%2Fauth%2Fdrive%20https%3A%2F%2Fwww.googleapis.com%2Fauth%2Fdrive.photos.readonly%20https%3A%2F%2Fwww.googleapis.com%2Fauth%2Fpeopleapi.readonly&response_type=code\n",
            "\n",
            "Enter your authorization code:\n",
            "··········\n",
            "Mounted at /content/gdrive\n"
          ],
          "name": "stdout"
        }
      ]
    },
    {
      "metadata": {
        "id": "IOFk2nur-ArT",
        "colab_type": "text"
      },
      "cell_type": "markdown",
      "source": [
        "## Getting the data\n",
        "\n",
        "The data is pickled and hence unpickling it here.\n"
      ]
    },
    {
      "metadata": {
        "id": "63GJOXGJ53ZD",
        "colab_type": "code",
        "colab": {}
      },
      "cell_type": "code",
      "source": [
        "# unpickle data\n",
        "import pickle\n",
        "def unpickle(obj):\n",
        "    with open(obj, 'rb') as picklehandle:\n",
        "        toReturn = pickle.load(picklehandle)\n",
        "    return toReturn\n",
        "\n",
        "en_de_combined = unpickle('/content/combined_data.pkl')\n",
        "label = unpickle('/content/en-de-label.pkl')"
      ],
      "execution_count": 0,
      "outputs": []
    },
    {
      "metadata": {
        "id": "mL3QUVD3-N-m",
        "colab_type": "text"
      },
      "cell_type": "markdown",
      "source": [
        "## Test Train Split\n",
        "\n",
        "Before doing anything, Split the data into test and train sets, so there is no information leak from train data to test data.\n",
        "This is not a problem in case of one language as every instance is either in train or test set, but in case of multilingual data it might so happen that a document from one language is in  train set and the same document from another language might end up in test set, this might be a problem, and to avoid it we split the data as soon as we have it."
      ]
    },
    {
      "metadata": {
        "id": "uOMSSde4-IAD",
        "colab_type": "code",
        "colab": {}
      },
      "cell_type": "code",
      "source": [
        "# Initial Test Train Split\n",
        "train_data, test_data, train_la, test_la = train_test_split(en_de_combined, label,test_size=0.3, random_state=SEED)"
      ],
      "execution_count": 0,
      "outputs": []
    },
    {
      "metadata": {
        "id": "pfstis7v-aur",
        "colab_type": "text"
      },
      "cell_type": "markdown",
      "source": [
        "## EN-DE data combination\n",
        "\n",
        "Instead of seperating the data for english and german I will combine both."
      ]
    },
    {
      "metadata": {
        "id": "LsXm0NeD-tfY",
        "colab_type": "code",
        "colab": {}
      },
      "cell_type": "code",
      "source": [
        "def prepare_data(data, label):\n",
        "    \"\"\"prepare data from combined data, it is seperated by '\\n\\n\\n', three new line charaters\n",
        "    Returns: english data, german data, file name, doc_id, multiple labels\n",
        "    \"\"\"\n",
        "    en_de_data = [] \n",
        "    file_name = []\n",
        "    doc_id = []\n",
        "    multilabel = []\n",
        "    labels = []\n",
        "    \n",
        "    \"\"\"NOTE:\n",
        "        As I am adding the english and german data after one another, I have to do the same for all other data that are coming from that combined list\n",
        "    \"\"\"\n",
        "    \n",
        "    if isinstance(data, list):\n",
        "        for doc, l in zip(data,label):\n",
        "            en_de_data.append(doc.split('\\n\\n\\n')[0])\n",
        "            en_de_data.append(doc.split('\\n\\n\\n')[1])\n",
        "            file_name.append(doc.split('\\n\\n\\n')[2])\n",
        "            doc_id.append(doc.split('\\n\\n\\n')[3])\n",
        "            multilabel.append(doc.split('\\n\\n\\n')[4])\n",
        "            labels.append(l)\n",
        "            file_name.append(doc.split('\\n\\n\\n')[2])\n",
        "            doc_id.append(doc.split('\\n\\n\\n')[3])\n",
        "            multilabel.append(doc.split('\\n\\n\\n')[4])\n",
        "            labels.append(l)\n",
        "    return en_de_data, file_name, doc_id, multilabel, labels"
      ],
      "execution_count": 0,
      "outputs": []
    },
    {
      "metadata": {
        "id": "1DCyU7tE_ZtF",
        "colab_type": "code",
        "colab": {}
      },
      "cell_type": "code",
      "source": [
        "# Preparing train and test data\n",
        "train_data, train_file_name, train_doc_id, train_multilabel, train_label = prepare_data(train_data, train_la)\n",
        "test_data, test_file_name, test_doc_id, test_multilabel, test_label = prepare_data(test_data, test_la)"
      ],
      "execution_count": 0,
      "outputs": []
    },
    {
      "metadata": {
        "id": "UAoUfmWz_rb3",
        "colab_type": "code",
        "outputId": "7e584f17-72ee-46e4-82a2-101d0d78ca35",
        "colab": {
          "base_uri": "https://localhost:8080/",
          "height": 35
        }
      },
      "cell_type": "code",
      "source": [
        "len(train_data), len(train_label), len(test_data), len(test_label)"
      ],
      "execution_count": 0,
      "outputs": [
        {
          "output_type": "execute_result",
          "data": {
            "text/plain": [
              "(3802, 3802, 1630, 1630)"
            ]
          },
          "metadata": {
            "tags": []
          },
          "execution_count": 13
        }
      ]
    },
    {
      "metadata": {
        "id": "RfcuWv7T_20H",
        "colab_type": "text"
      },
      "cell_type": "markdown",
      "source": [
        "## Sliding Window\n",
        "\n",
        "Sliding window, helper function to chunk the incoming document into predefined chuck length and step size"
      ]
    },
    {
      "metadata": {
        "id": "Zw5qRGFA_5Q8",
        "colab_type": "code",
        "colab": {}
      },
      "cell_type": "code",
      "source": [
        "def slidingWindow(sequence,winSize,step):\n",
        "    \"\"\"Returns a generator that will iterate through\n",
        "    the defined chunks of input sequence. Input sequence\n",
        "    must be sliceable.\"\"\"\n",
        "\n",
        "    # Pre-compute number of chunks to emit\n",
        "    numOfChunks = ((len(sequence)-winSize)/step)+1\n",
        "    # Do the work\n",
        "    for i in range(0,round(numOfChunks)*step,step):\n",
        "        yield sequence[i:i+winSize]"
      ],
      "execution_count": 0,
      "outputs": []
    },
    {
      "metadata": {
        "id": "T_osNvy1_8GG",
        "colab_type": "text"
      },
      "cell_type": "markdown",
      "source": [
        "## Numbering Labels\n",
        "\n",
        "Manually labeling the alpha labels as the evaluation based on documents will require more control over the label  "
      ]
    },
    {
      "metadata": {
        "id": "ut033WLD_8U4",
        "colab_type": "code",
        "outputId": "78c13428-d9c6-4555-eb00-dbd25c87a3e3",
        "colab": {
          "base_uri": "https://localhost:8080/",
          "height": 605
        }
      },
      "cell_type": "code",
      "source": [
        "# Numbering the labels\n",
        "label_num = dict(enumerate(sorted(set(label))))\n",
        "label_num"
      ],
      "execution_count": 0,
      "outputs": [
        {
          "output_type": "execute_result",
          "data": {
            "text/plain": [
              "{0: 'agriculture',\n",
              " 1: 'audiovisual_and_media',\n",
              " 2: 'budget',\n",
              " 3: 'competition',\n",
              " 4: 'consumers',\n",
              " 5: 'culture',\n",
              " 6: 'customs',\n",
              " 7: 'development',\n",
              " 8: 'economic_and_monetary_affairs',\n",
              " 9: 'education_training_youth',\n",
              " 10: 'employment_and_social_policy',\n",
              " 11: 'energy',\n",
              " 12: 'enlargement',\n",
              " 13: 'enterprise',\n",
              " 14: 'environment',\n",
              " 15: 'external_relations',\n",
              " 16: 'external_trade',\n",
              " 17: 'fight_against_fraud',\n",
              " 18: 'food_safety',\n",
              " 19: 'foreign_and_security_policy',\n",
              " 20: 'human_rights',\n",
              " 21: 'humanitarian_aid',\n",
              " 22: 'information_society',\n",
              " 23: 'institutional_affairs',\n",
              " 24: 'internal_market',\n",
              " 25: 'justice_freedom_security',\n",
              " 26: 'maritime_affairs_and_fisheries',\n",
              " 27: 'public_health',\n",
              " 28: 'regional_policy',\n",
              " 29: 'research_innovation',\n",
              " 30: 'taxation',\n",
              " 31: 'transport'}"
            ]
          },
          "metadata": {
            "tags": []
          },
          "execution_count": 15
        }
      ]
    },
    {
      "metadata": {
        "id": "Me1uU6N9AHdl",
        "colab_type": "text"
      },
      "cell_type": "markdown",
      "source": [
        "## Train Sentence preparation German\n",
        "\n",
        "From the training documents we are creating sentences and the giving them corresponding numeric labels to each sentence"
      ]
    },
    {
      "metadata": {
        "id": "U0mme4B4AHlQ",
        "colab_type": "code",
        "outputId": "93426639-586c-401e-ea02-30dd7b8e6b93",
        "colab": {
          "base_uri": "https://localhost:8080/",
          "height": 35
        }
      },
      "cell_type": "code",
      "source": [
        "# Train data preparation\n",
        "_train_sentence = []\n",
        "_train_label = []\n",
        "\n",
        "for doc, labe in zip(train_data, train_label):\n",
        "    # call the sliding window on doc\n",
        "    \n",
        "    slides = slidingWindow(doc.split(' '), 30, 10)\n",
        "    \n",
        "    # get the num label \n",
        "    for key, value in label_num.items():\n",
        "        if value == labe:\n",
        "            num = key\n",
        "            \n",
        "      \n",
        "    for slide in slides:\n",
        "        _train_sentence.append(slide)\n",
        "        _train_label.append(num)\n",
        "\n",
        "\n",
        "# ensuring the number of samples in train set and labels\n",
        "print(len(_train_sentence), len(_train_label))"
      ],
      "execution_count": 0,
      "outputs": [
        {
          "output_type": "stream",
          "text": [
            "221544 221544\n"
          ],
          "name": "stdout"
        }
      ]
    },
    {
      "metadata": {
        "id": "Ki2akPzwATIx",
        "colab_type": "text"
      },
      "cell_type": "markdown",
      "source": [
        "## Tokenizing training sentence\n",
        "\n",
        "Toknizing the training sentences and then fitting it on train sentence and then use the same tokenizer object on test data\n",
        "Also calculate the vocabulary size which we will need in the embedding layer. "
      ]
    },
    {
      "metadata": {
        "id": "g4brnvfsATxS",
        "colab_type": "code",
        "outputId": "1fd464df-570d-4464-845a-90283fcfd4b9",
        "colab": {
          "base_uri": "https://localhost:8080/",
          "height": 72
        }
      },
      "cell_type": "code",
      "source": [
        "# tokenizing Sentences Using Keras tokenizer\n",
        "tokenizer = keras.preprocessing.text.Tokenizer()\n",
        "\n",
        "# Tokenizing the sentences (This process may take some time depending on your corpus size)\n",
        "tokenizer.fit_on_texts(_train_sentence)\n",
        "\n",
        "# Lets see what our vocabulary size is\n",
        "vocab_size = len(tokenizer.word_index) + 1   # We are adding 1 here because it takes indexing from zero\n",
        "print(\"Vocabulary size is: {}\".format(vocab_size))\n",
        "\n",
        "# Sentence encoding (it means we are now converting words into numbers)\n",
        "sent_encoded = tokenizer.texts_to_sequences(_train_sentence)\n",
        "print(\"The number of sentence in train set after encoding: {}\".format(len(sent_encoded)))\n",
        "\n",
        "\n",
        "# Start padding with the 30, although we wont need it, but still as precautionary measure\n",
        "max_len = len(_train_sentence[1])\n",
        "print('Maximum length of sentences in training set is', max_len)\n",
        "padded_sents = keras.preprocessing.sequence.pad_sequences(sent_encoded, maxlen=max_len, padding='post')"
      ],
      "execution_count": 0,
      "outputs": [
        {
          "output_type": "stream",
          "text": [
            "Vocabulary size is: 67730\n",
            "The number of sentence in train set after encoding: 221544\n",
            "Maximum length of sentences in training set is 30\n"
          ],
          "name": "stdout"
        }
      ]
    },
    {
      "metadata": {
        "id": "76bxA0GDCa3S",
        "colab_type": "code",
        "colab": {}
      },
      "cell_type": "code",
      "source": [
        "word_index = tokenizer.word_index\n",
        "vocab_size = len(word_index)+1"
      ],
      "execution_count": 0,
      "outputs": []
    },
    {
      "metadata": {
        "id": "SmKJa4NGCGj8",
        "colab_type": "text"
      },
      "cell_type": "markdown",
      "source": [
        "# Embedding Matrix Creation\n",
        "\n",
        "The bilingual embeddings that has been created on large law data will be used here "
      ]
    },
    {
      "metadata": {
        "id": "2aD_enBUCVJ2",
        "colab_type": "code",
        "colab": {}
      },
      "cell_type": "code",
      "source": [
        "# converting embedding matrix into a form that can be used in keras embedding layer\n",
        "embeddings_index = {}\n",
        "with open(embding_path, 'r') as embpath:\n",
        "    pretrained_embeding = embpath.readlines()\n",
        "    \n",
        "    for i, line in enumerate(pretrained_embeding):\n",
        "        if i == 0:\n",
        "            pass\n",
        "        else:\n",
        "            values = line.split()\n",
        "            word = values[0]\n",
        "            coefs = np.asarray(values[1:], dtype='float32')\n",
        "            embeddings_index[word] = coefs\n",
        "\n",
        "embedding_matrix = np.zeros((len(word_index) + 1, 200))\n",
        "for word, i in word_index.items():\n",
        "    embedding_vector = embeddings_index.get(word)\n",
        "    if embedding_vector is not None:\n",
        "        # words not found in embedding index will be all-zeros.\n",
        "        embedding_matrix[i] = embedding_vector"
      ],
      "execution_count": 0,
      "outputs": []
    },
    {
      "metadata": {
        "id": "_YzOnzixCgjH",
        "colab_type": "code",
        "outputId": "00141875-122a-4614-e671-5709d1c6d95d",
        "colab": {
          "base_uri": "https://localhost:8080/",
          "height": 35
        }
      },
      "cell_type": "code",
      "source": [
        "print('shape embedding matrix: {}'.format(embedding_matrix.shape))"
      ],
      "execution_count": 0,
      "outputs": [
        {
          "output_type": "stream",
          "text": [
            "shape embedding matrix: (67730, 200)\n"
          ],
          "name": "stdout"
        }
      ]
    },
    {
      "metadata": {
        "id": "b_eFa-xbCsJB",
        "colab_type": "text"
      },
      "cell_type": "markdown",
      "source": [
        "## One Hot Encoding Labels\n",
        "\n",
        "The numerical labels needs to be converted into its one hot encoded form."
      ]
    },
    {
      "metadata": {
        "id": "g9PrXhQjCw0G",
        "colab_type": "code",
        "colab": {}
      },
      "cell_type": "code",
      "source": [
        "# Converting train labels into one hot encoded form\n",
        "oht_obj = OneHotEncoder(sparse=False, categories='auto')\n",
        "oht_obj.fit((np.reshape(_train_label, (-1,1))))\n",
        "\n",
        "train_labels = oht_obj.transform((np.reshape(_train_label, (-1,1))))\n"
      ],
      "execution_count": 0,
      "outputs": []
    },
    {
      "metadata": {
        "id": "Wv9ivkwbC1bK",
        "colab_type": "text"
      },
      "cell_type": "markdown",
      "source": [
        "## Callback\n",
        "\n",
        "Two call backs are used here,\n",
        "\n",
        "* *reduce_rate*:  Which helps in situation where we are stuck on a Plateau.\n",
        "* *early_stopping*: It monitors the validation loss and in case of overfitting it will wait for the number of epochs given by user before stopping the leanring process.\n"
      ]
    },
    {
      "metadata": {
        "id": "GedhLA5FC1Qq",
        "colab_type": "code",
        "outputId": "5415412a-19c6-494d-b4c3-6176f67dc03d",
        "colab": {
          "base_uri": "https://localhost:8080/",
          "height": 54
        }
      },
      "cell_type": "code",
      "source": [
        "# Other callbacks \n",
        "reduce_rate = keras.callbacks.ReduceLROnPlateau(monitor='val_loss', factor=0.1, patience=0, verbose=1, \n",
        "                                                mode='auto', epsilon=0.0001, cooldown=0, min_lr=0)\n",
        "early_stop = keras.callbacks.EarlyStopping(monitor='val_loss', min_delta=0, \n",
        "                                           patience=2, verbose=1, mode='auto')"
      ],
      "execution_count": 0,
      "outputs": [
        {
          "output_type": "stream",
          "text": [
            "/usr/local/lib/python3.6/dist-packages/keras/callbacks.py:1065: UserWarning: `epsilon` argument is deprecated and will be removed, use `min_delta` instead.\n",
            "  warnings.warn('`epsilon` argument is deprecated and '\n"
          ],
          "name": "stderr"
        }
      ]
    },
    {
      "metadata": {
        "id": "zLgFp73UDogo",
        "colab_type": "code",
        "outputId": "f048d89d-62ac-4353-ca5c-d327878c067e",
        "colab": {
          "base_uri": "https://localhost:8080/",
          "height": 92
        }
      },
      "cell_type": "code",
      "source": [
        "learning_rate = 0.001\n",
        "optimizer = keras.optimizers.RMSprop(lr=learning_rate, rho=0.9, epsilon=None, decay=0.0)"
      ],
      "execution_count": 0,
      "outputs": [
        {
          "output_type": "stream",
          "text": [
            "WARNING:tensorflow:From /usr/local/lib/python3.6/dist-packages/tensorflow/python/framework/op_def_library.py:263: colocate_with (from tensorflow.python.framework.ops) is deprecated and will be removed in a future version.\n",
            "Instructions for updating:\n",
            "Colocations handled automatically by placer.\n"
          ],
          "name": "stdout"
        }
      ]
    },
    {
      "metadata": {
        "id": "t4ua67VIC9TO",
        "colab_type": "text"
      },
      "cell_type": "markdown",
      "source": [
        "\n",
        "\n",
        "## Model Architecture"
      ]
    },
    {
      "metadata": {
        "id": "pii5_DzDC-DB",
        "colab_type": "code",
        "outputId": "787d4eff-8a55-4af7-ac8b-9a14e149ef29",
        "colab": {
          "base_uri": "https://localhost:8080/",
          "height": 741
        }
      },
      "cell_type": "code",
      "source": [
        "from IPython.display import Image\n",
        "Image('/content/model.png')"
      ],
      "execution_count": 0,
      "outputs": [
        {
          "output_type": "execute_result",
          "data": {
            "image/png": "[encoded data removed]",
            "text/plain": [
              "<IPython.core.display.Image object>"
            ]
          },
          "metadata": {
            "tags": []
          },
          "execution_count": 28
        }
      ]
    },
    {
      "metadata": {
        "id": "f02V_Wr6DHIv",
        "colab_type": "code",
        "outputId": "246285b1-9233-4042-dd3d-d2fb051bb78d",
        "colab": {
          "base_uri": "https://localhost:8080/",
          "height": 384
        }
      },
      "cell_type": "code",
      "source": [
        "# Create sequential model\n",
        "model = Sequential()\n",
        "model.add(emb(vocab_size, 200, weights=[embedding_matrix], input_length=30, trainable=False))   \n",
        "model.add(Bidirectional(LSTM(40, activation='tanh',return_sequences=True, kernel_regularizer=keras.regularizers.l2(0.04))))# LSTM layer \n",
        "model.add(keras.layers.Dropout(0.5))\n",
        "model.add(Bidirectional(LSTM(40, activation='tanh',return_sequences=False, kernel_regularizer=keras.regularizers.l2(0.03))))\n",
        "model.add(keras.layers.Dropout(0.5))\n",
        "model.add(Dense(32, activation='softmax'))\n",
        "model.compile(loss='categorical_crossentropy', optimizer= optimizer, metrics=['accuracy'])\n",
        "print(model.summary())"
      ],
      "execution_count": 0,
      "outputs": [
        {
          "output_type": "stream",
          "text": [
            "_________________________________________________________________\n",
            "Layer (type)                 Output Shape              Param #   \n",
            "=================================================================\n",
            "embedding_3 (Embedding)      (None, 30, 200)           13546000  \n",
            "_________________________________________________________________\n",
            "bidirectional_5 (Bidirection (None, 30, 80)            77120     \n",
            "_________________________________________________________________\n",
            "dropout_5 (Dropout)          (None, 30, 80)            0         \n",
            "_________________________________________________________________\n",
            "bidirectional_6 (Bidirection (None, 80)                38720     \n",
            "_________________________________________________________________\n",
            "dropout_6 (Dropout)          (None, 80)                0         \n",
            "_________________________________________________________________\n",
            "dense_3 (Dense)              (None, 32)                2592      \n",
            "=================================================================\n",
            "Total params: 13,664,432\n",
            "Trainable params: 118,432\n",
            "Non-trainable params: 13,546,000\n",
            "_________________________________________________________________\n",
            "None\n"
          ],
          "name": "stdout"
        }
      ]
    },
    {
      "metadata": {
        "id": "sTHi_JbSDvXp",
        "colab_type": "code",
        "colab": {}
      },
      "cell_type": "code",
      "source": [
        "# Model visualization\n",
        "from keras.utils import plot_model\n",
        "plot_model(model, to_file='model.png', show_shapes=True)"
      ],
      "execution_count": 0,
      "outputs": []
    },
    {
      "metadata": {
        "id": "Zdim6LxwD9NI",
        "colab_type": "code",
        "outputId": "a625713e-d509-4779-f279-ea6a2c681784",
        "colab": {
          "base_uri": "https://localhost:8080/",
          "height": 992
        }
      },
      "cell_type": "code",
      "source": [
        "# Training the mdoel\n",
        "history = model.fit(padded_sents, train_labels, validation_split=0.3, epochs=20, batch_size=32, \n",
        "          verbose=1, callbacks=[reduce_rate,early_stop])"
      ],
      "execution_count": 0,
      "outputs": [
        {
          "output_type": "stream",
          "text": [
            "WARNING:tensorflow:From /usr/local/lib/python3.6/dist-packages/tensorflow/python/ops/math_ops.py:3066: to_int32 (from tensorflow.python.ops.math_ops) is deprecated and will be removed in a future version.\n",
            "Instructions for updating:\n",
            "Use tf.cast instead.\n",
            "Train on 155080 samples, validate on 66464 samples\n",
            "Epoch 1/20\n",
            "155080/155080 [==============================] - 452s 3ms/step - loss: 2.8035 - acc: 0.3112 - val_loss: 2.6172 - val_acc: 0.3242\n",
            "Epoch 2/20\n",
            "155080/155080 [==============================] - 445s 3ms/step - loss: 2.4365 - acc: 0.3904 - val_loss: 2.5034 - val_acc: 0.3681\n",
            "Epoch 3/20\n",
            "155080/155080 [==============================] - 446s 3ms/step - loss: 2.3707 - acc: 0.4135 - val_loss: 2.4489 - val_acc: 0.3851\n",
            "Epoch 4/20\n",
            "155080/155080 [==============================] - 444s 3ms/step - loss: 2.3338 - acc: 0.4274 - val_loss: 2.4492 - val_acc: 0.3930\n",
            "\n",
            "Epoch 00004: ReduceLROnPlateau reducing learning rate to 0.00010000000474974513.\n",
            "Epoch 5/20\n",
            "155080/155080 [==============================] - 444s 3ms/step - loss: 2.0714 - acc: 0.4766 - val_loss: 2.1635 - val_acc: 0.4403\n",
            "Epoch 6/20\n",
            "155080/155080 [==============================] - 450s 3ms/step - loss: 1.9986 - acc: 0.4858 - val_loss: 2.1342 - val_acc: 0.4428\n",
            "Epoch 7/20\n",
            "155080/155080 [==============================] - 445s 3ms/step - loss: 1.9703 - acc: 0.4894 - val_loss: 2.1337 - val_acc: 0.4432\n",
            "Epoch 8/20\n",
            "155080/155080 [==============================] - 446s 3ms/step - loss: 1.9558 - acc: 0.4919 - val_loss: 2.1176 - val_acc: 0.4472\n",
            "Epoch 9/20\n",
            "155080/155080 [==============================] - 445s 3ms/step - loss: 1.9427 - acc: 0.4949 - val_loss: 2.1110 - val_acc: 0.4471\n",
            "Epoch 10/20\n",
            "155080/155080 [==============================] - 445s 3ms/step - loss: 1.9317 - acc: 0.4968 - val_loss: 2.1112 - val_acc: 0.4463\n",
            "\n",
            "Epoch 00010: ReduceLROnPlateau reducing learning rate to 1.0000000474974514e-05.\n",
            "Epoch 11/20\n",
            "155080/155080 [==============================] - 446s 3ms/step - loss: 1.8896 - acc: 0.5077 - val_loss: 2.0887 - val_acc: 0.4516\n",
            "Epoch 12/20\n",
            "155080/155080 [==============================] - 444s 3ms/step - loss: 1.8814 - acc: 0.5103 - val_loss: 2.0834 - val_acc: 0.4532\n",
            "Epoch 13/20\n",
            "155080/155080 [==============================] - 442s 3ms/step - loss: 1.8744 - acc: 0.5112 - val_loss: 2.0833 - val_acc: 0.4534\n",
            "\n",
            "Epoch 00013: ReduceLROnPlateau reducing learning rate to 1.0000000656873453e-06.\n",
            "Epoch 14/20\n",
            "155080/155080 [==============================] - 438s 3ms/step - loss: 1.8685 - acc: 0.5112 - val_loss: 2.0815 - val_acc: 0.4537\n",
            "Epoch 15/20\n",
            "155080/155080 [==============================] - 443s 3ms/step - loss: 1.8639 - acc: 0.5129 - val_loss: 2.0812 - val_acc: 0.4543\n",
            "Epoch 16/20\n",
            "155080/155080 [==============================] - 442s 3ms/step - loss: 1.8674 - acc: 0.5135 - val_loss: 2.0808 - val_acc: 0.4542\n",
            "Epoch 17/20\n",
            "155080/155080 [==============================] - 440s 3ms/step - loss: 1.8650 - acc: 0.5138 - val_loss: 2.0806 - val_acc: 0.4543\n",
            "Epoch 18/20\n",
            "155080/155080 [==============================] - 440s 3ms/step - loss: 1.8664 - acc: 0.5126 - val_loss: 2.0805 - val_acc: 0.4542\n",
            "Epoch 19/20\n",
            "155080/155080 [==============================] - 441s 3ms/step - loss: 1.8642 - acc: 0.5139 - val_loss: 2.0801 - val_acc: 0.4544\n",
            "Epoch 20/20\n",
            "155080/155080 [==============================] - 442s 3ms/step - loss: 1.8642 - acc: 0.5131 - val_loss: 2.0806 - val_acc: 0.4543\n",
            "\n",
            "Epoch 00020: ReduceLROnPlateau reducing learning rate to 1.0000001111620805e-07.\n"
          ],
          "name": "stdout"
        }
      ]
    },
    {
      "metadata": {
        "id": "iWWbfjA9XVDp",
        "colab_type": "text"
      },
      "cell_type": "markdown",
      "source": [
        "## Evaluation on Document Level"
      ]
    },
    {
      "metadata": {
        "id": "ob1z8RvbXQqo",
        "colab_type": "code",
        "colab": {}
      },
      "cell_type": "code",
      "source": [
        "#Evaluation on Document Level\n",
        "from sklearn.preprocessing import MinMaxScaler, Normalizer, StandardScaler\n",
        "\n",
        "original_label = []   # list to store the original label \n",
        "predicted_label = []   # list to store the predicted label\n",
        "\n",
        "for first_data, first_label in zip(test_data,test_label):\n",
        "    ## TMP LIST for each doc\n",
        "    sent_pred = []\n",
        "    \n",
        "    # start chunking the text into 30 words with 10 word slide\n",
        "    slides = slidingWindow(first_data.split(' '),30,10)\n",
        "        \n",
        "    for key,value in label_num.items():\n",
        "        if value == first_label:\n",
        "            num = key\n",
        "    \n",
        "    doc_sent = []\n",
        "    for slide in slides:\n",
        "        \n",
        "        a = ' '.join(slide)\n",
        "        \n",
        "        doc_sent.append(a)\n",
        "    \n",
        "        \n",
        "    # we have the slide here, create the sequence from text to numbers\n",
        "    text_sequence = tokenizer.texts_to_sequences(doc_sent)\n",
        "\n",
        "    # pad it to make flat 30 lenght\n",
        "    text_padded = keras.preprocessing.sequence.pad_sequences(text_sequence, maxlen=30, padding='post')\n",
        "\n",
        "\n",
        "    # predict the label\n",
        "    sent_pred.append(model.predict(text_padded))        \n",
        "    \n",
        "    # normailizing the predictions before combining them.\n",
        "    nor_data = []\n",
        "    for predc in sent_pred:\n",
        "        transformer2 = Normalizer().fit(predc)\n",
        "        nor_data.append(transformer2.transform(predc))    \n",
        "        \n",
        "    # adding all the predictions of sentences of a single document into one.\n",
        "    sent = np.zeros(train_labels.shape[1])\n",
        "    for sen in nor_data:\n",
        "        for i in range(len(sen)):\n",
        "            sent += sen[i]\n",
        "    \n",
        "    # populating lists of the predicted labels and original labels for further evaluation\n",
        "    predicted_label.append(np.argmax(sent, axis=0))\n",
        "    original_label.append(num)"
      ],
      "execution_count": 0,
      "outputs": []
    },
    {
      "metadata": {
        "id": "QuYY7FD_XfbB",
        "colab_type": "code",
        "outputId": "5391983c-0a43-4067-a05c-441c27813ab0",
        "colab": {
          "base_uri": "https://localhost:8080/",
          "height": 35
        }
      },
      "cell_type": "code",
      "source": [
        "# Accuracy on document level\n",
        "from sklearn.metrics import accuracy_score, classification_report, confusion_matrix\n",
        "print(\"Accuracy of the model on document level is: {:.2f} %\".format(accuracy_score(original_label, predicted_label)*100))"
      ],
      "execution_count": 0,
      "outputs": [
        {
          "output_type": "stream",
          "text": [
            "Accuracy of the model on document level is: 66.93 %\n"
          ],
          "name": "stdout"
        }
      ]
    },
    {
      "metadata": {
        "id": "AosagaRQXhm_",
        "colab_type": "code",
        "outputId": "ad68f064-f150-460c-9752-b4b3a8ed4ae0",
        "colab": {
          "base_uri": "https://localhost:8080/",
          "height": 1192
        }
      },
      "cell_type": "code",
      "source": [
        "# Classification report and confusion Matrix\n",
        "np.set_printoptions(threshold=np.nan)\n",
        "print(confusion_matrix(original_label, predicted_label))"
      ],
      "execution_count": 0,
      "outputs": [
        {
          "output_type": "stream",
          "text": [
            "[[ 39   0   0   0   2   0   0   0   0   0   1   0   0   0   4   0   0   0\n",
            "    3   0   0   0   0   0   0   0   0   0   1   0   0   0]\n",
            " [  0   0   0   0   0   0   0   0   0   0   0   0   0   0   0   0   0   0\n",
            "    0   0   0   0  10   0   0   0   0   0   0   0   0   0]\n",
            " [  1   0   9   0   0   0   0   0   2   0   0   0   0   0   0   0   0   0\n",
            "    0   0   0   0   0   5   0   1   0   0   2   0   0   0]\n",
            " [  0   0   0  19   0   0   0   0   0   0   0   0   2   0   0   0   1   0\n",
            "    0   0   0   0   0   0   2   0   0   0   0   0   0   6]\n",
            " [  2   0   0   0  40   0   0   0   0   0   0   0   0   0   2   0   0   0\n",
            "    2   0   0   0   0   1  15   5   0   0   0   0   0   7]\n",
            " [  0   2   0   0   0   0   0   0   0   7   0   0   0   0   0   0   0   0\n",
            "    0   0   0   0   5   0   0   0   0   0   0   0   0   0]\n",
            " [  0   0   0   0   0   0  14   0   0   0   0   0   2   0   0   0   0   0\n",
            "    0   0   0   0   0   0   5   5   0   0   0   0   0   4]\n",
            " [  0   0   0   0   0   0   0  29   0   0   1   0   0   0   1   0   3   0\n",
            "    0   0   0   0   0   0   0   2   0   0   0   0   0   0]\n",
            " [  0   0   0   0   0   0   0   0  80   0   1   0   0   0   0   0   0   0\n",
            "    0   0   0   0   0   2   3   0   0   0   0   0   0   0]\n",
            " [  0   0   0   0   0   0   0   0   0  49   0   0   0   0   0   0   0   0\n",
            "    0   0   0   0   0   0   0   3   0   0   0   0   0   0]\n",
            " [  0   0   0   0   0   0   0   1   0   2  78   0   0   0   0   0   0   0\n",
            "    0   0   0   0   2   2   6   1   0   0   0   2   0   0]\n",
            " [  0   0   0   0   1   0   0   0   0   0   2  40   0   0   8   0   0   0\n",
            "    0   0   0   0   0   0   2   3   0   0   0   0   0   0]\n",
            " [  1   0   0   0   0   0   0   0   2   0   1   6  14   0   0   0   1   0\n",
            "    0   0   0   0   0   3   0   2   2   0   0   0   0   0]\n",
            " [  1   0   0   0   2   0   0   0   5   0   2   1   1   4   2   0   0   0\n",
            "    0   2   0   0   3   0   3   0   0   0   0   0   0   0]\n",
            " [  0   0   0   0   1   0   0   3   0   0   0   1   0   0  72   0   0   0\n",
            "    0   0   0   0   0   1   1   3   1   0   0   0   0   5]\n",
            " [  0   0   0   0   0   0   0  21   1   0   0   0   0   0   0  10   6   0\n",
            "    0   0   0   0   0   0   0   6   0   0   0   0   0   0]\n",
            " [  1   0   0   0   0   0   1   1   1   0   0   0   0   0   0   0  17   0\n",
            "    0   0   0   0   0   0   4   1   0   0   0   0   0   2]\n",
            " [  2   0   0   0   0   0   0   0   0   0   0   0   0   0   0   0   0   4\n",
            "    0   0   0   0   0   0   1   9   0   0   0   0   0   0]\n",
            " [  0   0   0   0   5   0   0   0   0   0   0   0   0   0   4   0   0   0\n",
            "   62   0   0   0   0   0   4   1   0   0   0   0   0   0]\n",
            " [  0   0   0   0   0   0   0   2   0   0   0   0   0   0   2   0   0   0\n",
            "    0  13   0   0   2   1   1   3   0   0   0   0   0   0]\n",
            " [  0   0   0   0   0   0   0   2   0   2   2   0   0   0   0   0   0   0\n",
            "    0   1   3   0   0   2   0  12   0   0   0   0   0   0]\n",
            " [  0   0   0   0   0   0   0   1   0   0   0   0   0   0   1   0   0   0\n",
            "    0   4   0   4   0   1   0   3   0   0   0   0   0   0]\n",
            " [  0   0   0   0   0   0   0   0   0   4   0   0   0   0   0   0   0   0\n",
            "    0   0   0   0  58   0   6   9   0   0   0   0   0   3]\n",
            " [  0   0   0   0   0   0   0   0   0   1   4   1   0   0   0   0   0   0\n",
            "    0   0   0   0   4  36   0  10   0   0   0   2   0   2]\n",
            " [  0   0   0   0  15   0   0   0   3   0   6   1   0   4   0   0   1   0\n",
            "    0   0   0   0   7   0 103   4   0   0   0   0   1   3]\n",
            " [  0   0   1   0   0   0   1   0   0   3   3   0   0   0   1   0   2   0\n",
            "    0   0   0   0   3   1   3 110   0   0   0   0   0   0]\n",
            " [  0   0   0   2   0   0   0   0   0   0   1   0   0   0   3   0   0   0\n",
            "    0   0   0   0   0   2   0   1  43   0   0   0   0   2]\n",
            " [  0   0   0   0   8   0   0   1   0   6   7   0   0   0   0   0   0   0\n",
            "    2   0   0   0   1   0   0   2   0  17   0   0   0   0]\n",
            " [  6   0   0   0   0   0   0   4   0   0   3   2   0   0   1   0   0   0\n",
            "    0   0   0   0   2   0   0   0   1   0  21   0   0   2]\n",
            " [  0   0   0   0   0   0   0   0   0   1   0   3   0   1   0   0   1   0\n",
            "    0   0   0   0   8   1   0   1   0   0   0  12   0   0]\n",
            " [  0   0   0   0   0   0   2   0   0   0   2   0   1   0   0   0   0   0\n",
            "    0   0   0   0   0   0   2   4   0   0   0   0  15   2]\n",
            " [  0   0   0   0   0   0   0   0   0   1   0   1   0   0   3   0   0   0\n",
            "    0   0   0   0   3   0   4   5   0   0   0   1   0  76]]\n"
          ],
          "name": "stdout"
        }
      ]
    },
    {
      "metadata": {
        "id": "_r4YjtdBXj9z",
        "colab_type": "code",
        "outputId": "bf739264-0760-4a67-bcfa-bb091f8b3228",
        "colab": {
          "base_uri": "https://localhost:8080/",
          "height": 790
        }
      },
      "cell_type": "code",
      "source": [
        "print(classification_report(original_label, predicted_label))"
      ],
      "execution_count": 0,
      "outputs": [
        {
          "output_type": "stream",
          "text": [
            "              precision    recall  f1-score   support\n",
            "\n",
            "           0       0.74      0.78      0.76        50\n",
            "           1       0.00      0.00      0.00        10\n",
            "           2       0.90      0.45      0.60        20\n",
            "           3       0.90      0.63      0.75        30\n",
            "           4       0.54      0.54      0.54        74\n",
            "           5       0.00      0.00      0.00        14\n",
            "           6       0.78      0.47      0.58        30\n",
            "           7       0.45      0.81      0.57        36\n",
            "           8       0.85      0.93      0.89        86\n",
            "           9       0.64      0.94      0.77        52\n",
            "          10       0.68      0.83      0.75        94\n",
            "          11       0.71      0.71      0.71        56\n",
            "          12       0.70      0.44      0.54        32\n",
            "          13       0.44      0.15      0.23        26\n",
            "          14       0.69      0.82      0.75        88\n",
            "          15       1.00      0.23      0.37        44\n",
            "          16       0.53      0.61      0.57        28\n",
            "          17       1.00      0.25      0.40        16\n",
            "          18       0.90      0.82      0.86        76\n",
            "          19       0.65      0.54      0.59        24\n",
            "          20       1.00      0.12      0.22        24\n",
            "          21       1.00      0.29      0.44        14\n",
            "          22       0.54      0.72      0.62        80\n",
            "          23       0.62      0.60      0.61        60\n",
            "          24       0.62      0.70      0.66       148\n",
            "          25       0.53      0.86      0.66       128\n",
            "          26       0.91      0.80      0.85        54\n",
            "          27       1.00      0.39      0.56        44\n",
            "          28       0.88      0.50      0.64        42\n",
            "          29       0.71      0.43      0.53        28\n",
            "          30       0.94      0.54      0.68        28\n",
            "          31       0.67      0.81      0.73        94\n",
            "\n",
            "   micro avg       0.67      0.67      0.67      1630\n",
            "   macro avg       0.70      0.55      0.58      1630\n",
            "weighted avg       0.70      0.67      0.65      1630\n",
            "\n"
          ],
          "name": "stdout"
        },
        {
          "output_type": "stream",
          "text": [
            "/usr/local/lib/python3.6/dist-packages/sklearn/metrics/classification.py:1143: UndefinedMetricWarning: Precision and F-score are ill-defined and being set to 0.0 in labels with no predicted samples.\n",
            "  'precision', 'predicted', average, warn_for)\n"
          ],
          "name": "stderr"
        }
      ]
    },
    {
      "metadata": {
        "id": "HxcpkY5VXk0x",
        "colab_type": "text"
      },
      "cell_type": "markdown",
      "source": [
        "## Evaluation on Sentence level"
      ]
    },
    {
      "metadata": {
        "id": "j1wNZHcNXvYa",
        "colab_type": "code",
        "outputId": "fb9a56e1-efb1-423c-9d6f-90f21616121f",
        "colab": {
          "base_uri": "https://localhost:8080/",
          "height": 35
        }
      },
      "cell_type": "code",
      "source": [
        "# Train data preparation\n",
        "_test_sentence = []\n",
        "_test_label = []\n",
        "\n",
        "for doc, labe in zip(test_data, test_label):\n",
        "    # call the sliding window on doc\n",
        "    \n",
        "    slides = slidingWindow(doc.split(' '), 30, 10)\n",
        "    \n",
        "    # get the num label \n",
        "    for key, value in label_num.items():\n",
        "        if value == labe:\n",
        "            num = key\n",
        "            \n",
        "      \n",
        "    for slide in slides:\n",
        "        _test_sentence.append(slide)\n",
        "        _test_label.append(num)\n",
        "\n",
        "\n",
        "# ensuring the number of samples in train set and labels\n",
        "print(len(_test_sentence), len(_test_label))\n",
        "\n",
        "\n",
        "test_labels = oht_obj.fit_transform(np.reshape(_test_label,(-1,1)))\n",
        "test_setences = tokenizer.texts_to_sequences(_test_sentence)\n",
        "\n",
        "\n",
        "# Testing the data\n",
        "paddedTestSents = keras.preprocessing.sequence.pad_sequences(test_setences, maxlen=max_len, padding='post')"
      ],
      "execution_count": 0,
      "outputs": [
        {
          "output_type": "stream",
          "text": [
            "95938 95938\n"
          ],
          "name": "stdout"
        }
      ]
    },
    {
      "metadata": {
        "id": "M3NSY-j9Y5wU",
        "colab_type": "code",
        "outputId": "3112a7af-b8eb-440d-a500-2ea11b43d49c",
        "colab": {
          "base_uri": "https://localhost:8080/",
          "height": 54
        }
      },
      "cell_type": "code",
      "source": [
        "scores = model.evaluate(paddedTestSents, test_labels, verbose=1)\n",
        "print(\"Accuracy on sentence level: %.2f%%\" % (scores[1]*100))"
      ],
      "execution_count": 0,
      "outputs": [
        {
          "output_type": "stream",
          "text": [
            "95938/95938 [==============================] - 70s 731us/step\n",
            "Accuracy on sentence level: 44.10%\n"
          ],
          "name": "stdout"
        }
      ]
    },
    {
      "metadata": {
        "id": "nDwGOpCgZAHH",
        "colab_type": "code",
        "colab": {}
      },
      "cell_type": "code",
      "source": [
        "pred = model.predict(paddedTestSents)\n",
        "y_pred = np.argmax(pred, axis=1)\n",
        "y_true = np.argmax(test_labels, axis=1)"
      ],
      "execution_count": 0,
      "outputs": []
    },
    {
      "metadata": {
        "id": "61UAJLgZZFFb",
        "colab_type": "code",
        "outputId": "7cbd4c7e-cc12-4588-a5a0-39864669dccb",
        "colab": {
          "base_uri": "https://localhost:8080/",
          "height": 733
        }
      },
      "cell_type": "code",
      "source": [
        "print(classification_report(y_true, y_pred))"
      ],
      "execution_count": 0,
      "outputs": [
        {
          "output_type": "stream",
          "text": [
            "              precision    recall  f1-score   support\n",
            "\n",
            "           0       0.54      0.55      0.55      4421\n",
            "           1       0.47      0.22      0.30       719\n",
            "           2       0.42      0.21      0.28      1139\n",
            "           3       0.54      0.34      0.42      1651\n",
            "           4       0.33      0.34      0.33      3339\n",
            "           5       0.50      0.00      0.01       652\n",
            "           6       0.46      0.23      0.31      1964\n",
            "           7       0.26      0.40      0.32      1986\n",
            "           8       0.68      0.77      0.72      6914\n",
            "           9       0.46      0.67      0.55      3027\n",
            "          10       0.39      0.52      0.45      5064\n",
            "          11       0.42      0.38      0.39      2702\n",
            "          12       0.28      0.23      0.25      2462\n",
            "          13       0.17      0.12      0.14      1330\n",
            "          14       0.43      0.52      0.47      4149\n",
            "          15       0.44      0.13      0.21      2793\n",
            "          16       0.26      0.33      0.29      1451\n",
            "          17       0.36      0.12      0.18       840\n",
            "          18       0.69      0.60      0.65      3657\n",
            "          19       0.20      0.27      0.23      1061\n",
            "          20       0.40      0.15      0.22      1417\n",
            "          21       0.49      0.16      0.24      1050\n",
            "          22       0.36      0.47      0.41      5052\n",
            "          23       0.35      0.43      0.39      3687\n",
            "          24       0.40      0.41      0.41      7712\n",
            "          25       0.43      0.62      0.51      7592\n",
            "          26       0.49      0.48      0.49      3276\n",
            "          27       0.60      0.23      0.34      2492\n",
            "          28       0.50      0.25      0.33      4443\n",
            "          29       0.27      0.25      0.26      1403\n",
            "          30       0.49      0.40      0.44      1186\n",
            "          31       0.54      0.54      0.54      5307\n",
            "\n",
            "   micro avg       0.44      0.44      0.44     95938\n",
            "   macro avg       0.43      0.36      0.36     95938\n",
            "weighted avg       0.45      0.44      0.43     95938\n",
            "\n"
          ],
          "name": "stdout"
        }
      ]
    }
  ]
}