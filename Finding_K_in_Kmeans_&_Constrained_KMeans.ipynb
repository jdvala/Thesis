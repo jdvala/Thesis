{
  "nbformat": 4,
  "nbformat_minor": 0,
  "metadata": {
    "colab": {
      "name": "Constrained KMeans.ipynb",
      "version": "0.3.2",
      "provenance": [],
      "toc_visible": true,
      "include_colab_link": true
    },
    "kernelspec": {
      "name": "python3",
      "display_name": "Python 3"
    }
  },
  "cells": [
    {
      "cell_type": "markdown",
      "metadata": {
        "id": "view-in-github",
        "colab_type": "text"
      },
      "source": [
        "<a href=\"https://colab.research.google.com/github/jdvala/Thesis/blob/master/Finding_K_in_Kmeans_%26_Constrained_KMeans.ipynb\" target=\"_parent\"><img src=\"https://colab.research.google.com/assets/colab-badge.svg\" alt=\"Open In Colab\"/></a>"
      ]
    },
    {
      "metadata": {
        "id": "deYvunSx3QsT",
        "colab_type": "text"
      },
      "cell_type": "markdown",
      "source": [
        "# Finding K in K Means and Constrained K-means algorithm"
      ]
    },
    {
      "metadata": {
        "id": "_KUNVpFy44Eq",
        "colab_type": "code",
        "colab": {}
      },
      "cell_type": "code",
      "source": [
        "# unpickle data\n",
        "import pickle\n",
        "def unpickle(obj):\n",
        "    with open(obj, 'rb') as picklehandle:\n",
        "        toReturn = pickle.load(picklehandle)\n",
        "    return toReturn"
      ],
      "execution_count": 0,
      "outputs": []
    },
    {
      "metadata": {
        "id": "aG7C2C4X46jZ",
        "colab_type": "code",
        "colab": {}
      },
      "cell_type": "code",
      "source": [
        "en_data = unpickle('/content/EN-DATA.pkl')\n",
        "label = unpickle('/content/EN-LABEL.pkl')"
      ],
      "execution_count": 0,
      "outputs": []
    },
    {
      "metadata": {
        "id": "11p59gr07Wpq",
        "colab_type": "code",
        "colab": {}
      },
      "cell_type": "code",
      "source": [
        "# Vectorization\n",
        "from sklearn.feature_extraction.text import CountVectorizer\n",
        "from sklearn.feature_extraction.text import TfidfVectorizer\n",
        "import numpy as np\n",
        "from sklearn.cluster import KMeans\n",
        "from sklearn.metrics import silhouette_samples, silhouette_score"
      ],
      "execution_count": 0,
      "outputs": []
    },
    {
      "metadata": {
        "id": "axFcrzsD7b-4",
        "colab_type": "code",
        "outputId": "d413ae18-d2de-4599-d211-efd1605f2914",
        "colab": {
          "base_uri": "https://localhost:8080/",
          "height": 34
        }
      },
      "cell_type": "code",
      "source": [
        "tfidf_matrix_constructor = TfidfVectorizer(max_df=0.8, max_features=200000, min_df=0.2, ngram_range=(1,3))\n",
        "\n",
        "tfidf_matrix = tfidf_matrix_constructor.fit_transform(en_data)\n",
        "\n",
        "# printing the shape of the resultant matrix to ensure I am right\n",
        "print(tfidf_matrix.shape)"
      ],
      "execution_count": 0,
      "outputs": [
        {
          "output_type": "stream",
          "text": [
            "(3310, 346)\n"
          ],
          "name": "stdout"
        }
      ]
    },
    {
      "metadata": {
        "id": "_-6xLAsF8GqA",
        "colab_type": "code",
        "outputId": "c039ac6a-5df0-47bf-a2fc-ac1f3c8f1fe8",
        "colab": {
          "base_uri": "https://localhost:8080/",
          "height": 136
        }
      },
      "cell_type": "code",
      "source": [
        "# for silhouette_score the number of clusters should start from 2 and for elbow analysis it should start at 3\n",
        "for k in range(2 ,9):\n",
        "    \n",
        "    # define k-means constructor\n",
        "    kmeans = KMeans(n_clusters=k,random_state=13)\n",
        "    \n",
        "    cluster_labels = kmeans.fit_predict(tfidf_matrix.toarray())\n",
        "    \n",
        "    # Calculating silhouette_score for k\n",
        "    \n",
        "    score = silhouette_score(tfidf_matrix.toarray(), cluster_labels, random_state=10)\n",
        "    #_inertia.append(kmeans.inertia_)\n",
        "    print(\"The silhouette score for {} clusters is {}\".format(k,score))"
      ],
      "execution_count": 0,
      "outputs": [
        {
          "output_type": "stream",
          "text": [
            "The silhouette score for 2 clusters is 0.056933935938822865\n",
            "The silhouette score for 3 clusters is 0.04417673324401779\n",
            "The silhouette score for 4 clusters is 0.04749507212623459\n",
            "The silhouette score for 5 clusters is 0.055155238878596496\n",
            "The silhouette score for 6 clusters is 0.054800906885848655\n",
            "The silhouette score for 7 clusters is 0.05647847971329182\n",
            "The silhouette score for 8 clusters is 0.05537725230543471\n"
          ],
          "name": "stdout"
        }
      ]
    },
    {
      "metadata": {
        "id": "j-xP7j3tEXSZ",
        "colab_type": "code",
        "colab": {}
      },
      "cell_type": "code",
      "source": [
        "#Elbow\n",
        "_inertia = []\n",
        "for k in range(1 ,9):\n",
        "    \n",
        "    # define k-means constructor\n",
        "    kmeans = KMeans(n_clusters=k,random_state=13)\n",
        "    \n",
        "    cluster_labels = kmeans.fit_predict(tfidf_matrix.toarray())\n",
        "    \n",
        "    # Calculating silhouette_score for k\n",
        "    \n",
        "    #score = silhouette_score(tfidf_matrix.toarray(), cluster_labels, random_state=10)\n",
        "    _inertia.append(kmeans.inertia_)\n",
        "    #print(\"The silhouette score for {} clusters is {}\".format(k,score))"
      ],
      "execution_count": 0,
      "outputs": []
    },
    {
      "metadata": {
        "id": "1udtdL_xAh3t",
        "colab_type": "text"
      },
      "cell_type": "markdown",
      "source": [
        "The Silhouette score is heighest for 2 cluster"
      ]
    },
    {
      "metadata": {
        "id": "qVHbbbQqAguq",
        "colab_type": "code",
        "outputId": "592826dc-a93a-4c0c-9057-c6216eeda29a",
        "colab": {
          "base_uri": "https://localhost:8080/",
          "height": 376
        }
      },
      "cell_type": "code",
      "source": [
        "import matplotlib.pyplot as plt\n",
        "K = range(1,9)\n",
        "plt.plot(K, _inertia, 'bx-')\n",
        "plt.xlabel('k')\n",
        "plt.ylabel('Sum_of_squared_distances')\n",
        "plt.title('Elbow Method For Optimal k')\n",
        "plt.show()"
      ],
      "execution_count": 0,
      "outputs": [
        {
          "output_type": "display_data",
          "data": {
            "image/png": "[encoded data removed]",
            "text/plain": [
              "<Figure size 576x396 with 1 Axes>"
            ]
          },
          "metadata": {
            "tags": []
          }
        }
      ]
    },
    {
      "metadata": {
        "id": "Ur-FFF8vczEG",
        "colab_type": "code",
        "colab": {}
      },
      "cell_type": "code",
      "source": [
        "# Getting Constrains\n",
        "index = range(0,len(en_data))\n",
        "\n",
        "tmp_list = []\n",
        "\n",
        "for i,j in enumerate(label):\n",
        "    for k,l in enumerate(label):\n",
        "        if i !=k:\n",
        "            if j == l:\n",
        "                tmp_list.append((i,k))"
      ],
      "execution_count": 0,
      "outputs": []
    },
    {
      "metadata": {
        "id": "URCv1GOyATS8",
        "colab_type": "code",
        "colab": {}
      },
      "cell_type": "code",
      "source": [
        "# -*- coding: utf-8 -*-\n",
        "import random\n",
        "\n",
        "def cop_kmeans(dataset, k, ml=[], cl=[],\n",
        "               initialization='kmpp',\n",
        "               max_iter=300, tol=1e-4):\n",
        "\n",
        "    ml, cl = transitive_closure(ml, cl, len(dataset))\n",
        "    ml_info = get_ml_info(ml, dataset)\n",
        "    tol = tolerance(tol, dataset)\n",
        "\n",
        "    centers = initialize_centers(dataset, k, initialization)\n",
        "\n",
        "    for _ in range(max_iter):\n",
        "        clusters_ = [-1] * len(dataset)\n",
        "        for i, d in enumerate(dataset):\n",
        "            indices, _ = closest_clusters(centers, d)\n",
        "            counter = 0\n",
        "            if clusters_[i] == -1:\n",
        "                found_cluster = False\n",
        "                while (not found_cluster) and counter < len(indices):\n",
        "                    index = indices[counter]\n",
        "                    if not violate_constraints(i, index, clusters_, ml, cl):\n",
        "                        found_cluster = True\n",
        "                        clusters_[i] = index\n",
        "                        for j in ml[i]:\n",
        "                            clusters_[j] = index\n",
        "                    counter += 1\n",
        "\n",
        "                if not found_cluster:\n",
        "                    return None, None\n",
        "\n",
        "        clusters_, centers_ = compute_centers(clusters_, dataset, k, ml_info)\n",
        "        shift = sum(l2_distance(centers[i], centers_[i]) for i in range(k))\n",
        "        if shift <= tol:\n",
        "            break\n",
        "\n",
        "        centers = centers_\n",
        "\n",
        "    return clusters_, centers_\n",
        "\n",
        "def l2_distance(point1, point2):\n",
        "    return sum([(float(i)-float(j))**2 for (i, j) in zip(point1, point2)])\n",
        "\n",
        "# taken from scikit-learn (https://goo.gl/1RYPP5)\n",
        "def tolerance(tol, dataset):\n",
        "    n = len(dataset)\n",
        "    dim = len(dataset[0])\n",
        "    averages = [sum(dataset[i][d] for i in range(n))/float(n) for d in range(dim)]\n",
        "    variances = [sum((dataset[i][d]-averages[d])**2 for i in range(n))/float(n) for d in range(dim)]\n",
        "    return tol * sum(variances) / dim\n",
        "\n",
        "def closest_clusters(centers, datapoint):\n",
        "    distances = [l2_distance(center, datapoint) for\n",
        "                 center in centers]\n",
        "    return sorted(range(len(distances)), key=lambda x: distances[x]), distances\n",
        "\n",
        "def initialize_centers(dataset, k, method):\n",
        "    if method == 'random':\n",
        "        ids = list(range(len(dataset)))\n",
        "        random.shuffle(ids)\n",
        "        return [dataset[i] for i in ids[:k]]\n",
        "\n",
        "    elif method == 'kmpp':\n",
        "        chances = [1] * len(dataset)\n",
        "        centers = []\n",
        "\n",
        "        for _ in range(k):\n",
        "            chances = [x/sum(chances) for x in chances]\n",
        "            r = random.random()\n",
        "            acc = 0.0\n",
        "            for index, chance in enumerate(chances):\n",
        "                if acc + chance >= r:\n",
        "                    break\n",
        "                acc += chance\n",
        "            centers.append(dataset[index])\n",
        "\n",
        "            for index, point in enumerate(dataset):\n",
        "                cids, distances = closest_clusters(centers, point)\n",
        "                chances[index] = distances[cids[0]]\n",
        "\n",
        "        return centers\n",
        "\n",
        "def violate_constraints(data_index, cluster_index, clusters, ml, cl):\n",
        "    for i in ml[data_index]:\n",
        "        if clusters[i] != -1 and clusters[i] != cluster_index:\n",
        "            return True\n",
        "\n",
        "    for i in cl[data_index]:\n",
        "        if clusters[i] == cluster_index:\n",
        "            return True\n",
        "\n",
        "    return False\n",
        "\n",
        "def compute_centers(clusters, dataset, k, ml_info):\n",
        "    cluster_ids = set(clusters)\n",
        "    k_new = len(cluster_ids)\n",
        "    id_map = dict(zip(cluster_ids, range(k_new)))\n",
        "    clusters = [id_map[x] for x in clusters]\n",
        "\n",
        "    dim = len(dataset[0])\n",
        "    centers = [[0.0] * dim for i in range(k)]\n",
        "\n",
        "    counts = [0] * k_new\n",
        "    for j, c in enumerate(clusters):\n",
        "        for i in range(dim):\n",
        "            centers[c][i] += dataset[j][i]\n",
        "        counts[c] += 1\n",
        "\n",
        "    for j in range(k_new):\n",
        "        for i in range(dim):\n",
        "            centers[j][i] = centers[j][i]/float(counts[j])\n",
        "\n",
        "    if k_new < k:\n",
        "        ml_groups, ml_scores, ml_centroids = ml_info\n",
        "        current_scores = [sum(l2_distance(centers[clusters[i]], dataset[i])\n",
        "                              for i in group)\n",
        "                          for group in ml_groups]\n",
        "        group_ids = sorted(range(len(ml_groups)),\n",
        "                           key=lambda x: current_scores[x] - ml_scores[x],\n",
        "                           reverse=True)\n",
        "\n",
        "        for j in range(k-k_new):\n",
        "            gid = group_ids[j]\n",
        "            cid = k_new + j\n",
        "            centers[cid] = ml_centroids[gid]\n",
        "            for i in ml_groups[gid]:\n",
        "                clusters[i] = cid\n",
        "\n",
        "    return clusters, centers\n",
        "\n",
        "def get_ml_info(ml, dataset):\n",
        "    flags = [True] * len(dataset)\n",
        "    groups = []\n",
        "    for i in range(len(dataset)):\n",
        "        if not flags[i]: continue\n",
        "        group = list(ml[i] | {i})\n",
        "        groups.append(group)\n",
        "        for j in group:\n",
        "            flags[j] = False\n",
        "\n",
        "    dim = len(dataset[0])\n",
        "    scores = [0.0] * len(groups)\n",
        "    centroids = [[0.0] * dim for i in range(len(groups))]\n",
        "\n",
        "    for j, group in enumerate(groups):\n",
        "        for d in range(dim):\n",
        "            for i in group:\n",
        "                centroids[j][d] += dataset[i][d]\n",
        "            centroids[j][d] /= float(len(group))\n",
        "\n",
        "    scores = [sum(l2_distance(centroids[j], dataset[i])\n",
        "                  for i in groups[j])\n",
        "              for j in range(len(groups))]\n",
        "\n",
        "    return groups, scores, centroids\n",
        "\n",
        "def transitive_closure(ml, cl, n):\n",
        "    ml_graph = dict()\n",
        "    cl_graph = dict()\n",
        "    for i in range(n):\n",
        "        ml_graph[i] = set()\n",
        "        cl_graph[i] = set()\n",
        "\n",
        "    def add_both(d, i, j):\n",
        "        d[i].add(j)\n",
        "        d[j].add(i)\n",
        "\n",
        "    for (i, j) in ml:\n",
        "        add_both(ml_graph, i, j)\n",
        "\n",
        "    def dfs(i, graph, visited, component):\n",
        "        visited[i] = True\n",
        "        for j in graph[i]:\n",
        "            if not visited[j]:\n",
        "                dfs(j, graph, visited, component)\n",
        "        component.append(i)\n",
        "\n",
        "    visited = [False] * n\n",
        "    for i in range(n):\n",
        "        if not visited[i]:\n",
        "            component = []\n",
        "            dfs(i, ml_graph, visited, component)\n",
        "            for x1 in component:\n",
        "                for x2 in component:\n",
        "                    if x1 != x2:\n",
        "                        ml_graph[x1].add(x2)\n",
        "    for (i, j) in cl:\n",
        "        add_both(cl_graph, i, j)\n",
        "        for y in ml_graph[j]:\n",
        "            add_both(cl_graph, i, y)\n",
        "        for x in ml_graph[i]:\n",
        "            add_both(cl_graph, x, j)\n",
        "            for y in ml_graph[j]:\n",
        "                add_both(cl_graph, x, y)\n",
        "\n",
        "    for i in ml_graph:\n",
        "        for j in ml_graph[i]:\n",
        "            if j != i and j in cl_graph[i]:\n",
        "                raise Exception('inconsistent constraints between %d and %d' %(i, j))\n",
        "\n",
        "    return ml_graph, cl_graph\n"
      ],
      "execution_count": 0,
      "outputs": []
    },
    {
      "metadata": {
        "id": "aSHeVShixpbZ",
        "colab_type": "code",
        "colab": {}
      },
      "cell_type": "code",
      "source": [
        "random.seed(0)\n",
        "clusters, centers = cop_kmeans(dataset=tfidf_matrix.toarray(), k=2, ml=tmp_list,cl=[])\n",
        "dict_ = dict(zip(label,clusters))"
      ],
      "execution_count": 0,
      "outputs": []
    },
    {
      "metadata": {
        "id": "uSGy2Gh6yuNO",
        "colab_type": "code",
        "outputId": "e3d2fea8-d8fa-480b-b1a6-10cb26b7a647",
        "colab": {
          "base_uri": "https://localhost:8080/",
          "height": 34
        }
      },
      "cell_type": "code",
      "source": [
        "Counter(clusters)"
      ],
      "execution_count": 0,
      "outputs": [
        {
          "output_type": "execute_result",
          "data": {
            "text/plain": [
              "Counter({0: 1581, 1: 1729})"
            ]
          },
          "metadata": {
            "tags": []
          },
          "execution_count": 76
        }
      ]
    },
    {
      "metadata": {
        "id": "HUedaL9Yx8xF",
        "colab_type": "code",
        "outputId": "a3975861-3dd6-465f-fb26-77538e2b1a7a",
        "colab": {
          "base_uri": "https://localhost:8080/",
          "height": 561
        }
      },
      "cell_type": "code",
      "source": [
        "dict_"
      ],
      "execution_count": 0,
      "outputs": [
        {
          "output_type": "execute_result",
          "data": {
            "text/plain": [
              "{'agriculture': 0,\n",
              " 'audiovisual_and_media': 0,\n",
              " 'budget': 1,\n",
              " 'competition': 0,\n",
              " 'consumers': 0,\n",
              " 'culture': 1,\n",
              " 'customs': 1,\n",
              " 'development': 1,\n",
              " 'economic_and_monetary_affairs': 1,\n",
              " 'education_training_youth': 1,\n",
              " 'employment_and_social_policy': 0,\n",
              " 'energy': 0,\n",
              " 'enlargement': 1,\n",
              " 'enterprise': 0,\n",
              " 'environment': 0,\n",
              " 'external_relations': 1,\n",
              " 'external_trade': 1,\n",
              " 'fight_against_fraud': 1,\n",
              " 'food_safety': 0,\n",
              " 'foreign_and_security_policy': 1,\n",
              " 'human_rights': 1,\n",
              " 'humanitarian_aid': 1,\n",
              " 'information_society': 0,\n",
              " 'institutional_affairs': 1,\n",
              " 'internal_market': 0,\n",
              " 'justice_freedom_security': 1,\n",
              " 'maritime_affairs_and_fisheries': 1,\n",
              " 'public_health': 0,\n",
              " 'regional_policy': 1,\n",
              " 'research_innovation': 1,\n",
              " 'taxation': 0,\n",
              " 'transport': 0}"
            ]
          },
          "metadata": {
            "tags": []
          },
          "execution_count": 75
        }
      ]
    }
  ]
}